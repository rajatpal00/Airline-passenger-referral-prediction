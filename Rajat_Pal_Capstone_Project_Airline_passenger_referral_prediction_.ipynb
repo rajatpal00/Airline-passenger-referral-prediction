{
  "nbformat": 4,
  "nbformat_minor": 0,
  "metadata": {
    "colab": {
      "name": "Rajat Pal-Capstone Project-Airline passenger referral prediction .ipynb",
      "provenance": [],
      "collapsed_sections": [],
      "mount_file_id": "1VA1uTPeD7eOv_WDbwebj4yUDea3lQqLM",
      "authorship_tag": "ABX9TyOPtpqHw9bTXdWVXr2MjBX4",
      "include_colab_link": true
    },
    "kernelspec": {
      "display_name": "Python 3",
      "name": "python3"
    },
    "language_info": {
      "name": "python"
    }
  },
  "cells": [
    {
      "cell_type": "markdown",
      "metadata": {
        "id": "view-in-github",
        "colab_type": "text"
      },
      "source": [
        "<a href=\"https://colab.research.google.com/github/rajatpal00/Airline-passenger-referral-prediction/blob/main/Rajat_Pal_Capstone_Project_Airline_passenger_referral_prediction_.ipynb\" target=\"_parent\"><img src=\"https://colab.research.google.com/assets/colab-badge.svg\" alt=\"Open In Colab\"/></a>"
      ]
    },
    {
      "cell_type": "markdown",
      "metadata": {
        "id": "G7dFWogK9uQH"
      },
      "source": [
        "##Dataset discription\n",
        "Data includes airline reviews from 2006 to 2019 for popular airlines around the world with multiple choice and free text questions. Data is scraped in Spring 2019.\n",
        "Feature descriptions briefly as follows:\n",
        "* airline: Name of the airline.\n",
        "* overall: Overall point is given to the trip between 1 to 10.\n",
        "* author: Author of the trip\n",
        "* reviewdate: Date of the Review\n",
        "* customer review: Review of the customers in free text format\n",
        " \n",
        "* aircraft: Type of the aircraft\n",
        "* traveller type: Type of traveler (e.g. business, leisure)\n",
        "* cabin: Cabin at the flight\n",
        "* date flown: Flight date\n",
        "* seat comfort: Rated between 1-5\n",
        "* cabin service: Rated between 1-5\n",
        "* food bev: Rated between 1-5\n",
        "* entertainment: Rated between 1-5\n",
        "* ground service: Rated between 1-5\n",
        "* value for money: Rated between 1-5"
      ]
    },
    {
      "cell_type": "markdown",
      "metadata": {
        "id": "uL6FgABU_nz7"
      },
      "source": [
        "##The main objective is to predict whether passengers will refer the airline to their friends."
      ]
    },
    {
      "cell_type": "code",
      "metadata": {
        "id": "-MxBjSMJtGRd"
      },
      "source": [
        "import pandas as pd \n",
        "import numpy as np \n",
        "import matplotlib.pyplot as plt\n",
        "import seaborn as sns\n",
        "%matplotlib inline"
      ],
      "execution_count": 1,
      "outputs": []
    },
    {
      "cell_type": "code",
      "metadata": {
        "id": "BlAEYh76uC83"
      },
      "source": [
        "main_df = pd.read_excel('/content/drive/MyDrive/AlmaBetter/capstone project/Airline Passenger Referral Prediction/data_airline_reviews.xlsx') "
      ],
      "execution_count": 2,
      "outputs": []
    },
    {
      "cell_type": "code",
      "metadata": {
        "colab": {
          "base_uri": "https://localhost:8080/",
          "height": 292
        },
        "id": "mavDioosuVKE",
        "outputId": "9b7263df-ef0d-41e8-e950-add8392cb51d"
      },
      "source": [
        "main_df.head()"
      ],
      "execution_count": 3,
      "outputs": [
        {
          "output_type": "execute_result",
          "data": {
            "text/html": [
              "<div>\n",
              "<style scoped>\n",
              "    .dataframe tbody tr th:only-of-type {\n",
              "        vertical-align: middle;\n",
              "    }\n",
              "\n",
              "    .dataframe tbody tr th {\n",
              "        vertical-align: top;\n",
              "    }\n",
              "\n",
              "    .dataframe thead th {\n",
              "        text-align: right;\n",
              "    }\n",
              "</style>\n",
              "<table border=\"1\" class=\"dataframe\">\n",
              "  <thead>\n",
              "    <tr style=\"text-align: right;\">\n",
              "      <th></th>\n",
              "      <th>airline</th>\n",
              "      <th>overall</th>\n",
              "      <th>author</th>\n",
              "      <th>review_date</th>\n",
              "      <th>customer_review</th>\n",
              "      <th>aircraft</th>\n",
              "      <th>traveller_type</th>\n",
              "      <th>cabin</th>\n",
              "      <th>route</th>\n",
              "      <th>date_flown</th>\n",
              "      <th>seat_comfort</th>\n",
              "      <th>cabin_service</th>\n",
              "      <th>food_bev</th>\n",
              "      <th>entertainment</th>\n",
              "      <th>ground_service</th>\n",
              "      <th>value_for_money</th>\n",
              "      <th>recommended</th>\n",
              "    </tr>\n",
              "  </thead>\n",
              "  <tbody>\n",
              "    <tr>\n",
              "      <th>0</th>\n",
              "      <td>NaN</td>\n",
              "      <td>NaN</td>\n",
              "      <td>NaN</td>\n",
              "      <td>NaN</td>\n",
              "      <td>NaN</td>\n",
              "      <td>NaN</td>\n",
              "      <td>NaN</td>\n",
              "      <td>NaN</td>\n",
              "      <td>NaN</td>\n",
              "      <td>NaN</td>\n",
              "      <td>NaN</td>\n",
              "      <td>NaN</td>\n",
              "      <td>NaN</td>\n",
              "      <td>NaN</td>\n",
              "      <td>NaN</td>\n",
              "      <td>NaN</td>\n",
              "      <td>NaN</td>\n",
              "    </tr>\n",
              "    <tr>\n",
              "      <th>1</th>\n",
              "      <td>Turkish Airlines</td>\n",
              "      <td>7.0</td>\n",
              "      <td>Christopher Hackley</td>\n",
              "      <td>8th May 2019</td>\n",
              "      <td>âœ… Trip Verified | London to Izmir via Istanb...</td>\n",
              "      <td>NaN</td>\n",
              "      <td>Business</td>\n",
              "      <td>Economy Class</td>\n",
              "      <td>London to Izmir via Istanbul</td>\n",
              "      <td>2019-05-01 00:00:00</td>\n",
              "      <td>4.0</td>\n",
              "      <td>5.0</td>\n",
              "      <td>4.0</td>\n",
              "      <td>4.0</td>\n",
              "      <td>2.0</td>\n",
              "      <td>4.0</td>\n",
              "      <td>yes</td>\n",
              "    </tr>\n",
              "    <tr>\n",
              "      <th>2</th>\n",
              "      <td>NaN</td>\n",
              "      <td>NaN</td>\n",
              "      <td>NaN</td>\n",
              "      <td>NaN</td>\n",
              "      <td>NaN</td>\n",
              "      <td>NaN</td>\n",
              "      <td>NaN</td>\n",
              "      <td>NaN</td>\n",
              "      <td>NaN</td>\n",
              "      <td>NaN</td>\n",
              "      <td>NaN</td>\n",
              "      <td>NaN</td>\n",
              "      <td>NaN</td>\n",
              "      <td>NaN</td>\n",
              "      <td>NaN</td>\n",
              "      <td>NaN</td>\n",
              "      <td>NaN</td>\n",
              "    </tr>\n",
              "    <tr>\n",
              "      <th>3</th>\n",
              "      <td>Turkish Airlines</td>\n",
              "      <td>2.0</td>\n",
              "      <td>Adriana Pisoi</td>\n",
              "      <td>7th May 2019</td>\n",
              "      <td>âœ… Trip Verified | Istanbul to Bucharest. We ...</td>\n",
              "      <td>NaN</td>\n",
              "      <td>Family Leisure</td>\n",
              "      <td>Economy Class</td>\n",
              "      <td>Istanbul to Bucharest</td>\n",
              "      <td>2019-05-01 00:00:00</td>\n",
              "      <td>4.0</td>\n",
              "      <td>1.0</td>\n",
              "      <td>1.0</td>\n",
              "      <td>1.0</td>\n",
              "      <td>1.0</td>\n",
              "      <td>1.0</td>\n",
              "      <td>no</td>\n",
              "    </tr>\n",
              "    <tr>\n",
              "      <th>4</th>\n",
              "      <td>NaN</td>\n",
              "      <td>NaN</td>\n",
              "      <td>NaN</td>\n",
              "      <td>NaN</td>\n",
              "      <td>NaN</td>\n",
              "      <td>NaN</td>\n",
              "      <td>NaN</td>\n",
              "      <td>NaN</td>\n",
              "      <td>NaN</td>\n",
              "      <td>NaN</td>\n",
              "      <td>NaN</td>\n",
              "      <td>NaN</td>\n",
              "      <td>NaN</td>\n",
              "      <td>NaN</td>\n",
              "      <td>NaN</td>\n",
              "      <td>NaN</td>\n",
              "      <td>NaN</td>\n",
              "    </tr>\n",
              "  </tbody>\n",
              "</table>\n",
              "</div>"
            ],
            "text/plain": [
              "            airline  overall  ... value_for_money recommended\n",
              "0               NaN      NaN  ...             NaN         NaN\n",
              "1  Turkish Airlines      7.0  ...             4.0         yes\n",
              "2               NaN      NaN  ...             NaN         NaN\n",
              "3  Turkish Airlines      2.0  ...             1.0          no\n",
              "4               NaN      NaN  ...             NaN         NaN\n",
              "\n",
              "[5 rows x 17 columns]"
            ]
          },
          "metadata": {
            "tags": []
          },
          "execution_count": 3
        }
      ]
    },
    {
      "cell_type": "code",
      "metadata": {
        "colab": {
          "base_uri": "https://localhost:8080/"
        },
        "id": "gfqfWmIG0vS2",
        "outputId": "dc586b48-10c8-45ba-899f-13df6cfaec39"
      },
      "source": [
        "# info of dataset\n",
        "main_df.info()"
      ],
      "execution_count": 5,
      "outputs": [
        {
          "output_type": "stream",
          "text": [
            "<class 'pandas.core.frame.DataFrame'>\n",
            "RangeIndex: 131895 entries, 0 to 131894\n",
            "Data columns (total 17 columns):\n",
            " #   Column           Non-Null Count  Dtype  \n",
            "---  ------           --------------  -----  \n",
            " 0   airline          65947 non-null  object \n",
            " 1   overall          64017 non-null  float64\n",
            " 2   author           65947 non-null  object \n",
            " 3   review_date      65947 non-null  object \n",
            " 4   customer_review  65947 non-null  object \n",
            " 5   aircraft         19718 non-null  object \n",
            " 6   traveller_type   39755 non-null  object \n",
            " 7   cabin            63303 non-null  object \n",
            " 8   route            39726 non-null  object \n",
            " 9   date_flown       39633 non-null  object \n",
            " 10  seat_comfort     60681 non-null  float64\n",
            " 11  cabin_service    60715 non-null  float64\n",
            " 12  food_bev         52608 non-null  float64\n",
            " 13  entertainment    44193 non-null  float64\n",
            " 14  ground_service   39358 non-null  float64\n",
            " 15  value_for_money  63975 non-null  float64\n",
            " 16  recommended      64440 non-null  object \n",
            "dtypes: float64(7), object(10)\n",
            "memory usage: 17.1+ MB\n"
          ],
          "name": "stdout"
        }
      ]
    },
    {
      "cell_type": "markdown",
      "metadata": {
        "id": "63xnxM8g01c8"
      },
      "source": [
        "We can see that there are rows which have all features as NaN values.\n",
        "\n",
        "so we wil be dropping those rows from our dataset"
      ]
    },
    {
      "cell_type": "code",
      "metadata": {
        "id": "nixPLdKd6fsw"
      },
      "source": [
        "# droping the rows which have all values as NaN\n",
        "main_df.dropna(how='all',inplace=True)        \n"
      ],
      "execution_count": 6,
      "outputs": []
    },
    {
      "cell_type": "markdown",
      "metadata": {
        "id": "eMo4zbwU6fsx"
      },
      "source": [
        "###Duplicate values"
      ]
    },
    {
      "cell_type": "code",
      "metadata": {
        "colab": {
          "base_uri": "https://localhost:8080/"
        },
        "id": "C7pCAgod6fsx",
        "outputId": "67950ca9-2203-45f2-f667-0c9f66e50746"
      },
      "source": [
        "#counting number of duplicate values\n",
        "main_df.duplicated().sum()"
      ],
      "execution_count": 7,
      "outputs": [
        {
          "output_type": "execute_result",
          "data": {
            "text/plain": [
              "4764"
            ]
          },
          "metadata": {
            "tags": []
          },
          "execution_count": 7
        }
      ]
    },
    {
      "cell_type": "code",
      "metadata": {
        "id": "EIa3yTmZ6fsy"
      },
      "source": [
        "#droping duplicate rows\n",
        "main_df.drop_duplicates(inplace=True)"
      ],
      "execution_count": 8,
      "outputs": []
    },
    {
      "cell_type": "markdown",
      "metadata": {
        "id": "31LIcqNm6fsz"
      },
      "source": [
        "##EDA"
      ]
    },
    {
      "cell_type": "code",
      "metadata": {
        "colab": {
          "base_uri": "https://localhost:8080/"
        },
        "id": "STshvcIP6fsz",
        "outputId": "5dae36c3-78bd-4b49-b803-9f4346b34895"
      },
      "source": [
        "# shape of dataset after removing duplicte and All NaN value rows\n",
        "main_df.shape"
      ],
      "execution_count": 9,
      "outputs": [
        {
          "output_type": "execute_result",
          "data": {
            "text/plain": [
              "(61183, 17)"
            ]
          },
          "metadata": {
            "tags": []
          },
          "execution_count": 9
        }
      ]
    },
    {
      "cell_type": "code",
      "metadata": {
        "colab": {
          "base_uri": "https://localhost:8080/"
        },
        "id": "4oi8Qnsp6fs0",
        "outputId": "5ffa2bc8-70bd-45a7-f7a3-445de0c9c19e"
      },
      "source": [
        "# info of dataset\n",
        "main_df.info()\n"
      ],
      "execution_count": 10,
      "outputs": [
        {
          "output_type": "stream",
          "text": [
            "<class 'pandas.core.frame.DataFrame'>\n",
            "Int64Index: 61183 entries, 1 to 131894\n",
            "Data columns (total 17 columns):\n",
            " #   Column           Non-Null Count  Dtype  \n",
            "---  ------           --------------  -----  \n",
            " 0   airline          61183 non-null  object \n",
            " 1   overall          59401 non-null  float64\n",
            " 2   author           61183 non-null  object \n",
            " 3   review_date      61183 non-null  object \n",
            " 4   customer_review  61183 non-null  object \n",
            " 5   aircraft         18488 non-null  object \n",
            " 6   traveller_type   37540 non-null  object \n",
            " 7   cabin            58705 non-null  object \n",
            " 8   route            37513 non-null  object \n",
            " 9   date_flown       37434 non-null  object \n",
            " 10  seat_comfort     56211 non-null  float64\n",
            " 11  cabin_service    56240 non-null  float64\n",
            " 12  food_bev         48341 non-null  float64\n",
            " 13  entertainment    40230 non-null  float64\n",
            " 14  ground_service   37169 non-null  float64\n",
            " 15  value_for_money  59327 non-null  float64\n",
            " 16  recommended      59761 non-null  object \n",
            "dtypes: float64(7), object(10)\n",
            "memory usage: 8.4+ MB\n"
          ],
          "name": "stdout"
        }
      ]
    },
    {
      "cell_type": "markdown",
      "metadata": {
        "id": "nwT0KEAr6fs0"
      },
      "source": [
        "####Checking for NaN \n"
      ]
    },
    {
      "cell_type": "code",
      "metadata": {
        "colab": {
          "base_uri": "https://localhost:8080/",
          "height": 470
        },
        "id": "ySm6WgTP6fs1",
        "outputId": "e4c5ea00-b79c-460c-9c4c-069df9f3733f"
      },
      "source": [
        "#ploting heatmap to see NaN values in each features\n",
        "plt.figure(figsize=(12,6))\n",
        "sns.heatmap(main_df.isna(),cbar=False,cmap='Accent_r')"
      ],
      "execution_count": 11,
      "outputs": [
        {
          "output_type": "execute_result",
          "data": {
            "text/plain": [
              "<matplotlib.axes._subplots.AxesSubplot at 0x7fba1324d1d0>"
            ]
          },
          "metadata": {
            "tags": []
          },
          "execution_count": 11
        },
        {
          "output_type": "display_data",
          "data": {
            "image/png": "[encoded data removed]",
            "text/plain": [
              "<Figure size 864x432 with 1 Axes>"
            ]
          },
          "metadata": {
            "tags": [],
            "needs_background": "light"
          }
        }
      ]
    },
    {
      "cell_type": "code",
      "metadata": {
        "colab": {
          "base_uri": "https://localhost:8080/"
        },
        "id": "ZN0SKRQy6fs1",
        "outputId": "c3e0779a-27cd-4b33-8856-896fa192a756"
      },
      "source": [
        "# counting  NaN values in each features\n",
        "main_df.isna().sum()"
      ],
      "execution_count": 12,
      "outputs": [
        {
          "output_type": "execute_result",
          "data": {
            "text/plain": [
              "airline                0\n",
              "overall             1782\n",
              "author                 0\n",
              "review_date            0\n",
              "customer_review        0\n",
              "aircraft           42695\n",
              "traveller_type     23643\n",
              "cabin               2478\n",
              "route              23670\n",
              "date_flown         23749\n",
              "seat_comfort        4972\n",
              "cabin_service       4943\n",
              "food_bev           12842\n",
              "entertainment      20953\n",
              "ground_service     24014\n",
              "value_for_money     1856\n",
              "recommended         1422\n",
              "dtype: int64"
            ]
          },
          "metadata": {
            "tags": []
          },
          "execution_count": 12
        }
      ]
    },
    {
      "cell_type": "markdown",
      "metadata": {
        "id": "ryPh7oGC1xSA"
      },
      "source": [
        "From above we can see that there are many Nan values present in most of the features"
      ]
    },
    {
      "cell_type": "markdown",
      "metadata": {
        "id": "MbHajtk13Lx0"
      },
      "source": [
        "###Describe"
      ]
    },
    {
      "cell_type": "code",
      "metadata": {
        "colab": {
          "base_uri": "https://localhost:8080/",
          "height": 297
        },
        "id": "qPgqcz5r6fs5",
        "outputId": "41257bb5-5926-4381-fcdc-e81ddafbf5f0"
      },
      "source": [
        "# finding statistical value of numerical columns\n",
        "main_df.describe()"
      ],
      "execution_count": 13,
      "outputs": [
        {
          "output_type": "execute_result",
          "data": {
            "text/html": [
              "<div>\n",
              "<style scoped>\n",
              "    .dataframe tbody tr th:only-of-type {\n",
              "        vertical-align: middle;\n",
              "    }\n",
              "\n",
              "    .dataframe tbody tr th {\n",
              "        vertical-align: top;\n",
              "    }\n",
              "\n",
              "    .dataframe thead th {\n",
              "        text-align: right;\n",
              "    }\n",
              "</style>\n",
              "<table border=\"1\" class=\"dataframe\">\n",
              "  <thead>\n",
              "    <tr style=\"text-align: right;\">\n",
              "      <th></th>\n",
              "      <th>overall</th>\n",
              "      <th>seat_comfort</th>\n",
              "      <th>cabin_service</th>\n",
              "      <th>food_bev</th>\n",
              "      <th>entertainment</th>\n",
              "      <th>ground_service</th>\n",
              "      <th>value_for_money</th>\n",
              "    </tr>\n",
              "  </thead>\n",
              "  <tbody>\n",
              "    <tr>\n",
              "      <th>count</th>\n",
              "      <td>59401.000000</td>\n",
              "      <td>56211.000000</td>\n",
              "      <td>56240.000000</td>\n",
              "      <td>48341.000000</td>\n",
              "      <td>40230.000000</td>\n",
              "      <td>37169.000000</td>\n",
              "      <td>59327.000000</td>\n",
              "    </tr>\n",
              "    <tr>\n",
              "      <th>mean</th>\n",
              "      <td>5.164863</td>\n",
              "      <td>2.959278</td>\n",
              "      <td>3.200231</td>\n",
              "      <td>2.926956</td>\n",
              "      <td>2.887994</td>\n",
              "      <td>2.681347</td>\n",
              "      <td>2.950849</td>\n",
              "    </tr>\n",
              "    <tr>\n",
              "      <th>std</th>\n",
              "      <td>3.483701</td>\n",
              "      <td>1.436467</td>\n",
              "      <td>1.568429</td>\n",
              "      <td>1.483122</td>\n",
              "      <td>1.504452</td>\n",
              "      <td>1.613995</td>\n",
              "      <td>1.588433</td>\n",
              "    </tr>\n",
              "    <tr>\n",
              "      <th>min</th>\n",
              "      <td>1.000000</td>\n",
              "      <td>1.000000</td>\n",
              "      <td>1.000000</td>\n",
              "      <td>1.000000</td>\n",
              "      <td>1.000000</td>\n",
              "      <td>1.000000</td>\n",
              "      <td>1.000000</td>\n",
              "    </tr>\n",
              "    <tr>\n",
              "      <th>25%</th>\n",
              "      <td>1.000000</td>\n",
              "      <td>2.000000</td>\n",
              "      <td>2.000000</td>\n",
              "      <td>1.000000</td>\n",
              "      <td>1.000000</td>\n",
              "      <td>1.000000</td>\n",
              "      <td>1.000000</td>\n",
              "    </tr>\n",
              "    <tr>\n",
              "      <th>50%</th>\n",
              "      <td>5.000000</td>\n",
              "      <td>3.000000</td>\n",
              "      <td>3.000000</td>\n",
              "      <td>3.000000</td>\n",
              "      <td>3.000000</td>\n",
              "      <td>3.000000</td>\n",
              "      <td>3.000000</td>\n",
              "    </tr>\n",
              "    <tr>\n",
              "      <th>75%</th>\n",
              "      <td>9.000000</td>\n",
              "      <td>4.000000</td>\n",
              "      <td>5.000000</td>\n",
              "      <td>4.000000</td>\n",
              "      <td>4.000000</td>\n",
              "      <td>4.000000</td>\n",
              "      <td>4.000000</td>\n",
              "    </tr>\n",
              "    <tr>\n",
              "      <th>max</th>\n",
              "      <td>10.000000</td>\n",
              "      <td>5.000000</td>\n",
              "      <td>5.000000</td>\n",
              "      <td>5.000000</td>\n",
              "      <td>5.000000</td>\n",
              "      <td>5.000000</td>\n",
              "      <td>5.000000</td>\n",
              "    </tr>\n",
              "  </tbody>\n",
              "</table>\n",
              "</div>"
            ],
            "text/plain": [
              "            overall  seat_comfort  ...  ground_service  value_for_money\n",
              "count  59401.000000  56211.000000  ...    37169.000000     59327.000000\n",
              "mean       5.164863      2.959278  ...        2.681347         2.950849\n",
              "std        3.483701      1.436467  ...        1.613995         1.588433\n",
              "min        1.000000      1.000000  ...        1.000000         1.000000\n",
              "25%        1.000000      2.000000  ...        1.000000         1.000000\n",
              "50%        5.000000      3.000000  ...        3.000000         3.000000\n",
              "75%        9.000000      4.000000  ...        4.000000         4.000000\n",
              "max       10.000000      5.000000  ...        5.000000         5.000000\n",
              "\n",
              "[8 rows x 7 columns]"
            ]
          },
          "metadata": {
            "tags": []
          },
          "execution_count": 13
        }
      ]
    },
    {
      "cell_type": "markdown",
      "metadata": {
        "id": "8glzM2As6fs6"
      },
      "source": [
        "### Checking  Imbalance in dataset\n",
        "\n",
        "---\n",
        "\n"
      ]
    },
    {
      "cell_type": "code",
      "metadata": {
        "colab": {
          "base_uri": "https://localhost:8080/",
          "height": 471
        },
        "id": "2VtQ4t8v6fs6",
        "outputId": "094102ce-b4ee-4848-d19d-de18f25e818a"
      },
      "source": [
        "# ploting a bar graph to show count of class in recommended feature\n",
        "sns.factorplot(x=\"recommended\", data=main_df, kind=\"count\", size=5, aspect=1.2, palette=\"PuBuGn_d\")\n",
        "plt.show()"
      ],
      "execution_count": 14,
      "outputs": [
        {
          "output_type": "stream",
          "text": [
            "/usr/local/lib/python3.7/dist-packages/seaborn/categorical.py:3714: UserWarning: The `factorplot` function has been renamed to `catplot`. The original name will be removed in a future release. Please update your code. Note that the default `kind` in `factorplot` (`'point'`) has changed `'strip'` in `catplot`.\n",
            "  warnings.warn(msg)\n",
            "/usr/local/lib/python3.7/dist-packages/seaborn/categorical.py:3720: UserWarning: The `size` parameter has been renamed to `height`; please update your code.\n",
            "  warnings.warn(msg, UserWarning)\n"
          ],
          "name": "stderr"
        },
        {
          "output_type": "display_data",
          "data": {
            "image/png": "[encoded data removed]",
            "text/plain": [
              "<Figure size 432x360 with 1 Axes>"
            ]
          },
          "metadata": {
            "tags": [],
            "needs_background": "light"
          }
        }
      ]
    },
    {
      "cell_type": "code",
      "metadata": {
        "colab": {
          "base_uri": "https://localhost:8080/"
        },
        "id": "P6vtWUsm6fs7",
        "outputId": "25cee8c2-9fd7-4e3d-952d-7df2d7a71001"
      },
      "source": [
        "#no of nan values in recommeded column\n",
        "main_df['recommended'].isna().sum()"
      ],
      "execution_count": 15,
      "outputs": [
        {
          "output_type": "execute_result",
          "data": {
            "text/plain": [
              "1422"
            ]
          },
          "metadata": {
            "tags": []
          },
          "execution_count": 15
        }
      ]
    },
    {
      "cell_type": "markdown",
      "metadata": {
        "id": "wmxF49jR3lHk"
      },
      "source": [
        "### Understanding relation Between Target variable and Independent variable"
      ]
    },
    {
      "cell_type": "code",
      "metadata": {
        "colab": {
          "base_uri": "https://localhost:8080/"
        },
        "id": "ZAnNY82Y4juh",
        "outputId": "1c5c4bfc-fbee-4100-8b1c-b1f2644d2fcb"
      },
      "source": [
        "# features present in dataset\n",
        "features= main_df.columns\n",
        "features"
      ],
      "execution_count": 16,
      "outputs": [
        {
          "output_type": "execute_result",
          "data": {
            "text/plain": [
              "Index(['airline', 'overall', 'author', 'review_date', 'customer_review',\n",
              "       'aircraft', 'traveller_type', 'cabin', 'route', 'date_flown',\n",
              "       'seat_comfort', 'cabin_service', 'food_bev', 'entertainment',\n",
              "       'ground_service', 'value_for_money', 'recommended'],\n",
              "      dtype='object')"
            ]
          },
          "metadata": {
            "tags": []
          },
          "execution_count": 16
        }
      ]
    },
    {
      "cell_type": "code",
      "metadata": {
        "id": "5G0v70fY6fs8"
      },
      "source": [
        "# creating list of idependent variable which hare numerical or having low class in features \n",
        "features_1= features.drop(['airline','author','aircraft','review_date', 'customer_review','route','recommended'])"
      ],
      "execution_count": 17,
      "outputs": []
    },
    {
      "cell_type": "code",
      "metadata": {
        "colab": {
          "base_uri": "https://localhost:8080/",
          "height": 1000
        },
        "id": "_pjg-GPm6fs9",
        "outputId": "9e4a2770-49a9-4f6c-d9b5-a2f5250d6fa0"
      },
      "source": [
        "# ploting graph of count of feature grouped by target variable \n",
        "for feature in features_1:\n",
        "  print(feature)\n",
        "  main_df.groupby([feature])['recommended'].value_counts().unstack().plot(kind='bar',figsize=(15,6))\n",
        "  plt.title(f'How recommended  Varies with {feature} graph')\n",
        "  plt.ylabel(' Value Count')\n",
        "  plt.xlabel(feature)\n",
        "  plt.show()\n"
      ],
      "execution_count": 18,
      "outputs": [
        {
          "output_type": "stream",
          "text": [
            "overall\n"
          ],
          "name": "stdout"
        },
        {
          "output_type": "display_data",
          "data": {
            "image/png": "[encoded data removed]",
            "text/plain": [
              "<Figure size 1080x432 with 1 Axes>"
            ]
          },
          "metadata": {
            "tags": [],
            "needs_background": "light"
          }
        },
        {
          "output_type": "stream",
          "text": [
            "traveller_type\n"
          ],
          "name": "stdout"
        },
        {
          "output_type": "display_data",
          "data": {
            "image/png": "[encoded data removed]",
            "text/plain": [
              "<Figure size 1080x432 with 1 Axes>"
            ]
          },
          "metadata": {
            "tags": [],
            "needs_background": "light"
          }
        },
        {
          "output_type": "stream",
          "text": [
            "cabin\n"
          ],
          "name": "stdout"
        },
        {
          "output_type": "display_data",
          "data": {
            "image/png": "[encoded data removed]",
            "text/plain": [
              "<Figure size 1080x432 with 1 Axes>"
            ]
          },
          "metadata": {
            "tags": [],
            "needs_background": "light"
          }
        },
        {
          "output_type": "stream",
          "text": [
            "date_flown\n"
          ],
          "name": "stdout"
        },
        {
          "output_type": "display_data",
          "data": {
            "image/png": "[encoded data removed]",
            "text/plain": [
              "<Figure size 1080x432 with 1 Axes>"
            ]
          },
          "metadata": {
            "tags": [],
            "needs_background": "light"
          }
        },
        {
          "output_type": "stream",
          "text": [
            "seat_comfort\n"
          ],
          "name": "stdout"
        },
        {
          "output_type": "display_data",
          "data": {
            "image/png": "[encoded data removed]",
            "text/plain": [
              "<Figure size 1080x432 with 1 Axes>"
            ]
          },
          "metadata": {
            "tags": [],
            "needs_background": "light"
          }
        },
        {
          "output_type": "stream",
          "text": [
            "cabin_service\n"
          ],
          "name": "stdout"
        },
        {
          "output_type": "display_data",
          "data": {
            "image/png": "[encoded data removed]",
            "text/plain": [
              "<Figure size 1080x432 with 1 Axes>"
            ]
          },
          "metadata": {
            "tags": [],
            "needs_background": "light"
          }
        },
        {
          "output_type": "stream",
          "text": [
            "food_bev\n"
          ],
          "name": "stdout"
        },
        {
          "output_type": "display_data",
          "data": {
            "image/png": "[encoded data removed]",
            "text/plain": [
              "<Figure size 1080x432 with 1 Axes>"
            ]
          },
          "metadata": {
            "tags": [],
            "needs_background": "light"
          }
        },
        {
          "output_type": "stream",
          "text": [
            "entertainment\n"
          ],
          "name": "stdout"
        },
        {
          "output_type": "display_data",
          "data": {
            "image/png": "[encoded data removed]",
            "text/plain": [
              "<Figure size 1080x432 with 1 Axes>"
            ]
          },
          "metadata": {
            "tags": [],
            "needs_background": "light"
          }
        },
        {
          "output_type": "stream",
          "text": [
            "ground_service\n"
          ],
          "name": "stdout"
        },
        {
          "output_type": "display_data",
          "data": {
            "image/png": "[encoded data removed]",
            "text/plain": [
              "<Figure size 1080x432 with 1 Axes>"
            ]
          },
          "metadata": {
            "tags": [],
            "needs_background": "light"
          }
        },
        {
          "output_type": "stream",
          "text": [
            "value_for_money\n"
          ],
          "name": "stdout"
        },
        {
          "output_type": "display_data",
          "data": {
            "image/png": "[encoded data removed]",
            "text/plain": [
              "<Figure size 1080x432 with 1 Axes>"
            ]
          },
          "metadata": {
            "tags": [],
            "needs_background": "light"
          }
        }
      ]
    },
    {
      "cell_type": "code",
      "metadata": {
        "colab": {
          "base_uri": "https://localhost:8080/",
          "height": 450
        },
        "id": "qziGhfeYSMAR",
        "outputId": "c7438885-57ff-493f-fe6c-f93fe6a6bc62"
      },
      "source": [
        "m = main_df.groupby('airline')['recommended'].value_counts().sort_values(ascending=False).unstack()\n",
        "m['total']= m['yes']+m['no']\n",
        "m.sort_values(by='total',ascending=False,inplace=True)\n",
        "\n",
        "m"
      ],
      "execution_count": 67,
      "outputs": [
        {
          "output_type": "execute_result",
          "data": {
            "text/html": [
              "<div>\n",
              "<style scoped>\n",
              "    .dataframe tbody tr th:only-of-type {\n",
              "        vertical-align: middle;\n",
              "    }\n",
              "\n",
              "    .dataframe tbody tr th {\n",
              "        vertical-align: top;\n",
              "    }\n",
              "\n",
              "    .dataframe thead th {\n",
              "        text-align: right;\n",
              "    }\n",
              "</style>\n",
              "<table border=\"1\" class=\"dataframe\">\n",
              "  <thead>\n",
              "    <tr style=\"text-align: right;\">\n",
              "      <th>recommended</th>\n",
              "      <th>no</th>\n",
              "      <th>yes</th>\n",
              "      <th>total</th>\n",
              "    </tr>\n",
              "    <tr>\n",
              "      <th>airline</th>\n",
              "      <th></th>\n",
              "      <th></th>\n",
              "      <th></th>\n",
              "    </tr>\n",
              "  </thead>\n",
              "  <tbody>\n",
              "    <tr>\n",
              "      <th>Spirit Airlines</th>\n",
              "      <td>2302</td>\n",
              "      <td>506</td>\n",
              "      <td>2808</td>\n",
              "    </tr>\n",
              "    <tr>\n",
              "      <th>American Airlines</th>\n",
              "      <td>2204</td>\n",
              "      <td>552</td>\n",
              "      <td>2756</td>\n",
              "    </tr>\n",
              "    <tr>\n",
              "      <th>United Airlines</th>\n",
              "      <td>2134</td>\n",
              "      <td>581</td>\n",
              "      <td>2715</td>\n",
              "    </tr>\n",
              "    <tr>\n",
              "      <th>British Airways</th>\n",
              "      <td>1503</td>\n",
              "      <td>1141</td>\n",
              "      <td>2644</td>\n",
              "    </tr>\n",
              "    <tr>\n",
              "      <th>Emirates</th>\n",
              "      <td>772</td>\n",
              "      <td>944</td>\n",
              "      <td>1716</td>\n",
              "    </tr>\n",
              "    <tr>\n",
              "      <th>...</th>\n",
              "      <td>...</td>\n",
              "      <td>...</td>\n",
              "      <td>...</td>\n",
              "    </tr>\n",
              "    <tr>\n",
              "      <th>QantasLink</th>\n",
              "      <td>22</td>\n",
              "      <td>80</td>\n",
              "      <td>102</td>\n",
              "    </tr>\n",
              "    <tr>\n",
              "      <th>Adria Airways</th>\n",
              "      <td>41</td>\n",
              "      <td>42</td>\n",
              "      <td>83</td>\n",
              "    </tr>\n",
              "    <tr>\n",
              "      <th>Air Arabia</th>\n",
              "      <td>58</td>\n",
              "      <td>22</td>\n",
              "      <td>80</td>\n",
              "    </tr>\n",
              "    <tr>\n",
              "      <th>Tunisair</th>\n",
              "      <td>45</td>\n",
              "      <td>26</td>\n",
              "      <td>71</td>\n",
              "    </tr>\n",
              "    <tr>\n",
              "      <th>Thai Smile Airways</th>\n",
              "      <td>17</td>\n",
              "      <td>30</td>\n",
              "      <td>47</td>\n",
              "    </tr>\n",
              "  </tbody>\n",
              "</table>\n",
              "<p>81 rows × 3 columns</p>\n",
              "</div>"
            ],
            "text/plain": [
              "recommended           no   yes  total\n",
              "airline                              \n",
              "Spirit Airlines     2302   506   2808\n",
              "American Airlines   2204   552   2756\n",
              "United Airlines     2134   581   2715\n",
              "British Airways     1503  1141   2644\n",
              "Emirates             772   944   1716\n",
              "...                  ...   ...    ...\n",
              "QantasLink            22    80    102\n",
              "Adria Airways         41    42     83\n",
              "Air Arabia            58    22     80\n",
              "Tunisair              45    26     71\n",
              "Thai Smile Airways    17    30     47\n",
              "\n",
              "[81 rows x 3 columns]"
            ]
          },
          "metadata": {
            "tags": []
          },
          "execution_count": 67
        }
      ]
    },
    {
      "cell_type": "code",
      "metadata": {
        "id": "P_py57rFb094"
      },
      "source": [
        "m.reset_index(inplace=True)\n",
        "m=m.iloc[:10]"
      ],
      "execution_count": 68,
      "outputs": []
    },
    {
      "cell_type": "code",
      "metadata": {
        "colab": {
          "base_uri": "https://localhost:8080/",
          "height": 404
        },
        "id": "jBEHPWJnc3G9",
        "outputId": "ab79c89b-23a0-48d8-9c38-8cde9d2a89ec"
      },
      "source": [
        "m.plot(x='airline',y=['no','yes'],kind='bar')"
      ],
      "execution_count": 69,
      "outputs": [
        {
          "output_type": "execute_result",
          "data": {
            "text/plain": [
              "<matplotlib.axes._subplots.AxesSubplot at 0x7fb9fd0f5fd0>"
            ]
          },
          "metadata": {
            "tags": []
          },
          "execution_count": 69
        },
        {
          "output_type": "display_data",
          "data": {
            "image/png": "[encoded data removed]",
            "text/plain": [
              "<Figure size 432x288 with 1 Axes>"
            ]
          },
          "metadata": {
            "tags": [],
            "needs_background": "light"
          }
        }
      ]
    },
    {
      "cell_type": "markdown",
      "metadata": {
        "id": "4oMkNhEZe1F1"
      },
      "source": [
        "relation of recommended with route"
      ]
    },
    {
      "cell_type": "code",
      "metadata": {
        "colab": {
          "base_uri": "https://localhost:8080/",
          "height": 450
        },
        "id": "zlovAH2YeJv2",
        "outputId": "8f49834d-36bb-4b39-c107-39d51a204ac4"
      },
      "source": [
        "m = main_df.groupby('route')['recommended'].value_counts().sort_values(ascending=False).unstack()\n",
        "m['total']= m['yes']+m['no']\n",
        "m.sort_values(by='total',ascending=False,inplace=True)\n",
        "\n",
        "m"
      ],
      "execution_count": 73,
      "outputs": [
        {
          "output_type": "execute_result",
          "data": {
            "text/html": [
              "<div>\n",
              "<style scoped>\n",
              "    .dataframe tbody tr th:only-of-type {\n",
              "        vertical-align: middle;\n",
              "    }\n",
              "\n",
              "    .dataframe tbody tr th {\n",
              "        vertical-align: top;\n",
              "    }\n",
              "\n",
              "    .dataframe thead th {\n",
              "        text-align: right;\n",
              "    }\n",
              "</style>\n",
              "<table border=\"1\" class=\"dataframe\">\n",
              "  <thead>\n",
              "    <tr style=\"text-align: right;\">\n",
              "      <th>recommended</th>\n",
              "      <th>no</th>\n",
              "      <th>yes</th>\n",
              "      <th>total</th>\n",
              "    </tr>\n",
              "    <tr>\n",
              "      <th>route</th>\n",
              "      <th></th>\n",
              "      <th></th>\n",
              "      <th></th>\n",
              "    </tr>\n",
              "  </thead>\n",
              "  <tbody>\n",
              "    <tr>\n",
              "      <th>BKK to LHR</th>\n",
              "      <td>14.0</td>\n",
              "      <td>17.0</td>\n",
              "      <td>31.0</td>\n",
              "    </tr>\n",
              "    <tr>\n",
              "      <th>LHR to JFK</th>\n",
              "      <td>13.0</td>\n",
              "      <td>17.0</td>\n",
              "      <td>30.0</td>\n",
              "    </tr>\n",
              "    <tr>\n",
              "      <th>Vancouver to Toronto</th>\n",
              "      <td>23.0</td>\n",
              "      <td>5.0</td>\n",
              "      <td>28.0</td>\n",
              "    </tr>\n",
              "    <tr>\n",
              "      <th>LHR to BKK</th>\n",
              "      <td>9.0</td>\n",
              "      <td>18.0</td>\n",
              "      <td>27.0</td>\n",
              "    </tr>\n",
              "    <tr>\n",
              "      <th>Bangkok to Hong Kong</th>\n",
              "      <td>4.0</td>\n",
              "      <td>21.0</td>\n",
              "      <td>25.0</td>\n",
              "    </tr>\n",
              "    <tr>\n",
              "      <th>...</th>\n",
              "      <td>...</td>\n",
              "      <td>...</td>\n",
              "      <td>...</td>\n",
              "    </tr>\n",
              "    <tr>\n",
              "      <th>Mexico to Santiago via Mendoza</th>\n",
              "      <td>NaN</td>\n",
              "      <td>1.0</td>\n",
              "      <td>NaN</td>\n",
              "    </tr>\n",
              "    <tr>\n",
              "      <th>Mexico to Shanghai</th>\n",
              "      <td>NaN</td>\n",
              "      <td>1.0</td>\n",
              "      <td>NaN</td>\n",
              "    </tr>\n",
              "    <tr>\n",
              "      <th>Mexico to Shanghai via Tijuana</th>\n",
              "      <td>1.0</td>\n",
              "      <td>NaN</td>\n",
              "      <td>NaN</td>\n",
              "    </tr>\n",
              "    <tr>\n",
              "      <th>Mexico to Tijuana</th>\n",
              "      <td>1.0</td>\n",
              "      <td>NaN</td>\n",
              "      <td>NaN</td>\n",
              "    </tr>\n",
              "    <tr>\n",
              "      <th>LHR to MLE via DXB</th>\n",
              "      <td>NaN</td>\n",
              "      <td>1.0</td>\n",
              "      <td>NaN</td>\n",
              "    </tr>\n",
              "  </tbody>\n",
              "</table>\n",
              "<p>24548 rows × 3 columns</p>\n",
              "</div>"
            ],
            "text/plain": [
              "recommended                       no   yes  total\n",
              "route                                            \n",
              "BKK to LHR                      14.0  17.0   31.0\n",
              "LHR to JFK                      13.0  17.0   30.0\n",
              "Vancouver to Toronto            23.0   5.0   28.0\n",
              "LHR to BKK                       9.0  18.0   27.0\n",
              "Bangkok to Hong Kong             4.0  21.0   25.0\n",
              "...                              ...   ...    ...\n",
              "Mexico to Santiago via Mendoza   NaN   1.0    NaN\n",
              "Mexico to Shanghai               NaN   1.0    NaN\n",
              "Mexico to Shanghai via Tijuana   1.0   NaN    NaN\n",
              "Mexico to Tijuana                1.0   NaN    NaN\n",
              "LHR to MLE via DXB               NaN   1.0    NaN\n",
              "\n",
              "[24548 rows x 3 columns]"
            ]
          },
          "metadata": {
            "tags": []
          },
          "execution_count": 73
        }
      ]
    },
    {
      "cell_type": "code",
      "metadata": {
        "id": "ZECk9ynAeRLf"
      },
      "source": [
        "m.reset_index(inplace=True)\n",
        "m=m.iloc[:5]"
      ],
      "execution_count": 74,
      "outputs": []
    },
    {
      "cell_type": "code",
      "metadata": {
        "colab": {
          "base_uri": "https://localhost:8080/",
          "height": 399
        },
        "id": "rHjBDArJeRLg",
        "outputId": "f755309e-9efc-4e89-ffb6-b857b7e04ab8"
      },
      "source": [
        "m.plot(x='route',y=['no','yes'],kind='bar')"
      ],
      "execution_count": 75,
      "outputs": [
        {
          "output_type": "execute_result",
          "data": {
            "text/plain": [
              "<matplotlib.axes._subplots.AxesSubplot at 0x7fb9fc2ee790>"
            ]
          },
          "metadata": {
            "tags": []
          },
          "execution_count": 75
        },
        {
          "output_type": "display_data",
          "data": {
            "image/png": "[encoded data removed]",
            "text/plain": [
              "<Figure size 432x288 with 1 Axes>"
            ]
          },
          "metadata": {
            "tags": [],
            "needs_background": "light"
          }
        }
      ]
    },
    {
      "cell_type": "markdown",
      "metadata": {
        "id": "bhEM_1rU6fs9"
      },
      "source": [
        "###Conclusion of above graphs\n",
        "\n",
        "**Numerical Features**\n",
        "* From all above graphs we can see that when a person have given higher rating then we have also recommended to the  friend.\n",
        "* we can also see some anomilities where a person have given very low rating and still recommended and visa versa.\n",
        "\n",
        "> Overall feature\n",
        " * So one thing we can be sure of that if a person have given an overall rating of less than 2 we wont be recommended.\n",
        " * whereas a person who have given a rating greater than 8 there are high chances that he will recommend.\n",
        "\n",
        "**Categorical Features**\n",
        "> Travel Type\n",
        " * The number of not recommended is higher in all the Travel type class\n",
        " but couple is one class where the diffrence is higher Where as solo class have minimun diffrence.\n",
        " * From above we can conclude that people travelling in groups face more problems than people travelling alone.\n",
        "\n",
        "> Cabin\n",
        " * Economy class is most unsatisfied by the services provided by the airline, thats why majority of them are not recommending.\n",
        "\n",
        "\n"
      ]
    },
    {
      "cell_type": "markdown",
      "metadata": {
        "id": "oEbza_zX5p7H"
      },
      "source": [
        "##Imputation of Missing values in Target variable"
      ]
    },
    {
      "cell_type": "markdown",
      "metadata": {
        "id": "JZIR_ea47o1C"
      },
      "source": [
        "We will try to find the missing values in recommended columns with the help of a model.\n",
        "\n",
        "we have a text column where a person have written his experience on the flight, so with the help of sentiment analysis on this test data, we will try to Impute the missing values in recommended feature\n",
        "\n"
      ]
    },
    {
      "cell_type": "code",
      "metadata": {
        "colab": {
          "base_uri": "https://localhost:8080/",
          "height": 419
        },
        "id": "7YKaGd-529JR",
        "outputId": "92666e85-c089-400e-bff7-a7ebb10ca91a"
      },
      "source": [
        "# creating a seprate dataset to perform \n",
        "# data for navie bayes model\n",
        "text_df=main_df[['customer_review','recommended']]\n",
        "text_df"
      ],
      "execution_count": 76,
      "outputs": [
        {
          "output_type": "execute_result",
          "data": {
            "text/html": [
              "<div>\n",
              "<style scoped>\n",
              "    .dataframe tbody tr th:only-of-type {\n",
              "        vertical-align: middle;\n",
              "    }\n",
              "\n",
              "    .dataframe tbody tr th {\n",
              "        vertical-align: top;\n",
              "    }\n",
              "\n",
              "    .dataframe thead th {\n",
              "        text-align: right;\n",
              "    }\n",
              "</style>\n",
              "<table border=\"1\" class=\"dataframe\">\n",
              "  <thead>\n",
              "    <tr style=\"text-align: right;\">\n",
              "      <th></th>\n",
              "      <th>customer_review</th>\n",
              "      <th>recommended</th>\n",
              "    </tr>\n",
              "  </thead>\n",
              "  <tbody>\n",
              "    <tr>\n",
              "      <th>1</th>\n",
              "      <td>âœ… Trip Verified | London to Izmir via Istanb...</td>\n",
              "      <td>yes</td>\n",
              "    </tr>\n",
              "    <tr>\n",
              "      <th>3</th>\n",
              "      <td>âœ… Trip Verified | Istanbul to Bucharest. We ...</td>\n",
              "      <td>no</td>\n",
              "    </tr>\n",
              "    <tr>\n",
              "      <th>5</th>\n",
              "      <td>âœ… Trip Verified | Rome to Prishtina via Ista...</td>\n",
              "      <td>no</td>\n",
              "    </tr>\n",
              "    <tr>\n",
              "      <th>7</th>\n",
              "      <td>âœ… Trip Verified | Flew on Turkish Airlines I...</td>\n",
              "      <td>yes</td>\n",
              "    </tr>\n",
              "    <tr>\n",
              "      <th>9</th>\n",
              "      <td>âœ… Trip Verified | Mumbai to Dublin via Istan...</td>\n",
              "      <td>no</td>\n",
              "    </tr>\n",
              "    <tr>\n",
              "      <th>...</th>\n",
              "      <td>...</td>\n",
              "      <td>...</td>\n",
              "    </tr>\n",
              "    <tr>\n",
              "      <th>131886</th>\n",
              "      <td>Two domestic flights between Kiev and Lviv las...</td>\n",
              "      <td>no</td>\n",
              "    </tr>\n",
              "    <tr>\n",
              "      <th>131888</th>\n",
              "      <td>I had a good flight from London to Kiev with U...</td>\n",
              "      <td>no</td>\n",
              "    </tr>\n",
              "    <tr>\n",
              "      <th>131890</th>\n",
              "      <td>Kiev - London (Gatwick) in business class (in ...</td>\n",
              "      <td>no</td>\n",
              "    </tr>\n",
              "    <tr>\n",
              "      <th>131892</th>\n",
              "      <td>Several flights - KBP to AMS (3 times one way)...</td>\n",
              "      <td>no</td>\n",
              "    </tr>\n",
              "    <tr>\n",
              "      <th>131894</th>\n",
              "      <td>KBP-AMS with UIA. Although it was a relatively...</td>\n",
              "      <td>no</td>\n",
              "    </tr>\n",
              "  </tbody>\n",
              "</table>\n",
              "<p>61183 rows × 2 columns</p>\n",
              "</div>"
            ],
            "text/plain": [
              "                                          customer_review recommended\n",
              "1       âœ… Trip Verified | London to Izmir via Istanb...         yes\n",
              "3       âœ… Trip Verified | Istanbul to Bucharest. We ...          no\n",
              "5       âœ… Trip Verified | Rome to Prishtina via Ista...          no\n",
              "7       âœ… Trip Verified | Flew on Turkish Airlines I...         yes\n",
              "9       âœ… Trip Verified | Mumbai to Dublin via Istan...          no\n",
              "...                                                   ...         ...\n",
              "131886  Two domestic flights between Kiev and Lviv las...          no\n",
              "131888  I had a good flight from London to Kiev with U...          no\n",
              "131890  Kiev - London (Gatwick) in business class (in ...          no\n",
              "131892  Several flights - KBP to AMS (3 times one way)...          no\n",
              "131894  KBP-AMS with UIA. Although it was a relatively...          no\n",
              "\n",
              "[61183 rows x 2 columns]"
            ]
          },
          "metadata": {
            "tags": []
          },
          "execution_count": 76
        }
      ]
    },
    {
      "cell_type": "code",
      "metadata": {
        "colab": {
          "base_uri": "https://localhost:8080/"
        },
        "id": "s1gXuKulXnzy",
        "outputId": "7fd924d5-0d81-4352-a666-da26d6159077"
      },
      "source": [
        "text_df.info()"
      ],
      "execution_count": 77,
      "outputs": [
        {
          "output_type": "stream",
          "text": [
            "<class 'pandas.core.frame.DataFrame'>\n",
            "Int64Index: 61183 entries, 1 to 131894\n",
            "Data columns (total 2 columns):\n",
            " #   Column           Non-Null Count  Dtype \n",
            "---  ------           --------------  ----- \n",
            " 0   customer_review  61183 non-null  object\n",
            " 1   recommended      59761 non-null  object\n",
            "dtypes: object(2)\n",
            "memory usage: 3.9+ MB\n"
          ],
          "name": "stdout"
        }
      ]
    },
    {
      "cell_type": "code",
      "metadata": {
        "colab": {
          "base_uri": "https://localhost:8080/"
        },
        "id": "4oSUJIgkLvm8",
        "outputId": "954baf20-6c24-4b44-ab76-705a915e99e5"
      },
      "source": [
        "# calulating the len of text\n",
        "text_df['review_len']= text_df['customer_review'].str.len()"
      ],
      "execution_count": 79,
      "outputs": [
        {
          "output_type": "stream",
          "text": [
            "/usr/local/lib/python3.7/dist-packages/ipykernel_launcher.py:2: SettingWithCopyWarning: \n",
            "A value is trying to be set on a copy of a slice from a DataFrame.\n",
            "Try using .loc[row_indexer,col_indexer] = value instead\n",
            "\n",
            "See the caveats in the documentation: https://pandas.pydata.org/pandas-docs/stable/user_guide/indexing.html#returning-a-view-versus-a-copy\n",
            "  \n"
          ],
          "name": "stderr"
        }
      ]
    },
    {
      "cell_type": "code",
      "metadata": {
        "colab": {
          "base_uri": "https://localhost:8080/",
          "height": 419
        },
        "id": "gMqCf6-iMD5S",
        "outputId": "9766d8f2-a1fd-4287-b408-ad5309f945d5"
      },
      "source": [
        "\n",
        "text_df"
      ],
      "execution_count": 80,
      "outputs": [
        {
          "output_type": "execute_result",
          "data": {
            "text/html": [
              "<div>\n",
              "<style scoped>\n",
              "    .dataframe tbody tr th:only-of-type {\n",
              "        vertical-align: middle;\n",
              "    }\n",
              "\n",
              "    .dataframe tbody tr th {\n",
              "        vertical-align: top;\n",
              "    }\n",
              "\n",
              "    .dataframe thead th {\n",
              "        text-align: right;\n",
              "    }\n",
              "</style>\n",
              "<table border=\"1\" class=\"dataframe\">\n",
              "  <thead>\n",
              "    <tr style=\"text-align: right;\">\n",
              "      <th></th>\n",
              "      <th>customer_review</th>\n",
              "      <th>recommended</th>\n",
              "      <th>review_len</th>\n",
              "    </tr>\n",
              "  </thead>\n",
              "  <tbody>\n",
              "    <tr>\n",
              "      <th>1</th>\n",
              "      <td>âœ… Trip Verified | London to Izmir via Istanb...</td>\n",
              "      <td>yes</td>\n",
              "      <td>1143</td>\n",
              "    </tr>\n",
              "    <tr>\n",
              "      <th>3</th>\n",
              "      <td>âœ… Trip Verified | Istanbul to Bucharest. We ...</td>\n",
              "      <td>no</td>\n",
              "      <td>467</td>\n",
              "    </tr>\n",
              "    <tr>\n",
              "      <th>5</th>\n",
              "      <td>âœ… Trip Verified | Rome to Prishtina via Ista...</td>\n",
              "      <td>no</td>\n",
              "      <td>1648</td>\n",
              "    </tr>\n",
              "    <tr>\n",
              "      <th>7</th>\n",
              "      <td>âœ… Trip Verified | Flew on Turkish Airlines I...</td>\n",
              "      <td>yes</td>\n",
              "      <td>955</td>\n",
              "    </tr>\n",
              "    <tr>\n",
              "      <th>9</th>\n",
              "      <td>âœ… Trip Verified | Mumbai to Dublin via Istan...</td>\n",
              "      <td>no</td>\n",
              "      <td>416</td>\n",
              "    </tr>\n",
              "    <tr>\n",
              "      <th>...</th>\n",
              "      <td>...</td>\n",
              "      <td>...</td>\n",
              "      <td>...</td>\n",
              "    </tr>\n",
              "    <tr>\n",
              "      <th>131886</th>\n",
              "      <td>Two domestic flights between Kiev and Lviv las...</td>\n",
              "      <td>no</td>\n",
              "      <td>546</td>\n",
              "    </tr>\n",
              "    <tr>\n",
              "      <th>131888</th>\n",
              "      <td>I had a good flight from London to Kiev with U...</td>\n",
              "      <td>no</td>\n",
              "      <td>450</td>\n",
              "    </tr>\n",
              "    <tr>\n",
              "      <th>131890</th>\n",
              "      <td>Kiev - London (Gatwick) in business class (in ...</td>\n",
              "      <td>no</td>\n",
              "      <td>1531</td>\n",
              "    </tr>\n",
              "    <tr>\n",
              "      <th>131892</th>\n",
              "      <td>Several flights - KBP to AMS (3 times one way)...</td>\n",
              "      <td>no</td>\n",
              "      <td>772</td>\n",
              "    </tr>\n",
              "    <tr>\n",
              "      <th>131894</th>\n",
              "      <td>KBP-AMS with UIA. Although it was a relatively...</td>\n",
              "      <td>no</td>\n",
              "      <td>209</td>\n",
              "    </tr>\n",
              "  </tbody>\n",
              "</table>\n",
              "<p>61183 rows × 3 columns</p>\n",
              "</div>"
            ],
            "text/plain": [
              "                                          customer_review  ... review_len\n",
              "1       âœ… Trip Verified | London to Izmir via Istanb...  ...       1143\n",
              "3       âœ… Trip Verified | Istanbul to Bucharest. We ...  ...        467\n",
              "5       âœ… Trip Verified | Rome to Prishtina via Ista...  ...       1648\n",
              "7       âœ… Trip Verified | Flew on Turkish Airlines I...  ...        955\n",
              "9       âœ… Trip Verified | Mumbai to Dublin via Istan...  ...        416\n",
              "...                                                   ...  ...        ...\n",
              "131886  Two domestic flights between Kiev and Lviv las...  ...        546\n",
              "131888  I had a good flight from London to Kiev with U...  ...        450\n",
              "131890  Kiev - London (Gatwick) in business class (in ...  ...       1531\n",
              "131892  Several flights - KBP to AMS (3 times one way)...  ...        772\n",
              "131894  KBP-AMS with UIA. Although it was a relatively...  ...        209\n",
              "\n",
              "[61183 rows x 3 columns]"
            ]
          },
          "metadata": {
            "tags": []
          },
          "execution_count": 80
        }
      ]
    },
    {
      "cell_type": "code",
      "metadata": {
        "colab": {
          "base_uri": "https://localhost:8080/",
          "height": 386
        },
        "id": "6qa37_Y4fTeU",
        "outputId": "95f4814e-385f-4ba1-9070-4ca83dd156c7"
      },
      "source": [
        "sns.displot(text_df['review_len'])"
      ],
      "execution_count": 81,
      "outputs": [
        {
          "output_type": "execute_result",
          "data": {
            "text/plain": [
              "<seaborn.axisgrid.FacetGrid at 0x7fb9fc367950>"
            ]
          },
          "metadata": {
            "tags": []
          },
          "execution_count": 81
        },
        {
          "output_type": "display_data",
          "data": {
            "image/png": "[encoded data removed]",
            "text/plain": [
              "<Figure size 360x360 with 1 Axes>"
            ]
          },
          "metadata": {
            "tags": [],
            "needs_background": "light"
          }
        }
      ]
    },
    {
      "cell_type": "markdown",
      "metadata": {
        "id": "uA9iYflw9Tji"
      },
      "source": [
        "## Relation between len of text review and recommended columns"
      ]
    },
    {
      "cell_type": "markdown",
      "metadata": {
        "id": "8Slus8b1kfp7"
      },
      "source": [
        "##Box plot"
      ]
    },
    {
      "cell_type": "code",
      "metadata": {
        "id": "LrDGfyHNnDAk"
      },
      "source": [
        "# doing goupby to plot bar graphs on bases of yes and no\n",
        "GN= text_df.groupby('recommended')"
      ],
      "execution_count": 82,
      "outputs": []
    },
    {
      "cell_type": "code",
      "metadata": {
        "colab": {
          "base_uri": "https://localhost:8080/",
          "height": 577
        },
        "id": "zNt_QlVqnMWc",
        "outputId": "eab3f601-a808-4cb3-fe04-6554e0cf0276"
      },
      "source": [
        "for name , name_df in GN:\n",
        "  print(name)\n",
        "  sns.boxplot(x='review_len',data= name_df)\n",
        "  plt.show()"
      ],
      "execution_count": 84,
      "outputs": [
        {
          "output_type": "stream",
          "text": [
            "no\n"
          ],
          "name": "stdout"
        },
        {
          "output_type": "display_data",
          "data": {
            "image/png": "[encoded data removed]",
            "text/plain": [
              "<Figure size 432x288 with 1 Axes>"
            ]
          },
          "metadata": {
            "tags": [],
            "needs_background": "light"
          }
        },
        {
          "output_type": "stream",
          "text": [
            "yes\n"
          ],
          "name": "stdout"
        },
        {
          "output_type": "display_data",
          "data": {
            "image/png": "[encoded data removed]",
            "text/plain": [
              "<Figure size 432x288 with 1 Axes>"
            ]
          },
          "metadata": {
            "tags": [],
            "needs_background": "light"
          }
        }
      ]
    },
    {
      "cell_type": "markdown",
      "metadata": {
        "id": "GPrRfFUioFX7"
      },
      "source": [
        "From above boxplot we can conclude that as the length of text increases the recommended value will be no"
      ]
    },
    {
      "cell_type": "markdown",
      "metadata": {
        "id": "MFQSSCZjSrGN"
      },
      "source": [
        "###Text Processesing  "
      ]
    },
    {
      "cell_type": "code",
      "metadata": {
        "id": "svtgKp5HY9Vq"
      },
      "source": [
        "# import re for regularExpression\n",
        "# importing natural language toolkit\n",
        "import re\n",
        "import nltk\n"
      ],
      "execution_count": 85,
      "outputs": []
    },
    {
      "cell_type": "code",
      "metadata": {
        "id": "AQ-wQCP7c1aG"
      },
      "source": [
        "# importing stopwords from nitk corpus\n",
        "from nltk.corpus import stopwords"
      ],
      "execution_count": 86,
      "outputs": []
    },
    {
      "cell_type": "code",
      "metadata": {
        "colab": {
          "base_uri": "https://localhost:8080/"
        },
        "id": "0nVUZpMaee2y",
        "outputId": "7787195e-33d5-4381-8188-be9253803e3a"
      },
      "source": [
        "# downloading all stopwords\n",
        "nltk.download('stopwords')\n",
        "nltk.download('wordnet')"
      ],
      "execution_count": 87,
      "outputs": [
        {
          "output_type": "stream",
          "text": [
            "[nltk_data] Downloading package stopwords to /root/nltk_data...\n",
            "[nltk_data]   Unzipping corpora/stopwords.zip.\n",
            "[nltk_data] Downloading package wordnet to /root/nltk_data...\n",
            "[nltk_data]   Unzipping corpora/wordnet.zip.\n"
          ],
          "name": "stdout"
        },
        {
          "output_type": "execute_result",
          "data": {
            "text/plain": [
              "True"
            ]
          },
          "metadata": {
            "tags": []
          },
          "execution_count": 87
        }
      ]
    },
    {
      "cell_type": "code",
      "metadata": {
        "id": "KXWGeqliruVR"
      },
      "source": [
        "\n",
        "  "
      ],
      "execution_count": 87,
      "outputs": []
    },
    {
      "cell_type": "code",
      "metadata": {
        "id": "GhSgIlujeQwa"
      },
      "source": [
        "# selecting all stop words from english \n",
        "stop_words=stopwords.words('english')"
      ],
      "execution_count": 88,
      "outputs": []
    },
    {
      "cell_type": "code",
      "metadata": {
        "id": "6ZQJ3MUmru7g"
      },
      "source": [
        "from nltk.stem import WordNetLemmatizer\n",
        "lemmatizer = WordNetLemmatizer()"
      ],
      "execution_count": 89,
      "outputs": []
    },
    {
      "cell_type": "code",
      "metadata": {
        "id": "n7nQ7S4SVwlP"
      },
      "source": [
        "def text_cleaning(data):\n",
        "\n",
        "  #remove all special character\n",
        "  processed_feature = re.sub(r'\\W', ' ', str(data))\n",
        "\n",
        "  # remove all single characters\n",
        "  processed_feature= re.sub(r'\\s+[a-zA-Z]\\s+', ' ', processed_feature)\n",
        "\n",
        "  # Remove single characters from the start\n",
        "  processed_feature = re.sub(r'\\^[a-zA-Z]\\s+', ' ', processed_feature) \n",
        "\n",
        "  # Substituting multiple spaces with single space\n",
        "  processed_feature = re.sub(r'\\s+', ' ', processed_feature, flags=re.I)\n",
        "\n",
        "  # Removing prefixed 'b'\n",
        "  processed_feature = re.sub(r'^b\\s+', '', processed_feature)\n",
        "\n",
        "  # Converting to Lowercase\n",
        "  processed_feature = processed_feature.lower()\n",
        "\n",
        "  \n",
        "  processed_feature = processed_feature.split(' ')\n",
        "\n",
        "  # using lemmatization on words\n",
        "  processed_feature = [lemmatizer.lemmatize(i) for i in processed_feature]\n",
        "\n",
        "  # creating 2gram \n",
        "  processed_feature = [ ''.join(processed_feature[i:i+2]) for i in range(len(processed_feature)-1)]\n",
        "  \n",
        "\n",
        "  # removing stopword\n",
        "  processed_feature = ' '.join([i for i in processed_feature if i not in stop_words])\n",
        "\n",
        "  return processed_feature\n",
        "\n",
        "    \n",
        "  "
      ],
      "execution_count": 90,
      "outputs": []
    },
    {
      "cell_type": "code",
      "metadata": {
        "colab": {
          "base_uri": "https://localhost:8080/"
        },
        "id": "Tpy-CVL-khF4",
        "outputId": "957fd178-1f9c-4e94-e1d0-2160cc22980a"
      },
      "source": [
        "# creating token of words with the help of text cleaning function\n",
        "text_df['tokenized_mess'] = text_df['customer_review'].apply(text_cleaning)"
      ],
      "execution_count": 91,
      "outputs": [
        {
          "output_type": "stream",
          "text": [
            "/usr/local/lib/python3.7/dist-packages/ipykernel_launcher.py:2: SettingWithCopyWarning: \n",
            "A value is trying to be set on a copy of a slice from a DataFrame.\n",
            "Try using .loc[row_indexer,col_indexer] = value instead\n",
            "\n",
            "See the caveats in the documentation: https://pandas.pydata.org/pandas-docs/stable/user_guide/indexing.html#returning-a-view-versus-a-copy\n",
            "  \n"
          ],
          "name": "stderr"
        }
      ]
    },
    {
      "cell_type": "code",
      "metadata": {
        "id": "MFBgbEOsZfQo",
        "colab": {
          "base_uri": "https://localhost:8080/",
          "height": 419
        },
        "outputId": "2a84de79-a633-4da4-8707-8348e1b6c097"
      },
      "source": [
        "text_df"
      ],
      "execution_count": 92,
      "outputs": [
        {
          "output_type": "execute_result",
          "data": {
            "text/html": [
              "<div>\n",
              "<style scoped>\n",
              "    .dataframe tbody tr th:only-of-type {\n",
              "        vertical-align: middle;\n",
              "    }\n",
              "\n",
              "    .dataframe tbody tr th {\n",
              "        vertical-align: top;\n",
              "    }\n",
              "\n",
              "    .dataframe thead th {\n",
              "        text-align: right;\n",
              "    }\n",
              "</style>\n",
              "<table border=\"1\" class=\"dataframe\">\n",
              "  <thead>\n",
              "    <tr style=\"text-align: right;\">\n",
              "      <th></th>\n",
              "      <th>customer_review</th>\n",
              "      <th>recommended</th>\n",
              "      <th>review_len</th>\n",
              "      <th>tokenized_mess</th>\n",
              "    </tr>\n",
              "  </thead>\n",
              "  <tbody>\n",
              "    <tr>\n",
              "      <th>1</th>\n",
              "      <td>âœ… Trip Verified | London to Izmir via Istanb...</td>\n",
              "      <td>yes</td>\n",
              "      <td>1143</td>\n",
              "      <td>âœtrip tripverified verifiedlondon londonto to...</td>\n",
              "    </tr>\n",
              "    <tr>\n",
              "      <th>3</th>\n",
              "      <td>âœ… Trip Verified | Istanbul to Bucharest. We ...</td>\n",
              "      <td>no</td>\n",
              "      <td>467</td>\n",
              "      <td>âœtrip tripverified verifiedistanbul istanbult...</td>\n",
              "    </tr>\n",
              "    <tr>\n",
              "      <th>5</th>\n",
              "      <td>âœ… Trip Verified | Rome to Prishtina via Ista...</td>\n",
              "      <td>no</td>\n",
              "      <td>1648</td>\n",
              "      <td>âœtrip tripverified verifiedrome rometo topris...</td>\n",
              "    </tr>\n",
              "    <tr>\n",
              "      <th>7</th>\n",
              "      <td>âœ… Trip Verified | Flew on Turkish Airlines I...</td>\n",
              "      <td>yes</td>\n",
              "      <td>955</td>\n",
              "      <td>âœtrip tripverified verifiedflew flewon onturk...</td>\n",
              "    </tr>\n",
              "    <tr>\n",
              "      <th>9</th>\n",
              "      <td>âœ… Trip Verified | Mumbai to Dublin via Istan...</td>\n",
              "      <td>no</td>\n",
              "      <td>416</td>\n",
              "      <td>âœtrip tripverified verifiedmumbai mumbaito to...</td>\n",
              "    </tr>\n",
              "    <tr>\n",
              "      <th>...</th>\n",
              "      <td>...</td>\n",
              "      <td>...</td>\n",
              "      <td>...</td>\n",
              "      <td>...</td>\n",
              "    </tr>\n",
              "    <tr>\n",
              "      <th>131886</th>\n",
              "      <td>Two domestic flights between Kiev and Lviv las...</td>\n",
              "      <td>no</td>\n",
              "      <td>546</td>\n",
              "      <td>twodomestic domesticflight flightbetween betwe...</td>\n",
              "    </tr>\n",
              "    <tr>\n",
              "      <th>131888</th>\n",
              "      <td>I had a good flight from London to Kiev with U...</td>\n",
              "      <td>no</td>\n",
              "      <td>450</td>\n",
              "      <td>ihad hadgood goodflight flightfrom fromlondon ...</td>\n",
              "    </tr>\n",
              "    <tr>\n",
              "      <th>131890</th>\n",
              "      <td>Kiev - London (Gatwick) in business class (in ...</td>\n",
              "      <td>no</td>\n",
              "      <td>1531</td>\n",
              "      <td>kievlondon londongatwick gatwickin inbusiness ...</td>\n",
              "    </tr>\n",
              "    <tr>\n",
              "      <th>131892</th>\n",
              "      <td>Several flights - KBP to AMS (3 times one way)...</td>\n",
              "      <td>no</td>\n",
              "      <td>772</td>\n",
              "      <td>severalflight flightkbp kbpto toam am3 3time t...</td>\n",
              "    </tr>\n",
              "    <tr>\n",
              "      <th>131894</th>\n",
              "      <td>KBP-AMS with UIA. Although it was a relatively...</td>\n",
              "      <td>no</td>\n",
              "      <td>209</td>\n",
              "      <td>kbpam amwith withuia uiaalthough althoughit it...</td>\n",
              "    </tr>\n",
              "  </tbody>\n",
              "</table>\n",
              "<p>61183 rows × 4 columns</p>\n",
              "</div>"
            ],
            "text/plain": [
              "                                          customer_review  ...                                     tokenized_mess\n",
              "1       âœ… Trip Verified | London to Izmir via Istanb...  ...  âœtrip tripverified verifiedlondon londonto to...\n",
              "3       âœ… Trip Verified | Istanbul to Bucharest. We ...  ...  âœtrip tripverified verifiedistanbul istanbult...\n",
              "5       âœ… Trip Verified | Rome to Prishtina via Ista...  ...  âœtrip tripverified verifiedrome rometo topris...\n",
              "7       âœ… Trip Verified | Flew on Turkish Airlines I...  ...  âœtrip tripverified verifiedflew flewon onturk...\n",
              "9       âœ… Trip Verified | Mumbai to Dublin via Istan...  ...  âœtrip tripverified verifiedmumbai mumbaito to...\n",
              "...                                                   ...  ...                                                ...\n",
              "131886  Two domestic flights between Kiev and Lviv las...  ...  twodomestic domesticflight flightbetween betwe...\n",
              "131888  I had a good flight from London to Kiev with U...  ...  ihad hadgood goodflight flightfrom fromlondon ...\n",
              "131890  Kiev - London (Gatwick) in business class (in ...  ...  kievlondon londongatwick gatwickin inbusiness ...\n",
              "131892  Several flights - KBP to AMS (3 times one way)...  ...  severalflight flightkbp kbpto toam am3 3time t...\n",
              "131894  KBP-AMS with UIA. Although it was a relatively...  ...  kbpam amwith withuia uiaalthough althoughit it...\n",
              "\n",
              "[61183 rows x 4 columns]"
            ]
          },
          "metadata": {
            "tags": []
          },
          "execution_count": 92
        }
      ]
    },
    {
      "cell_type": "markdown",
      "metadata": {
        "id": "A9eO-MIG4Rom"
      },
      "source": [
        "Seprating NaN and Non Nan values in recommender columns"
      ]
    },
    {
      "cell_type": "code",
      "metadata": {
        "id": "XYV4zAPd4ZQQ"
      },
      "source": [
        "# dataset when we dropped all NaN values from recommended columns\n",
        "text_df_1 = text_df.dropna() "
      ],
      "execution_count": 94,
      "outputs": []
    },
    {
      "cell_type": "code",
      "metadata": {
        "id": "IoxYbaHt4n06"
      },
      "source": [
        "# dataset with NaN values\n",
        "text_df_2 = text_df[text_df['recommended'].isna()]\n"
      ],
      "execution_count": 95,
      "outputs": []
    },
    {
      "cell_type": "markdown",
      "metadata": {
        "id": "ze8sVee0pqoa"
      },
      "source": [
        "Creating Testing and training dataset"
      ]
    },
    {
      "cell_type": "code",
      "metadata": {
        "id": "7w1rmoalo7oF"
      },
      "source": [
        "from sklearn.feature_extraction.text import TfidfVectorizer"
      ],
      "execution_count": 96,
      "outputs": []
    },
    {
      "cell_type": "code",
      "metadata": {
        "id": "zTKPNRhLfM-H"
      },
      "source": [
        "# creating test train set for model training  on data set\n",
        "from sklearn.model_selection import train_test_split\n",
        "X_train,X_test,y_train,y_test = train_test_split(text_df_1['tokenized_mess'],text_df_1['recommended'],test_size=0.25)"
      ],
      "execution_count": 97,
      "outputs": []
    },
    {
      "cell_type": "markdown",
      "metadata": {
        "id": "DCE0Ti8-py1Y"
      },
      "source": [
        "### TF-idf vectorization"
      ]
    },
    {
      "cell_type": "code",
      "metadata": {
        "id": "4ElPUcirp3AQ"
      },
      "source": [
        "# there are more than 10K features \n",
        "# setting max_features to 7500 for system performance \n",
        "vectorization = TfidfVectorizer(max_features=7500,min_df=7,max_df=0.8)"
      ],
      "execution_count": 98,
      "outputs": []
    },
    {
      "cell_type": "code",
      "metadata": {
        "id": "xetCkmdqs-JP"
      },
      "source": [
        "# creating array of taining dataset\n",
        "X_train = vectorization.fit_transform(X_train).toarray()\n",
        "\n",
        "# creating array on test dataset with the help of toarray\n",
        "X_test = vectorization.transform(X_test).toarray()"
      ],
      "execution_count": 99,
      "outputs": []
    },
    {
      "cell_type": "code",
      "metadata": {
        "id": "UlepZFlaxQaW",
        "colab": {
          "base_uri": "https://localhost:8080/"
        },
        "outputId": "aef64f38-dcfd-4b42-d4dc-8e640059b978"
      },
      "source": [
        "len(vectorization.get_feature_names())"
      ],
      "execution_count": 100,
      "outputs": [
        {
          "output_type": "execute_result",
          "data": {
            "text/plain": [
              "7500"
            ]
          },
          "metadata": {
            "tags": []
          },
          "execution_count": 100
        }
      ]
    },
    {
      "cell_type": "code",
      "metadata": {
        "id": "q5dCjsyRtU0W"
      },
      "source": [
        "#importing naive bayes classifiers\n",
        "from sklearn.naive_bayes import GaussianNB\n",
        "from sklearn.naive_bayes import MultinomialNB\n",
        "from sklearn.naive_bayes import BernoulliNB\n"
      ],
      "execution_count": 101,
      "outputs": []
    },
    {
      "cell_type": "markdown",
      "metadata": {
        "id": "QIO2jfWTuvez"
      },
      "source": [
        "Applying Gaussian naive bayes"
      ]
    },
    {
      "cell_type": "code",
      "metadata": {
        "id": "paKGZbf4uYDt"
      },
      "source": [
        "# training Gausssian Naive bayes classifier\n",
        "GNB  = GaussianNB().fit(X_train,y_train)"
      ],
      "execution_count": 102,
      "outputs": []
    },
    {
      "cell_type": "code",
      "metadata": {
        "id": "9894wtjDu6Im"
      },
      "source": [
        "# predicting on train data\n",
        "y_train_pred_gnb = GNB.predict(X_train)\n",
        "\n",
        "# predicting on test data\n",
        "y_test_pred_gnb = GNB.predict(X_test)"
      ],
      "execution_count": 103,
      "outputs": []
    },
    {
      "cell_type": "markdown",
      "metadata": {
        "id": "QOorMcH111PX"
      },
      "source": [
        "Applying Multinomial Naive bayes"
      ]
    },
    {
      "cell_type": "code",
      "metadata": {
        "id": "QLnjFDNG10aW"
      },
      "source": [
        "#creating MultinomialNaive bayes\n",
        "MNB = MultinomialNB().fit(X_train,y_train)"
      ],
      "execution_count": 104,
      "outputs": []
    },
    {
      "cell_type": "code",
      "metadata": {
        "id": "ShyJQmAN2Ja9"
      },
      "source": [
        "# predicting on train data\n",
        "y_train_pred_mnb = MNB.predict(X_train)\n",
        "\n",
        "# predicting on test data\n",
        "y_test_pred_mnb = MNB.predict(X_test)"
      ],
      "execution_count": 105,
      "outputs": []
    },
    {
      "cell_type": "markdown",
      "metadata": {
        "id": "8nByz5W12Tmm"
      },
      "source": [
        "Applying Bernoulli Naive bayes"
      ]
    },
    {
      "cell_type": "code",
      "metadata": {
        "id": "WRroLhsX2TN2"
      },
      "source": [
        "# applying bernoulii Naive bayes\n",
        "BNB = BernoulliNB().fit(X_train,y_train)"
      ],
      "execution_count": 106,
      "outputs": []
    },
    {
      "cell_type": "code",
      "metadata": {
        "id": "Y7zZZNNt2h9d"
      },
      "source": [
        "# predicting on train data\n",
        "y_train_pred_bnb = BNB.predict(X_train)\n",
        "\n",
        "# predicting on train data\n",
        "y_test_pred_bnb = BNB.predict(X_test)\n"
      ],
      "execution_count": 107,
      "outputs": []
    },
    {
      "cell_type": "code",
      "metadata": {
        "id": "NwYWgg9qvaX1"
      },
      "source": [
        "# importing classification report and confusion matrix\n",
        "from sklearn.metrics import classification_report,confusion_matrix"
      ],
      "execution_count": 108,
      "outputs": []
    },
    {
      "cell_type": "code",
      "metadata": {
        "id": "bcQhfkhd0cTf",
        "colab": {
          "base_uri": "https://localhost:8080/"
        },
        "outputId": "c59d2508-8d95-4410-91ed-52ae97d7b698"
      },
      "source": [
        "print(confusion_matrix(y_train,y_train_pred_gnb))\n",
        "print(confusion_matrix(y_test,y_test_pred_gnb))"
      ],
      "execution_count": 109,
      "outputs": [
        {
          "output_type": "stream",
          "text": [
            "[[20153  3306]\n",
            " [ 2240 19121]]\n",
            "[[6628 1181]\n",
            " [ 884 6248]]\n"
          ],
          "name": "stdout"
        }
      ]
    },
    {
      "cell_type": "markdown",
      "metadata": {
        "id": "mzOJLsmYAE1O"
      },
      "source": [
        "####Result of GaussianNB"
      ]
    },
    {
      "cell_type": "code",
      "metadata": {
        "id": "Dujge8h303lF",
        "colab": {
          "base_uri": "https://localhost:8080/"
        },
        "outputId": "a1e4a0e5-4dbf-48ed-d62a-05f11f7bdbbb"
      },
      "source": [
        "print(classification_report(y_train,y_train_pred_gnb))\n",
        "print(\"\\n\")\n",
        "print(classification_report(y_test,y_test_pred_gnb))"
      ],
      "execution_count": 110,
      "outputs": [
        {
          "output_type": "stream",
          "text": [
            "              precision    recall  f1-score   support\n",
            "\n",
            "          no       0.90      0.86      0.88     23459\n",
            "         yes       0.85      0.90      0.87     21361\n",
            "\n",
            "    accuracy                           0.88     44820\n",
            "   macro avg       0.88      0.88      0.88     44820\n",
            "weighted avg       0.88      0.88      0.88     44820\n",
            "\n",
            "\n",
            "\n",
            "              precision    recall  f1-score   support\n",
            "\n",
            "          no       0.88      0.85      0.87      7809\n",
            "         yes       0.84      0.88      0.86      7132\n",
            "\n",
            "    accuracy                           0.86     14941\n",
            "   macro avg       0.86      0.86      0.86     14941\n",
            "weighted avg       0.86      0.86      0.86     14941\n",
            "\n"
          ],
          "name": "stdout"
        }
      ]
    },
    {
      "cell_type": "markdown",
      "metadata": {
        "id": "F3i0jrsqAJlq"
      },
      "source": [
        "####Result of MultinomialNB"
      ]
    },
    {
      "cell_type": "code",
      "metadata": {
        "id": "Q8jS92y52tLF",
        "colab": {
          "base_uri": "https://localhost:8080/"
        },
        "outputId": "30fd053d-14bd-4404-f48a-812ea526826c"
      },
      "source": [
        "print(classification_report(y_train,y_train_pred_mnb))\n",
        "print(\"\\n\")\n",
        "print(classification_report(y_test,y_test_pred_mnb))"
      ],
      "execution_count": 111,
      "outputs": [
        {
          "output_type": "stream",
          "text": [
            "              precision    recall  f1-score   support\n",
            "\n",
            "          no       0.89      0.85      0.87     23459\n",
            "         yes       0.84      0.88      0.86     21361\n",
            "\n",
            "    accuracy                           0.87     44820\n",
            "   macro avg       0.87      0.87      0.87     44820\n",
            "weighted avg       0.87      0.87      0.87     44820\n",
            "\n",
            "\n",
            "\n",
            "              precision    recall  f1-score   support\n",
            "\n",
            "          no       0.88      0.84      0.86      7809\n",
            "         yes       0.84      0.88      0.86      7132\n",
            "\n",
            "    accuracy                           0.86     14941\n",
            "   macro avg       0.86      0.86      0.86     14941\n",
            "weighted avg       0.86      0.86      0.86     14941\n",
            "\n"
          ],
          "name": "stdout"
        }
      ]
    },
    {
      "cell_type": "markdown",
      "metadata": {
        "id": "Q1PWsPZSAOtz"
      },
      "source": [
        "###Result of BernoulliNB"
      ]
    },
    {
      "cell_type": "code",
      "metadata": {
        "id": "3pUxqMFK22zd",
        "colab": {
          "base_uri": "https://localhost:8080/"
        },
        "outputId": "6c463cef-5fd4-49cc-86d9-9910ee113094"
      },
      "source": [
        "print(classification_report(y_train,y_train_pred_bnb))\n",
        "print(\"\\n\")\n",
        "print(classification_report(y_test,y_test_pred_bnb))"
      ],
      "execution_count": 112,
      "outputs": [
        {
          "output_type": "stream",
          "text": [
            "              precision    recall  f1-score   support\n",
            "\n",
            "          no       0.90      0.76      0.82     23459\n",
            "         yes       0.77      0.90      0.83     21361\n",
            "\n",
            "    accuracy                           0.83     44820\n",
            "   macro avg       0.84      0.83      0.83     44820\n",
            "weighted avg       0.84      0.83      0.83     44820\n",
            "\n",
            "\n",
            "\n",
            "              precision    recall  f1-score   support\n",
            "\n",
            "          no       0.89      0.75      0.81      7809\n",
            "         yes       0.76      0.90      0.83      7132\n",
            "\n",
            "    accuracy                           0.82     14941\n",
            "   macro avg       0.83      0.82      0.82     14941\n",
            "weighted avg       0.83      0.82      0.82     14941\n",
            "\n"
          ],
          "name": "stdout"
        }
      ]
    },
    {
      "cell_type": "markdown",
      "metadata": {
        "id": "pDQof24h6KRF"
      },
      "source": [
        "In above code we see that multinomial is performing best in all naive bayes classifier"
      ]
    },
    {
      "cell_type": "markdown",
      "metadata": {
        "id": "JfA7AVV-6eUk"
      },
      "source": [
        "With the help of this classifier lets try to find the NaN values of recommender columns."
      ]
    },
    {
      "cell_type": "code",
      "metadata": {
        "id": "-exDhuj57cFq"
      },
      "source": [
        "# creating arry of word with the help of tf-idfvectorizer \n",
        "# on NaN value dataset\n",
        "X_new= vectorization.transform(text_df_2['tokenized_mess']).toarray()"
      ],
      "execution_count": 113,
      "outputs": []
    },
    {
      "cell_type": "code",
      "metadata": {
        "id": "Yx-FRv216Trb",
        "colab": {
          "base_uri": "https://localhost:8080/"
        },
        "outputId": "c80585cc-c066-4b95-ec4d-3b3162635dfd"
      },
      "source": [
        "# predicting on NaN dataset\n",
        "text_df_2['recommended']=  MNB.predict(X_new)"
      ],
      "execution_count": 114,
      "outputs": [
        {
          "output_type": "stream",
          "text": [
            "/usr/local/lib/python3.7/dist-packages/ipykernel_launcher.py:2: SettingWithCopyWarning: \n",
            "A value is trying to be set on a copy of a slice from a DataFrame.\n",
            "Try using .loc[row_indexer,col_indexer] = value instead\n",
            "\n",
            "See the caveats in the documentation: https://pandas.pydata.org/pandas-docs/stable/user_guide/indexing.html#returning-a-view-versus-a-copy\n",
            "  \n"
          ],
          "name": "stderr"
        }
      ]
    },
    {
      "cell_type": "code",
      "metadata": {
        "id": "Pe3AH2RG7MqI",
        "colab": {
          "base_uri": "https://localhost:8080/",
          "height": 419
        },
        "outputId": "ed2f7ed9-b456-44fe-fcc1-bc2fb86348b7"
      },
      "source": [
        "text_df_2"
      ],
      "execution_count": 115,
      "outputs": [
        {
          "output_type": "execute_result",
          "data": {
            "text/html": [
              "<div>\n",
              "<style scoped>\n",
              "    .dataframe tbody tr th:only-of-type {\n",
              "        vertical-align: middle;\n",
              "    }\n",
              "\n",
              "    .dataframe tbody tr th {\n",
              "        vertical-align: top;\n",
              "    }\n",
              "\n",
              "    .dataframe thead th {\n",
              "        text-align: right;\n",
              "    }\n",
              "</style>\n",
              "<table border=\"1\" class=\"dataframe\">\n",
              "  <thead>\n",
              "    <tr style=\"text-align: right;\">\n",
              "      <th></th>\n",
              "      <th>customer_review</th>\n",
              "      <th>recommended</th>\n",
              "      <th>review_len</th>\n",
              "      <th>tokenized_mess</th>\n",
              "    </tr>\n",
              "  </thead>\n",
              "  <tbody>\n",
              "    <tr>\n",
              "      <th>65</th>\n",
              "      <td>âœ… Trip Verified | Lagos to Istanbul via Kath...</td>\n",
              "      <td>no</td>\n",
              "      <td>629</td>\n",
              "      <td>âœtrip tripverified verifiedlagos lagosto tois...</td>\n",
              "    </tr>\n",
              "    <tr>\n",
              "      <th>153</th>\n",
              "      <td>âœ… Trip Verified | Seychelles to Birmingham v...</td>\n",
              "      <td>no</td>\n",
              "      <td>469</td>\n",
              "      <td>âœtrip tripverified verifiedseychelles seychel...</td>\n",
              "    </tr>\n",
              "    <tr>\n",
              "      <th>209</th>\n",
              "      <td>âœ… Trip Verified | London to Bangkok via Ista...</td>\n",
              "      <td>yes</td>\n",
              "      <td>213</td>\n",
              "      <td>âœtrip tripverified verifiedlondon londonto to...</td>\n",
              "    </tr>\n",
              "    <tr>\n",
              "      <th>211</th>\n",
              "      <td>âœ… Trip Verified | At check-in in Johannesbur...</td>\n",
              "      <td>no</td>\n",
              "      <td>803</td>\n",
              "      <td>âœtrip tripverified verifiedat atcheck checkin...</td>\n",
              "    </tr>\n",
              "    <tr>\n",
              "      <th>261</th>\n",
              "      <td>âœ… Trip Verified | San Francisco to Mashhad v...</td>\n",
              "      <td>no</td>\n",
              "      <td>527</td>\n",
              "      <td>âœtrip tripverified verifiedsan sanfrancisco f...</td>\n",
              "    </tr>\n",
              "    <tr>\n",
              "      <th>...</th>\n",
              "      <td>...</td>\n",
              "      <td>...</td>\n",
              "      <td>...</td>\n",
              "      <td>...</td>\n",
              "    </tr>\n",
              "    <tr>\n",
              "      <th>131460</th>\n",
              "      <td>âœ… Trip Verified | Kiev to Riga. 24 hrs befor...</td>\n",
              "      <td>no</td>\n",
              "      <td>1437</td>\n",
              "      <td>âœtrip tripverified verifiedkiev kievto toriga...</td>\n",
              "    </tr>\n",
              "    <tr>\n",
              "      <th>131554</th>\n",
              "      <td>âœ… Verified Review | Flew Ukraine Internation...</td>\n",
              "      <td>no</td>\n",
              "      <td>1375</td>\n",
              "      <td>âœverified verifiedreview reviewflew flewukrai...</td>\n",
              "    </tr>\n",
              "    <tr>\n",
              "      <th>131648</th>\n",
              "      <td>We travelled Ukraine International from London...</td>\n",
              "      <td>no</td>\n",
              "      <td>1431</td>\n",
              "      <td>wetravelled travelledukraine ukraineinternatio...</td>\n",
              "    </tr>\n",
              "    <tr>\n",
              "      <th>131726</th>\n",
              "      <td>DXB-KBP-LGW. Both planes were 737-800s but the...</td>\n",
              "      <td>no</td>\n",
              "      <td>411</td>\n",
              "      <td>dxbkbp kbplgw lgwboth bothplane planewere were...</td>\n",
              "    </tr>\n",
              "    <tr>\n",
              "      <th>131792</th>\n",
              "      <td>Flew four flights in July 2013 Tel Aviv (TLV) ...</td>\n",
              "      <td>yes</td>\n",
              "      <td>76</td>\n",
              "      <td>flewfour fourflight flightin injuly july2013 2...</td>\n",
              "    </tr>\n",
              "  </tbody>\n",
              "</table>\n",
              "<p>1422 rows × 4 columns</p>\n",
              "</div>"
            ],
            "text/plain": [
              "                                          customer_review  ...                                     tokenized_mess\n",
              "65      âœ… Trip Verified | Lagos to Istanbul via Kath...  ...  âœtrip tripverified verifiedlagos lagosto tois...\n",
              "153     âœ… Trip Verified | Seychelles to Birmingham v...  ...  âœtrip tripverified verifiedseychelles seychel...\n",
              "209     âœ… Trip Verified | London to Bangkok via Ista...  ...  âœtrip tripverified verifiedlondon londonto to...\n",
              "211     âœ… Trip Verified | At check-in in Johannesbur...  ...  âœtrip tripverified verifiedat atcheck checkin...\n",
              "261     âœ… Trip Verified | San Francisco to Mashhad v...  ...  âœtrip tripverified verifiedsan sanfrancisco f...\n",
              "...                                                   ...  ...                                                ...\n",
              "131460  âœ… Trip Verified | Kiev to Riga. 24 hrs befor...  ...  âœtrip tripverified verifiedkiev kievto toriga...\n",
              "131554  âœ… Verified Review | Flew Ukraine Internation...  ...  âœverified verifiedreview reviewflew flewukrai...\n",
              "131648  We travelled Ukraine International from London...  ...  wetravelled travelledukraine ukraineinternatio...\n",
              "131726  DXB-KBP-LGW. Both planes were 737-800s but the...  ...  dxbkbp kbplgw lgwboth bothplane planewere were...\n",
              "131792  Flew four flights in July 2013 Tel Aviv (TLV) ...  ...  flewfour fourflight flightin injuly july2013 2...\n",
              "\n",
              "[1422 rows x 4 columns]"
            ]
          },
          "metadata": {
            "tags": []
          },
          "execution_count": 115
        }
      ]
    },
    {
      "cell_type": "markdown",
      "metadata": {
        "id": "1KrxNXYq0gQd"
      },
      "source": [
        "### Imputing the result of above model in missing values of recommender feature\n"
      ]
    },
    {
      "cell_type": "code",
      "metadata": {
        "id": "YjSdHSWo8N-W"
      },
      "source": [
        "#varibale which have Nan values in recommended features\n",
        "recommended_nan = main_df['recommended'].isna()"
      ],
      "execution_count": 116,
      "outputs": []
    },
    {
      "cell_type": "code",
      "metadata": {
        "id": "MFD-KYhkjL2R"
      },
      "source": [
        "# imputation of depended variable with prediction MNB model\n",
        "main_df.loc[recommended_nan,'recommended'] = text_df_2['recommended']"
      ],
      "execution_count": 117,
      "outputs": []
    },
    {
      "cell_type": "markdown",
      "metadata": {
        "id": "NOYLKRunCILT"
      },
      "source": [
        "##Imputing Nan values in Independed features"
      ]
    },
    {
      "cell_type": "markdown",
      "metadata": {
        "id": "4ETp1dBuCaQ-"
      },
      "source": [
        "We will be droping the columns which have more than 60% of  data as Nan and is Categorical features"
      ]
    },
    {
      "cell_type": "markdown",
      "metadata": {
        "id": "p-XJtUJ5b4oW"
      },
      "source": [
        "As from heat map we can see that there are few features which have NaN values, it would be right decision to drop the features which have More that 60% values as NaN, as imputing them will only create baisness in the dataset"
      ]
    },
    {
      "cell_type": "code",
      "metadata": {
        "id": "lz2bGWibZ5sC"
      },
      "source": [
        "# function to get columns which have more than 60% values as NaN\n",
        "def null_percentage(name):\n",
        "  'this function will collect all features which have nan vaalues more than 60%'\n",
        "  drop_features =[]\n",
        "  for i in name:\n",
        "    null_value= main_df[i].isna().sum()\n",
        "    if (null_value/len(main_df)) > 0.6:\n",
        "      drop_features.append(i)\n",
        "\n",
        "  return drop_features"
      ],
      "execution_count": 118,
      "outputs": []
    },
    {
      "cell_type": "code",
      "metadata": {
        "id": "83hpgI_OedV_",
        "colab": {
          "base_uri": "https://localhost:8080/"
        },
        "outputId": "f433e619-705b-481d-a70b-a3e2727aa682"
      },
      "source": [
        "# applying function\n",
        "droping_features= null_percentage(features)\n",
        "droping_features\n"
      ],
      "execution_count": 119,
      "outputs": [
        {
          "output_type": "execute_result",
          "data": {
            "text/plain": [
              "['aircraft']"
            ]
          },
          "metadata": {
            "tags": []
          },
          "execution_count": 119
        }
      ]
    },
    {
      "cell_type": "code",
      "metadata": {
        "id": "m4uPK_2BDMAD",
        "colab": {
          "base_uri": "https://localhost:8080/"
        },
        "outputId": "ebfd60f6-571d-47ee-97a9-1c2d5f419b38"
      },
      "source": [
        "# count of uniques aircraft present  in this columns\n",
        "len(main_df.aircraft.unique())"
      ],
      "execution_count": 120,
      "outputs": [
        {
          "output_type": "execute_result",
          "data": {
            "text/plain": [
              "2089"
            ]
          },
          "metadata": {
            "tags": []
          },
          "execution_count": 120
        }
      ]
    },
    {
      "cell_type": "code",
      "metadata": {
        "id": "uMEuvCsYdjpQ"
      },
      "source": [
        "# droping these features\n",
        "main_df.drop(droping_features,axis=1,inplace=True)"
      ],
      "execution_count": 121,
      "outputs": []
    },
    {
      "cell_type": "markdown",
      "metadata": {
        "id": "AUqVD55OEaQ6"
      },
      "source": [
        "#### Imputing NaN in numerical columns\n",
        "\n",
        "we have 7 numerical columns \n",
        "\n",
        "if a person have given high review to seat_comfort, food_bev, ground service, cabin_service ,entertainment then there is high chance that overall ratting will also be high and visa versa.\n",
        "\n",
        "we have also seen that recommended is highly dependent on overall review.\n"
      ]
    },
    {
      "cell_type": "markdown",
      "metadata": {
        "id": "vB18KpXQGFh4"
      },
      "source": [
        "lets try to find all rows which have nan values for every numerical variable"
      ]
    },
    {
      "cell_type": "code",
      "metadata": {
        "id": "TH2bFpK5zz7R",
        "colab": {
          "base_uri": "https://localhost:8080/",
          "height": 813
        },
        "outputId": "3dfb8e37-ce3c-49e9-a4ad-8352ea4913dd"
      },
      "source": [
        "main_df"
      ],
      "execution_count": 122,
      "outputs": [
        {
          "output_type": "execute_result",
          "data": {
            "text/html": [
              "<div>\n",
              "<style scoped>\n",
              "    .dataframe tbody tr th:only-of-type {\n",
              "        vertical-align: middle;\n",
              "    }\n",
              "\n",
              "    .dataframe tbody tr th {\n",
              "        vertical-align: top;\n",
              "    }\n",
              "\n",
              "    .dataframe thead th {\n",
              "        text-align: right;\n",
              "    }\n",
              "</style>\n",
              "<table border=\"1\" class=\"dataframe\">\n",
              "  <thead>\n",
              "    <tr style=\"text-align: right;\">\n",
              "      <th></th>\n",
              "      <th>airline</th>\n",
              "      <th>overall</th>\n",
              "      <th>author</th>\n",
              "      <th>review_date</th>\n",
              "      <th>customer_review</th>\n",
              "      <th>traveller_type</th>\n",
              "      <th>cabin</th>\n",
              "      <th>route</th>\n",
              "      <th>date_flown</th>\n",
              "      <th>seat_comfort</th>\n",
              "      <th>cabin_service</th>\n",
              "      <th>food_bev</th>\n",
              "      <th>entertainment</th>\n",
              "      <th>ground_service</th>\n",
              "      <th>value_for_money</th>\n",
              "      <th>recommended</th>\n",
              "    </tr>\n",
              "  </thead>\n",
              "  <tbody>\n",
              "    <tr>\n",
              "      <th>1</th>\n",
              "      <td>Turkish Airlines</td>\n",
              "      <td>7.0</td>\n",
              "      <td>Christopher Hackley</td>\n",
              "      <td>8th May 2019</td>\n",
              "      <td>âœ… Trip Verified | London to Izmir via Istanb...</td>\n",
              "      <td>Business</td>\n",
              "      <td>Economy Class</td>\n",
              "      <td>London to Izmir via Istanbul</td>\n",
              "      <td>2019-05-01 00:00:00</td>\n",
              "      <td>4.0</td>\n",
              "      <td>5.0</td>\n",
              "      <td>4.0</td>\n",
              "      <td>4.0</td>\n",
              "      <td>2.0</td>\n",
              "      <td>4.0</td>\n",
              "      <td>yes</td>\n",
              "    </tr>\n",
              "    <tr>\n",
              "      <th>3</th>\n",
              "      <td>Turkish Airlines</td>\n",
              "      <td>2.0</td>\n",
              "      <td>Adriana Pisoi</td>\n",
              "      <td>7th May 2019</td>\n",
              "      <td>âœ… Trip Verified | Istanbul to Bucharest. We ...</td>\n",
              "      <td>Family Leisure</td>\n",
              "      <td>Economy Class</td>\n",
              "      <td>Istanbul to Bucharest</td>\n",
              "      <td>2019-05-01 00:00:00</td>\n",
              "      <td>4.0</td>\n",
              "      <td>1.0</td>\n",
              "      <td>1.0</td>\n",
              "      <td>1.0</td>\n",
              "      <td>1.0</td>\n",
              "      <td>1.0</td>\n",
              "      <td>no</td>\n",
              "    </tr>\n",
              "    <tr>\n",
              "      <th>5</th>\n",
              "      <td>Turkish Airlines</td>\n",
              "      <td>3.0</td>\n",
              "      <td>M Galerko</td>\n",
              "      <td>7th May 2019</td>\n",
              "      <td>âœ… Trip Verified | Rome to Prishtina via Ista...</td>\n",
              "      <td>Business</td>\n",
              "      <td>Economy Class</td>\n",
              "      <td>Rome to Prishtina via Istanbul</td>\n",
              "      <td>2019-05-01 00:00:00</td>\n",
              "      <td>1.0</td>\n",
              "      <td>4.0</td>\n",
              "      <td>1.0</td>\n",
              "      <td>3.0</td>\n",
              "      <td>1.0</td>\n",
              "      <td>2.0</td>\n",
              "      <td>no</td>\n",
              "    </tr>\n",
              "    <tr>\n",
              "      <th>7</th>\n",
              "      <td>Turkish Airlines</td>\n",
              "      <td>10.0</td>\n",
              "      <td>Zeshan Shah</td>\n",
              "      <td>6th May 2019</td>\n",
              "      <td>âœ… Trip Verified | Flew on Turkish Airlines I...</td>\n",
              "      <td>Solo Leisure</td>\n",
              "      <td>Economy Class</td>\n",
              "      <td>Washington Dulles to Karachi</td>\n",
              "      <td>April 2019</td>\n",
              "      <td>4.0</td>\n",
              "      <td>5.0</td>\n",
              "      <td>5.0</td>\n",
              "      <td>5.0</td>\n",
              "      <td>5.0</td>\n",
              "      <td>5.0</td>\n",
              "      <td>yes</td>\n",
              "    </tr>\n",
              "    <tr>\n",
              "      <th>9</th>\n",
              "      <td>Turkish Airlines</td>\n",
              "      <td>1.0</td>\n",
              "      <td>Pooja Jain</td>\n",
              "      <td>6th May 2019</td>\n",
              "      <td>âœ… Trip Verified | Mumbai to Dublin via Istan...</td>\n",
              "      <td>Solo Leisure</td>\n",
              "      <td>Economy Class</td>\n",
              "      <td>Mumbai to Dublin via Istanbul</td>\n",
              "      <td>2019-05-01 00:00:00</td>\n",
              "      <td>1.0</td>\n",
              "      <td>1.0</td>\n",
              "      <td>1.0</td>\n",
              "      <td>1.0</td>\n",
              "      <td>1.0</td>\n",
              "      <td>1.0</td>\n",
              "      <td>no</td>\n",
              "    </tr>\n",
              "    <tr>\n",
              "      <th>...</th>\n",
              "      <td>...</td>\n",
              "      <td>...</td>\n",
              "      <td>...</td>\n",
              "      <td>...</td>\n",
              "      <td>...</td>\n",
              "      <td>...</td>\n",
              "      <td>...</td>\n",
              "      <td>...</td>\n",
              "      <td>...</td>\n",
              "      <td>...</td>\n",
              "      <td>...</td>\n",
              "      <td>...</td>\n",
              "      <td>...</td>\n",
              "      <td>...</td>\n",
              "      <td>...</td>\n",
              "      <td>...</td>\n",
              "    </tr>\n",
              "    <tr>\n",
              "      <th>131886</th>\n",
              "      <td>Ukraine International</td>\n",
              "      <td>NaN</td>\n",
              "      <td>Yevheniy Kahanovych</td>\n",
              "      <td>21st January 2007</td>\n",
              "      <td>Two domestic flights between Kiev and Lviv las...</td>\n",
              "      <td>NaN</td>\n",
              "      <td>NaN</td>\n",
              "      <td>NaN</td>\n",
              "      <td>NaN</td>\n",
              "      <td>NaN</td>\n",
              "      <td>NaN</td>\n",
              "      <td>NaN</td>\n",
              "      <td>NaN</td>\n",
              "      <td>NaN</td>\n",
              "      <td>NaN</td>\n",
              "      <td>no</td>\n",
              "    </tr>\n",
              "    <tr>\n",
              "      <th>131888</th>\n",
              "      <td>Ukraine International</td>\n",
              "      <td>NaN</td>\n",
              "      <td>Helen Lee</td>\n",
              "      <td>15th December 2006</td>\n",
              "      <td>I had a good flight from London to Kiev with U...</td>\n",
              "      <td>NaN</td>\n",
              "      <td>NaN</td>\n",
              "      <td>NaN</td>\n",
              "      <td>NaN</td>\n",
              "      <td>NaN</td>\n",
              "      <td>NaN</td>\n",
              "      <td>NaN</td>\n",
              "      <td>NaN</td>\n",
              "      <td>NaN</td>\n",
              "      <td>NaN</td>\n",
              "      <td>no</td>\n",
              "    </tr>\n",
              "    <tr>\n",
              "      <th>131890</th>\n",
              "      <td>Ukraine International</td>\n",
              "      <td>NaN</td>\n",
              "      <td>Andriy Yesypenko</td>\n",
              "      <td>19th May 2006</td>\n",
              "      <td>Kiev - London (Gatwick) in business class (in ...</td>\n",
              "      <td>NaN</td>\n",
              "      <td>NaN</td>\n",
              "      <td>NaN</td>\n",
              "      <td>NaN</td>\n",
              "      <td>NaN</td>\n",
              "      <td>NaN</td>\n",
              "      <td>NaN</td>\n",
              "      <td>NaN</td>\n",
              "      <td>NaN</td>\n",
              "      <td>NaN</td>\n",
              "      <td>no</td>\n",
              "    </tr>\n",
              "    <tr>\n",
              "      <th>131892</th>\n",
              "      <td>Ukraine International</td>\n",
              "      <td>NaN</td>\n",
              "      <td>Volodya Bilotkach</td>\n",
              "      <td>29th April 2006</td>\n",
              "      <td>Several flights - KBP to AMS (3 times one way)...</td>\n",
              "      <td>NaN</td>\n",
              "      <td>NaN</td>\n",
              "      <td>NaN</td>\n",
              "      <td>NaN</td>\n",
              "      <td>NaN</td>\n",
              "      <td>NaN</td>\n",
              "      <td>NaN</td>\n",
              "      <td>NaN</td>\n",
              "      <td>NaN</td>\n",
              "      <td>NaN</td>\n",
              "      <td>no</td>\n",
              "    </tr>\n",
              "    <tr>\n",
              "      <th>131894</th>\n",
              "      <td>Ukraine International</td>\n",
              "      <td>NaN</td>\n",
              "      <td>Kasper Hettinga</td>\n",
              "      <td>10th February 2006</td>\n",
              "      <td>KBP-AMS with UIA. Although it was a relatively...</td>\n",
              "      <td>NaN</td>\n",
              "      <td>NaN</td>\n",
              "      <td>NaN</td>\n",
              "      <td>NaN</td>\n",
              "      <td>NaN</td>\n",
              "      <td>NaN</td>\n",
              "      <td>NaN</td>\n",
              "      <td>NaN</td>\n",
              "      <td>NaN</td>\n",
              "      <td>NaN</td>\n",
              "      <td>no</td>\n",
              "    </tr>\n",
              "  </tbody>\n",
              "</table>\n",
              "<p>61183 rows × 16 columns</p>\n",
              "</div>"
            ],
            "text/plain": [
              "                      airline  overall  ... value_for_money recommended\n",
              "1            Turkish Airlines      7.0  ...             4.0         yes\n",
              "3            Turkish Airlines      2.0  ...             1.0          no\n",
              "5            Turkish Airlines      3.0  ...             2.0          no\n",
              "7            Turkish Airlines     10.0  ...             5.0         yes\n",
              "9            Turkish Airlines      1.0  ...             1.0          no\n",
              "...                       ...      ...  ...             ...         ...\n",
              "131886  Ukraine International      NaN  ...             NaN          no\n",
              "131888  Ukraine International      NaN  ...             NaN          no\n",
              "131890  Ukraine International      NaN  ...             NaN          no\n",
              "131892  Ukraine International      NaN  ...             NaN          no\n",
              "131894  Ukraine International      NaN  ...             NaN          no\n",
              "\n",
              "[61183 rows x 16 columns]"
            ]
          },
          "metadata": {
            "tags": []
          },
          "execution_count": 122
        }
      ]
    },
    {
      "cell_type": "code",
      "metadata": {
        "id": "d9sfBQNWWqEn"
      },
      "source": [
        "# selcting all rows which have numeriacal feature as Nan\n",
        "Nan_no = (main_df['overall'].isna()) & (main_df['recommended']=='no') & (main_df['seat_comfort'].isna()) & (main_df['food_bev'].isna()) & (main_df['entertainment'].isna()) & (main_df['ground_service'].isna() & main_df['value_for_money'].isna() & (main_df['cabin_service'].isna()))"
      ],
      "execution_count": 123,
      "outputs": []
    },
    {
      "cell_type": "code",
      "metadata": {
        "id": "mNKw-sy6kWKU",
        "colab": {
          "base_uri": "https://localhost:8080/",
          "height": 830
        },
        "outputId": "4dee2183-e2dc-47bc-ab8d-80d5bc58fdf0"
      },
      "source": [
        "# checking the rows \n",
        "main_df[Nan_no]"
      ],
      "execution_count": 124,
      "outputs": [
        {
          "output_type": "execute_result",
          "data": {
            "text/html": [
              "<div>\n",
              "<style scoped>\n",
              "    .dataframe tbody tr th:only-of-type {\n",
              "        vertical-align: middle;\n",
              "    }\n",
              "\n",
              "    .dataframe tbody tr th {\n",
              "        vertical-align: top;\n",
              "    }\n",
              "\n",
              "    .dataframe thead th {\n",
              "        text-align: right;\n",
              "    }\n",
              "</style>\n",
              "<table border=\"1\" class=\"dataframe\">\n",
              "  <thead>\n",
              "    <tr style=\"text-align: right;\">\n",
              "      <th></th>\n",
              "      <th>airline</th>\n",
              "      <th>overall</th>\n",
              "      <th>author</th>\n",
              "      <th>review_date</th>\n",
              "      <th>customer_review</th>\n",
              "      <th>traveller_type</th>\n",
              "      <th>cabin</th>\n",
              "      <th>route</th>\n",
              "      <th>date_flown</th>\n",
              "      <th>seat_comfort</th>\n",
              "      <th>cabin_service</th>\n",
              "      <th>food_bev</th>\n",
              "      <th>entertainment</th>\n",
              "      <th>ground_service</th>\n",
              "      <th>value_for_money</th>\n",
              "      <th>recommended</th>\n",
              "    </tr>\n",
              "  </thead>\n",
              "  <tbody>\n",
              "    <tr>\n",
              "      <th>13775</th>\n",
              "      <td>KLM Royal Dutch Airlines</td>\n",
              "      <td>NaN</td>\n",
              "      <td>H Henry</td>\n",
              "      <td>6th August 2014</td>\n",
              "      <td>Amsterdam to LHR - travelled on KLM after 14 y...</td>\n",
              "      <td>NaN</td>\n",
              "      <td>Business Class</td>\n",
              "      <td>NaN</td>\n",
              "      <td>NaN</td>\n",
              "      <td>NaN</td>\n",
              "      <td>NaN</td>\n",
              "      <td>NaN</td>\n",
              "      <td>NaN</td>\n",
              "      <td>NaN</td>\n",
              "      <td>NaN</td>\n",
              "      <td>no</td>\n",
              "    </tr>\n",
              "    <tr>\n",
              "      <th>14435</th>\n",
              "      <td>Virgin America</td>\n",
              "      <td>NaN</td>\n",
              "      <td>Kathleen Daley</td>\n",
              "      <td>24th February 2015</td>\n",
              "      <td>I was sending 3 people out to Los Angeles for ...</td>\n",
              "      <td>NaN</td>\n",
              "      <td>Economy Class</td>\n",
              "      <td>NaN</td>\n",
              "      <td>NaN</td>\n",
              "      <td>NaN</td>\n",
              "      <td>NaN</td>\n",
              "      <td>NaN</td>\n",
              "      <td>NaN</td>\n",
              "      <td>NaN</td>\n",
              "      <td>NaN</td>\n",
              "      <td>no</td>\n",
              "    </tr>\n",
              "    <tr>\n",
              "      <th>23179</th>\n",
              "      <td>Delta Air Lines</td>\n",
              "      <td>NaN</td>\n",
              "      <td>C Tellefsen</td>\n",
              "      <td>14th September 2014</td>\n",
              "      <td>I keep making the mistake of choosing Delta. I...</td>\n",
              "      <td>NaN</td>\n",
              "      <td>Economy Class</td>\n",
              "      <td>NaN</td>\n",
              "      <td>NaN</td>\n",
              "      <td>NaN</td>\n",
              "      <td>NaN</td>\n",
              "      <td>NaN</td>\n",
              "      <td>NaN</td>\n",
              "      <td>NaN</td>\n",
              "      <td>NaN</td>\n",
              "      <td>no</td>\n",
              "    </tr>\n",
              "    <tr>\n",
              "      <th>25095</th>\n",
              "      <td>Southwest Airlines</td>\n",
              "      <td>NaN</td>\n",
              "      <td>A Morgan</td>\n",
              "      <td>29th November 2013</td>\n",
              "      <td>I have been a Southwest customer for years and...</td>\n",
              "      <td>NaN</td>\n",
              "      <td>Economy Class</td>\n",
              "      <td>NaN</td>\n",
              "      <td>NaN</td>\n",
              "      <td>NaN</td>\n",
              "      <td>NaN</td>\n",
              "      <td>NaN</td>\n",
              "      <td>NaN</td>\n",
              "      <td>NaN</td>\n",
              "      <td>NaN</td>\n",
              "      <td>no</td>\n",
              "    </tr>\n",
              "    <tr>\n",
              "      <th>25431</th>\n",
              "      <td>Southwest Airlines</td>\n",
              "      <td>NaN</td>\n",
              "      <td>J Fenston</td>\n",
              "      <td>11th July 2011</td>\n",
              "      <td>Never flying Southwest again. Their boarding/s...</td>\n",
              "      <td>NaN</td>\n",
              "      <td>NaN</td>\n",
              "      <td>NaN</td>\n",
              "      <td>NaN</td>\n",
              "      <td>NaN</td>\n",
              "      <td>NaN</td>\n",
              "      <td>NaN</td>\n",
              "      <td>NaN</td>\n",
              "      <td>NaN</td>\n",
              "      <td>NaN</td>\n",
              "      <td>no</td>\n",
              "    </tr>\n",
              "    <tr>\n",
              "      <th>...</th>\n",
              "      <td>...</td>\n",
              "      <td>...</td>\n",
              "      <td>...</td>\n",
              "      <td>...</td>\n",
              "      <td>...</td>\n",
              "      <td>...</td>\n",
              "      <td>...</td>\n",
              "      <td>...</td>\n",
              "      <td>...</td>\n",
              "      <td>...</td>\n",
              "      <td>...</td>\n",
              "      <td>...</td>\n",
              "      <td>...</td>\n",
              "      <td>...</td>\n",
              "      <td>...</td>\n",
              "      <td>...</td>\n",
              "    </tr>\n",
              "    <tr>\n",
              "      <th>131886</th>\n",
              "      <td>Ukraine International</td>\n",
              "      <td>NaN</td>\n",
              "      <td>Yevheniy Kahanovych</td>\n",
              "      <td>21st January 2007</td>\n",
              "      <td>Two domestic flights between Kiev and Lviv las...</td>\n",
              "      <td>NaN</td>\n",
              "      <td>NaN</td>\n",
              "      <td>NaN</td>\n",
              "      <td>NaN</td>\n",
              "      <td>NaN</td>\n",
              "      <td>NaN</td>\n",
              "      <td>NaN</td>\n",
              "      <td>NaN</td>\n",
              "      <td>NaN</td>\n",
              "      <td>NaN</td>\n",
              "      <td>no</td>\n",
              "    </tr>\n",
              "    <tr>\n",
              "      <th>131888</th>\n",
              "      <td>Ukraine International</td>\n",
              "      <td>NaN</td>\n",
              "      <td>Helen Lee</td>\n",
              "      <td>15th December 2006</td>\n",
              "      <td>I had a good flight from London to Kiev with U...</td>\n",
              "      <td>NaN</td>\n",
              "      <td>NaN</td>\n",
              "      <td>NaN</td>\n",
              "      <td>NaN</td>\n",
              "      <td>NaN</td>\n",
              "      <td>NaN</td>\n",
              "      <td>NaN</td>\n",
              "      <td>NaN</td>\n",
              "      <td>NaN</td>\n",
              "      <td>NaN</td>\n",
              "      <td>no</td>\n",
              "    </tr>\n",
              "    <tr>\n",
              "      <th>131890</th>\n",
              "      <td>Ukraine International</td>\n",
              "      <td>NaN</td>\n",
              "      <td>Andriy Yesypenko</td>\n",
              "      <td>19th May 2006</td>\n",
              "      <td>Kiev - London (Gatwick) in business class (in ...</td>\n",
              "      <td>NaN</td>\n",
              "      <td>NaN</td>\n",
              "      <td>NaN</td>\n",
              "      <td>NaN</td>\n",
              "      <td>NaN</td>\n",
              "      <td>NaN</td>\n",
              "      <td>NaN</td>\n",
              "      <td>NaN</td>\n",
              "      <td>NaN</td>\n",
              "      <td>NaN</td>\n",
              "      <td>no</td>\n",
              "    </tr>\n",
              "    <tr>\n",
              "      <th>131892</th>\n",
              "      <td>Ukraine International</td>\n",
              "      <td>NaN</td>\n",
              "      <td>Volodya Bilotkach</td>\n",
              "      <td>29th April 2006</td>\n",
              "      <td>Several flights - KBP to AMS (3 times one way)...</td>\n",
              "      <td>NaN</td>\n",
              "      <td>NaN</td>\n",
              "      <td>NaN</td>\n",
              "      <td>NaN</td>\n",
              "      <td>NaN</td>\n",
              "      <td>NaN</td>\n",
              "      <td>NaN</td>\n",
              "      <td>NaN</td>\n",
              "      <td>NaN</td>\n",
              "      <td>NaN</td>\n",
              "      <td>no</td>\n",
              "    </tr>\n",
              "    <tr>\n",
              "      <th>131894</th>\n",
              "      <td>Ukraine International</td>\n",
              "      <td>NaN</td>\n",
              "      <td>Kasper Hettinga</td>\n",
              "      <td>10th February 2006</td>\n",
              "      <td>KBP-AMS with UIA. Although it was a relatively...</td>\n",
              "      <td>NaN</td>\n",
              "      <td>NaN</td>\n",
              "      <td>NaN</td>\n",
              "      <td>NaN</td>\n",
              "      <td>NaN</td>\n",
              "      <td>NaN</td>\n",
              "      <td>NaN</td>\n",
              "      <td>NaN</td>\n",
              "      <td>NaN</td>\n",
              "      <td>NaN</td>\n",
              "      <td>no</td>\n",
              "    </tr>\n",
              "  </tbody>\n",
              "</table>\n",
              "<p>140 rows × 16 columns</p>\n",
              "</div>"
            ],
            "text/plain": [
              "                         airline  overall  ... value_for_money recommended\n",
              "13775   KLM Royal Dutch Airlines      NaN  ...             NaN          no\n",
              "14435             Virgin America      NaN  ...             NaN          no\n",
              "23179            Delta Air Lines      NaN  ...             NaN          no\n",
              "25095         Southwest Airlines      NaN  ...             NaN          no\n",
              "25431         Southwest Airlines      NaN  ...             NaN          no\n",
              "...                          ...      ...  ...             ...         ...\n",
              "131886     Ukraine International      NaN  ...             NaN          no\n",
              "131888     Ukraine International      NaN  ...             NaN          no\n",
              "131890     Ukraine International      NaN  ...             NaN          no\n",
              "131892     Ukraine International      NaN  ...             NaN          no\n",
              "131894     Ukraine International      NaN  ...             NaN          no\n",
              "\n",
              "[140 rows x 16 columns]"
            ]
          },
          "metadata": {
            "tags": []
          },
          "execution_count": 124
        }
      ]
    },
    {
      "cell_type": "markdown",
      "metadata": {
        "id": "hQQM6_VldCGb"
      },
      "source": [
        "Here we found all rows which have recommended as no and NaN values in all review columns\n",
        "\n",
        "We will be replacing these NaN values whith 1"
      ]
    },
    {
      "cell_type": "code",
      "metadata": {
        "id": "n1TaXxZWdwql"
      },
      "source": [
        "# fill Nan values by 1\n",
        "main_df.loc[Nan_no,['overall','seat_comfort','food_bev','entertainment','ground_service','value_for_money','cabin_service']] = main_df.loc[Nan_no,['overall','seat_comfort','food_bev','entertainment','ground_service','value_for_money','cabin_service']].fillna(1)"
      ],
      "execution_count": 125,
      "outputs": []
    },
    {
      "cell_type": "code",
      "metadata": {
        "id": "AFRN_RZpdwDC",
        "colab": {
          "base_uri": "https://localhost:8080/",
          "height": 830
        },
        "outputId": "a777efa8-974a-448c-cabd-b34420a548f7"
      },
      "source": [
        "# checking the dataframe after imputation\n",
        "main_df.loc[Nan_no]"
      ],
      "execution_count": 126,
      "outputs": [
        {
          "output_type": "execute_result",
          "data": {
            "text/html": [
              "<div>\n",
              "<style scoped>\n",
              "    .dataframe tbody tr th:only-of-type {\n",
              "        vertical-align: middle;\n",
              "    }\n",
              "\n",
              "    .dataframe tbody tr th {\n",
              "        vertical-align: top;\n",
              "    }\n",
              "\n",
              "    .dataframe thead th {\n",
              "        text-align: right;\n",
              "    }\n",
              "</style>\n",
              "<table border=\"1\" class=\"dataframe\">\n",
              "  <thead>\n",
              "    <tr style=\"text-align: right;\">\n",
              "      <th></th>\n",
              "      <th>airline</th>\n",
              "      <th>overall</th>\n",
              "      <th>author</th>\n",
              "      <th>review_date</th>\n",
              "      <th>customer_review</th>\n",
              "      <th>traveller_type</th>\n",
              "      <th>cabin</th>\n",
              "      <th>route</th>\n",
              "      <th>date_flown</th>\n",
              "      <th>seat_comfort</th>\n",
              "      <th>cabin_service</th>\n",
              "      <th>food_bev</th>\n",
              "      <th>entertainment</th>\n",
              "      <th>ground_service</th>\n",
              "      <th>value_for_money</th>\n",
              "      <th>recommended</th>\n",
              "    </tr>\n",
              "  </thead>\n",
              "  <tbody>\n",
              "    <tr>\n",
              "      <th>13775</th>\n",
              "      <td>KLM Royal Dutch Airlines</td>\n",
              "      <td>1.0</td>\n",
              "      <td>H Henry</td>\n",
              "      <td>6th August 2014</td>\n",
              "      <td>Amsterdam to LHR - travelled on KLM after 14 y...</td>\n",
              "      <td>NaN</td>\n",
              "      <td>Business Class</td>\n",
              "      <td>NaN</td>\n",
              "      <td>NaN</td>\n",
              "      <td>1.0</td>\n",
              "      <td>1.0</td>\n",
              "      <td>1.0</td>\n",
              "      <td>1.0</td>\n",
              "      <td>1.0</td>\n",
              "      <td>1.0</td>\n",
              "      <td>no</td>\n",
              "    </tr>\n",
              "    <tr>\n",
              "      <th>14435</th>\n",
              "      <td>Virgin America</td>\n",
              "      <td>1.0</td>\n",
              "      <td>Kathleen Daley</td>\n",
              "      <td>24th February 2015</td>\n",
              "      <td>I was sending 3 people out to Los Angeles for ...</td>\n",
              "      <td>NaN</td>\n",
              "      <td>Economy Class</td>\n",
              "      <td>NaN</td>\n",
              "      <td>NaN</td>\n",
              "      <td>1.0</td>\n",
              "      <td>1.0</td>\n",
              "      <td>1.0</td>\n",
              "      <td>1.0</td>\n",
              "      <td>1.0</td>\n",
              "      <td>1.0</td>\n",
              "      <td>no</td>\n",
              "    </tr>\n",
              "    <tr>\n",
              "      <th>23179</th>\n",
              "      <td>Delta Air Lines</td>\n",
              "      <td>1.0</td>\n",
              "      <td>C Tellefsen</td>\n",
              "      <td>14th September 2014</td>\n",
              "      <td>I keep making the mistake of choosing Delta. I...</td>\n",
              "      <td>NaN</td>\n",
              "      <td>Economy Class</td>\n",
              "      <td>NaN</td>\n",
              "      <td>NaN</td>\n",
              "      <td>1.0</td>\n",
              "      <td>1.0</td>\n",
              "      <td>1.0</td>\n",
              "      <td>1.0</td>\n",
              "      <td>1.0</td>\n",
              "      <td>1.0</td>\n",
              "      <td>no</td>\n",
              "    </tr>\n",
              "    <tr>\n",
              "      <th>25095</th>\n",
              "      <td>Southwest Airlines</td>\n",
              "      <td>1.0</td>\n",
              "      <td>A Morgan</td>\n",
              "      <td>29th November 2013</td>\n",
              "      <td>I have been a Southwest customer for years and...</td>\n",
              "      <td>NaN</td>\n",
              "      <td>Economy Class</td>\n",
              "      <td>NaN</td>\n",
              "      <td>NaN</td>\n",
              "      <td>1.0</td>\n",
              "      <td>1.0</td>\n",
              "      <td>1.0</td>\n",
              "      <td>1.0</td>\n",
              "      <td>1.0</td>\n",
              "      <td>1.0</td>\n",
              "      <td>no</td>\n",
              "    </tr>\n",
              "    <tr>\n",
              "      <th>25431</th>\n",
              "      <td>Southwest Airlines</td>\n",
              "      <td>1.0</td>\n",
              "      <td>J Fenston</td>\n",
              "      <td>11th July 2011</td>\n",
              "      <td>Never flying Southwest again. Their boarding/s...</td>\n",
              "      <td>NaN</td>\n",
              "      <td>NaN</td>\n",
              "      <td>NaN</td>\n",
              "      <td>NaN</td>\n",
              "      <td>1.0</td>\n",
              "      <td>1.0</td>\n",
              "      <td>1.0</td>\n",
              "      <td>1.0</td>\n",
              "      <td>1.0</td>\n",
              "      <td>1.0</td>\n",
              "      <td>no</td>\n",
              "    </tr>\n",
              "    <tr>\n",
              "      <th>...</th>\n",
              "      <td>...</td>\n",
              "      <td>...</td>\n",
              "      <td>...</td>\n",
              "      <td>...</td>\n",
              "      <td>...</td>\n",
              "      <td>...</td>\n",
              "      <td>...</td>\n",
              "      <td>...</td>\n",
              "      <td>...</td>\n",
              "      <td>...</td>\n",
              "      <td>...</td>\n",
              "      <td>...</td>\n",
              "      <td>...</td>\n",
              "      <td>...</td>\n",
              "      <td>...</td>\n",
              "      <td>...</td>\n",
              "    </tr>\n",
              "    <tr>\n",
              "      <th>131886</th>\n",
              "      <td>Ukraine International</td>\n",
              "      <td>1.0</td>\n",
              "      <td>Yevheniy Kahanovych</td>\n",
              "      <td>21st January 2007</td>\n",
              "      <td>Two domestic flights between Kiev and Lviv las...</td>\n",
              "      <td>NaN</td>\n",
              "      <td>NaN</td>\n",
              "      <td>NaN</td>\n",
              "      <td>NaN</td>\n",
              "      <td>1.0</td>\n",
              "      <td>1.0</td>\n",
              "      <td>1.0</td>\n",
              "      <td>1.0</td>\n",
              "      <td>1.0</td>\n",
              "      <td>1.0</td>\n",
              "      <td>no</td>\n",
              "    </tr>\n",
              "    <tr>\n",
              "      <th>131888</th>\n",
              "      <td>Ukraine International</td>\n",
              "      <td>1.0</td>\n",
              "      <td>Helen Lee</td>\n",
              "      <td>15th December 2006</td>\n",
              "      <td>I had a good flight from London to Kiev with U...</td>\n",
              "      <td>NaN</td>\n",
              "      <td>NaN</td>\n",
              "      <td>NaN</td>\n",
              "      <td>NaN</td>\n",
              "      <td>1.0</td>\n",
              "      <td>1.0</td>\n",
              "      <td>1.0</td>\n",
              "      <td>1.0</td>\n",
              "      <td>1.0</td>\n",
              "      <td>1.0</td>\n",
              "      <td>no</td>\n",
              "    </tr>\n",
              "    <tr>\n",
              "      <th>131890</th>\n",
              "      <td>Ukraine International</td>\n",
              "      <td>1.0</td>\n",
              "      <td>Andriy Yesypenko</td>\n",
              "      <td>19th May 2006</td>\n",
              "      <td>Kiev - London (Gatwick) in business class (in ...</td>\n",
              "      <td>NaN</td>\n",
              "      <td>NaN</td>\n",
              "      <td>NaN</td>\n",
              "      <td>NaN</td>\n",
              "      <td>1.0</td>\n",
              "      <td>1.0</td>\n",
              "      <td>1.0</td>\n",
              "      <td>1.0</td>\n",
              "      <td>1.0</td>\n",
              "      <td>1.0</td>\n",
              "      <td>no</td>\n",
              "    </tr>\n",
              "    <tr>\n",
              "      <th>131892</th>\n",
              "      <td>Ukraine International</td>\n",
              "      <td>1.0</td>\n",
              "      <td>Volodya Bilotkach</td>\n",
              "      <td>29th April 2006</td>\n",
              "      <td>Several flights - KBP to AMS (3 times one way)...</td>\n",
              "      <td>NaN</td>\n",
              "      <td>NaN</td>\n",
              "      <td>NaN</td>\n",
              "      <td>NaN</td>\n",
              "      <td>1.0</td>\n",
              "      <td>1.0</td>\n",
              "      <td>1.0</td>\n",
              "      <td>1.0</td>\n",
              "      <td>1.0</td>\n",
              "      <td>1.0</td>\n",
              "      <td>no</td>\n",
              "    </tr>\n",
              "    <tr>\n",
              "      <th>131894</th>\n",
              "      <td>Ukraine International</td>\n",
              "      <td>1.0</td>\n",
              "      <td>Kasper Hettinga</td>\n",
              "      <td>10th February 2006</td>\n",
              "      <td>KBP-AMS with UIA. Although it was a relatively...</td>\n",
              "      <td>NaN</td>\n",
              "      <td>NaN</td>\n",
              "      <td>NaN</td>\n",
              "      <td>NaN</td>\n",
              "      <td>1.0</td>\n",
              "      <td>1.0</td>\n",
              "      <td>1.0</td>\n",
              "      <td>1.0</td>\n",
              "      <td>1.0</td>\n",
              "      <td>1.0</td>\n",
              "      <td>no</td>\n",
              "    </tr>\n",
              "  </tbody>\n",
              "</table>\n",
              "<p>140 rows × 16 columns</p>\n",
              "</div>"
            ],
            "text/plain": [
              "                         airline  overall  ... value_for_money recommended\n",
              "13775   KLM Royal Dutch Airlines      1.0  ...             1.0          no\n",
              "14435             Virgin America      1.0  ...             1.0          no\n",
              "23179            Delta Air Lines      1.0  ...             1.0          no\n",
              "25095         Southwest Airlines      1.0  ...             1.0          no\n",
              "25431         Southwest Airlines      1.0  ...             1.0          no\n",
              "...                          ...      ...  ...             ...         ...\n",
              "131886     Ukraine International      1.0  ...             1.0          no\n",
              "131888     Ukraine International      1.0  ...             1.0          no\n",
              "131890     Ukraine International      1.0  ...             1.0          no\n",
              "131892     Ukraine International      1.0  ...             1.0          no\n",
              "131894     Ukraine International      1.0  ...             1.0          no\n",
              "\n",
              "[140 rows x 16 columns]"
            ]
          },
          "metadata": {
            "tags": []
          },
          "execution_count": 126
        }
      ]
    },
    {
      "cell_type": "markdown",
      "metadata": {
        "id": "pxawL2RFhftV"
      },
      "source": [
        "#### When recommended is YES\n",
        "\n",
        "The numerical features are having NaN values\n",
        "\n",
        "Replacing those NaN values to a valid value on the bases of recommended column"
      ]
    },
    {
      "cell_type": "code",
      "metadata": {
        "id": "x7cuwfbThnjm"
      },
      "source": [
        "Nan_yes=(main_df['overall'].isna()) & (main_df['recommended']=='yes') & (main_df['seat_comfort'].isna()) & (main_df['food_bev'].isna()) & (main_df['entertainment'].isna()) & (main_df['ground_service'].isna() & main_df['value_for_money'].isna())"
      ],
      "execution_count": 127,
      "outputs": []
    },
    {
      "cell_type": "code",
      "metadata": {
        "id": "OPzrG3lvivLY"
      },
      "source": [
        "# fillinng Nan vaues by 5\n",
        "main_df.loc[Nan_yes,['seat_comfort','food_bev','entertainment','ground_service','value_for_money','cabin_service']] =main_df.loc[Nan_yes,['seat_comfort','food_bev','entertainment','ground_service','value_for_money','cabin_service']].fillna(5)"
      ],
      "execution_count": 128,
      "outputs": []
    },
    {
      "cell_type": "markdown",
      "metadata": {
        "id": "4Pa2GzUVz0dT"
      },
      "source": [
        "### Replacing NaN values\n",
        "In numerical features apart from overall feature to median values of respected features"
      ]
    },
    {
      "cell_type": "code",
      "metadata": {
        "id": "UO99ij4TrS3N"
      },
      "source": [
        "main_df[['seat_comfort','food_bev','entertainment','ground_service','value_for_money','cabin_service']] = main_df[['seat_comfort','food_bev','entertainment','ground_service','value_for_money','cabin_service']].fillna(main_df[['seat_comfort','food_bev','entertainment','ground_service','value_for_money','cabin_service']].median())"
      ],
      "execution_count": 129,
      "outputs": []
    },
    {
      "cell_type": "code",
      "metadata": {
        "id": "fFekAt6v29ra",
        "colab": {
          "base_uri": "https://localhost:8080/"
        },
        "outputId": "584e15a5-3497-4e6e-90df-a65092405f0c"
      },
      "source": [
        "main_df.isna().sum()"
      ],
      "execution_count": 130,
      "outputs": [
        {
          "output_type": "execute_result",
          "data": {
            "text/plain": [
              "airline                0\n",
              "overall             1642\n",
              "author                 0\n",
              "review_date            0\n",
              "customer_review        0\n",
              "traveller_type     23643\n",
              "cabin               2478\n",
              "route              23670\n",
              "date_flown         23749\n",
              "seat_comfort           0\n",
              "cabin_service          0\n",
              "food_bev               0\n",
              "entertainment          0\n",
              "ground_service         0\n",
              "value_for_money        0\n",
              "recommended            0\n",
              "dtype: int64"
            ]
          },
          "metadata": {
            "tags": []
          },
          "execution_count": 130
        }
      ]
    },
    {
      "cell_type": "markdown",
      "metadata": {
        "id": "vEkwwBOm4VJb"
      },
      "source": [
        "###Creating a Average column\n",
        "which have avrg score of (all numerical features except overall)"
      ]
    },
    {
      "cell_type": "code",
      "metadata": {
        "id": "DWOW5jSsrgxo"
      },
      "source": [
        "main_df['Avg_num']= (main_df['seat_comfort']+ main_df['cabin_service']+ main_df['food_bev']+main_df['entertainment']+main_df['ground_service']+main_df['value_for_money'])//6"
      ],
      "execution_count": 131,
      "outputs": []
    },
    {
      "cell_type": "markdown",
      "metadata": {
        "id": "oBlFOCRRg9Iz"
      },
      "source": [
        "### Finding NaN in overall feature\n",
        "We will be replacing all Nan values in overall feature by avg colummn"
      ]
    },
    {
      "cell_type": "code",
      "metadata": {
        "id": "Rxj79ghOhmSa"
      },
      "source": [
        "# finding all nan values in overall\n",
        "m=(main_df['overall'].isna())"
      ],
      "execution_count": 132,
      "outputs": []
    },
    {
      "cell_type": "code",
      "metadata": {
        "id": "lbAXVU5zhmFr"
      },
      "source": [
        "# filling NaN value in overall with 2* avg num\n",
        "main_df.loc[m,'overall']= main_df.loc[m,'Avg_num']*2"
      ],
      "execution_count": 133,
      "outputs": []
    },
    {
      "cell_type": "markdown",
      "metadata": {
        "id": "uPavtczFrzlD"
      },
      "source": [
        "Droping all Non important columns/features"
      ]
    },
    {
      "cell_type": "code",
      "metadata": {
        "id": "xmx6wkJAEJkQ"
      },
      "source": [
        " # droping Non important features\n",
        "main_df.drop(['author','review_date','date_flown','route'],axis=1,inplace=True)"
      ],
      "execution_count": 134,
      "outputs": []
    },
    {
      "cell_type": "markdown",
      "metadata": {
        "id": "fONurRXUFD9s"
      },
      "source": [
        "## working on Text and Categorical features"
      ]
    },
    {
      "cell_type": "markdown",
      "metadata": {
        "id": "qZG7RLFmSKO2"
      },
      "source": [
        "**Airline**"
      ]
    },
    {
      "cell_type": "code",
      "metadata": {
        "id": "5gwFlALWOyY2",
        "colab": {
          "base_uri": "https://localhost:8080/",
          "height": 508
        },
        "outputId": "d052d79d-72c5-4097-d419-3b4e9249aa98"
      },
      "source": [
        "# graph showing count of each airline \n",
        "main_df['airline'].value_counts().plot(kind='bar',figsize=(15,6))"
      ],
      "execution_count": 135,
      "outputs": [
        {
          "output_type": "execute_result",
          "data": {
            "text/plain": [
              "<matplotlib.axes._subplots.AxesSubplot at 0x7fb9df26da90>"
            ]
          },
          "metadata": {
            "tags": []
          },
          "execution_count": 135
        },
        {
          "output_type": "display_data",
          "data": {
            "image/png": "[encoded data removed]",
            "text/plain": [
              "<Figure size 1080x432 with 1 Axes>"
            ]
          },
          "metadata": {
            "tags": [],
            "needs_background": "light"
          }
        }
      ]
    },
    {
      "cell_type": "markdown",
      "metadata": {
        "id": "-kY1dq0-Op1P"
      },
      "source": [
        "We can do one hot incoding to these categorical values"
      ]
    },
    {
      "cell_type": "markdown",
      "metadata": {
        "id": "JGj4MxYKSPRt"
      },
      "source": [
        "**Cabin**"
      ]
    },
    {
      "cell_type": "code",
      "metadata": {
        "id": "jIaelG1mSQgW",
        "colab": {
          "base_uri": "https://localhost:8080/"
        },
        "outputId": "81b561bd-d592-4e87-9bb0-614972cb31ed"
      },
      "source": [
        "# counting number of unique classes in this feature\n",
        "main_df['cabin'].value_counts()"
      ],
      "execution_count": 136,
      "outputs": [
        {
          "output_type": "execute_result",
          "data": {
            "text/plain": [
              "Economy Class      45171\n",
              "Business Class      9590\n",
              "Premium Economy     2412\n",
              "First Class         1532\n",
              "Name: cabin, dtype: int64"
            ]
          },
          "metadata": {
            "tags": []
          },
          "execution_count": 136
        }
      ]
    },
    {
      "cell_type": "markdown",
      "metadata": {
        "id": "0Z29OsUgSu8Z"
      },
      "source": [
        "**Travel Type**"
      ]
    },
    {
      "cell_type": "code",
      "metadata": {
        "id": "jUUIS1IXSvyT",
        "colab": {
          "base_uri": "https://localhost:8080/"
        },
        "outputId": "0b1f4e28-227e-4d7a-c39c-9e47b726f919"
      },
      "source": [
        "# counting number of unique classes in this feature\n",
        "main_df['traveller_type'].value_counts()"
      ],
      "execution_count": 137,
      "outputs": [
        {
          "output_type": "execute_result",
          "data": {
            "text/plain": [
              "Solo Leisure      13935\n",
              "Couple Leisure     9699\n",
              "Family Leisure     7142\n",
              "Business           6764\n",
              "Name: traveller_type, dtype: int64"
            ]
          },
          "metadata": {
            "tags": []
          },
          "execution_count": 137
        }
      ]
    },
    {
      "cell_type": "markdown",
      "metadata": {
        "id": "KPVUILOlTNdp"
      },
      "source": [
        "customer review"
      ]
    },
    {
      "cell_type": "code",
      "metadata": {
        "id": "WPDimoh-TOMf",
        "colab": {
          "base_uri": "https://localhost:8080/",
          "height": 137
        },
        "outputId": "068da592-a1a0-40b0-b00c-dc089a4fd334"
      },
      "source": [
        "main_df['customer_review'][5]"
      ],
      "execution_count": 138,
      "outputs": [
        {
          "output_type": "execute_result",
          "data": {
            "application/vnd.google.colaboratory.intrinsic+json": {
              "type": "string"
            },
            "text/plain": [
              "'âœ… Trip Verified | Rome to Prishtina via Istanbul. I flew with this company several times in the past years, and I can honestly say that it is getting worse and worse. I flew from Rome to Prishtina via Istanbul, all 4 flights had a delay (which apparently is pretty normal with Turkish). The ground staff is for the most part useless. In Istambul i have tried to ask a few information about a flight delay (i had just 30 minutes before the connecting flight) and the whole answer was: \"Relax Sir, No problem Sir, It\\'s okay\". The new airport is a gigantic mess, very big and disorganized. When you land in Istanbul it takes about 20 to 25 minutes taxiing and other 10 minutes before they actually start disembarking, it\\'s an exhausting experience especially if you are in a hurry. Forget about asking for some indication at the new airport, they all chat between each other, some with a coffee in their hands. I flew with four different aircraft on this trip, two were fairly new, the other two were old, seats worn. Food on board was of very poor quality.., let me repeat this, very...poor quality. In general i can say that crew is decently trained and deliver a good experience or at least they try, of course it is far from the experience you get flying Qatar or Emirates but still pretty good, while ground personnel, especially in Istanbul is the personification of the word Lazy. A complete disaster. I will try and avoid Turkish Airlines in the future, it is not a cheap company and definitely not worth for the money you pay. If you are in a hurry or you know you will be avoid this company and avoid the new istanbul airport at all costs.'"
            ]
          },
          "metadata": {
            "tags": []
          },
          "execution_count": 138
        }
      ]
    },
    {
      "cell_type": "code",
      "metadata": {
        "id": "9hW4LnlTW5oH"
      },
      "source": [
        ""
      ],
      "execution_count": 138,
      "outputs": []
    },
    {
      "cell_type": "code",
      "metadata": {
        "id": "FxC8nw6vXFvo"
      },
      "source": [
        ""
      ],
      "execution_count": 138,
      "outputs": []
    },
    {
      "cell_type": "code",
      "metadata": {
        "id": "ZjmZ6_m-Bh1Y"
      },
      "source": [
        "# replacing yes =1 and no =0 in recommended column\n",
        "main_df['recommended'].replace({'yes':1,'no':0},inplace=True)"
      ],
      "execution_count": 139,
      "outputs": []
    },
    {
      "cell_type": "code",
      "metadata": {
        "id": "D9zCH_Y_jfr9",
        "colab": {
          "base_uri": "https://localhost:8080/"
        },
        "outputId": "bbbd9532-66ca-431e-bb23-0f6e6b75f6d1"
      },
      "source": [
        "# checking for NaN values in columns\n",
        "main_df.isna().sum()"
      ],
      "execution_count": 140,
      "outputs": [
        {
          "output_type": "execute_result",
          "data": {
            "text/plain": [
              "airline                0\n",
              "overall                0\n",
              "customer_review        0\n",
              "traveller_type     23643\n",
              "cabin               2478\n",
              "seat_comfort           0\n",
              "cabin_service          0\n",
              "food_bev               0\n",
              "entertainment          0\n",
              "ground_service         0\n",
              "value_for_money        0\n",
              "recommended            0\n",
              "Avg_num                0\n",
              "dtype: int64"
            ]
          },
          "metadata": {
            "tags": []
          },
          "execution_count": 140
        }
      ]
    },
    {
      "cell_type": "markdown",
      "metadata": {
        "id": "aZ7nFGjz0zkQ"
      },
      "source": [
        "## Sentiment analysis using vadar"
      ]
    },
    {
      "cell_type": "code",
      "metadata": {
        "id": "-45sSvsi1vpy",
        "colab": {
          "base_uri": "https://localhost:8080/"
        },
        "outputId": "75faba1d-2122-4764-fe1b-563f52c385cb"
      },
      "source": [
        "pip install vaderSentiment"
      ],
      "execution_count": 141,
      "outputs": [
        {
          "output_type": "stream",
          "text": [
            "Collecting vaderSentiment\n",
            "\u001b[?25l  Downloading https://files.pythonhosted.org/packages/76/fc/310e16254683c1ed35eeb97386986d6c00bc29df17ce280aed64d55537e9/vaderSentiment-3.3.2-py2.py3-none-any.whl (125kB)\n",
            "\r\u001b[K     |██▋                             | 10kB 14.3MB/s eta 0:00:01\r\u001b[K     |█████▏                          | 20kB 16.5MB/s eta 0:00:01\r\u001b[K     |███████▉                        | 30kB 12.5MB/s eta 0:00:01\r\u001b[K     |██████████▍                     | 40kB 9.4MB/s eta 0:00:01\r\u001b[K     |█████████████                   | 51kB 8.2MB/s eta 0:00:01\r\u001b[K     |███████████████▋                | 61kB 8.7MB/s eta 0:00:01\r\u001b[K     |██████████████████▏             | 71kB 8.1MB/s eta 0:00:01\r\u001b[K     |████████████████████▉           | 81kB 8.3MB/s eta 0:00:01\r\u001b[K     |███████████████████████▍        | 92kB 8.6MB/s eta 0:00:01\r\u001b[K     |██████████████████████████      | 102kB 7.6MB/s eta 0:00:01\r\u001b[K     |████████████████████████████▋   | 112kB 7.6MB/s eta 0:00:01\r\u001b[K     |███████████████████████████████▏| 122kB 7.6MB/s eta 0:00:01\r\u001b[K     |████████████████████████████████| 133kB 7.6MB/s \n",
            "\u001b[?25hRequirement already satisfied: requests in /usr/local/lib/python3.7/dist-packages (from vaderSentiment) (2.23.0)\n",
            "Requirement already satisfied: urllib3!=1.25.0,!=1.25.1,<1.26,>=1.21.1 in /usr/local/lib/python3.7/dist-packages (from requests->vaderSentiment) (1.24.3)\n",
            "Requirement already satisfied: idna<3,>=2.5 in /usr/local/lib/python3.7/dist-packages (from requests->vaderSentiment) (2.10)\n",
            "Requirement already satisfied: chardet<4,>=3.0.2 in /usr/local/lib/python3.7/dist-packages (from requests->vaderSentiment) (3.0.4)\n",
            "Requirement already satisfied: certifi>=2017.4.17 in /usr/local/lib/python3.7/dist-packages (from requests->vaderSentiment) (2020.12.5)\n",
            "Installing collected packages: vaderSentiment\n",
            "Successfully installed vaderSentiment-3.3.2\n"
          ],
          "name": "stdout"
        }
      ]
    },
    {
      "cell_type": "code",
      "metadata": {
        "id": "KxB_FW4E1-_F"
      },
      "source": [
        "# import SentimentIntensityAnalyzer class\n",
        "# from vaderSentiment.vaderSentiment module.\n",
        "from vaderSentiment.vaderSentiment import SentimentIntensityAnalyzer"
      ],
      "execution_count": 142,
      "outputs": []
    },
    {
      "cell_type": "code",
      "metadata": {
        "id": "HK6T1Qmq1-tc"
      },
      "source": [
        "# function to print sentiments\n",
        "# of the sentence.\n",
        "def sentiment_scores(sentence):\n",
        "  \n",
        "    # Create a SentimentIntensityAnalyzer object.\n",
        "    sid_obj = SentimentIntensityAnalyzer()\n",
        "  \n",
        "    # polarity_scores method of SentimentIntensityAnalyzer\n",
        "    # oject gives a sentiment dictionary.\n",
        "    # which contains pos, neg, neu, and compound scores.\n",
        "    sentiment_dict = sid_obj.polarity_scores(sentence)\n",
        "\n",
        "    return  sentiment_dict['compound']"
      ],
      "execution_count": 143,
      "outputs": []
    },
    {
      "cell_type": "code",
      "metadata": {
        "id": "7Hfyby5L1-mH"
      },
      "source": [
        "# creating a polarity column\n",
        "# to store sentiment analysis score on text data\n",
        "main_df['polarity']= main_df['customer_review'].apply(sentiment_scores)"
      ],
      "execution_count": 144,
      "outputs": []
    },
    {
      "cell_type": "code",
      "metadata": {
        "id": "6PeCx1bQ1-hw"
      },
      "source": [
        ""
      ],
      "execution_count": 144,
      "outputs": []
    },
    {
      "cell_type": "markdown",
      "metadata": {
        "id": "iNaTdITcn-b_"
      },
      "source": [
        "## Converting qualitative features\n",
        " Into number for machine learning as  most machine learning alogorithm takes numerical values.\n",
        "\n",
        " In our dataset we have 3 categorical columns \n",
        "> Airline\n",
        " * airline columns have zero NaN values so we can we Dummy variable encoding as this will give us one less feature as airline column have large number of categoreis\n",
        "\n",
        "> Travell type\n",
        " * These values dont have natural ordering and column have NaN values so its better to use One hot encoding.\n",
        " *  Here we have 4 class \n",
        "  * Solo\n",
        "  * Couple\n",
        "  * Family\n",
        "  * Business\n",
        "\n",
        " \n",
        "\n",
        "> Cabin\n",
        "*  These values have a natural ordering as business class is expensive than economy class.\n",
        "* we can rank these classes so in this dataset we see higher means better so\n",
        " * economy =  1\n",
        " * premium economy = 2\n",
        " * business class = 3\n",
        " * first class = 4\n",
        "\n",
        " * But we are having Nan value in these features so i will be doing one hot encoding\n",
        "\n",
        "   "
      ]
    },
    {
      "cell_type": "markdown",
      "metadata": {
        "id": "fLhY_vrWkLk7"
      },
      "source": [
        "Doing One hot encoding for categorical variables"
      ]
    },
    {
      "cell_type": "code",
      "metadata": {
        "id": "kBSS4kznKip8"
      },
      "source": [
        "# categoriacal features to do one hot encoding\n",
        "colms=['airline','cabin','traveller_type']"
      ],
      "execution_count": 145,
      "outputs": []
    },
    {
      "cell_type": "code",
      "metadata": {
        "id": "dwpfpMP4A7lj"
      },
      "source": [
        "new_df= pd.get_dummies(main_df,columns=colms)"
      ],
      "execution_count": 146,
      "outputs": []
    },
    {
      "cell_type": "code",
      "metadata": {
        "id": "nSrVL-qu_vRJ"
      },
      "source": [
        "ind_features = new_df.columns.drop(['customer_review','recommended'])\n"
      ],
      "execution_count": 147,
      "outputs": []
    },
    {
      "cell_type": "code",
      "metadata": {
        "id": "fJdrOYO9Ezny"
      },
      "source": [
        "dep_features = 'recommended'"
      ],
      "execution_count": 148,
      "outputs": []
    },
    {
      "cell_type": "code",
      "metadata": {
        "id": "iTBhyDyI_xx_",
        "colab": {
          "base_uri": "https://localhost:8080/"
        },
        "outputId": "7b984d5f-5204-49b6-db59-d52463c41ed8"
      },
      "source": [
        "ind_features"
      ],
      "execution_count": 149,
      "outputs": [
        {
          "output_type": "execute_result",
          "data": {
            "text/plain": [
              "Index(['overall', 'seat_comfort', 'cabin_service', 'food_bev', 'entertainment',\n",
              "       'ground_service', 'value_for_money', 'Avg_num', 'polarity',\n",
              "       'airline_ANA All Nippon Airways', 'airline_Adria Airways',\n",
              "       'airline_Aegean Airlines', 'airline_Aer Lingus',\n",
              "       'airline_Aeroflot Russian Airlines', 'airline_Aeromexico',\n",
              "       'airline_Air Arabia', 'airline_Air Canada', 'airline_Air Canada rouge',\n",
              "       'airline_Air China', 'airline_Air Europa', 'airline_Air France',\n",
              "       'airline_Air India', 'airline_Air New Zealand', 'airline_AirAsia',\n",
              "       'airline_Alaska Airlines', 'airline_Alitalia',\n",
              "       'airline_American Airlines', 'airline_Asiana Airlines',\n",
              "       'airline_Austrian Airlines', 'airline_Avianca',\n",
              "       'airline_Bangkok Airways', 'airline_British Airways',\n",
              "       'airline_Brussels Airlines', 'airline_Cathay Pacific Airways',\n",
              "       'airline_China Eastern Airlines', 'airline_China Southern Airlines',\n",
              "       'airline_Copa Airlines', 'airline_Delta Air Lines', 'airline_EVA Air',\n",
              "       'airline_Egyptair', 'airline_Emirates', 'airline_Ethiopian Airlines',\n",
              "       'airline_Etihad Airways', 'airline_Eurowings', 'airline_Finnair',\n",
              "       'airline_Frontier Airlines', 'airline_Garuda Indonesia',\n",
              "       'airline_Germanwings', 'airline_Gulf Air', 'airline_Iberia',\n",
              "       'airline_Icelandair', 'airline_IndiGo', 'airline_Jetblue Airways',\n",
              "       'airline_KLM Royal Dutch Airlines', 'airline_Korean Air',\n",
              "       'airline_Kuwait Airways', 'airline_LATAM Airlines',\n",
              "       'airline_LOT Polish Airlines', 'airline_Lufthansa', 'airline_Norwegian',\n",
              "       'airline_Pegasus Airlines', 'airline_Qantas Airways',\n",
              "       'airline_QantasLink', 'airline_Qatar Airways',\n",
              "       'airline_Royal Air Maroc', 'airline_Royal Jordanian Airlines',\n",
              "       'airline_Ryanair', 'airline_SAS Scandinavian',\n",
              "       'airline_Saudi Arabian Airlines', 'airline_Singapore Airlines',\n",
              "       'airline_South African Airways', 'airline_Southwest Airlines',\n",
              "       'airline_Spirit Airlines', 'airline_Sunwing Airlines',\n",
              "       'airline_Swiss Intl Air Lines', 'airline_TAP Portugal',\n",
              "       'airline_TAROM Romanian', 'airline_Thai Airways',\n",
              "       'airline_Thai Smile Airways', 'airline_Tunisair',\n",
              "       'airline_Turkish Airlines', 'airline_Ukraine International',\n",
              "       'airline_United Airlines', 'airline_Virgin America',\n",
              "       'airline_Vueling Airlines', 'airline_WOW air', 'airline_Wizz Air',\n",
              "       'airline_airBaltic', 'airline_easyJet', 'airline_flydubai',\n",
              "       'cabin_Business Class', 'cabin_Economy Class', 'cabin_First Class',\n",
              "       'cabin_Premium Economy', 'traveller_type_Business',\n",
              "       'traveller_type_Couple Leisure', 'traveller_type_Family Leisure',\n",
              "       'traveller_type_Solo Leisure'],\n",
              "      dtype='object')"
            ]
          },
          "metadata": {
            "tags": []
          },
          "execution_count": 149
        }
      ]
    },
    {
      "cell_type": "markdown",
      "metadata": {
        "id": "wPpyjIWDSVNp"
      },
      "source": [
        "## Feature scaling \n"
      ]
    },
    {
      "cell_type": "code",
      "metadata": {
        "id": "a-QdoIvgACUp"
      },
      "source": [
        " data = new_df[ind_features]\n",
        " Y= new_df[dep_features]"
      ],
      "execution_count": 150,
      "outputs": []
    },
    {
      "cell_type": "code",
      "metadata": {
        "id": "f9sk1jk5SuVQ"
      },
      "source": [
        "# importing minmax scaler\n",
        "from sklearn.preprocessing import MinMaxScaler"
      ],
      "execution_count": 151,
      "outputs": []
    },
    {
      "cell_type": "code",
      "metadata": {
        "id": "JdhcnVqUS7iu"
      },
      "source": [
        "feature_scaler= MinMaxScaler()"
      ],
      "execution_count": 152,
      "outputs": []
    },
    {
      "cell_type": "code",
      "metadata": {
        "id": "qzT7cPkGTZwu"
      },
      "source": [
        "data = feature_scaler.fit_transform(data)"
      ],
      "execution_count": 153,
      "outputs": []
    },
    {
      "cell_type": "code",
      "metadata": {
        "id": "eikPYdiZUCAm",
        "colab": {
          "base_uri": "https://localhost:8080/"
        },
        "outputId": "8673f481-3e7e-4994-a3b1-b7fb11670ee0"
      },
      "source": [
        "data"
      ],
      "execution_count": 154,
      "outputs": [
        {
          "output_type": "execute_result",
          "data": {
            "text/plain": [
              "array([[0.66666667, 0.75      , 1.        , ..., 0.        , 0.        ,\n",
              "        0.        ],\n",
              "       [0.11111111, 0.75      , 0.        , ..., 0.        , 1.        ,\n",
              "        0.        ],\n",
              "       [0.22222222, 0.        , 0.75      , ..., 0.        , 0.        ,\n",
              "        0.        ],\n",
              "       ...,\n",
              "       [0.        , 0.        , 0.        , ..., 0.        , 0.        ,\n",
              "        0.        ],\n",
              "       [0.        , 0.        , 0.        , ..., 0.        , 0.        ,\n",
              "        0.        ],\n",
              "       [0.        , 0.        , 0.        , ..., 0.        , 0.        ,\n",
              "        0.        ]])"
            ]
          },
          "metadata": {
            "tags": []
          },
          "execution_count": 154
        }
      ]
    },
    {
      "cell_type": "markdown",
      "metadata": {
        "id": "yx9ingG0k3Bj"
      },
      "source": [
        "## Training the dataset \n"
      ]
    },
    {
      "cell_type": "code",
      "metadata": {
        "id": "cSwteXr5k2xl"
      },
      "source": [
        "from sklearn.model_selection import train_test_split"
      ],
      "execution_count": 155,
      "outputs": []
    },
    {
      "cell_type": "code",
      "metadata": {
        "id": "EphrKQtIk2sC"
      },
      "source": [
        "X_train,X_test,y_train,y_test = train_test_split(data,Y, test_size =0.2,random_state=0)\n"
      ],
      "execution_count": 156,
      "outputs": []
    },
    {
      "cell_type": "code",
      "metadata": {
        "id": "K2eP2eZTUCkG",
        "colab": {
          "base_uri": "https://localhost:8080/"
        },
        "outputId": "95a5dd40-14a1-4eb2-f636-0386363ca103"
      },
      "source": [
        "X_train.shape,X_test.shape"
      ],
      "execution_count": 157,
      "outputs": [
        {
          "output_type": "execute_result",
          "data": {
            "text/plain": [
              "((48946, 98), (12237, 98))"
            ]
          },
          "metadata": {
            "tags": []
          },
          "execution_count": 157
        }
      ]
    },
    {
      "cell_type": "markdown",
      "metadata": {
        "id": "KDaycX65mmX0"
      },
      "source": [
        "## Training model"
      ]
    },
    {
      "cell_type": "code",
      "metadata": {
        "id": "kTuxf7v91zlD"
      },
      "source": [
        "# importing all models from sklearn\n",
        "from sklearn.linear_model import LogisticRegression\n",
        "from sklearn.tree import DecisionTreeClassifier\n",
        "from sklearn.ensemble import RandomForestClassifier\n",
        "from sklearn.ensemble import GradientBoostingClassifier\n",
        "from xgboost import XGBClassifier\n",
        "from sklearn.svm import LinearSVC"
      ],
      "execution_count": 158,
      "outputs": []
    },
    {
      "cell_type": "code",
      "metadata": {
        "id": "_kFEnqSBSclz"
      },
      "source": [
        "# importing  metrics for evaluation  \n",
        "from sklearn.metrics import accuracy_score,confusion_matrix\n",
        "from sklearn.metrics import precision_score\n",
        "from sklearn.metrics import recall_score\n",
        "from sklearn.metrics import f1_score\n",
        "from sklearn.metrics import roc_auc_score\n",
        "from sklearn.metrics import roc_curve\n",
        "from sklearn.metrics import auc"
      ],
      "execution_count": 159,
      "outputs": []
    },
    {
      "cell_type": "code",
      "metadata": {
        "id": "fQN90EseDa6D"
      },
      "source": [
        "# import time module\n",
        "import time"
      ],
      "execution_count": 160,
      "outputs": []
    },
    {
      "cell_type": "code",
      "metadata": {
        "id": "io1N5GhQofGv"
      },
      "source": [
        "#declare the models\n",
        "lr_model=LogisticRegression()\n",
        "dt_model=DecisionTreeClassifier()\n",
        "rf_model=RandomForestClassifier()\n",
        "gbc_model=GradientBoostingClassifier()\n",
        "xgb_model=XGBClassifier()\n",
        "svc_model=LinearSVC()\n",
        "Mnb_model=MultinomialNB()\n",
        "\n",
        "\n",
        "#create a list of models\n",
        "models=[lr_model,svc_model,Mnb_model,dt_model,rf_model,gbc_model,xgb_model]\n",
        "\n",
        "#creating dictionay for storing the confustion matix\n",
        "dct_train={}\n",
        "dct_test={}\n",
        "lst_imp=[]\n",
        "# fuction for calculation the eveluation matrix\n",
        "def score_model(X_train,y_train,X_test,y_test):\n",
        "    df_columns=[]\n",
        "    df=pd.DataFrame(columns=df_columns)\n",
        "    i=0\n",
        "    #read model one by one\n",
        "    for model in models:\n",
        "        start = time.time()\n",
        "        model.fit(X_train,y_train)\n",
        "        end= time.time()\n",
        "        y_pred=model.predict(X_test)\n",
        "        y_pred_train=model.predict(X_train)\n",
        "        \n",
        "        #compute metrics\n",
        "        train_accuracy=accuracy_score(y_train,y_pred_train)\n",
        "        test_accuracy=accuracy_score(y_test,y_pred)\n",
        "        p_score_train=precision_score(y_train,y_pred_train)\n",
        "        p_score=precision_score(y_test,y_pred)\n",
        "        r_score_train=recall_score(y_train,y_pred_train)\n",
        "        r_score=recall_score(y_test,y_pred)\n",
        "        train_auc = roc_auc_score(y_train,y_pred_train)\n",
        "        test_auc = roc_auc_score(y_test,y_pred)\n",
        "        fp, tp, th = roc_curve(y_test, y_pred)\n",
        "        \n",
        "        #insert in dataframe\n",
        "        df.loc[i,\"Model_Name\"]=model.__class__.__name__\n",
        "        df.loc[i,\"Train_Accuracy\"]=round(train_accuracy*100,2)\n",
        "        df.loc[i,\"Test_Accuracy\"]=round(test_accuracy*100,2)\n",
        "        df.loc[i,\"Precision_Train\"]=round(p_score_train*100,2)\n",
        "        df.loc[i,\"Precision_Test\"]=round(p_score*100,2)\n",
        "        df.loc[i,\"Recall_Train\"]=round(r_score_train*100,2)\n",
        "        df.loc[i,\"Recall_test\"]=round(r_score*100,2)\n",
        "        df.loc[i,\"ROC_AUC_Train\"]=round(train_auc*100,2)\n",
        "        df.loc[i,\"ROC_AUC_Test\"]=round(test_auc*100,2)\n",
        "        df.loc[i,'AUC'] = auc(fp, tp)\n",
        "        df.loc[i,'MOdel_training_time ']= end-start\n",
        "        #inserted in dictionary\n",
        "        dct_train[model.__class__.__name__]=confusion_matrix(y_train,y_pred_train)\n",
        "        dct_test[model.__class__.__name__]=confusion_matrix(y_test,y_pred)\n",
        "\n",
        "        i+=1\n",
        "    # Return the data frame and dictionary\n",
        "    return df,dct_train,dct_test"
      ],
      "execution_count": 161,
      "outputs": []
    },
    {
      "cell_type": "code",
      "metadata": {
        "id": "seqm189PosYC"
      },
      "source": [
        "result_df,dct_train,dct_test=score_model(X_train,y_train,X_test,y_test)"
      ],
      "execution_count": 162,
      "outputs": []
    },
    {
      "cell_type": "code",
      "metadata": {
        "id": "C9ls1UejowAE",
        "colab": {
          "base_uri": "https://localhost:8080/",
          "height": 286
        },
        "outputId": "14df3b68-77dc-460e-bd6e-10d153d638f0"
      },
      "source": [
        "result_df"
      ],
      "execution_count": 163,
      "outputs": [
        {
          "output_type": "execute_result",
          "data": {
            "text/html": [
              "<div>\n",
              "<style scoped>\n",
              "    .dataframe tbody tr th:only-of-type {\n",
              "        vertical-align: middle;\n",
              "    }\n",
              "\n",
              "    .dataframe tbody tr th {\n",
              "        vertical-align: top;\n",
              "    }\n",
              "\n",
              "    .dataframe thead th {\n",
              "        text-align: right;\n",
              "    }\n",
              "</style>\n",
              "<table border=\"1\" class=\"dataframe\">\n",
              "  <thead>\n",
              "    <tr style=\"text-align: right;\">\n",
              "      <th></th>\n",
              "      <th>Model_Name</th>\n",
              "      <th>Train_Accuracy</th>\n",
              "      <th>Test_Accuracy</th>\n",
              "      <th>Precision_Train</th>\n",
              "      <th>Precision_Test</th>\n",
              "      <th>Recall_Train</th>\n",
              "      <th>Recall_test</th>\n",
              "      <th>ROC_AUC_Train</th>\n",
              "      <th>ROC_AUC_Test</th>\n",
              "      <th>AUC</th>\n",
              "      <th>MOdel_training_time</th>\n",
              "    </tr>\n",
              "  </thead>\n",
              "  <tbody>\n",
              "    <tr>\n",
              "      <th>0</th>\n",
              "      <td>LogisticRegression</td>\n",
              "      <td>95.52</td>\n",
              "      <td>95.30</td>\n",
              "      <td>95.26</td>\n",
              "      <td>95.17</td>\n",
              "      <td>95.37</td>\n",
              "      <td>94.95</td>\n",
              "      <td>95.52</td>\n",
              "      <td>95.29</td>\n",
              "      <td>0.952853</td>\n",
              "      <td>1.903780</td>\n",
              "    </tr>\n",
              "    <tr>\n",
              "      <th>1</th>\n",
              "      <td>LinearSVC</td>\n",
              "      <td>95.50</td>\n",
              "      <td>95.35</td>\n",
              "      <td>95.22</td>\n",
              "      <td>95.19</td>\n",
              "      <td>95.35</td>\n",
              "      <td>95.04</td>\n",
              "      <td>95.49</td>\n",
              "      <td>95.34</td>\n",
              "      <td>0.953360</td>\n",
              "      <td>0.998140</td>\n",
              "    </tr>\n",
              "    <tr>\n",
              "      <th>2</th>\n",
              "      <td>MultinomialNB</td>\n",
              "      <td>87.62</td>\n",
              "      <td>87.49</td>\n",
              "      <td>82.45</td>\n",
              "      <td>82.54</td>\n",
              "      <td>94.09</td>\n",
              "      <td>93.49</td>\n",
              "      <td>87.90</td>\n",
              "      <td>87.76</td>\n",
              "      <td>0.877628</td>\n",
              "      <td>0.025687</td>\n",
              "    </tr>\n",
              "    <tr>\n",
              "      <th>3</th>\n",
              "      <td>DecisionTreeClassifier</td>\n",
              "      <td>99.99</td>\n",
              "      <td>93.36</td>\n",
              "      <td>100.00</td>\n",
              "      <td>92.84</td>\n",
              "      <td>99.98</td>\n",
              "      <td>93.25</td>\n",
              "      <td>99.99</td>\n",
              "      <td>93.36</td>\n",
              "      <td>0.933594</td>\n",
              "      <td>1.160871</td>\n",
              "    </tr>\n",
              "    <tr>\n",
              "      <th>4</th>\n",
              "      <td>RandomForestClassifier</td>\n",
              "      <td>99.99</td>\n",
              "      <td>95.29</td>\n",
              "      <td>100.00</td>\n",
              "      <td>95.80</td>\n",
              "      <td>99.98</td>\n",
              "      <td>94.25</td>\n",
              "      <td>99.99</td>\n",
              "      <td>95.25</td>\n",
              "      <td>0.952454</td>\n",
              "      <td>8.838319</td>\n",
              "    </tr>\n",
              "    <tr>\n",
              "      <th>5</th>\n",
              "      <td>GradientBoostingClassifier</td>\n",
              "      <td>95.61</td>\n",
              "      <td>95.32</td>\n",
              "      <td>95.62</td>\n",
              "      <td>95.56</td>\n",
              "      <td>95.16</td>\n",
              "      <td>94.56</td>\n",
              "      <td>95.59</td>\n",
              "      <td>95.28</td>\n",
              "      <td>0.952829</td>\n",
              "      <td>25.823651</td>\n",
              "    </tr>\n",
              "    <tr>\n",
              "      <th>6</th>\n",
              "      <td>XGBClassifier</td>\n",
              "      <td>95.59</td>\n",
              "      <td>95.29</td>\n",
              "      <td>95.63</td>\n",
              "      <td>95.49</td>\n",
              "      <td>95.11</td>\n",
              "      <td>94.58</td>\n",
              "      <td>95.57</td>\n",
              "      <td>95.26</td>\n",
              "      <td>0.952603</td>\n",
              "      <td>10.930978</td>\n",
              "    </tr>\n",
              "  </tbody>\n",
              "</table>\n",
              "</div>"
            ],
            "text/plain": [
              "                   Model_Name  Train_Accuracy  ...       AUC  MOdel_training_time \n",
              "0          LogisticRegression           95.52  ...  0.952853              1.903780\n",
              "1                   LinearSVC           95.50  ...  0.953360              0.998140\n",
              "2               MultinomialNB           87.62  ...  0.877628              0.025687\n",
              "3      DecisionTreeClassifier           99.99  ...  0.933594              1.160871\n",
              "4      RandomForestClassifier           99.99  ...  0.952454              8.838319\n",
              "5  GradientBoostingClassifier           95.61  ...  0.952829             25.823651\n",
              "6               XGBClassifier           95.59  ...  0.952603             10.930978\n",
              "\n",
              "[7 rows x 11 columns]"
            ]
          },
          "metadata": {
            "tags": []
          },
          "execution_count": 163
        }
      ]
    },
    {
      "cell_type": "markdown",
      "metadata": {
        "id": "_sYxu8eflzyz"
      },
      "source": [
        "##Confusion Matrix for Train set"
      ]
    },
    {
      "cell_type": "code",
      "metadata": {
        "id": "eRVlVEnul_li",
        "colab": {
          "base_uri": "https://localhost:8080/",
          "height": 1000
        },
        "outputId": "5ef1415d-5737-484e-ba4e-16e8ee2c1b31"
      },
      "source": [
        "#confusion matrix of train set\n",
        "for key,value in dct_train.items():\n",
        "  print(f'Confusion matrix for {key}')\n",
        "  print(value)\n",
        "  sns.heatmap(value,annot=True)\n",
        "  plt.show()\n",
        "  print()"
      ],
      "execution_count": 164,
      "outputs": [
        {
          "output_type": "stream",
          "text": [
            "Confusion matrix for LogisticRegression\n",
            "[[24475  1109]\n",
            " [ 1082 22280]]\n"
          ],
          "name": "stdout"
        },
        {
          "output_type": "display_data",
          "data": {
            "image/png": "[encoded data removed]",
            "text/plain": [
              "<Figure size 432x288 with 2 Axes>"
            ]
          },
          "metadata": {
            "tags": [],
            "needs_background": "light"
          }
        },
        {
          "output_type": "stream",
          "text": [
            "\n",
            "Confusion matrix for LinearSVC\n",
            "[[24466  1118]\n",
            " [ 1086 22276]]\n"
          ],
          "name": "stdout"
        },
        {
          "output_type": "display_data",
          "data": {
            "image/png": "[encoded data removed]",
            "text/plain": [
              "<Figure size 432x288 with 2 Axes>"
            ]
          },
          "metadata": {
            "tags": [],
            "needs_background": "light"
          }
        },
        {
          "output_type": "stream",
          "text": [
            "\n",
            "Confusion matrix for MultinomialNB\n",
            "[[20904  4680]\n",
            " [ 1380 21982]]\n"
          ],
          "name": "stdout"
        },
        {
          "output_type": "display_data",
          "data": {
            "image/png": "[encoded data removed]",
            "text/plain": [
              "<Figure size 432x288 with 2 Axes>"
            ]
          },
          "metadata": {
            "tags": [],
            "needs_background": "light"
          }
        },
        {
          "output_type": "stream",
          "text": [
            "\n",
            "Confusion matrix for DecisionTreeClassifier\n",
            "[[25584     0]\n",
            " [    5 23357]]\n"
          ],
          "name": "stdout"
        },
        {
          "output_type": "display_data",
          "data": {
            "image/png": "[encoded data removed]",
            "text/plain": [
              "<Figure size 432x288 with 2 Axes>"
            ]
          },
          "metadata": {
            "tags": [],
            "needs_background": "light"
          }
        },
        {
          "output_type": "stream",
          "text": [
            "\n",
            "Confusion matrix for RandomForestClassifier\n",
            "[[25583     1]\n",
            " [    4 23358]]\n"
          ],
          "name": "stdout"
        },
        {
          "output_type": "display_data",
          "data": {
            "image/png": "[encoded data removed]",
            "text/plain": [
              "<Figure size 432x288 with 2 Axes>"
            ]
          },
          "metadata": {
            "tags": [],
            "needs_background": "light"
          }
        },
        {
          "output_type": "stream",
          "text": [
            "\n",
            "Confusion matrix for GradientBoostingClassifier\n",
            "[[24565  1019]\n",
            " [ 1131 22231]]\n"
          ],
          "name": "stdout"
        },
        {
          "output_type": "display_data",
          "data": {
            "image/png": "[encoded data removed]",
            "text/plain": [
              "<Figure size 432x288 with 2 Axes>"
            ]
          },
          "metadata": {
            "tags": [],
            "needs_background": "light"
          }
        },
        {
          "output_type": "stream",
          "text": [
            "\n",
            "Confusion matrix for XGBClassifier\n",
            "[[24569  1015]\n",
            " [ 1142 22220]]\n"
          ],
          "name": "stdout"
        },
        {
          "output_type": "display_data",
          "data": {
            "image/png": "[encoded data removed]",
            "text/plain": [
              "<Figure size 432x288 with 2 Axes>"
            ]
          },
          "metadata": {
            "tags": [],
            "needs_background": "light"
          }
        },
        {
          "output_type": "stream",
          "text": [
            "\n"
          ],
          "name": "stdout"
        }
      ]
    },
    {
      "cell_type": "markdown",
      "metadata": {
        "id": "03VOO8sDnWhJ"
      },
      "source": [
        "### Confusion matrix for test dataset"
      ]
    },
    {
      "cell_type": "code",
      "metadata": {
        "id": "vCEvNjWZZ3NB",
        "colab": {
          "base_uri": "https://localhost:8080/",
          "height": 1000
        },
        "outputId": "b8cef800-88f5-4c1e-9c9f-cb5ba2a563ce"
      },
      "source": [
        "for key,value in dct_test.items():\n",
        "  print(f' Confusion matrix for {key}  ')\n",
        "  print(value)\n",
        "  sns.heatmap(value,annot=True)\n",
        "  plt.show()\n",
        "  print()"
      ],
      "execution_count": 165,
      "outputs": [
        {
          "output_type": "stream",
          "text": [
            " Confusion matrix for LogisticRegression  \n",
            "[[6130  281]\n",
            " [ 294 5532]]\n"
          ],
          "name": "stdout"
        },
        {
          "output_type": "display_data",
          "data": {
            "image/png": "[encoded data removed]",
            "text/plain": [
              "<Figure size 432x288 with 2 Axes>"
            ]
          },
          "metadata": {
            "tags": [],
            "needs_background": "light"
          }
        },
        {
          "output_type": "stream",
          "text": [
            "\n",
            " Confusion matrix for LinearSVC  \n",
            "[[6131  280]\n",
            " [ 289 5537]]\n"
          ],
          "name": "stdout"
        },
        {
          "output_type": "display_data",
          "data": {
            "image/png": "[encoded data removed]",
            "text/plain": [
              "<Figure size 432x288 with 2 Axes>"
            ]
          },
          "metadata": {
            "tags": [],
            "needs_background": "light"
          }
        },
        {
          "output_type": "stream",
          "text": [
            "\n",
            " Confusion matrix for MultinomialNB  \n",
            "[[5259 1152]\n",
            " [ 379 5447]]\n"
          ],
          "name": "stdout"
        },
        {
          "output_type": "display_data",
          "data": {
            "image/png": "[encoded data removed]",
            "text/plain": [
              "<Figure size 432x288 with 2 Axes>"
            ]
          },
          "metadata": {
            "tags": [],
            "needs_background": "light"
          }
        },
        {
          "output_type": "stream",
          "text": [
            "\n",
            " Confusion matrix for DecisionTreeClassifier  \n",
            "[[5992  419]\n",
            " [ 393 5433]]\n"
          ],
          "name": "stdout"
        },
        {
          "output_type": "display_data",
          "data": {
            "image/png": "[encoded data removed]",
            "text/plain": [
              "<Figure size 432x288 with 2 Axes>"
            ]
          },
          "metadata": {
            "tags": [],
            "needs_background": "light"
          }
        },
        {
          "output_type": "stream",
          "text": [
            "\n",
            " Confusion matrix for RandomForestClassifier  \n",
            "[[6170  241]\n",
            " [ 335 5491]]\n"
          ],
          "name": "stdout"
        },
        {
          "output_type": "display_data",
          "data": {
            "image/png": "[encoded data removed]",
            "text/plain": [
              "<Figure size 432x288 with 2 Axes>"
            ]
          },
          "metadata": {
            "tags": [],
            "needs_background": "light"
          }
        },
        {
          "output_type": "stream",
          "text": [
            "\n",
            " Confusion matrix for GradientBoostingClassifier  \n",
            "[[6155  256]\n",
            " [ 317 5509]]\n"
          ],
          "name": "stdout"
        },
        {
          "output_type": "display_data",
          "data": {
            "image/png": "[encoded data removed]",
            "text/plain": [
              "<Figure size 432x288 with 2 Axes>"
            ]
          },
          "metadata": {
            "tags": [],
            "needs_background": "light"
          }
        },
        {
          "output_type": "stream",
          "text": [
            "\n",
            " Confusion matrix for XGBClassifier  \n",
            "[[6151  260]\n",
            " [ 316 5510]]\n"
          ],
          "name": "stdout"
        },
        {
          "output_type": "display_data",
          "data": {
            "image/png": "[encoded data removed]",
            "text/plain": [
              "<Figure size 432x288 with 2 Axes>"
            ]
          },
          "metadata": {
            "tags": [],
            "needs_background": "light"
          }
        },
        {
          "output_type": "stream",
          "text": [
            "\n"
          ],
          "name": "stdout"
        }
      ]
    },
    {
      "cell_type": "markdown",
      "metadata": {
        "id": "SdJfVFY7CGrp"
      },
      "source": [
        "## Cross validation and Hyperparameter  tuning"
      ]
    },
    {
      "cell_type": "code",
      "metadata": {
        "id": "otnN0XJtCkEn"
      },
      "source": [
        "from sklearn.model_selection import GridSearchCV\n",
        "from sklearn.model_selection import cross_val_score"
      ],
      "execution_count": 166,
      "outputs": []
    },
    {
      "cell_type": "markdown",
      "metadata": {
        "id": "AJpGO5MHtCED"
      },
      "source": [
        "####Logistic Regression"
      ]
    },
    {
      "cell_type": "markdown",
      "metadata": {
        "id": "8okp2T0iH7fm"
      },
      "source": [
        "###cross validation"
      ]
    },
    {
      "cell_type": "code",
      "metadata": {
        "colab": {
          "base_uri": "https://localhost:8080/"
        },
        "id": "LGqsZWpbICcL",
        "outputId": "60d64ef7-7458-4b3a-b922-9f5a242fb66e"
      },
      "source": [
        "accuracy = cross_val_score(lr_model, X_train, y_train, scoring='accuracy', cv = 10)\n",
        "print(accuracy)\n",
        "\n",
        "\n"
      ],
      "execution_count": 167,
      "outputs": [
        {
          "output_type": "stream",
          "text": [
            "/usr/local/lib/python3.7/dist-packages/sklearn/linear_model/_logistic.py:940: ConvergenceWarning: lbfgs failed to converge (status=1):\n",
            "STOP: TOTAL NO. of ITERATIONS REACHED LIMIT.\n",
            "\n",
            "Increase the number of iterations (max_iter) or scale the data as shown in:\n",
            "    https://scikit-learn.org/stable/modules/preprocessing.html\n",
            "Please also refer to the documentation for alternative solver options:\n",
            "    https://scikit-learn.org/stable/modules/linear_model.html#logistic-regression\n",
            "  extra_warning_msg=_LOGISTIC_SOLVER_CONVERGENCE_MSG)\n"
          ],
          "name": "stderr"
        },
        {
          "output_type": "stream",
          "text": [
            "[0.94954035 0.95321757 0.95342186 0.9526047  0.96057201 0.95444331\n",
            " 0.95177769 0.95729465 0.95647732 0.95463833]\n"
          ],
          "name": "stdout"
        }
      ]
    },
    {
      "cell_type": "code",
      "metadata": {
        "colab": {
          "base_uri": "https://localhost:8080/"
        },
        "id": "bA1y_2QAHyJf",
        "outputId": "5746e61c-4608-4eef-cbc1-c3f8d0ad9083"
      },
      "source": [
        "#get the mean of each fold \n",
        "print(\"Accuracy of Model with Cross Validation is:\",accuracy.mean() * 100)"
      ],
      "execution_count": 168,
      "outputs": [
        {
          "output_type": "stream",
          "text": [
            "Accuracy of Model with Cross Validation is: 95.43987780998016\n"
          ],
          "name": "stdout"
        }
      ]
    },
    {
      "cell_type": "code",
      "metadata": {
        "id": "sjpKLCt2sTQJ",
        "colab": {
          "base_uri": "https://localhost:8080/"
        },
        "outputId": "aa5454c3-74f4-40ec-c20d-e384eb6944ea"
      },
      "source": [
        "lr_model = LogisticRegression(random_state= 4)\n",
        "parameters ={\"C\":[1e-9,1e-6,1e-3,1e-2,1e-1,1,1e2,1e3,1e6]}\n",
        "lr_model_cv= GridSearchCV(lr_model,parameters,cv=4)\n",
        "lr_model_cv.fit(X_train,y_train)"
      ],
      "execution_count": 169,
      "outputs": [
        {
          "output_type": "stream",
          "text": [
            "/usr/local/lib/python3.7/dist-packages/sklearn/linear_model/_logistic.py:940: ConvergenceWarning: lbfgs failed to converge (status=1):\n",
            "STOP: TOTAL NO. of ITERATIONS REACHED LIMIT.\n",
            "\n",
            "Increase the number of iterations (max_iter) or scale the data as shown in:\n",
            "    https://scikit-learn.org/stable/modules/preprocessing.html\n",
            "Please also refer to the documentation for alternative solver options:\n",
            "    https://scikit-learn.org/stable/modules/linear_model.html#logistic-regression\n",
            "  extra_warning_msg=_LOGISTIC_SOLVER_CONVERGENCE_MSG)\n",
            "/usr/local/lib/python3.7/dist-packages/sklearn/linear_model/_logistic.py:940: ConvergenceWarning: lbfgs failed to converge (status=1):\n",
            "STOP: TOTAL NO. of ITERATIONS REACHED LIMIT.\n",
            "\n",
            "Increase the number of iterations (max_iter) or scale the data as shown in:\n",
            "    https://scikit-learn.org/stable/modules/preprocessing.html\n",
            "Please also refer to the documentation for alternative solver options:\n",
            "    https://scikit-learn.org/stable/modules/linear_model.html#logistic-regression\n",
            "  extra_warning_msg=_LOGISTIC_SOLVER_CONVERGENCE_MSG)\n",
            "/usr/local/lib/python3.7/dist-packages/sklearn/linear_model/_logistic.py:940: ConvergenceWarning: lbfgs failed to converge (status=1):\n",
            "STOP: TOTAL NO. of ITERATIONS REACHED LIMIT.\n",
            "\n",
            "Increase the number of iterations (max_iter) or scale the data as shown in:\n",
            "    https://scikit-learn.org/stable/modules/preprocessing.html\n",
            "Please also refer to the documentation for alternative solver options:\n",
            "    https://scikit-learn.org/stable/modules/linear_model.html#logistic-regression\n",
            "  extra_warning_msg=_LOGISTIC_SOLVER_CONVERGENCE_MSG)\n",
            "/usr/local/lib/python3.7/dist-packages/sklearn/linear_model/_logistic.py:940: ConvergenceWarning: lbfgs failed to converge (status=1):\n",
            "STOP: TOTAL NO. of ITERATIONS REACHED LIMIT.\n",
            "\n",
            "Increase the number of iterations (max_iter) or scale the data as shown in:\n",
            "    https://scikit-learn.org/stable/modules/preprocessing.html\n",
            "Please also refer to the documentation for alternative solver options:\n",
            "    https://scikit-learn.org/stable/modules/linear_model.html#logistic-regression\n",
            "  extra_warning_msg=_LOGISTIC_SOLVER_CONVERGENCE_MSG)\n",
            "/usr/local/lib/python3.7/dist-packages/sklearn/linear_model/_logistic.py:940: ConvergenceWarning: lbfgs failed to converge (status=1):\n",
            "STOP: TOTAL NO. of ITERATIONS REACHED LIMIT.\n",
            "\n",
            "Increase the number of iterations (max_iter) or scale the data as shown in:\n",
            "    https://scikit-learn.org/stable/modules/preprocessing.html\n",
            "Please also refer to the documentation for alternative solver options:\n",
            "    https://scikit-learn.org/stable/modules/linear_model.html#logistic-regression\n",
            "  extra_warning_msg=_LOGISTIC_SOLVER_CONVERGENCE_MSG)\n",
            "/usr/local/lib/python3.7/dist-packages/sklearn/linear_model/_logistic.py:940: ConvergenceWarning: lbfgs failed to converge (status=1):\n",
            "STOP: TOTAL NO. of ITERATIONS REACHED LIMIT.\n",
            "\n",
            "Increase the number of iterations (max_iter) or scale the data as shown in:\n",
            "    https://scikit-learn.org/stable/modules/preprocessing.html\n",
            "Please also refer to the documentation for alternative solver options:\n",
            "    https://scikit-learn.org/stable/modules/linear_model.html#logistic-regression\n",
            "  extra_warning_msg=_LOGISTIC_SOLVER_CONVERGENCE_MSG)\n"
          ],
          "name": "stderr"
        },
        {
          "output_type": "execute_result",
          "data": {
            "text/plain": [
              "GridSearchCV(cv=4, error_score=nan,\n",
              "             estimator=LogisticRegression(C=1.0, class_weight=None, dual=False,\n",
              "                                          fit_intercept=True,\n",
              "                                          intercept_scaling=1, l1_ratio=None,\n",
              "                                          max_iter=100, multi_class='auto',\n",
              "                                          n_jobs=None, penalty='l2',\n",
              "                                          random_state=4, solver='lbfgs',\n",
              "                                          tol=0.0001, verbose=0,\n",
              "                                          warm_start=False),\n",
              "             iid='deprecated', n_jobs=None,\n",
              "             param_grid={'C': [1e-09, 1e-06, 0.001, 0.01, 0.1, 1, 100.0, 1000.0,\n",
              "                               1000000.0]},\n",
              "             pre_dispatch='2*n_jobs', refit=True, return_train_score=False,\n",
              "             scoring=None, verbose=0)"
            ]
          },
          "metadata": {
            "tags": []
          },
          "execution_count": 169
        }
      ]
    },
    {
      "cell_type": "code",
      "metadata": {
        "id": "MKh2DpP0ulBd",
        "colab": {
          "base_uri": "https://localhost:8080/"
        },
        "outputId": "57e4dfd2-1a2b-4c64-da0a-e074699d352f"
      },
      "source": [
        "lr_model_cv.best_params_"
      ],
      "execution_count": 170,
      "outputs": [
        {
          "output_type": "execute_result",
          "data": {
            "text/plain": [
              "{'C': 100.0}"
            ]
          },
          "metadata": {
            "tags": []
          },
          "execution_count": 170
        }
      ]
    },
    {
      "cell_type": "code",
      "metadata": {
        "id": "8EdUg0X0u8T0"
      },
      "source": [
        "y_test_pred = lr_model_cv.predict(X_test)"
      ],
      "execution_count": 171,
      "outputs": []
    },
    {
      "cell_type": "code",
      "metadata": {
        "id": "21Iv1_3GveZR",
        "colab": {
          "base_uri": "https://localhost:8080/"
        },
        "outputId": "49d7810b-b758-4c0e-8a3d-220c96319a20"
      },
      "source": [
        "accuracy_score(y_test,y_test_pred)"
      ],
      "execution_count": 172,
      "outputs": [
        {
          "output_type": "execute_result",
          "data": {
            "text/plain": [
              "0.9532565171202092"
            ]
          },
          "metadata": {
            "tags": []
          },
          "execution_count": 172
        }
      ]
    },
    {
      "cell_type": "code",
      "metadata": {
        "id": "lXUMCbIRveTU",
        "colab": {
          "base_uri": "https://localhost:8080/"
        },
        "outputId": "6d855c2f-1ecf-4cdb-b968-42235c850634"
      },
      "source": [
        "print(confusion_matrix(y_test,y_test_pred))"
      ],
      "execution_count": 173,
      "outputs": [
        {
          "output_type": "stream",
          "text": [
            "[[6134  277]\n",
            " [ 295 5531]]\n"
          ],
          "name": "stdout"
        }
      ]
    },
    {
      "cell_type": "code",
      "metadata": {
        "id": "lKseFgF1vx51"
      },
      "source": [
        ""
      ],
      "execution_count": 173,
      "outputs": []
    },
    {
      "cell_type": "markdown",
      "metadata": {
        "id": "lqjPvUEpFvXz"
      },
      "source": [
        "###Random forest"
      ]
    },
    {
      "cell_type": "code",
      "metadata": {
        "id": "tr-2Q_NXFusY"
      },
      "source": [
        "rf_model=RandomForestClassifier(random_state =10)\n"
      ],
      "execution_count": 174,
      "outputs": []
    },
    {
      "cell_type": "code",
      "metadata": {
        "id": "951XIBUCyDSj",
        "colab": {
          "base_uri": "https://localhost:8080/"
        },
        "outputId": "0769070d-020b-40fc-e20f-0651220ae901"
      },
      "source": [
        "rf_model"
      ],
      "execution_count": 175,
      "outputs": [
        {
          "output_type": "execute_result",
          "data": {
            "text/plain": [
              "RandomForestClassifier(bootstrap=True, ccp_alpha=0.0, class_weight=None,\n",
              "                       criterion='gini', max_depth=None, max_features='auto',\n",
              "                       max_leaf_nodes=None, max_samples=None,\n",
              "                       min_impurity_decrease=0.0, min_impurity_split=None,\n",
              "                       min_samples_leaf=1, min_samples_split=2,\n",
              "                       min_weight_fraction_leaf=0.0, n_estimators=100,\n",
              "                       n_jobs=None, oob_score=False, random_state=10, verbose=0,\n",
              "                       warm_start=False)"
            ]
          },
          "metadata": {
            "tags": []
          },
          "execution_count": 175
        }
      ]
    },
    {
      "cell_type": "code",
      "metadata": {
        "id": "oIVsbWf2Fum3"
      },
      "source": [
        "\n",
        "# Maximum number of levels in tree\n",
        "max_depth = [int(x) for x in np.linspace(50, 70, num = 4)]\n",
        "max_depth.append(None)\n",
        "# Minimum number of samples required to split a node\n",
        "min_samples_split = [2, 5]\n",
        "# Minimum number of samples required at each leaf node\n",
        "min_samples_leaf = [1, 2, 4]\n"
      ],
      "execution_count": 176,
      "outputs": []
    },
    {
      "cell_type": "code",
      "metadata": {
        "id": "J4qx1iczxSiK"
      },
      "source": [
        "param = {'max_depth':max_depth,'min_samples_split':min_samples_split,'min_samples_leaf':min_samples_leaf,}"
      ],
      "execution_count": 177,
      "outputs": []
    },
    {
      "cell_type": "code",
      "metadata": {
        "id": "aTTsgNUfEO8-",
        "colab": {
          "base_uri": "https://localhost:8080/"
        },
        "outputId": "9e7b2c55-4217-4496-b47d-131d2c5334c1"
      },
      "source": [
        "param"
      ],
      "execution_count": 178,
      "outputs": [
        {
          "output_type": "execute_result",
          "data": {
            "text/plain": [
              "{'max_depth': [50, 56, 63, 70, None],\n",
              " 'min_samples_leaf': [1, 2, 4],\n",
              " 'min_samples_split': [2, 5]}"
            ]
          },
          "metadata": {
            "tags": []
          },
          "execution_count": 178
        }
      ]
    },
    {
      "cell_type": "code",
      "metadata": {
        "id": "ElA93OZqyQGP",
        "colab": {
          "base_uri": "https://localhost:8080/"
        },
        "outputId": "c956d302-4129-4945-a0a8-df21785b8a67"
      },
      "source": [
        "rf_model_cv= GridSearchCV(rf_model,param,cv=4)\n",
        "rf_model_cv.fit(X_train,y_train)"
      ],
      "execution_count": 179,
      "outputs": [
        {
          "output_type": "execute_result",
          "data": {
            "text/plain": [
              "GridSearchCV(cv=4, error_score=nan,\n",
              "             estimator=RandomForestClassifier(bootstrap=True, ccp_alpha=0.0,\n",
              "                                              class_weight=None,\n",
              "                                              criterion='gini', max_depth=None,\n",
              "                                              max_features='auto',\n",
              "                                              max_leaf_nodes=None,\n",
              "                                              max_samples=None,\n",
              "                                              min_impurity_decrease=0.0,\n",
              "                                              min_impurity_split=None,\n",
              "                                              min_samples_leaf=1,\n",
              "                                              min_samples_split=2,\n",
              "                                              min_weight_fraction_leaf=0.0,\n",
              "                                              n_estimators=100, n_jobs=None,\n",
              "                                              oob_score=False, random_state=10,\n",
              "                                              verbose=0, warm_start=False),\n",
              "             iid='deprecated', n_jobs=None,\n",
              "             param_grid={'max_depth': [50, 56, 63, 70, None],\n",
              "                         'min_samples_leaf': [1, 2, 4],\n",
              "                         'min_samples_split': [2, 5]},\n",
              "             pre_dispatch='2*n_jobs', refit=True, return_train_score=False,\n",
              "             scoring=None, verbose=0)"
            ]
          },
          "metadata": {
            "tags": []
          },
          "execution_count": 179
        }
      ]
    },
    {
      "cell_type": "code",
      "metadata": {
        "id": "9SWn03lTyf9t"
      },
      "source": [
        "best = rf_model_cv.best_params_"
      ],
      "execution_count": 180,
      "outputs": []
    },
    {
      "cell_type": "code",
      "metadata": {
        "id": "bGOSAH1rKST_"
      },
      "source": [
        "y_test_predrf = rf_model_cv.predict(X_test)"
      ],
      "execution_count": 181,
      "outputs": []
    },
    {
      "cell_type": "code",
      "metadata": {
        "id": "irGLI8xaKuU3",
        "colab": {
          "base_uri": "https://localhost:8080/"
        },
        "outputId": "49d097f6-8d1b-4f55-ec69-68ca559ad5c2"
      },
      "source": [
        "accuracy_score(y_test,y_test_predrf)"
      ],
      "execution_count": 182,
      "outputs": [
        {
          "output_type": "execute_result",
          "data": {
            "text/plain": [
              "0.9539102721255209"
            ]
          },
          "metadata": {
            "tags": []
          },
          "execution_count": 182
        }
      ]
    },
    {
      "cell_type": "code",
      "metadata": {
        "id": "xfQs0qJPKe1_",
        "colab": {
          "base_uri": "https://localhost:8080/"
        },
        "outputId": "7dfc3456-bcd3-4f9f-fb57-c2fbd531e901"
      },
      "source": [
        "print(confusion_matrix(y_test,y_test_predrf))"
      ],
      "execution_count": 183,
      "outputs": [
        {
          "output_type": "stream",
          "text": [
            "[[6168  243]\n",
            " [ 321 5505]]\n"
          ],
          "name": "stdout"
        }
      ]
    },
    {
      "cell_type": "markdown",
      "metadata": {
        "id": "uxnvwbPsMrzm"
      },
      "source": [
        "##Working on Anomaly"
      ]
    },
    {
      "cell_type": "markdown",
      "metadata": {
        "id": "Q0GPiA40rTYR"
      },
      "source": [
        "### finding anomaly in overall feature with respect to recommended"
      ]
    },
    {
      "cell_type": "markdown",
      "metadata": {
        "id": "fnzs5f9jhr5K"
      },
      "source": [
        "Finding overall values which are wrongly classified as (1,2) where there average is higher than 2.\n",
        "\n",
        "Replacing these values as 2* avg_value\n",
        "\n"
      ]
    },
    {
      "cell_type": "code",
      "metadata": {
        "id": "zEI3_KYkUr9f"
      },
      "source": [
        "wrong_overall = (main_df['Avg_num']>2) & (main_df['recommended']=='yes') & (main_df['overall']<=2)"
      ],
      "execution_count": 184,
      "outputs": []
    },
    {
      "cell_type": "code",
      "metadata": {
        "id": "yUti2OdUppQi"
      },
      "source": [
        "# replacing overall value to 2* avg value\n",
        "main_df.loc[wrong_overall,'overall'] = main_df.loc[wrong_overall,'Avg_num']*2 "
      ],
      "execution_count": 185,
      "outputs": []
    },
    {
      "cell_type": "markdown",
      "metadata": {
        "id": "wpKUteRVrmzd"
      },
      "source": [
        "## working more on anomility"
      ]
    },
    {
      "cell_type": "code",
      "metadata": {
        "id": "1jYz7KTgZ3GH",
        "colab": {
          "base_uri": "https://localhost:8080/",
          "height": 796
        },
        "outputId": "02db4427-4497-4341-cb36-86c6d87f6de0"
      },
      "source": [
        "# trying to find all those values which have low over all value\n",
        "# and recommended is yes\n",
        "main_df[(main_df['overall']<= 2) & (main_df['recommended']==1)]"
      ],
      "execution_count": 186,
      "outputs": [
        {
          "output_type": "execute_result",
          "data": {
            "text/html": [
              "<div>\n",
              "<style scoped>\n",
              "    .dataframe tbody tr th:only-of-type {\n",
              "        vertical-align: middle;\n",
              "    }\n",
              "\n",
              "    .dataframe tbody tr th {\n",
              "        vertical-align: top;\n",
              "    }\n",
              "\n",
              "    .dataframe thead th {\n",
              "        text-align: right;\n",
              "    }\n",
              "</style>\n",
              "<table border=\"1\" class=\"dataframe\">\n",
              "  <thead>\n",
              "    <tr style=\"text-align: right;\">\n",
              "      <th></th>\n",
              "      <th>airline</th>\n",
              "      <th>overall</th>\n",
              "      <th>customer_review</th>\n",
              "      <th>traveller_type</th>\n",
              "      <th>cabin</th>\n",
              "      <th>seat_comfort</th>\n",
              "      <th>cabin_service</th>\n",
              "      <th>food_bev</th>\n",
              "      <th>entertainment</th>\n",
              "      <th>ground_service</th>\n",
              "      <th>value_for_money</th>\n",
              "      <th>recommended</th>\n",
              "      <th>Avg_num</th>\n",
              "      <th>polarity</th>\n",
              "    </tr>\n",
              "  </thead>\n",
              "  <tbody>\n",
              "    <tr>\n",
              "      <th>207</th>\n",
              "      <td>Turkish Airlines</td>\n",
              "      <td>2.0</td>\n",
              "      <td>âœ… Trip Verified | Belgrade to Kiev via Istan...</td>\n",
              "      <td>Solo Leisure</td>\n",
              "      <td>Economy Class</td>\n",
              "      <td>5.0</td>\n",
              "      <td>5.0</td>\n",
              "      <td>4.0</td>\n",
              "      <td>4.0</td>\n",
              "      <td>4.0</td>\n",
              "      <td>2.0</td>\n",
              "      <td>1</td>\n",
              "      <td>4.0</td>\n",
              "      <td>-0.3257</td>\n",
              "    </tr>\n",
              "    <tr>\n",
              "      <th>1155</th>\n",
              "      <td>Turkish Airlines</td>\n",
              "      <td>2.0</td>\n",
              "      <td>âœ… Verified Review | Munich to Istanbul. The ...</td>\n",
              "      <td>NaN</td>\n",
              "      <td>NaN</td>\n",
              "      <td>3.0</td>\n",
              "      <td>3.0</td>\n",
              "      <td>3.0</td>\n",
              "      <td>3.0</td>\n",
              "      <td>3.0</td>\n",
              "      <td>3.0</td>\n",
              "      <td>1</td>\n",
              "      <td>3.0</td>\n",
              "      <td>0.0000</td>\n",
              "    </tr>\n",
              "    <tr>\n",
              "      <th>1453</th>\n",
              "      <td>Turkish Airlines</td>\n",
              "      <td>1.0</td>\n",
              "      <td>25 hours before the departure, Turkish Airline...</td>\n",
              "      <td>Solo Leisure</td>\n",
              "      <td>Business Class</td>\n",
              "      <td>3.0</td>\n",
              "      <td>3.0</td>\n",
              "      <td>3.0</td>\n",
              "      <td>3.0</td>\n",
              "      <td>1.0</td>\n",
              "      <td>1.0</td>\n",
              "      <td>1</td>\n",
              "      <td>2.0</td>\n",
              "      <td>-0.3400</td>\n",
              "    </tr>\n",
              "    <tr>\n",
              "      <th>1657</th>\n",
              "      <td>Turkish Airlines</td>\n",
              "      <td>1.0</td>\n",
              "      <td>Dublin to Jakarta via Istanbul. A total shambl...</td>\n",
              "      <td>Solo Leisure</td>\n",
              "      <td>Business Class</td>\n",
              "      <td>1.0</td>\n",
              "      <td>2.0</td>\n",
              "      <td>2.0</td>\n",
              "      <td>1.0</td>\n",
              "      <td>1.0</td>\n",
              "      <td>2.0</td>\n",
              "      <td>1</td>\n",
              "      <td>1.0</td>\n",
              "      <td>-0.9761</td>\n",
              "    </tr>\n",
              "    <tr>\n",
              "      <th>1845</th>\n",
              "      <td>Turkish Airlines</td>\n",
              "      <td>2.0</td>\n",
              "      <td>Rome to Istanbul, and when this flight landed ...</td>\n",
              "      <td>Couple Leisure</td>\n",
              "      <td>Economy Class</td>\n",
              "      <td>4.0</td>\n",
              "      <td>1.0</td>\n",
              "      <td>3.0</td>\n",
              "      <td>3.0</td>\n",
              "      <td>5.0</td>\n",
              "      <td>2.0</td>\n",
              "      <td>1</td>\n",
              "      <td>3.0</td>\n",
              "      <td>-0.8706</td>\n",
              "    </tr>\n",
              "    <tr>\n",
              "      <th>...</th>\n",
              "      <td>...</td>\n",
              "      <td>...</td>\n",
              "      <td>...</td>\n",
              "      <td>...</td>\n",
              "      <td>...</td>\n",
              "      <td>...</td>\n",
              "      <td>...</td>\n",
              "      <td>...</td>\n",
              "      <td>...</td>\n",
              "      <td>...</td>\n",
              "      <td>...</td>\n",
              "      <td>...</td>\n",
              "      <td>...</td>\n",
              "      <td>...</td>\n",
              "    </tr>\n",
              "    <tr>\n",
              "      <th>123702</th>\n",
              "      <td>Aer Lingus</td>\n",
              "      <td>1.0</td>\n",
              "      <td>âœ… Trip Verified | Seattle to Birmingham via ...</td>\n",
              "      <td>NaN</td>\n",
              "      <td>NaN</td>\n",
              "      <td>3.0</td>\n",
              "      <td>3.0</td>\n",
              "      <td>3.0</td>\n",
              "      <td>3.0</td>\n",
              "      <td>3.0</td>\n",
              "      <td>3.0</td>\n",
              "      <td>1</td>\n",
              "      <td>3.0</td>\n",
              "      <td>-0.8687</td>\n",
              "    </tr>\n",
              "    <tr>\n",
              "      <th>125468</th>\n",
              "      <td>Alaska Airlines</td>\n",
              "      <td>2.0</td>\n",
              "      <td>âœ… Trip Verified | Maui to Seattle. In the th...</td>\n",
              "      <td>Family Leisure</td>\n",
              "      <td>Business Class</td>\n",
              "      <td>2.0</td>\n",
              "      <td>2.0</td>\n",
              "      <td>3.0</td>\n",
              "      <td>3.0</td>\n",
              "      <td>2.0</td>\n",
              "      <td>2.0</td>\n",
              "      <td>1</td>\n",
              "      <td>2.0</td>\n",
              "      <td>-0.7962</td>\n",
              "    </tr>\n",
              "    <tr>\n",
              "      <th>127182</th>\n",
              "      <td>Norwegian</td>\n",
              "      <td>2.0</td>\n",
              "      <td>âœ… Trip Verified | Copenhagen to Helsinki. Fl...</td>\n",
              "      <td>Solo Leisure</td>\n",
              "      <td>Economy Class</td>\n",
              "      <td>4.0</td>\n",
              "      <td>1.0</td>\n",
              "      <td>2.0</td>\n",
              "      <td>3.0</td>\n",
              "      <td>4.0</td>\n",
              "      <td>4.0</td>\n",
              "      <td>1</td>\n",
              "      <td>3.0</td>\n",
              "      <td>0.0000</td>\n",
              "    </tr>\n",
              "    <tr>\n",
              "      <th>128936</th>\n",
              "      <td>Norwegian</td>\n",
              "      <td>2.0</td>\n",
              "      <td>CPH-LGW-CPH same day. Obama in CPH and snowsto...</td>\n",
              "      <td>NaN</td>\n",
              "      <td>Economy Class</td>\n",
              "      <td>3.0</td>\n",
              "      <td>3.0</td>\n",
              "      <td>3.0</td>\n",
              "      <td>3.0</td>\n",
              "      <td>3.0</td>\n",
              "      <td>4.0</td>\n",
              "      <td>1</td>\n",
              "      <td>3.0</td>\n",
              "      <td>0.3182</td>\n",
              "    </tr>\n",
              "    <tr>\n",
              "      <th>129824</th>\n",
              "      <td>Kuwait Airways</td>\n",
              "      <td>1.0</td>\n",
              "      <td>I travelled from New York JFK to Kuwait via Lo...</td>\n",
              "      <td>NaN</td>\n",
              "      <td>NaN</td>\n",
              "      <td>3.0</td>\n",
              "      <td>3.0</td>\n",
              "      <td>3.0</td>\n",
              "      <td>3.0</td>\n",
              "      <td>3.0</td>\n",
              "      <td>3.0</td>\n",
              "      <td>1</td>\n",
              "      <td>3.0</td>\n",
              "      <td>-0.6808</td>\n",
              "    </tr>\n",
              "  </tbody>\n",
              "</table>\n",
              "<p>171 rows × 14 columns</p>\n",
              "</div>"
            ],
            "text/plain": [
              "                 airline  overall  ... Avg_num polarity\n",
              "207     Turkish Airlines      2.0  ...     4.0  -0.3257\n",
              "1155    Turkish Airlines      2.0  ...     3.0   0.0000\n",
              "1453    Turkish Airlines      1.0  ...     2.0  -0.3400\n",
              "1657    Turkish Airlines      1.0  ...     1.0  -0.9761\n",
              "1845    Turkish Airlines      2.0  ...     3.0  -0.8706\n",
              "...                  ...      ...  ...     ...      ...\n",
              "123702        Aer Lingus      1.0  ...     3.0  -0.8687\n",
              "125468   Alaska Airlines      2.0  ...     2.0  -0.7962\n",
              "127182         Norwegian      2.0  ...     3.0   0.0000\n",
              "128936         Norwegian      2.0  ...     3.0   0.3182\n",
              "129824    Kuwait Airways      1.0  ...     3.0  -0.6808\n",
              "\n",
              "[171 rows x 14 columns]"
            ]
          },
          "metadata": {
            "tags": []
          },
          "execution_count": 186
        }
      ]
    },
    {
      "cell_type": "code",
      "metadata": {
        "id": "Lx2Bl0ZVy2w9"
      },
      "source": [
        "yes = (main_df['overall']<= 2) & (main_df['recommended']==1)"
      ],
      "execution_count": 187,
      "outputs": []
    },
    {
      "cell_type": "code",
      "metadata": {
        "id": "kixV2BcOOUX-"
      },
      "source": [
        "# replacing recommended  value of 1  to 0\n",
        "main_df.loc[yes,'recommended'] = 0 "
      ],
      "execution_count": 188,
      "outputs": []
    },
    {
      "cell_type": "code",
      "metadata": {
        "id": "coDiEPtGO8c2"
      },
      "source": [
        ""
      ],
      "execution_count": 188,
      "outputs": []
    },
    {
      "cell_type": "code",
      "metadata": {
        "id": "Rggqvri5O7uC"
      },
      "source": [
        "no = (main_df['overall']>=9) & (main_df['recommended']==0)"
      ],
      "execution_count": 189,
      "outputs": []
    },
    {
      "cell_type": "code",
      "metadata": {
        "id": "bLDXnPVRPPdU"
      },
      "source": [
        "#replacing recommender value of 0 to 1\n",
        "main_df.loc[no,'recommended'] = 1"
      ],
      "execution_count": 190,
      "outputs": []
    },
    {
      "cell_type": "code",
      "metadata": {
        "id": "JHb-L_fGQGK0",
        "colab": {
          "base_uri": "https://localhost:8080/",
          "height": 813
        },
        "outputId": "ca4ae278-0d30-47c2-a5ea-f7d9abcb72fd"
      },
      "source": [
        "main_df"
      ],
      "execution_count": 191,
      "outputs": [
        {
          "output_type": "execute_result",
          "data": {
            "text/html": [
              "<div>\n",
              "<style scoped>\n",
              "    .dataframe tbody tr th:only-of-type {\n",
              "        vertical-align: middle;\n",
              "    }\n",
              "\n",
              "    .dataframe tbody tr th {\n",
              "        vertical-align: top;\n",
              "    }\n",
              "\n",
              "    .dataframe thead th {\n",
              "        text-align: right;\n",
              "    }\n",
              "</style>\n",
              "<table border=\"1\" class=\"dataframe\">\n",
              "  <thead>\n",
              "    <tr style=\"text-align: right;\">\n",
              "      <th></th>\n",
              "      <th>airline</th>\n",
              "      <th>overall</th>\n",
              "      <th>customer_review</th>\n",
              "      <th>traveller_type</th>\n",
              "      <th>cabin</th>\n",
              "      <th>seat_comfort</th>\n",
              "      <th>cabin_service</th>\n",
              "      <th>food_bev</th>\n",
              "      <th>entertainment</th>\n",
              "      <th>ground_service</th>\n",
              "      <th>value_for_money</th>\n",
              "      <th>recommended</th>\n",
              "      <th>Avg_num</th>\n",
              "      <th>polarity</th>\n",
              "    </tr>\n",
              "  </thead>\n",
              "  <tbody>\n",
              "    <tr>\n",
              "      <th>1</th>\n",
              "      <td>Turkish Airlines</td>\n",
              "      <td>7.0</td>\n",
              "      <td>âœ… Trip Verified | London to Izmir via Istanb...</td>\n",
              "      <td>Business</td>\n",
              "      <td>Economy Class</td>\n",
              "      <td>4.0</td>\n",
              "      <td>5.0</td>\n",
              "      <td>4.0</td>\n",
              "      <td>4.0</td>\n",
              "      <td>2.0</td>\n",
              "      <td>4.0</td>\n",
              "      <td>1</td>\n",
              "      <td>3.0</td>\n",
              "      <td>0.9386</td>\n",
              "    </tr>\n",
              "    <tr>\n",
              "      <th>3</th>\n",
              "      <td>Turkish Airlines</td>\n",
              "      <td>2.0</td>\n",
              "      <td>âœ… Trip Verified | Istanbul to Bucharest. We ...</td>\n",
              "      <td>Family Leisure</td>\n",
              "      <td>Economy Class</td>\n",
              "      <td>4.0</td>\n",
              "      <td>1.0</td>\n",
              "      <td>1.0</td>\n",
              "      <td>1.0</td>\n",
              "      <td>1.0</td>\n",
              "      <td>1.0</td>\n",
              "      <td>0</td>\n",
              "      <td>1.0</td>\n",
              "      <td>0.2732</td>\n",
              "    </tr>\n",
              "    <tr>\n",
              "      <th>5</th>\n",
              "      <td>Turkish Airlines</td>\n",
              "      <td>3.0</td>\n",
              "      <td>âœ… Trip Verified | Rome to Prishtina via Ista...</td>\n",
              "      <td>Business</td>\n",
              "      <td>Economy Class</td>\n",
              "      <td>1.0</td>\n",
              "      <td>4.0</td>\n",
              "      <td>1.0</td>\n",
              "      <td>3.0</td>\n",
              "      <td>1.0</td>\n",
              "      <td>2.0</td>\n",
              "      <td>0</td>\n",
              "      <td>2.0</td>\n",
              "      <td>-0.9192</td>\n",
              "    </tr>\n",
              "    <tr>\n",
              "      <th>7</th>\n",
              "      <td>Turkish Airlines</td>\n",
              "      <td>10.0</td>\n",
              "      <td>âœ… Trip Verified | Flew on Turkish Airlines I...</td>\n",
              "      <td>Solo Leisure</td>\n",
              "      <td>Economy Class</td>\n",
              "      <td>4.0</td>\n",
              "      <td>5.0</td>\n",
              "      <td>5.0</td>\n",
              "      <td>5.0</td>\n",
              "      <td>5.0</td>\n",
              "      <td>5.0</td>\n",
              "      <td>1</td>\n",
              "      <td>4.0</td>\n",
              "      <td>0.9718</td>\n",
              "    </tr>\n",
              "    <tr>\n",
              "      <th>9</th>\n",
              "      <td>Turkish Airlines</td>\n",
              "      <td>1.0</td>\n",
              "      <td>âœ… Trip Verified | Mumbai to Dublin via Istan...</td>\n",
              "      <td>Solo Leisure</td>\n",
              "      <td>Economy Class</td>\n",
              "      <td>1.0</td>\n",
              "      <td>1.0</td>\n",
              "      <td>1.0</td>\n",
              "      <td>1.0</td>\n",
              "      <td>1.0</td>\n",
              "      <td>1.0</td>\n",
              "      <td>0</td>\n",
              "      <td>1.0</td>\n",
              "      <td>-0.7599</td>\n",
              "    </tr>\n",
              "    <tr>\n",
              "      <th>...</th>\n",
              "      <td>...</td>\n",
              "      <td>...</td>\n",
              "      <td>...</td>\n",
              "      <td>...</td>\n",
              "      <td>...</td>\n",
              "      <td>...</td>\n",
              "      <td>...</td>\n",
              "      <td>...</td>\n",
              "      <td>...</td>\n",
              "      <td>...</td>\n",
              "      <td>...</td>\n",
              "      <td>...</td>\n",
              "      <td>...</td>\n",
              "      <td>...</td>\n",
              "    </tr>\n",
              "    <tr>\n",
              "      <th>131886</th>\n",
              "      <td>Ukraine International</td>\n",
              "      <td>1.0</td>\n",
              "      <td>Two domestic flights between Kiev and Lviv las...</td>\n",
              "      <td>NaN</td>\n",
              "      <td>NaN</td>\n",
              "      <td>1.0</td>\n",
              "      <td>1.0</td>\n",
              "      <td>1.0</td>\n",
              "      <td>1.0</td>\n",
              "      <td>1.0</td>\n",
              "      <td>1.0</td>\n",
              "      <td>0</td>\n",
              "      <td>1.0</td>\n",
              "      <td>0.9183</td>\n",
              "    </tr>\n",
              "    <tr>\n",
              "      <th>131888</th>\n",
              "      <td>Ukraine International</td>\n",
              "      <td>1.0</td>\n",
              "      <td>I had a good flight from London to Kiev with U...</td>\n",
              "      <td>NaN</td>\n",
              "      <td>NaN</td>\n",
              "      <td>1.0</td>\n",
              "      <td>1.0</td>\n",
              "      <td>1.0</td>\n",
              "      <td>1.0</td>\n",
              "      <td>1.0</td>\n",
              "      <td>1.0</td>\n",
              "      <td>0</td>\n",
              "      <td>1.0</td>\n",
              "      <td>0.8042</td>\n",
              "    </tr>\n",
              "    <tr>\n",
              "      <th>131890</th>\n",
              "      <td>Ukraine International</td>\n",
              "      <td>1.0</td>\n",
              "      <td>Kiev - London (Gatwick) in business class (in ...</td>\n",
              "      <td>NaN</td>\n",
              "      <td>NaN</td>\n",
              "      <td>1.0</td>\n",
              "      <td>1.0</td>\n",
              "      <td>1.0</td>\n",
              "      <td>1.0</td>\n",
              "      <td>1.0</td>\n",
              "      <td>1.0</td>\n",
              "      <td>0</td>\n",
              "      <td>1.0</td>\n",
              "      <td>-0.7131</td>\n",
              "    </tr>\n",
              "    <tr>\n",
              "      <th>131892</th>\n",
              "      <td>Ukraine International</td>\n",
              "      <td>1.0</td>\n",
              "      <td>Several flights - KBP to AMS (3 times one way)...</td>\n",
              "      <td>NaN</td>\n",
              "      <td>NaN</td>\n",
              "      <td>1.0</td>\n",
              "      <td>1.0</td>\n",
              "      <td>1.0</td>\n",
              "      <td>1.0</td>\n",
              "      <td>1.0</td>\n",
              "      <td>1.0</td>\n",
              "      <td>0</td>\n",
              "      <td>1.0</td>\n",
              "      <td>0.5267</td>\n",
              "    </tr>\n",
              "    <tr>\n",
              "      <th>131894</th>\n",
              "      <td>Ukraine International</td>\n",
              "      <td>1.0</td>\n",
              "      <td>KBP-AMS with UIA. Although it was a relatively...</td>\n",
              "      <td>NaN</td>\n",
              "      <td>NaN</td>\n",
              "      <td>1.0</td>\n",
              "      <td>1.0</td>\n",
              "      <td>1.0</td>\n",
              "      <td>1.0</td>\n",
              "      <td>1.0</td>\n",
              "      <td>1.0</td>\n",
              "      <td>0</td>\n",
              "      <td>1.0</td>\n",
              "      <td>0.8442</td>\n",
              "    </tr>\n",
              "  </tbody>\n",
              "</table>\n",
              "<p>61183 rows × 14 columns</p>\n",
              "</div>"
            ],
            "text/plain": [
              "                      airline  overall  ... Avg_num polarity\n",
              "1            Turkish Airlines      7.0  ...     3.0   0.9386\n",
              "3            Turkish Airlines      2.0  ...     1.0   0.2732\n",
              "5            Turkish Airlines      3.0  ...     2.0  -0.9192\n",
              "7            Turkish Airlines     10.0  ...     4.0   0.9718\n",
              "9            Turkish Airlines      1.0  ...     1.0  -0.7599\n",
              "...                       ...      ...  ...     ...      ...\n",
              "131886  Ukraine International      1.0  ...     1.0   0.9183\n",
              "131888  Ukraine International      1.0  ...     1.0   0.8042\n",
              "131890  Ukraine International      1.0  ...     1.0  -0.7131\n",
              "131892  Ukraine International      1.0  ...     1.0   0.5267\n",
              "131894  Ukraine International      1.0  ...     1.0   0.8442\n",
              "\n",
              "[61183 rows x 14 columns]"
            ]
          },
          "metadata": {
            "tags": []
          },
          "execution_count": 191
        }
      ]
    },
    {
      "cell_type": "code",
      "metadata": {
        "colab": {
          "base_uri": "https://localhost:8080/",
          "height": 417
        },
        "id": "jkaI-ObSs7QV",
        "outputId": "4c6a4d35-4182-4be3-8652-b03d0b7c3270"
      },
      "source": [
        "main_df.groupby(['overall'])['recommended'].value_counts().unstack().plot(kind='bar',figsize=(15,6))"
      ],
      "execution_count": 210,
      "outputs": [
        {
          "output_type": "execute_result",
          "data": {
            "text/plain": [
              "<matplotlib.axes._subplots.AxesSubplot at 0x7fb9e030d210>"
            ]
          },
          "metadata": {
            "tags": []
          },
          "execution_count": 210
        },
        {
          "output_type": "display_data",
          "data": {
            "image/png": "[encoded data removed]",
            "text/plain": [
              "<Figure size 1080x432 with 1 Axes>"
            ]
          },
          "metadata": {
            "tags": [],
            "needs_background": "light"
          }
        }
      ]
    },
    {
      "cell_type": "markdown",
      "metadata": {
        "id": "j17AMc-rRB1u"
      },
      "source": [
        "##Training model by treating anomaly"
      ]
    },
    {
      "cell_type": "code",
      "metadata": {
        "id": "MlSdKt88Q_Qt"
      },
      "source": [
        "new_df= pd.get_dummies(main_df,columns=colms)"
      ],
      "execution_count": 192,
      "outputs": []
    },
    {
      "cell_type": "code",
      "metadata": {
        "id": "Zw09JJjBQ_Qt"
      },
      "source": [
        "ind_features = new_df.columns.drop(['customer_review','recommended'])\n"
      ],
      "execution_count": 193,
      "outputs": []
    },
    {
      "cell_type": "code",
      "metadata": {
        "id": "P-TW25NeQ_Qu"
      },
      "source": [
        "dep_features = 'recommended'"
      ],
      "execution_count": 194,
      "outputs": []
    },
    {
      "cell_type": "code",
      "metadata": {
        "id": "JrdpWhNyQ_Qu",
        "colab": {
          "base_uri": "https://localhost:8080/"
        },
        "outputId": "740a932f-4680-4cfb-878a-c4614e1fab9e"
      },
      "source": [
        "ind_features"
      ],
      "execution_count": 195,
      "outputs": [
        {
          "output_type": "execute_result",
          "data": {
            "text/plain": [
              "Index(['overall', 'seat_comfort', 'cabin_service', 'food_bev', 'entertainment',\n",
              "       'ground_service', 'value_for_money', 'Avg_num', 'polarity',\n",
              "       'airline_ANA All Nippon Airways', 'airline_Adria Airways',\n",
              "       'airline_Aegean Airlines', 'airline_Aer Lingus',\n",
              "       'airline_Aeroflot Russian Airlines', 'airline_Aeromexico',\n",
              "       'airline_Air Arabia', 'airline_Air Canada', 'airline_Air Canada rouge',\n",
              "       'airline_Air China', 'airline_Air Europa', 'airline_Air France',\n",
              "       'airline_Air India', 'airline_Air New Zealand', 'airline_AirAsia',\n",
              "       'airline_Alaska Airlines', 'airline_Alitalia',\n",
              "       'airline_American Airlines', 'airline_Asiana Airlines',\n",
              "       'airline_Austrian Airlines', 'airline_Avianca',\n",
              "       'airline_Bangkok Airways', 'airline_British Airways',\n",
              "       'airline_Brussels Airlines', 'airline_Cathay Pacific Airways',\n",
              "       'airline_China Eastern Airlines', 'airline_China Southern Airlines',\n",
              "       'airline_Copa Airlines', 'airline_Delta Air Lines', 'airline_EVA Air',\n",
              "       'airline_Egyptair', 'airline_Emirates', 'airline_Ethiopian Airlines',\n",
              "       'airline_Etihad Airways', 'airline_Eurowings', 'airline_Finnair',\n",
              "       'airline_Frontier Airlines', 'airline_Garuda Indonesia',\n",
              "       'airline_Germanwings', 'airline_Gulf Air', 'airline_Iberia',\n",
              "       'airline_Icelandair', 'airline_IndiGo', 'airline_Jetblue Airways',\n",
              "       'airline_KLM Royal Dutch Airlines', 'airline_Korean Air',\n",
              "       'airline_Kuwait Airways', 'airline_LATAM Airlines',\n",
              "       'airline_LOT Polish Airlines', 'airline_Lufthansa', 'airline_Norwegian',\n",
              "       'airline_Pegasus Airlines', 'airline_Qantas Airways',\n",
              "       'airline_QantasLink', 'airline_Qatar Airways',\n",
              "       'airline_Royal Air Maroc', 'airline_Royal Jordanian Airlines',\n",
              "       'airline_Ryanair', 'airline_SAS Scandinavian',\n",
              "       'airline_Saudi Arabian Airlines', 'airline_Singapore Airlines',\n",
              "       'airline_South African Airways', 'airline_Southwest Airlines',\n",
              "       'airline_Spirit Airlines', 'airline_Sunwing Airlines',\n",
              "       'airline_Swiss Intl Air Lines', 'airline_TAP Portugal',\n",
              "       'airline_TAROM Romanian', 'airline_Thai Airways',\n",
              "       'airline_Thai Smile Airways', 'airline_Tunisair',\n",
              "       'airline_Turkish Airlines', 'airline_Ukraine International',\n",
              "       'airline_United Airlines', 'airline_Virgin America',\n",
              "       'airline_Vueling Airlines', 'airline_WOW air', 'airline_Wizz Air',\n",
              "       'airline_airBaltic', 'airline_easyJet', 'airline_flydubai',\n",
              "       'cabin_Business Class', 'cabin_Economy Class', 'cabin_First Class',\n",
              "       'cabin_Premium Economy', 'traveller_type_Business',\n",
              "       'traveller_type_Couple Leisure', 'traveller_type_Family Leisure',\n",
              "       'traveller_type_Solo Leisure'],\n",
              "      dtype='object')"
            ]
          },
          "metadata": {
            "tags": []
          },
          "execution_count": 195
        }
      ]
    },
    {
      "cell_type": "markdown",
      "metadata": {
        "id": "hH6IIMM9Q_Qv"
      },
      "source": [
        "## Feature scaling \n"
      ]
    },
    {
      "cell_type": "code",
      "metadata": {
        "id": "qxmgjodqQ_Qw"
      },
      "source": [
        " data = new_df[ind_features]\n",
        " Y= new_df[dep_features]"
      ],
      "execution_count": 196,
      "outputs": []
    },
    {
      "cell_type": "code",
      "metadata": {
        "id": "W3S_U20WQ_Qw"
      },
      "source": [
        "# importing minmax scaler\n",
        "from sklearn.preprocessing import MinMaxScaler"
      ],
      "execution_count": 197,
      "outputs": []
    },
    {
      "cell_type": "code",
      "metadata": {
        "id": "Si6dHkyaQ_Qw"
      },
      "source": [
        "feature_scaler= MinMaxScaler()"
      ],
      "execution_count": 198,
      "outputs": []
    },
    {
      "cell_type": "code",
      "metadata": {
        "id": "tATKGInyQ_Qx"
      },
      "source": [
        "data = feature_scaler.fit_transform(data)"
      ],
      "execution_count": 199,
      "outputs": []
    },
    {
      "cell_type": "code",
      "metadata": {
        "id": "Kdf9jt1QQ_Qx",
        "colab": {
          "base_uri": "https://localhost:8080/"
        },
        "outputId": "3582283e-76eb-46f1-a184-c215f76ba116"
      },
      "source": [
        "data"
      ],
      "execution_count": 200,
      "outputs": [
        {
          "output_type": "execute_result",
          "data": {
            "text/plain": [
              "array([[0.66666667, 0.75      , 1.        , ..., 0.        , 0.        ,\n",
              "        0.        ],\n",
              "       [0.11111111, 0.75      , 0.        , ..., 0.        , 1.        ,\n",
              "        0.        ],\n",
              "       [0.22222222, 0.        , 0.75      , ..., 0.        , 0.        ,\n",
              "        0.        ],\n",
              "       ...,\n",
              "       [0.        , 0.        , 0.        , ..., 0.        , 0.        ,\n",
              "        0.        ],\n",
              "       [0.        , 0.        , 0.        , ..., 0.        , 0.        ,\n",
              "        0.        ],\n",
              "       [0.        , 0.        , 0.        , ..., 0.        , 0.        ,\n",
              "        0.        ]])"
            ]
          },
          "metadata": {
            "tags": []
          },
          "execution_count": 200
        }
      ]
    },
    {
      "cell_type": "markdown",
      "metadata": {
        "id": "_Yj3JDa_Q_Qx"
      },
      "source": [
        "## Training the dataset \n"
      ]
    },
    {
      "cell_type": "code",
      "metadata": {
        "id": "j-3toxbaQ_Qy"
      },
      "source": [
        "from sklearn.model_selection import train_test_split"
      ],
      "execution_count": 201,
      "outputs": []
    },
    {
      "cell_type": "code",
      "metadata": {
        "id": "7QxGtLhMQ_Qy"
      },
      "source": [
        "X_train,X_test,y_train,y_test = train_test_split(data,Y, test_size =0.2,random_state=0)\n"
      ],
      "execution_count": 202,
      "outputs": []
    },
    {
      "cell_type": "code",
      "metadata": {
        "id": "NmcLzNknQ_Qy",
        "colab": {
          "base_uri": "https://localhost:8080/"
        },
        "outputId": "9a268da2-e519-484b-fcec-bec03d355817"
      },
      "source": [
        "X_train.shape,X_test.shape"
      ],
      "execution_count": 203,
      "outputs": [
        {
          "output_type": "execute_result",
          "data": {
            "text/plain": [
              "((48946, 98), (12237, 98))"
            ]
          },
          "metadata": {
            "tags": []
          },
          "execution_count": 203
        }
      ]
    },
    {
      "cell_type": "code",
      "metadata": {
        "id": "N0SwfWgURjhe"
      },
      "source": [
        ""
      ],
      "execution_count": 203,
      "outputs": []
    },
    {
      "cell_type": "code",
      "metadata": {
        "id": "Zgw6KdQ-Rj9D"
      },
      "source": [
        "#declare the models\n",
        "lr_model=LogisticRegression(C=10)\n",
        "dt_model=DecisionTreeClassifier()\n",
        "rf_model=RandomForestClassifier(max_depth= 60, min_samples_leaf = 1, min_samples_split= 5)\n",
        "gbc_model=GradientBoostingClassifier()\n",
        "xgb_model=XGBClassifier()\n",
        "svc_model=LinearSVC()\n",
        "Mnb_model=MultinomialNB()\n",
        "\n",
        "\n",
        "#create a list of models\n",
        "models=[lr_model,svc_model,Mnb_model,dt_model,rf_model,gbc_model,xgb_model]\n",
        "\n",
        "#creating dictionay for storing the confustion matix\n",
        "dct_train={}\n",
        "dct_test={}\n",
        "lst_imp=[]\n",
        "# fuction for calculation the eveluation matrix\n",
        "def score_model(X_train,y_train,X_test,y_test):\n",
        "    df_columns=[]\n",
        "    df=pd.DataFrame(columns=df_columns)\n",
        "    i=0\n",
        "    #read model one by one\n",
        "    for model in models:\n",
        "        start = time.time()\n",
        "        model.fit(X_train,y_train)\n",
        "        end= time.time()\n",
        "        y_pred=model.predict(X_test)\n",
        "        y_pred_train=model.predict(X_train)\n",
        "        \n",
        "        #compute metrics\n",
        "        train_accuracy=accuracy_score(y_train,y_pred_train)\n",
        "        test_accuracy=accuracy_score(y_test,y_pred)\n",
        "        p_score_train=precision_score(y_train,y_pred_train)\n",
        "        p_score=precision_score(y_test,y_pred)\n",
        "        r_score_train=recall_score(y_train,y_pred_train)\n",
        "        r_score=recall_score(y_test,y_pred)\n",
        "        train_auc = roc_auc_score(y_train,y_pred_train)\n",
        "        test_auc = roc_auc_score(y_test,y_pred)\n",
        "        fp, tp, th = roc_curve(y_test, y_pred)\n",
        "        \n",
        "        #insert in dataframe\n",
        "        df.loc[i,\"Model_Name\"]=model.__class__.__name__\n",
        "        df.loc[i,\"Train_Accuracy\"]=round(train_accuracy*100,2)\n",
        "        df.loc[i,\"Test_Accuracy\"]=round(test_accuracy*100,2)\n",
        "        df.loc[i,\"Precision_Train\"]=round(p_score_train*100,2)\n",
        "        df.loc[i,\"Precision_Test\"]=round(p_score*100,2)\n",
        "        df.loc[i,\"Recall_Train\"]=round(r_score_train*100,2)\n",
        "        df.loc[i,\"Recall_test\"]=round(r_score*100,2)\n",
        "        df.loc[i,\"ROC_AUC_Train\"]=round(train_auc*100,2)\n",
        "        df.loc[i,\"ROC_AUC_Test\"]=round(test_auc*100,2)\n",
        "        df.loc[i,'AUC'] = auc(fp, tp)\n",
        "        df.loc[i,'MOdel_training_time ']= end-start\n",
        "        #inserted in dictionary\n",
        "        dct_train[model.__class__.__name__]=confusion_matrix(y_train,y_pred_train)\n",
        "        dct_test[model.__class__.__name__]=confusion_matrix(y_test,y_pred)\n",
        "\n",
        "        i+=1\n",
        "    # Return the data frame and dictionary\n",
        "    return df,dct_train,dct_test"
      ],
      "execution_count": 204,
      "outputs": []
    },
    {
      "cell_type": "code",
      "metadata": {
        "id": "QBoefzhJRj9E",
        "colab": {
          "base_uri": "https://localhost:8080/"
        },
        "outputId": "d85fe142-bfe4-4ced-9227-2524bba83fd2"
      },
      "source": [
        "final_result_df,dct_train,dct_test=score_model(X_train,y_train,X_test,y_test)"
      ],
      "execution_count": 205,
      "outputs": [
        {
          "output_type": "stream",
          "text": [
            "/usr/local/lib/python3.7/dist-packages/sklearn/linear_model/_logistic.py:940: ConvergenceWarning: lbfgs failed to converge (status=1):\n",
            "STOP: TOTAL NO. of ITERATIONS REACHED LIMIT.\n",
            "\n",
            "Increase the number of iterations (max_iter) or scale the data as shown in:\n",
            "    https://scikit-learn.org/stable/modules/preprocessing.html\n",
            "Please also refer to the documentation for alternative solver options:\n",
            "    https://scikit-learn.org/stable/modules/linear_model.html#logistic-regression\n",
            "  extra_warning_msg=_LOGISTIC_SOLVER_CONVERGENCE_MSG)\n"
          ],
          "name": "stderr"
        }
      ]
    },
    {
      "cell_type": "code",
      "metadata": {
        "id": "5CaRnNh_Rj9E",
        "colab": {
          "base_uri": "https://localhost:8080/",
          "height": 286
        },
        "outputId": "bb8ded56-a187-499f-c280-a195673bab25"
      },
      "source": [
        "final_result_df"
      ],
      "execution_count": 206,
      "outputs": [
        {
          "output_type": "execute_result",
          "data": {
            "text/html": [
              "<div>\n",
              "<style scoped>\n",
              "    .dataframe tbody tr th:only-of-type {\n",
              "        vertical-align: middle;\n",
              "    }\n",
              "\n",
              "    .dataframe tbody tr th {\n",
              "        vertical-align: top;\n",
              "    }\n",
              "\n",
              "    .dataframe thead th {\n",
              "        text-align: right;\n",
              "    }\n",
              "</style>\n",
              "<table border=\"1\" class=\"dataframe\">\n",
              "  <thead>\n",
              "    <tr style=\"text-align: right;\">\n",
              "      <th></th>\n",
              "      <th>Model_Name</th>\n",
              "      <th>Train_Accuracy</th>\n",
              "      <th>Test_Accuracy</th>\n",
              "      <th>Precision_Train</th>\n",
              "      <th>Precision_Test</th>\n",
              "      <th>Recall_Train</th>\n",
              "      <th>Recall_test</th>\n",
              "      <th>ROC_AUC_Train</th>\n",
              "      <th>ROC_AUC_Test</th>\n",
              "      <th>AUC</th>\n",
              "      <th>MOdel_training_time</th>\n",
              "    </tr>\n",
              "  </thead>\n",
              "  <tbody>\n",
              "    <tr>\n",
              "      <th>0</th>\n",
              "      <td>LogisticRegression</td>\n",
              "      <td>96.02</td>\n",
              "      <td>95.84</td>\n",
              "      <td>95.80</td>\n",
              "      <td>95.74</td>\n",
              "      <td>95.85</td>\n",
              "      <td>95.49</td>\n",
              "      <td>96.01</td>\n",
              "      <td>95.82</td>\n",
              "      <td>0.958241</td>\n",
              "      <td>1.930401</td>\n",
              "    </tr>\n",
              "    <tr>\n",
              "      <th>1</th>\n",
              "      <td>LinearSVC</td>\n",
              "      <td>96.03</td>\n",
              "      <td>95.81</td>\n",
              "      <td>95.83</td>\n",
              "      <td>95.72</td>\n",
              "      <td>95.84</td>\n",
              "      <td>95.44</td>\n",
              "      <td>96.02</td>\n",
              "      <td>95.79</td>\n",
              "      <td>0.957905</td>\n",
              "      <td>0.714769</td>\n",
              "    </tr>\n",
              "    <tr>\n",
              "      <th>2</th>\n",
              "      <td>MultinomialNB</td>\n",
              "      <td>87.89</td>\n",
              "      <td>87.84</td>\n",
              "      <td>82.65</td>\n",
              "      <td>82.79</td>\n",
              "      <td>94.42</td>\n",
              "      <td>93.95</td>\n",
              "      <td>88.19</td>\n",
              "      <td>88.13</td>\n",
              "      <td>0.881287</td>\n",
              "      <td>0.024692</td>\n",
              "    </tr>\n",
              "    <tr>\n",
              "      <th>3</th>\n",
              "      <td>DecisionTreeClassifier</td>\n",
              "      <td>100.00</td>\n",
              "      <td>94.24</td>\n",
              "      <td>100.00</td>\n",
              "      <td>93.89</td>\n",
              "      <td>100.00</td>\n",
              "      <td>94.00</td>\n",
              "      <td>100.00</td>\n",
              "      <td>94.23</td>\n",
              "      <td>0.942274</td>\n",
              "      <td>0.608920</td>\n",
              "    </tr>\n",
              "    <tr>\n",
              "      <th>4</th>\n",
              "      <td>RandomForestClassifier</td>\n",
              "      <td>99.02</td>\n",
              "      <td>95.77</td>\n",
              "      <td>98.96</td>\n",
              "      <td>96.04</td>\n",
              "      <td>98.98</td>\n",
              "      <td>95.01</td>\n",
              "      <td>99.02</td>\n",
              "      <td>95.73</td>\n",
              "      <td>0.957313</td>\n",
              "      <td>7.527230</td>\n",
              "    </tr>\n",
              "    <tr>\n",
              "      <th>5</th>\n",
              "      <td>GradientBoostingClassifier</td>\n",
              "      <td>96.06</td>\n",
              "      <td>95.82</td>\n",
              "      <td>96.06</td>\n",
              "      <td>95.93</td>\n",
              "      <td>95.66</td>\n",
              "      <td>95.25</td>\n",
              "      <td>96.04</td>\n",
              "      <td>95.80</td>\n",
              "      <td>0.957972</td>\n",
              "      <td>24.090334</td>\n",
              "    </tr>\n",
              "    <tr>\n",
              "      <th>6</th>\n",
              "      <td>XGBClassifier</td>\n",
              "      <td>95.97</td>\n",
              "      <td>95.81</td>\n",
              "      <td>95.93</td>\n",
              "      <td>95.90</td>\n",
              "      <td>95.61</td>\n",
              "      <td>95.25</td>\n",
              "      <td>95.96</td>\n",
              "      <td>95.78</td>\n",
              "      <td>0.957816</td>\n",
              "      <td>11.029793</td>\n",
              "    </tr>\n",
              "  </tbody>\n",
              "</table>\n",
              "</div>"
            ],
            "text/plain": [
              "                   Model_Name  Train_Accuracy  ...       AUC  MOdel_training_time \n",
              "0          LogisticRegression           96.02  ...  0.958241              1.930401\n",
              "1                   LinearSVC           96.03  ...  0.957905              0.714769\n",
              "2               MultinomialNB           87.89  ...  0.881287              0.024692\n",
              "3      DecisionTreeClassifier          100.00  ...  0.942274              0.608920\n",
              "4      RandomForestClassifier           99.02  ...  0.957313              7.527230\n",
              "5  GradientBoostingClassifier           96.06  ...  0.957972             24.090334\n",
              "6               XGBClassifier           95.97  ...  0.957816             11.029793\n",
              "\n",
              "[7 rows x 11 columns]"
            ]
          },
          "metadata": {
            "tags": []
          },
          "execution_count": 206
        }
      ]
    },
    {
      "cell_type": "markdown",
      "metadata": {
        "id": "UA_NlFsV4GJb"
      },
      "source": [
        "##Conclusion"
      ]
    },
    {
      "cell_type": "markdown",
      "metadata": {
        "id": "mgUmjW594LTp"
      },
      "source": [
        "* Most of the model we train on default hyperparameters gave accuracy of 95%.\n",
        "* By treating anomaly we where able to increase the accuracy by 0.5% in logistic regression.\n",
        "* Logistic regression was the best model from all model as it gave an accuracy of 95.84 and just took 2 sec approx.\n",
        " "
      ]
    }
  ]
}