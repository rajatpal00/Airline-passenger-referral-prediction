{
  "nbformat": 4,
  "nbformat_minor": 0,
  "metadata": {
    "colab": {
      "name": "Rajat Pal-Capstone Project-Airline passenger referral prediction .ipynb",
      "provenance": [],
      "collapsed_sections": [],
      "mount_file_id": "1VA1uTPeD7eOv_WDbwebj4yUDea3lQqLM",
      "authorship_tag": "ABX9TyMqNlZTDpoaQahmMlWuABeg",
      "include_colab_link": true
    },
    "kernelspec": {
      "display_name": "Python 3",
      "name": "python3"
    },
    "language_info": {
      "name": "python"
    }
  },
  "cells": [
    {
      "cell_type": "markdown",
      "metadata": {
        "id": "view-in-github",
        "colab_type": "text"
      },
      "source": [
        "<a href=\"https://colab.research.google.com/github/rajatpal00/Airline-passenger-referral-prediction/blob/main/Rajat_Pal_Capstone_Project_Airline_passenger_referral_prediction_.ipynb\" target=\"_parent\"><img src=\"https://colab.research.google.com/assets/colab-badge.svg\" alt=\"Open In Colab\"/></a>"
      ]
    },
    {
      "cell_type": "markdown",
      "metadata": {
        "id": "G7dFWogK9uQH"
      },
      "source": [
        "##Dataset discription\n",
        "Data includes airline reviews from 2006 to 2019 for popular airlines around the world with multiple choice and free text questions. Data is scraped in Spring 2019.\n",
        "Feature descriptions briefly as follows:\n",
        "* airline: Name of the airline.\n",
        "* overall: Overall point is given to the trip between 1 to 10.\n",
        "* author: Author of the trip\n",
        "* reviewdate: Date of the Review\n",
        "* customer review: Review of the customers in free text format\n",
        " \n",
        "* aircraft: Type of the aircraft\n",
        "* traveller type: Type of traveler (e.g. business, leisure)\n",
        "* cabin: Cabin at the flight\n",
        "* date flown: Flight date\n",
        "* seat comfort: Rated between 1-5\n",
        "* cabin service: Rated between 1-5\n",
        "* food bev: Rated between 1-5\n",
        "* entertainment: Rated between 1-5\n",
        "* ground service: Rated between 1-5\n",
        "* value for money: Rated between 1-5"
      ]
    },
    {
      "cell_type": "markdown",
      "metadata": {
        "id": "uL6FgABU_nz7"
      },
      "source": [
        "##The main objective is to predict whether passengers will refer the airline to their friends."
      ]
    },
    {
      "cell_type": "code",
      "metadata": {
        "id": "-MxBjSMJtGRd"
      },
      "source": [
        "import pandas as pd \n",
        "import numpy as np \n",
        "import matplotlib.pyplot as plt\n",
        "import seaborn as sns\n",
        "%matplotlib inline"
      ],
      "execution_count": null,
      "outputs": []
    },
    {
      "cell_type": "code",
      "metadata": {
        "id": "BlAEYh76uC83"
      },
      "source": [
        "main_df = pd.read_excel('/content/drive/MyDrive/AlmaBetter/capstone project/Airline Passenger Referral Prediction/data_airline_reviews.xlsx') "
      ],
      "execution_count": null,
      "outputs": []
    },
    {
      "cell_type": "code",
      "metadata": {
        "colab": {
          "base_uri": "https://localhost:8080/"
        },
        "id": "mavDioosuVKE",
        "outputId": "facf6aee-68cc-41e1-cff6-e32bf21bf4b5"
      },
      "source": [
        "main_df.head()"
      ],
      "execution_count": null,
      "outputs": [
        {
          "output_type": "execute_result",
          "data": {
            "text/html": [
              "<div>\n",
              "<style scoped>\n",
              "    .dataframe tbody tr th:only-of-type {\n",
              "        vertical-align: middle;\n",
              "    }\n",
              "\n",
              "    .dataframe tbody tr th {\n",
              "        vertical-align: top;\n",
              "    }\n",
              "\n",
              "    .dataframe thead th {\n",
              "        text-align: right;\n",
              "    }\n",
              "</style>\n",
              "<table border=\"1\" class=\"dataframe\">\n",
              "  <thead>\n",
              "    <tr style=\"text-align: right;\">\n",
              "      <th></th>\n",
              "      <th>airline</th>\n",
              "      <th>overall</th>\n",
              "      <th>author</th>\n",
              "      <th>review_date</th>\n",
              "      <th>customer_review</th>\n",
              "      <th>aircraft</th>\n",
              "      <th>traveller_type</th>\n",
              "      <th>cabin</th>\n",
              "      <th>route</th>\n",
              "      <th>date_flown</th>\n",
              "      <th>seat_comfort</th>\n",
              "      <th>cabin_service</th>\n",
              "      <th>food_bev</th>\n",
              "      <th>entertainment</th>\n",
              "      <th>ground_service</th>\n",
              "      <th>value_for_money</th>\n",
              "      <th>recommended</th>\n",
              "    </tr>\n",
              "  </thead>\n",
              "  <tbody>\n",
              "    <tr>\n",
              "      <th>0</th>\n",
              "      <td>NaN</td>\n",
              "      <td>NaN</td>\n",
              "      <td>NaN</td>\n",
              "      <td>NaN</td>\n",
              "      <td>NaN</td>\n",
              "      <td>NaN</td>\n",
              "      <td>NaN</td>\n",
              "      <td>NaN</td>\n",
              "      <td>NaN</td>\n",
              "      <td>NaN</td>\n",
              "      <td>NaN</td>\n",
              "      <td>NaN</td>\n",
              "      <td>NaN</td>\n",
              "      <td>NaN</td>\n",
              "      <td>NaN</td>\n",
              "      <td>NaN</td>\n",
              "      <td>NaN</td>\n",
              "    </tr>\n",
              "    <tr>\n",
              "      <th>1</th>\n",
              "      <td>Turkish Airlines</td>\n",
              "      <td>7.0</td>\n",
              "      <td>Christopher Hackley</td>\n",
              "      <td>8th May 2019</td>\n",
              "      <td>âœ… Trip Verified | London to Izmir via Istanb...</td>\n",
              "      <td>NaN</td>\n",
              "      <td>Business</td>\n",
              "      <td>Economy Class</td>\n",
              "      <td>London to Izmir via Istanbul</td>\n",
              "      <td>2019-05-01 00:00:00</td>\n",
              "      <td>4.0</td>\n",
              "      <td>5.0</td>\n",
              "      <td>4.0</td>\n",
              "      <td>4.0</td>\n",
              "      <td>2.0</td>\n",
              "      <td>4.0</td>\n",
              "      <td>yes</td>\n",
              "    </tr>\n",
              "    <tr>\n",
              "      <th>2</th>\n",
              "      <td>NaN</td>\n",
              "      <td>NaN</td>\n",
              "      <td>NaN</td>\n",
              "      <td>NaN</td>\n",
              "      <td>NaN</td>\n",
              "      <td>NaN</td>\n",
              "      <td>NaN</td>\n",
              "      <td>NaN</td>\n",
              "      <td>NaN</td>\n",
              "      <td>NaN</td>\n",
              "      <td>NaN</td>\n",
              "      <td>NaN</td>\n",
              "      <td>NaN</td>\n",
              "      <td>NaN</td>\n",
              "      <td>NaN</td>\n",
              "      <td>NaN</td>\n",
              "      <td>NaN</td>\n",
              "    </tr>\n",
              "    <tr>\n",
              "      <th>3</th>\n",
              "      <td>Turkish Airlines</td>\n",
              "      <td>2.0</td>\n",
              "      <td>Adriana Pisoi</td>\n",
              "      <td>7th May 2019</td>\n",
              "      <td>âœ… Trip Verified | Istanbul to Bucharest. We ...</td>\n",
              "      <td>NaN</td>\n",
              "      <td>Family Leisure</td>\n",
              "      <td>Economy Class</td>\n",
              "      <td>Istanbul to Bucharest</td>\n",
              "      <td>2019-05-01 00:00:00</td>\n",
              "      <td>4.0</td>\n",
              "      <td>1.0</td>\n",
              "      <td>1.0</td>\n",
              "      <td>1.0</td>\n",
              "      <td>1.0</td>\n",
              "      <td>1.0</td>\n",
              "      <td>no</td>\n",
              "    </tr>\n",
              "    <tr>\n",
              "      <th>4</th>\n",
              "      <td>NaN</td>\n",
              "      <td>NaN</td>\n",
              "      <td>NaN</td>\n",
              "      <td>NaN</td>\n",
              "      <td>NaN</td>\n",
              "      <td>NaN</td>\n",
              "      <td>NaN</td>\n",
              "      <td>NaN</td>\n",
              "      <td>NaN</td>\n",
              "      <td>NaN</td>\n",
              "      <td>NaN</td>\n",
              "      <td>NaN</td>\n",
              "      <td>NaN</td>\n",
              "      <td>NaN</td>\n",
              "      <td>NaN</td>\n",
              "      <td>NaN</td>\n",
              "      <td>NaN</td>\n",
              "    </tr>\n",
              "  </tbody>\n",
              "</table>\n",
              "</div>"
            ],
            "text/plain": [
              "            airline  overall  ... value_for_money recommended\n",
              "0               NaN      NaN  ...             NaN         NaN\n",
              "1  Turkish Airlines      7.0  ...             4.0         yes\n",
              "2               NaN      NaN  ...             NaN         NaN\n",
              "3  Turkish Airlines      2.0  ...             1.0          no\n",
              "4               NaN      NaN  ...             NaN         NaN\n",
              "\n",
              "[5 rows x 17 columns]"
            ]
          },
          "metadata": {
            "tags": []
          },
          "execution_count": 3
        }
      ]
    },
    {
      "cell_type": "code",
      "metadata": {
        "colab": {
          "base_uri": "https://localhost:8080/"
        },
        "id": "gfqfWmIG0vS2",
        "outputId": "07f56e14-2ff5-44e2-e4f3-504f336e6888"
      },
      "source": [
        "# info of dataset\n",
        "main_df.info()"
      ],
      "execution_count": null,
      "outputs": [
        {
          "output_type": "stream",
          "text": [
            "<class 'pandas.core.frame.DataFrame'>\n",
            "RangeIndex: 131895 entries, 0 to 131894\n",
            "Data columns (total 17 columns):\n",
            " #   Column           Non-Null Count  Dtype  \n",
            "---  ------           --------------  -----  \n",
            " 0   airline          65947 non-null  object \n",
            " 1   overall          64017 non-null  float64\n",
            " 2   author           65947 non-null  object \n",
            " 3   review_date      65947 non-null  object \n",
            " 4   customer_review  65947 non-null  object \n",
            " 5   aircraft         19718 non-null  object \n",
            " 6   traveller_type   39755 non-null  object \n",
            " 7   cabin            63303 non-null  object \n",
            " 8   route            39726 non-null  object \n",
            " 9   date_flown       39633 non-null  object \n",
            " 10  seat_comfort     60681 non-null  float64\n",
            " 11  cabin_service    60715 non-null  float64\n",
            " 12  food_bev         52608 non-null  float64\n",
            " 13  entertainment    44193 non-null  float64\n",
            " 14  ground_service   39358 non-null  float64\n",
            " 15  value_for_money  63975 non-null  float64\n",
            " 16  recommended      64440 non-null  object \n",
            "dtypes: float64(7), object(10)\n",
            "memory usage: 17.1+ MB\n"
          ],
          "name": "stdout"
        }
      ]
    },
    {
      "cell_type": "markdown",
      "metadata": {
        "id": "63xnxM8g01c8"
      },
      "source": [
        "We can see that there are rows which have all features as NaN values.\n",
        "\n",
        "so we wil be dropping those rows from our dataset"
      ]
    },
    {
      "cell_type": "code",
      "metadata": {
        "id": "nixPLdKd6fsw"
      },
      "source": [
        "# droping the rows which have all values as NaN\n",
        "main_df.dropna(how='all',inplace=True)        \n"
      ],
      "execution_count": null,
      "outputs": []
    },
    {
      "cell_type": "markdown",
      "metadata": {
        "id": "eMo4zbwU6fsx"
      },
      "source": [
        "###Duplicate values"
      ]
    },
    {
      "cell_type": "code",
      "metadata": {
        "colab": {
          "base_uri": "https://localhost:8080/"
        },
        "id": "C7pCAgod6fsx",
        "outputId": "43914022-1a04-4ce5-c85b-8581c28bbd07"
      },
      "source": [
        "#counting number of duplicate values\n",
        "main_df.duplicated().sum()"
      ],
      "execution_count": null,
      "outputs": [
        {
          "output_type": "execute_result",
          "data": {
            "text/plain": [
              "4764"
            ]
          },
          "metadata": {
            "tags": []
          },
          "execution_count": 6
        }
      ]
    },
    {
      "cell_type": "code",
      "metadata": {
        "id": "EIa3yTmZ6fsy"
      },
      "source": [
        "#droping duplicate rows\n",
        "main_df.drop_duplicates(inplace=True)"
      ],
      "execution_count": null,
      "outputs": []
    },
    {
      "cell_type": "markdown",
      "metadata": {
        "id": "31LIcqNm6fsz"
      },
      "source": [
        "##EDA"
      ]
    },
    {
      "cell_type": "code",
      "metadata": {
        "colab": {
          "base_uri": "https://localhost:8080/"
        },
        "id": "STshvcIP6fsz",
        "outputId": "ba0df97b-4209-4066-8044-88a156b1051b"
      },
      "source": [
        "# shape of dataset after removing duplicte and All NaN value rows\n",
        "main_df.shape"
      ],
      "execution_count": null,
      "outputs": [
        {
          "output_type": "execute_result",
          "data": {
            "text/plain": [
              "(61183, 17)"
            ]
          },
          "metadata": {
            "tags": []
          },
          "execution_count": 8
        }
      ]
    },
    {
      "cell_type": "code",
      "metadata": {
        "colab": {
          "base_uri": "https://localhost:8080/"
        },
        "id": "4oi8Qnsp6fs0",
        "outputId": "ff143144-6373-4d58-9470-31d771af285d"
      },
      "source": [
        "# info of dataset\n",
        "main_df.info()\n"
      ],
      "execution_count": null,
      "outputs": [
        {
          "output_type": "stream",
          "text": [
            "<class 'pandas.core.frame.DataFrame'>\n",
            "Int64Index: 61183 entries, 1 to 131894\n",
            "Data columns (total 17 columns):\n",
            " #   Column           Non-Null Count  Dtype  \n",
            "---  ------           --------------  -----  \n",
            " 0   airline          61183 non-null  object \n",
            " 1   overall          59401 non-null  float64\n",
            " 2   author           61183 non-null  object \n",
            " 3   review_date      61183 non-null  object \n",
            " 4   customer_review  61183 non-null  object \n",
            " 5   aircraft         18488 non-null  object \n",
            " 6   traveller_type   37540 non-null  object \n",
            " 7   cabin            58705 non-null  object \n",
            " 8   route            37513 non-null  object \n",
            " 9   date_flown       37434 non-null  object \n",
            " 10  seat_comfort     56211 non-null  float64\n",
            " 11  cabin_service    56240 non-null  float64\n",
            " 12  food_bev         48341 non-null  float64\n",
            " 13  entertainment    40230 non-null  float64\n",
            " 14  ground_service   37169 non-null  float64\n",
            " 15  value_for_money  59327 non-null  float64\n",
            " 16  recommended      59761 non-null  object \n",
            "dtypes: float64(7), object(10)\n",
            "memory usage: 8.4+ MB\n"
          ],
          "name": "stdout"
        }
      ]
    },
    {
      "cell_type": "markdown",
      "metadata": {
        "id": "nwT0KEAr6fs0"
      },
      "source": [
        "####Checking for NaN \n"
      ]
    },
    {
      "cell_type": "code",
      "metadata": {
        "colab": {
          "base_uri": "https://localhost:8080/"
        },
        "id": "ySm6WgTP6fs1",
        "outputId": "aa24bc1c-4ace-4399-dc71-675022743ac9"
      },
      "source": [
        "#ploting heatmap to see NaN values in each features\n",
        "plt.figure(figsize=(12,6))\n",
        "sns.heatmap(main_df.isna(),cbar=False,cmap='Accent_r')"
      ],
      "execution_count": null,
      "outputs": [
        {
          "output_type": "execute_result",
          "data": {
            "text/plain": [
              "<matplotlib.axes._subplots.AxesSubplot at 0x7ff82a37cb50>"
            ]
          },
          "metadata": {
            "tags": []
          },
          "execution_count": 10
        },
        {
          "output_type": "display_data",
          "data": {
            "image/png": "[encoded data removed]",
            "text/plain": [
              "<Figure size 864x432 with 1 Axes>"
            ]
          },
          "metadata": {
            "tags": []
          }
        }
      ]
    },
    {
      "cell_type": "code",
      "metadata": {
        "colab": {
          "base_uri": "https://localhost:8080/"
        },
        "id": "ZN0SKRQy6fs1",
        "outputId": "c75402b2-0eab-4f6b-92cd-b0e15a0fff83"
      },
      "source": [
        "# counting  NaN values in each features\n",
        "main_df.isna().sum()"
      ],
      "execution_count": null,
      "outputs": [
        {
          "output_type": "execute_result",
          "data": {
            "text/plain": [
              "airline                0\n",
              "overall             1782\n",
              "author                 0\n",
              "review_date            0\n",
              "customer_review        0\n",
              "aircraft           42695\n",
              "traveller_type     23643\n",
              "cabin               2478\n",
              "route              23670\n",
              "date_flown         23749\n",
              "seat_comfort        4972\n",
              "cabin_service       4943\n",
              "food_bev           12842\n",
              "entertainment      20953\n",
              "ground_service     24014\n",
              "value_for_money     1856\n",
              "recommended         1422\n",
              "dtype: int64"
            ]
          },
          "metadata": {
            "tags": []
          },
          "execution_count": 11
        }
      ]
    },
    {
      "cell_type": "markdown",
      "metadata": {
        "id": "ryPh7oGC1xSA"
      },
      "source": [
        "From above we can see that there are many Nan values present in most of the features"
      ]
    },
    {
      "cell_type": "markdown",
      "metadata": {
        "id": "MbHajtk13Lx0"
      },
      "source": [
        "###Describe"
      ]
    },
    {
      "cell_type": "code",
      "metadata": {
        "colab": {
          "base_uri": "https://localhost:8080/"
        },
        "id": "qPgqcz5r6fs5",
        "outputId": "7ab4dfd4-ca49-46aa-8634-4573ddddd65d"
      },
      "source": [
        "# finding statistical value of numerical columns\n",
        "main_df.describe()"
      ],
      "execution_count": null,
      "outputs": [
        {
          "output_type": "execute_result",
          "data": {
            "text/html": [
              "<div>\n",
              "<style scoped>\n",
              "    .dataframe tbody tr th:only-of-type {\n",
              "        vertical-align: middle;\n",
              "    }\n",
              "\n",
              "    .dataframe tbody tr th {\n",
              "        vertical-align: top;\n",
              "    }\n",
              "\n",
              "    .dataframe thead th {\n",
              "        text-align: right;\n",
              "    }\n",
              "</style>\n",
              "<table border=\"1\" class=\"dataframe\">\n",
              "  <thead>\n",
              "    <tr style=\"text-align: right;\">\n",
              "      <th></th>\n",
              "      <th>overall</th>\n",
              "      <th>seat_comfort</th>\n",
              "      <th>cabin_service</th>\n",
              "      <th>food_bev</th>\n",
              "      <th>entertainment</th>\n",
              "      <th>ground_service</th>\n",
              "      <th>value_for_money</th>\n",
              "    </tr>\n",
              "  </thead>\n",
              "  <tbody>\n",
              "    <tr>\n",
              "      <th>count</th>\n",
              "      <td>59401.000000</td>\n",
              "      <td>56211.000000</td>\n",
              "      <td>56240.000000</td>\n",
              "      <td>48341.000000</td>\n",
              "      <td>40230.000000</td>\n",
              "      <td>37169.000000</td>\n",
              "      <td>59327.000000</td>\n",
              "    </tr>\n",
              "    <tr>\n",
              "      <th>mean</th>\n",
              "      <td>5.164863</td>\n",
              "      <td>2.959278</td>\n",
              "      <td>3.200231</td>\n",
              "      <td>2.926956</td>\n",
              "      <td>2.887994</td>\n",
              "      <td>2.681347</td>\n",
              "      <td>2.950849</td>\n",
              "    </tr>\n",
              "    <tr>\n",
              "      <th>std</th>\n",
              "      <td>3.483701</td>\n",
              "      <td>1.436467</td>\n",
              "      <td>1.568429</td>\n",
              "      <td>1.483122</td>\n",
              "      <td>1.504452</td>\n",
              "      <td>1.613995</td>\n",
              "      <td>1.588433</td>\n",
              "    </tr>\n",
              "    <tr>\n",
              "      <th>min</th>\n",
              "      <td>1.000000</td>\n",
              "      <td>1.000000</td>\n",
              "      <td>1.000000</td>\n",
              "      <td>1.000000</td>\n",
              "      <td>1.000000</td>\n",
              "      <td>1.000000</td>\n",
              "      <td>1.000000</td>\n",
              "    </tr>\n",
              "    <tr>\n",
              "      <th>25%</th>\n",
              "      <td>1.000000</td>\n",
              "      <td>2.000000</td>\n",
              "      <td>2.000000</td>\n",
              "      <td>1.000000</td>\n",
              "      <td>1.000000</td>\n",
              "      <td>1.000000</td>\n",
              "      <td>1.000000</td>\n",
              "    </tr>\n",
              "    <tr>\n",
              "      <th>50%</th>\n",
              "      <td>5.000000</td>\n",
              "      <td>3.000000</td>\n",
              "      <td>3.000000</td>\n",
              "      <td>3.000000</td>\n",
              "      <td>3.000000</td>\n",
              "      <td>3.000000</td>\n",
              "      <td>3.000000</td>\n",
              "    </tr>\n",
              "    <tr>\n",
              "      <th>75%</th>\n",
              "      <td>9.000000</td>\n",
              "      <td>4.000000</td>\n",
              "      <td>5.000000</td>\n",
              "      <td>4.000000</td>\n",
              "      <td>4.000000</td>\n",
              "      <td>4.000000</td>\n",
              "      <td>4.000000</td>\n",
              "    </tr>\n",
              "    <tr>\n",
              "      <th>max</th>\n",
              "      <td>10.000000</td>\n",
              "      <td>5.000000</td>\n",
              "      <td>5.000000</td>\n",
              "      <td>5.000000</td>\n",
              "      <td>5.000000</td>\n",
              "      <td>5.000000</td>\n",
              "      <td>5.000000</td>\n",
              "    </tr>\n",
              "  </tbody>\n",
              "</table>\n",
              "</div>"
            ],
            "text/plain": [
              "            overall  seat_comfort  ...  ground_service  value_for_money\n",
              "count  59401.000000  56211.000000  ...    37169.000000     59327.000000\n",
              "mean       5.164863      2.959278  ...        2.681347         2.950849\n",
              "std        3.483701      1.436467  ...        1.613995         1.588433\n",
              "min        1.000000      1.000000  ...        1.000000         1.000000\n",
              "25%        1.000000      2.000000  ...        1.000000         1.000000\n",
              "50%        5.000000      3.000000  ...        3.000000         3.000000\n",
              "75%        9.000000      4.000000  ...        4.000000         4.000000\n",
              "max       10.000000      5.000000  ...        5.000000         5.000000\n",
              "\n",
              "[8 rows x 7 columns]"
            ]
          },
          "metadata": {
            "tags": []
          },
          "execution_count": 12
        }
      ]
    },
    {
      "cell_type": "markdown",
      "metadata": {
        "id": "8glzM2As6fs6"
      },
      "source": [
        "### Checking  Imbalance in dataset\n",
        "\n",
        "---\n",
        "\n"
      ]
    },
    {
      "cell_type": "code",
      "metadata": {
        "colab": {
          "base_uri": "https://localhost:8080/"
        },
        "id": "2VtQ4t8v6fs6",
        "outputId": "e5e383b4-7103-403f-d53a-e1f442eb72f0"
      },
      "source": [
        "# ploting a bar graph to show count of class in recommended feature\n",
        "sns.factorplot(x=\"recommended\", data=main_df, kind=\"count\", size=5, aspect=1.2, palette=\"PuBuGn_d\")\n",
        "plt.show()"
      ],
      "execution_count": null,
      "outputs": [
        {
          "output_type": "stream",
          "text": [
            "/usr/local/lib/python3.7/dist-packages/seaborn/categorical.py:3714: UserWarning: The `factorplot` function has been renamed to `catplot`. The original name will be removed in a future release. Please update your code. Note that the default `kind` in `factorplot` (`'point'`) has changed `'strip'` in `catplot`.\n",
            "  warnings.warn(msg)\n",
            "/usr/local/lib/python3.7/dist-packages/seaborn/categorical.py:3720: UserWarning: The `size` parameter has been renamed to `height`; please update your code.\n",
            "  warnings.warn(msg, UserWarning)\n"
          ],
          "name": "stderr"
        },
        {
          "output_type": "display_data",
          "data": {
            "image/png": "[encoded data removed]",
            "text/plain": [
              "<Figure size 432x360 with 1 Axes>"
            ]
          },
          "metadata": {
            "tags": []
          }
        }
      ]
    },
    {
      "cell_type": "code",
      "metadata": {
        "colab": {
          "base_uri": "https://localhost:8080/"
        },
        "id": "P6vtWUsm6fs7",
        "outputId": "a4d87274-a81e-481e-de12-c91cf8b6514f"
      },
      "source": [
        "#no of nan values in recommeded column\n",
        "main_df['recommended'].isna().sum()"
      ],
      "execution_count": null,
      "outputs": [
        {
          "output_type": "execute_result",
          "data": {
            "text/plain": [
              "1422"
            ]
          },
          "metadata": {
            "tags": []
          },
          "execution_count": 14
        }
      ]
    },
    {
      "cell_type": "markdown",
      "metadata": {
        "id": "wmxF49jR3lHk"
      },
      "source": [
        "### Understanding relation Between Target variable and Independent variable"
      ]
    },
    {
      "cell_type": "code",
      "metadata": {
        "colab": {
          "base_uri": "https://localhost:8080/"
        },
        "id": "ZAnNY82Y4juh",
        "outputId": "c98a7d2e-f6cb-455a-ebbf-08d2dbc9d998"
      },
      "source": [
        "# features present in dataset\n",
        "features= main_df.columns\n",
        "features"
      ],
      "execution_count": null,
      "outputs": [
        {
          "output_type": "execute_result",
          "data": {
            "text/plain": [
              "Index(['airline', 'overall', 'author', 'review_date', 'customer_review',\n",
              "       'aircraft', 'traveller_type', 'cabin', 'route', 'date_flown',\n",
              "       'seat_comfort', 'cabin_service', 'food_bev', 'entertainment',\n",
              "       'ground_service', 'value_for_money', 'recommended'],\n",
              "      dtype='object')"
            ]
          },
          "metadata": {
            "tags": []
          },
          "execution_count": 15
        }
      ]
    },
    {
      "cell_type": "code",
      "metadata": {
        "id": "5G0v70fY6fs8"
      },
      "source": [
        "# creating list of idependent variable which hare numerical or having low class in features \n",
        "features_1= features.drop(['airline','author','aircraft','review_date', 'customer_review','route','recommended'])"
      ],
      "execution_count": null,
      "outputs": []
    },
    {
      "cell_type": "code",
      "metadata": {
        "colab": {
          "base_uri": "https://localhost:8080/"
        },
        "id": "_pjg-GPm6fs9",
        "outputId": "8d9490a9-e0b4-47a9-e518-f309b7cb4111"
      },
      "source": [
        "# ploting graph of count of feature grouped by target variable \n",
        "for feature in features_1:\n",
        "  print(feature)\n",
        "  main_df.groupby([feature])['recommended'].value_counts().unstack().plot(kind='bar',figsize=(15,6))\n",
        "  plt.title(f'How recommended  Varies with {feature} graph')\n",
        "  plt.ylabel(' Value Count')\n",
        "  plt.xlabel(feature)\n",
        "  plt.show()\n"
      ],
      "execution_count": null,
      "outputs": [
        {
          "output_type": "stream",
          "text": [
            "overall\n"
          ],
          "name": "stdout"
        },
        {
          "output_type": "display_data",
          "data": {
            "image/png": "[encoded data removed]",
            "text/plain": [
              "<Figure size 1080x432 with 1 Axes>"
            ]
          },
          "metadata": {
            "tags": []
          }
        },
        {
          "output_type": "stream",
          "text": [
            "traveller_type\n"
          ],
          "name": "stdout"
        },
        {
          "output_type": "display_data",
          "data": {
            "image/png": "[encoded data removed]",
            "text/plain": [
              "<Figure size 1080x432 with 1 Axes>"
            ]
          },
          "metadata": {
            "tags": []
          }
        },
        {
          "output_type": "stream",
          "text": [
            "cabin\n"
          ],
          "name": "stdout"
        },
        {
          "output_type": "display_data",
          "data": {
            "image/png": "[encoded data removed]",
            "text/plain": [
              "<Figure size 1080x432 with 1 Axes>"
            ]
          },
          "metadata": {
            "tags": []
          }
        },
        {
          "output_type": "stream",
          "text": [
            "date_flown\n"
          ],
          "name": "stdout"
        },
        {
          "output_type": "display_data",
          "data": {
            "image/png": "[encoded data removed]",
            "text/plain": [
              "<Figure size 1080x432 with 1 Axes>"
            ]
          },
          "metadata": {
            "tags": []
          }
        },
        {
          "output_type": "stream",
          "text": [
            "seat_comfort\n"
          ],
          "name": "stdout"
        },
        {
          "output_type": "display_data",
          "data": {
            "image/png": "[encoded data removed]",
            "text/plain": [
              "<Figure size 1080x432 with 1 Axes>"
            ]
          },
          "metadata": {
            "tags": []
          }
        },
        {
          "output_type": "stream",
          "text": [
            "cabin_service\n"
          ],
          "name": "stdout"
        },
        {
          "output_type": "display_data",
          "data": {
            "image/png": "[encoded data removed]",
            "text/plain": [
              "<Figure size 1080x432 with 1 Axes>"
            ]
          },
          "metadata": {
            "tags": []
          }
        },
        {
          "output_type": "stream",
          "text": [
            "food_bev\n"
          ],
          "name": "stdout"
        },
        {
          "output_type": "display_data",
          "data": {
            "image/png": "[encoded data removed]",
            "text/plain": [
              "<Figure size 1080x432 with 1 Axes>"
            ]
          },
          "metadata": {
            "tags": []
          }
        },
        {
          "output_type": "stream",
          "text": [
            "entertainment\n"
          ],
          "name": "stdout"
        },
        {
          "output_type": "display_data",
          "data": {
            "image/png": "[encoded data removed]",
            "text/plain": [
              "<Figure size 1080x432 with 1 Axes>"
            ]
          },
          "metadata": {
            "tags": []
          }
        },
        {
          "output_type": "stream",
          "text": [
            "ground_service\n"
          ],
          "name": "stdout"
        },
        {
          "output_type": "display_data",
          "data": {
            "image/png": "[encoded data removed]",
            "text/plain": [
              "<Figure size 1080x432 with 1 Axes>"
            ]
          },
          "metadata": {
            "tags": []
          }
        },
        {
          "output_type": "stream",
          "text": [
            "value_for_money\n"
          ],
          "name": "stdout"
        },
        {
          "output_type": "display_data",
          "data": {
            "image/png": "[encoded data removed]",
            "text/plain": [
              "<Figure size 1080x432 with 1 Axes>"
            ]
          },
          "metadata": {
            "tags": []
          }
        }
      ]
    },
    {
      "cell_type": "markdown",
      "metadata": {
        "id": "bhEM_1rU6fs9"
      },
      "source": [
        "###Conclusion of above graphs\n",
        "\n",
        "**Numerical Features**\n",
        "* From all above graphs we can see that when a person have given higher rating then we have also recommended to the  friend.\n",
        "* we can also see some anomilities where a person have given very low rating and still recommended and visa versa.\n",
        "\n",
        "> Overall feature\n",
        " * So one thing we can be sure of that if a person have given an overall rating of less than 2 we wont be recommended.\n",
        " * whereas a person who have given a rating greater than 8 there are high chances that he will recommend.\n",
        "\n",
        "**Categorical Features**\n",
        "> Travel Type\n",
        " * The number of not recommended is higher in all the Travel type class\n",
        " but couple is one class where the diffrence is higher Where as solo class have minimun diffrence.\n",
        " * From above we can conclude that people travelling in groups face more problems than people travelling alone.\n",
        "\n",
        "> Cabin\n",
        " * Economy class is most unsatisfied by the services provided by the airline, thats why majority of them are not recommending.\n",
        "\n",
        "\n"
      ]
    },
    {
      "cell_type": "markdown",
      "metadata": {
        "id": "oEbza_zX5p7H"
      },
      "source": [
        "##Imputation of Missing values in Target variable"
      ]
    },
    {
      "cell_type": "markdown",
      "metadata": {
        "id": "JZIR_ea47o1C"
      },
      "source": [
        "We will try to find the missing values in recommended columns with the help of a model.\n",
        "\n",
        "we have a text column where a person have written his experience on the flight, so with the help of sentiment analysis on this test data, we will try to Impute the missing values in recommended feature\n",
        "\n"
      ]
    },
    {
      "cell_type": "code",
      "metadata": {
        "colab": {
          "base_uri": "https://localhost:8080/",
          "height": 419
        },
        "id": "7YKaGd-529JR",
        "outputId": "cc0a215e-47e3-4c4d-cc17-d9d03e09ea33"
      },
      "source": [
        "# creating a seprate dataset to perform \n",
        "# data for navie bayes model\n",
        "text_df=main_df[['customer_review','recommended']]\n",
        "text_df"
      ],
      "execution_count": null,
      "outputs": [
        {
          "output_type": "execute_result",
          "data": {
            "text/html": [
              "<div>\n",
              "<style scoped>\n",
              "    .dataframe tbody tr th:only-of-type {\n",
              "        vertical-align: middle;\n",
              "    }\n",
              "\n",
              "    .dataframe tbody tr th {\n",
              "        vertical-align: top;\n",
              "    }\n",
              "\n",
              "    .dataframe thead th {\n",
              "        text-align: right;\n",
              "    }\n",
              "</style>\n",
              "<table border=\"1\" class=\"dataframe\">\n",
              "  <thead>\n",
              "    <tr style=\"text-align: right;\">\n",
              "      <th></th>\n",
              "      <th>customer_review</th>\n",
              "      <th>recommended</th>\n",
              "    </tr>\n",
              "  </thead>\n",
              "  <tbody>\n",
              "    <tr>\n",
              "      <th>1</th>\n",
              "      <td>âœ… Trip Verified | London to Izmir via Istanb...</td>\n",
              "      <td>yes</td>\n",
              "    </tr>\n",
              "    <tr>\n",
              "      <th>3</th>\n",
              "      <td>âœ… Trip Verified | Istanbul to Bucharest. We ...</td>\n",
              "      <td>no</td>\n",
              "    </tr>\n",
              "    <tr>\n",
              "      <th>5</th>\n",
              "      <td>âœ… Trip Verified | Rome to Prishtina via Ista...</td>\n",
              "      <td>no</td>\n",
              "    </tr>\n",
              "    <tr>\n",
              "      <th>7</th>\n",
              "      <td>âœ… Trip Verified | Flew on Turkish Airlines I...</td>\n",
              "      <td>yes</td>\n",
              "    </tr>\n",
              "    <tr>\n",
              "      <th>9</th>\n",
              "      <td>âœ… Trip Verified | Mumbai to Dublin via Istan...</td>\n",
              "      <td>no</td>\n",
              "    </tr>\n",
              "    <tr>\n",
              "      <th>...</th>\n",
              "      <td>...</td>\n",
              "      <td>...</td>\n",
              "    </tr>\n",
              "    <tr>\n",
              "      <th>131886</th>\n",
              "      <td>Two domestic flights between Kiev and Lviv las...</td>\n",
              "      <td>no</td>\n",
              "    </tr>\n",
              "    <tr>\n",
              "      <th>131888</th>\n",
              "      <td>I had a good flight from London to Kiev with U...</td>\n",
              "      <td>no</td>\n",
              "    </tr>\n",
              "    <tr>\n",
              "      <th>131890</th>\n",
              "      <td>Kiev - London (Gatwick) in business class (in ...</td>\n",
              "      <td>no</td>\n",
              "    </tr>\n",
              "    <tr>\n",
              "      <th>131892</th>\n",
              "      <td>Several flights - KBP to AMS (3 times one way)...</td>\n",
              "      <td>no</td>\n",
              "    </tr>\n",
              "    <tr>\n",
              "      <th>131894</th>\n",
              "      <td>KBP-AMS with UIA. Although it was a relatively...</td>\n",
              "      <td>no</td>\n",
              "    </tr>\n",
              "  </tbody>\n",
              "</table>\n",
              "<p>61183 rows × 2 columns</p>\n",
              "</div>"
            ],
            "text/plain": [
              "                                          customer_review recommended\n",
              "1       âœ… Trip Verified | London to Izmir via Istanb...         yes\n",
              "3       âœ… Trip Verified | Istanbul to Bucharest. We ...          no\n",
              "5       âœ… Trip Verified | Rome to Prishtina via Ista...          no\n",
              "7       âœ… Trip Verified | Flew on Turkish Airlines I...         yes\n",
              "9       âœ… Trip Verified | Mumbai to Dublin via Istan...          no\n",
              "...                                                   ...         ...\n",
              "131886  Two domestic flights between Kiev and Lviv las...          no\n",
              "131888  I had a good flight from London to Kiev with U...          no\n",
              "131890  Kiev - London (Gatwick) in business class (in ...          no\n",
              "131892  Several flights - KBP to AMS (3 times one way)...          no\n",
              "131894  KBP-AMS with UIA. Although it was a relatively...          no\n",
              "\n",
              "[61183 rows x 2 columns]"
            ]
          },
          "metadata": {
            "tags": []
          },
          "execution_count": 18
        }
      ]
    },
    {
      "cell_type": "code",
      "metadata": {
        "colab": {
          "base_uri": "https://localhost:8080/"
        },
        "id": "s1gXuKulXnzy",
        "outputId": "a0a09e5b-bdb1-4b02-a58b-7096e2e20a0e"
      },
      "source": [
        "text_df.info()"
      ],
      "execution_count": null,
      "outputs": [
        {
          "output_type": "stream",
          "text": [
            "<class 'pandas.core.frame.DataFrame'>\n",
            "Int64Index: 61183 entries, 1 to 131894\n",
            "Data columns (total 2 columns):\n",
            " #   Column           Non-Null Count  Dtype \n",
            "---  ------           --------------  ----- \n",
            " 0   customer_review  61183 non-null  object\n",
            " 1   recommended      59761 non-null  object\n",
            "dtypes: object(2)\n",
            "memory usage: 3.9+ MB\n"
          ],
          "name": "stdout"
        }
      ]
    },
    {
      "cell_type": "code",
      "metadata": {
        "id": "636iNFZvXz3E"
      },
      "source": [
        ""
      ],
      "execution_count": null,
      "outputs": []
    },
    {
      "cell_type": "code",
      "metadata": {
        "colab": {
          "base_uri": "https://localhost:8080/"
        },
        "id": "4oSUJIgkLvm8",
        "outputId": "72b4434d-9d38-4488-e889-62a4ef51189a"
      },
      "source": [
        "text_df['review_len']= text_df['customer_review'].str.len()"
      ],
      "execution_count": null,
      "outputs": [
        {
          "output_type": "stream",
          "text": [
            "/usr/local/lib/python3.7/dist-packages/ipykernel_launcher.py:1: SettingWithCopyWarning: \n",
            "A value is trying to be set on a copy of a slice from a DataFrame.\n",
            "Try using .loc[row_indexer,col_indexer] = value instead\n",
            "\n",
            "See the caveats in the documentation: https://pandas.pydata.org/pandas-docs/stable/user_guide/indexing.html#returning-a-view-versus-a-copy\n",
            "  \"\"\"Entry point for launching an IPython kernel.\n"
          ],
          "name": "stderr"
        }
      ]
    },
    {
      "cell_type": "code",
      "metadata": {
        "colab": {
          "base_uri": "https://localhost:8080/",
          "height": 419
        },
        "id": "gMqCf6-iMD5S",
        "outputId": "a8c92f9f-00c9-4bc3-8c4e-590bd05f27f2"
      },
      "source": [
        "\n",
        "text_df"
      ],
      "execution_count": null,
      "outputs": [
        {
          "output_type": "execute_result",
          "data": {
            "text/html": [
              "<div>\n",
              "<style scoped>\n",
              "    .dataframe tbody tr th:only-of-type {\n",
              "        vertical-align: middle;\n",
              "    }\n",
              "\n",
              "    .dataframe tbody tr th {\n",
              "        vertical-align: top;\n",
              "    }\n",
              "\n",
              "    .dataframe thead th {\n",
              "        text-align: right;\n",
              "    }\n",
              "</style>\n",
              "<table border=\"1\" class=\"dataframe\">\n",
              "  <thead>\n",
              "    <tr style=\"text-align: right;\">\n",
              "      <th></th>\n",
              "      <th>customer_review</th>\n",
              "      <th>recommended</th>\n",
              "      <th>review_len</th>\n",
              "    </tr>\n",
              "  </thead>\n",
              "  <tbody>\n",
              "    <tr>\n",
              "      <th>1</th>\n",
              "      <td>âœ… Trip Verified | London to Izmir via Istanb...</td>\n",
              "      <td>yes</td>\n",
              "      <td>1143</td>\n",
              "    </tr>\n",
              "    <tr>\n",
              "      <th>3</th>\n",
              "      <td>âœ… Trip Verified | Istanbul to Bucharest. We ...</td>\n",
              "      <td>no</td>\n",
              "      <td>467</td>\n",
              "    </tr>\n",
              "    <tr>\n",
              "      <th>5</th>\n",
              "      <td>âœ… Trip Verified | Rome to Prishtina via Ista...</td>\n",
              "      <td>no</td>\n",
              "      <td>1648</td>\n",
              "    </tr>\n",
              "    <tr>\n",
              "      <th>7</th>\n",
              "      <td>âœ… Trip Verified | Flew on Turkish Airlines I...</td>\n",
              "      <td>yes</td>\n",
              "      <td>955</td>\n",
              "    </tr>\n",
              "    <tr>\n",
              "      <th>9</th>\n",
              "      <td>âœ… Trip Verified | Mumbai to Dublin via Istan...</td>\n",
              "      <td>no</td>\n",
              "      <td>416</td>\n",
              "    </tr>\n",
              "    <tr>\n",
              "      <th>...</th>\n",
              "      <td>...</td>\n",
              "      <td>...</td>\n",
              "      <td>...</td>\n",
              "    </tr>\n",
              "    <tr>\n",
              "      <th>131886</th>\n",
              "      <td>Two domestic flights between Kiev and Lviv las...</td>\n",
              "      <td>no</td>\n",
              "      <td>546</td>\n",
              "    </tr>\n",
              "    <tr>\n",
              "      <th>131888</th>\n",
              "      <td>I had a good flight from London to Kiev with U...</td>\n",
              "      <td>no</td>\n",
              "      <td>450</td>\n",
              "    </tr>\n",
              "    <tr>\n",
              "      <th>131890</th>\n",
              "      <td>Kiev - London (Gatwick) in business class (in ...</td>\n",
              "      <td>no</td>\n",
              "      <td>1531</td>\n",
              "    </tr>\n",
              "    <tr>\n",
              "      <th>131892</th>\n",
              "      <td>Several flights - KBP to AMS (3 times one way)...</td>\n",
              "      <td>no</td>\n",
              "      <td>772</td>\n",
              "    </tr>\n",
              "    <tr>\n",
              "      <th>131894</th>\n",
              "      <td>KBP-AMS with UIA. Although it was a relatively...</td>\n",
              "      <td>no</td>\n",
              "      <td>209</td>\n",
              "    </tr>\n",
              "  </tbody>\n",
              "</table>\n",
              "<p>61183 rows × 3 columns</p>\n",
              "</div>"
            ],
            "text/plain": [
              "                                          customer_review  ... review_len\n",
              "1       âœ… Trip Verified | London to Izmir via Istanb...  ...       1143\n",
              "3       âœ… Trip Verified | Istanbul to Bucharest. We ...  ...        467\n",
              "5       âœ… Trip Verified | Rome to Prishtina via Ista...  ...       1648\n",
              "7       âœ… Trip Verified | Flew on Turkish Airlines I...  ...        955\n",
              "9       âœ… Trip Verified | Mumbai to Dublin via Istan...  ...        416\n",
              "...                                                   ...  ...        ...\n",
              "131886  Two domestic flights between Kiev and Lviv las...  ...        546\n",
              "131888  I had a good flight from London to Kiev with U...  ...        450\n",
              "131890  Kiev - London (Gatwick) in business class (in ...  ...       1531\n",
              "131892  Several flights - KBP to AMS (3 times one way)...  ...        772\n",
              "131894  KBP-AMS with UIA. Although it was a relatively...  ...        209\n",
              "\n",
              "[61183 rows x 3 columns]"
            ]
          },
          "metadata": {
            "tags": []
          },
          "execution_count": 21
        }
      ]
    },
    {
      "cell_type": "markdown",
      "metadata": {
        "id": "uA9iYflw9Tji"
      },
      "source": [
        "## Relation between len of text review and recommended columns"
      ]
    },
    {
      "cell_type": "markdown",
      "metadata": {
        "id": "8Slus8b1kfp7"
      },
      "source": [
        "##Box plot"
      ]
    },
    {
      "cell_type": "code",
      "metadata": {
        "id": "LrDGfyHNnDAk"
      },
      "source": [
        "# doing goupby to plot bar graphs on bases of yes and no\n",
        "GN= text_df.groupby('recommended')"
      ],
      "execution_count": null,
      "outputs": []
    },
    {
      "cell_type": "code",
      "metadata": {
        "colab": {
          "base_uri": "https://localhost:8080/",
          "height": 577
        },
        "id": "zNt_QlVqnMWc",
        "outputId": "ac9337ac-963e-4c9b-e022-3f81473083eb"
      },
      "source": [
        "for name , name_df in GN:\n",
        "  print(name)\n",
        "  sns.boxplot(x='review_len',data= name_df)\n",
        "  plt.show()"
      ],
      "execution_count": null,
      "outputs": [
        {
          "output_type": "stream",
          "text": [
            "no\n"
          ],
          "name": "stdout"
        },
        {
          "output_type": "display_data",
          "data": {
            "image/png": "[encoded data removed]",
            "text/plain": [
              "<Figure size 432x288 with 1 Axes>"
            ]
          },
          "metadata": {
            "tags": []
          }
        },
        {
          "output_type": "stream",
          "text": [
            "yes\n"
          ],
          "name": "stdout"
        },
        {
          "output_type": "display_data",
          "data": {
            "image/png": "[encoded data removed]",
            "text/plain": [
              "<Figure size 432x288 with 1 Axes>"
            ]
          },
          "metadata": {
            "tags": []
          }
        }
      ]
    },
    {
      "cell_type": "markdown",
      "metadata": {
        "id": "GPrRfFUioFX7"
      },
      "source": [
        "From above boxplot we can conclude that as the length of text increases the recommended value will be no"
      ]
    },
    {
      "cell_type": "markdown",
      "metadata": {
        "id": "MFQSSCZjSrGN"
      },
      "source": [
        "###Text Processesing  "
      ]
    },
    {
      "cell_type": "code",
      "metadata": {
        "id": "svtgKp5HY9Vq"
      },
      "source": [
        "# import re for regularExpression\n",
        "# importing natural language toolkit\n",
        "import re\n",
        "import nltk\n"
      ],
      "execution_count": null,
      "outputs": []
    },
    {
      "cell_type": "code",
      "metadata": {
        "id": "AQ-wQCP7c1aG"
      },
      "source": [
        "# importing stopwords from nitk corpus\n",
        "from nltk.corpus import stopwords"
      ],
      "execution_count": null,
      "outputs": []
    },
    {
      "cell_type": "code",
      "metadata": {
        "colab": {
          "base_uri": "https://localhost:8080/"
        },
        "id": "0nVUZpMaee2y",
        "outputId": "75684f53-6e55-4b85-b905-45affcf90357"
      },
      "source": [
        "# downloading all stopwords\n",
        "nltk.download('stopwords')\n",
        "nltk.download('wordnet')"
      ],
      "execution_count": null,
      "outputs": [
        {
          "output_type": "stream",
          "text": [
            "[nltk_data] Downloading package stopwords to /root/nltk_data...\n",
            "[nltk_data]   Unzipping corpora/stopwords.zip.\n",
            "[nltk_data] Downloading package wordnet to /root/nltk_data...\n",
            "[nltk_data]   Unzipping corpora/wordnet.zip.\n"
          ],
          "name": "stdout"
        },
        {
          "output_type": "execute_result",
          "data": {
            "text/plain": [
              "True"
            ]
          },
          "metadata": {
            "tags": []
          },
          "execution_count": 26
        }
      ]
    },
    {
      "cell_type": "code",
      "metadata": {
        "id": "KXWGeqliruVR"
      },
      "source": [
        "\n",
        "  "
      ],
      "execution_count": null,
      "outputs": []
    },
    {
      "cell_type": "code",
      "metadata": {
        "id": "GhSgIlujeQwa"
      },
      "source": [
        "# selecting all stop words from english \n",
        "stop_words=stopwords.words('english')"
      ],
      "execution_count": null,
      "outputs": []
    },
    {
      "cell_type": "code",
      "metadata": {
        "id": "6ZQJ3MUmru7g"
      },
      "source": [
        "from nltk.stem import WordNetLemmatizer\n",
        "lemmatizer = WordNetLemmatizer()"
      ],
      "execution_count": null,
      "outputs": []
    },
    {
      "cell_type": "code",
      "metadata": {
        "id": "n7nQ7S4SVwlP"
      },
      "source": [
        "def text_cleaning(data):\n",
        "\n",
        "  #remove all special character\n",
        "  processed_feature = re.sub(r'\\W', ' ', str(data))\n",
        "\n",
        "  # remove all single characters\n",
        "  processed_feature= re.sub(r'\\s+[a-zA-Z]\\s+', ' ', processed_feature)\n",
        "\n",
        "  # Remove single characters from the start\n",
        "  processed_feature = re.sub(r'\\^[a-zA-Z]\\s+', ' ', processed_feature) \n",
        "\n",
        "  # Substituting multiple spaces with single space\n",
        "  processed_feature = re.sub(r'\\s+', ' ', processed_feature, flags=re.I)\n",
        "\n",
        "  # Removing prefixed 'b'\n",
        "  processed_feature = re.sub(r'^b\\s+', '', processed_feature)\n",
        "\n",
        "  # Converting to Lowercase\n",
        "  processed_feature = processed_feature.lower()\n",
        "\n",
        "  \n",
        "  processed_feature = processed_feature.split(' ')\n",
        "\n",
        "  # using lemmatization on words\n",
        "  processed_feature = [lemmatizer.lemmatize(i) for i in processed_feature]\n",
        "\n",
        "  # creating 2gram \n",
        "  processed_feature = [ ''.join(processed_feature[i:i+2]) for i in range(len(processed_feature)-1)]\n",
        "  \n",
        "\n",
        "  # removing stopword\n",
        "  processed_feature = ' '.join([i for i in processed_feature if i not in stop_words])\n",
        "\n",
        "  return processed_feature\n",
        "\n",
        "    \n",
        "  "
      ],
      "execution_count": 43,
      "outputs": []
    },
    {
      "cell_type": "code",
      "metadata": {
        "colab": {
          "base_uri": "https://localhost:8080/"
        },
        "id": "Tpy-CVL-khF4",
        "outputId": "3d8b3135-1ba3-46fd-957e-a6094800f8e3"
      },
      "source": [
        "# creating token of words with the help of text cleaning function\n",
        "text_df['tokenized_mess'] = text_df['customer_review'].apply(text_cleaning)"
      ],
      "execution_count": 44,
      "outputs": [
        {
          "output_type": "stream",
          "text": [
            "/usr/local/lib/python3.7/dist-packages/ipykernel_launcher.py:2: SettingWithCopyWarning: \n",
            "A value is trying to be set on a copy of a slice from a DataFrame.\n",
            "Try using .loc[row_indexer,col_indexer] = value instead\n",
            "\n",
            "See the caveats in the documentation: https://pandas.pydata.org/pandas-docs/stable/user_guide/indexing.html#returning-a-view-versus-a-copy\n",
            "  \n"
          ],
          "name": "stderr"
        }
      ]
    },
    {
      "cell_type": "code",
      "metadata": {
        "id": "MFBgbEOsZfQo",
        "colab": {
          "base_uri": "https://localhost:8080/",
          "height": 419
        },
        "outputId": "d8ea5fa7-50ed-4b42-e46e-dcaf0f5b5471"
      },
      "source": [
        "text_df"
      ],
      "execution_count": 45,
      "outputs": [
        {
          "output_type": "execute_result",
          "data": {
            "text/html": [
              "<div>\n",
              "<style scoped>\n",
              "    .dataframe tbody tr th:only-of-type {\n",
              "        vertical-align: middle;\n",
              "    }\n",
              "\n",
              "    .dataframe tbody tr th {\n",
              "        vertical-align: top;\n",
              "    }\n",
              "\n",
              "    .dataframe thead th {\n",
              "        text-align: right;\n",
              "    }\n",
              "</style>\n",
              "<table border=\"1\" class=\"dataframe\">\n",
              "  <thead>\n",
              "    <tr style=\"text-align: right;\">\n",
              "      <th></th>\n",
              "      <th>customer_review</th>\n",
              "      <th>recommended</th>\n",
              "      <th>review_len</th>\n",
              "      <th>tokenized_mess</th>\n",
              "    </tr>\n",
              "  </thead>\n",
              "  <tbody>\n",
              "    <tr>\n",
              "      <th>1</th>\n",
              "      <td>âœ… Trip Verified | London to Izmir via Istanb...</td>\n",
              "      <td>yes</td>\n",
              "      <td>1143</td>\n",
              "      <td>âœtrip tripverified verifiedlondon londonto to...</td>\n",
              "    </tr>\n",
              "    <tr>\n",
              "      <th>3</th>\n",
              "      <td>âœ… Trip Verified | Istanbul to Bucharest. We ...</td>\n",
              "      <td>no</td>\n",
              "      <td>467</td>\n",
              "      <td>âœtrip tripverified verifiedistanbul istanbult...</td>\n",
              "    </tr>\n",
              "    <tr>\n",
              "      <th>5</th>\n",
              "      <td>âœ… Trip Verified | Rome to Prishtina via Ista...</td>\n",
              "      <td>no</td>\n",
              "      <td>1648</td>\n",
              "      <td>âœtrip tripverified verifiedrome rometo topris...</td>\n",
              "    </tr>\n",
              "    <tr>\n",
              "      <th>7</th>\n",
              "      <td>âœ… Trip Verified | Flew on Turkish Airlines I...</td>\n",
              "      <td>yes</td>\n",
              "      <td>955</td>\n",
              "      <td>âœtrip tripverified verifiedflew flewon onturk...</td>\n",
              "    </tr>\n",
              "    <tr>\n",
              "      <th>9</th>\n",
              "      <td>âœ… Trip Verified | Mumbai to Dublin via Istan...</td>\n",
              "      <td>no</td>\n",
              "      <td>416</td>\n",
              "      <td>âœtrip tripverified verifiedmumbai mumbaito to...</td>\n",
              "    </tr>\n",
              "    <tr>\n",
              "      <th>...</th>\n",
              "      <td>...</td>\n",
              "      <td>...</td>\n",
              "      <td>...</td>\n",
              "      <td>...</td>\n",
              "    </tr>\n",
              "    <tr>\n",
              "      <th>131886</th>\n",
              "      <td>Two domestic flights between Kiev and Lviv las...</td>\n",
              "      <td>no</td>\n",
              "      <td>546</td>\n",
              "      <td>twodomestic domesticflight flightbetween betwe...</td>\n",
              "    </tr>\n",
              "    <tr>\n",
              "      <th>131888</th>\n",
              "      <td>I had a good flight from London to Kiev with U...</td>\n",
              "      <td>no</td>\n",
              "      <td>450</td>\n",
              "      <td>ihad hadgood goodflight flightfrom fromlondon ...</td>\n",
              "    </tr>\n",
              "    <tr>\n",
              "      <th>131890</th>\n",
              "      <td>Kiev - London (Gatwick) in business class (in ...</td>\n",
              "      <td>no</td>\n",
              "      <td>1531</td>\n",
              "      <td>kievlondon londongatwick gatwickin inbusiness ...</td>\n",
              "    </tr>\n",
              "    <tr>\n",
              "      <th>131892</th>\n",
              "      <td>Several flights - KBP to AMS (3 times one way)...</td>\n",
              "      <td>no</td>\n",
              "      <td>772</td>\n",
              "      <td>severalflight flightkbp kbpto toam am3 3time t...</td>\n",
              "    </tr>\n",
              "    <tr>\n",
              "      <th>131894</th>\n",
              "      <td>KBP-AMS with UIA. Although it was a relatively...</td>\n",
              "      <td>no</td>\n",
              "      <td>209</td>\n",
              "      <td>kbpam amwith withuia uiaalthough althoughit it...</td>\n",
              "    </tr>\n",
              "  </tbody>\n",
              "</table>\n",
              "<p>61183 rows × 4 columns</p>\n",
              "</div>"
            ],
            "text/plain": [
              "                                          customer_review  ...                                     tokenized_mess\n",
              "1       âœ… Trip Verified | London to Izmir via Istanb...  ...  âœtrip tripverified verifiedlondon londonto to...\n",
              "3       âœ… Trip Verified | Istanbul to Bucharest. We ...  ...  âœtrip tripverified verifiedistanbul istanbult...\n",
              "5       âœ… Trip Verified | Rome to Prishtina via Ista...  ...  âœtrip tripverified verifiedrome rometo topris...\n",
              "7       âœ… Trip Verified | Flew on Turkish Airlines I...  ...  âœtrip tripverified verifiedflew flewon onturk...\n",
              "9       âœ… Trip Verified | Mumbai to Dublin via Istan...  ...  âœtrip tripverified verifiedmumbai mumbaito to...\n",
              "...                                                   ...  ...                                                ...\n",
              "131886  Two domestic flights between Kiev and Lviv las...  ...  twodomestic domesticflight flightbetween betwe...\n",
              "131888  I had a good flight from London to Kiev with U...  ...  ihad hadgood goodflight flightfrom fromlondon ...\n",
              "131890  Kiev - London (Gatwick) in business class (in ...  ...  kievlondon londongatwick gatwickin inbusiness ...\n",
              "131892  Several flights - KBP to AMS (3 times one way)...  ...  severalflight flightkbp kbpto toam am3 3time t...\n",
              "131894  KBP-AMS with UIA. Although it was a relatively...  ...  kbpam amwith withuia uiaalthough althoughit it...\n",
              "\n",
              "[61183 rows x 4 columns]"
            ]
          },
          "metadata": {
            "tags": []
          },
          "execution_count": 45
        }
      ]
    },
    {
      "cell_type": "markdown",
      "metadata": {
        "id": "A9eO-MIG4Rom"
      },
      "source": [
        "Seprating NaN and Non Nan values in recommender columns"
      ]
    },
    {
      "cell_type": "code",
      "metadata": {
        "id": "XYV4zAPd4ZQQ"
      },
      "source": [
        "# dataset when we dropped all NaN values from recommended columns\n",
        "text_df_1 = text_df.dropna() "
      ],
      "execution_count": 46,
      "outputs": []
    },
    {
      "cell_type": "code",
      "metadata": {
        "id": "IoxYbaHt4n06"
      },
      "source": [
        "# dataset with NaN values\n",
        "text_df_2 = text_df[text_df['recommended'].isna()]\n"
      ],
      "execution_count": 47,
      "outputs": []
    },
    {
      "cell_type": "markdown",
      "metadata": {
        "id": "ze8sVee0pqoa"
      },
      "source": [
        "Creating Testing and training dataset"
      ]
    },
    {
      "cell_type": "code",
      "metadata": {
        "id": "7w1rmoalo7oF"
      },
      "source": [
        "from sklearn.feature_extraction.text import TfidfVectorizer"
      ],
      "execution_count": 48,
      "outputs": []
    },
    {
      "cell_type": "code",
      "metadata": {
        "id": "zTKPNRhLfM-H"
      },
      "source": [
        "# creating test train set for model training  on data set\n",
        "from sklearn.model_selection import train_test_split\n",
        "X_train,X_test,y_train,y_test = train_test_split(text_df_1['tokenized_mess'],text_df_1['recommended'],test_size=0.25)"
      ],
      "execution_count": 49,
      "outputs": []
    },
    {
      "cell_type": "markdown",
      "metadata": {
        "id": "DCE0Ti8-py1Y"
      },
      "source": [
        "### TF-idf vectorization"
      ]
    },
    {
      "cell_type": "code",
      "metadata": {
        "id": "4ElPUcirp3AQ"
      },
      "source": [
        "# there are more than 10K features \n",
        "# setting max_features to 7500 for system performance \n",
        "vectorization = TfidfVectorizer(max_features=7500,min_df=7,max_df=0.8)"
      ],
      "execution_count": 50,
      "outputs": []
    },
    {
      "cell_type": "code",
      "metadata": {
        "id": "xetCkmdqs-JP"
      },
      "source": [
        "# creating array of taining dataset\n",
        "X_train = vectorization.fit_transform(X_train).toarray()\n",
        "\n",
        "# creating array on test dataset with the help of toarray\n",
        "X_test = vectorization.transform(X_test).toarray()"
      ],
      "execution_count": 51,
      "outputs": []
    },
    {
      "cell_type": "code",
      "metadata": {
        "id": "UlepZFlaxQaW",
        "colab": {
          "base_uri": "https://localhost:8080/"
        },
        "outputId": "fef1c004-e066-408f-8215-285acc665426"
      },
      "source": [
        "len(vectorization.get_feature_names())"
      ],
      "execution_count": 52,
      "outputs": [
        {
          "output_type": "execute_result",
          "data": {
            "text/plain": [
              "7500"
            ]
          },
          "metadata": {
            "tags": []
          },
          "execution_count": 52
        }
      ]
    },
    {
      "cell_type": "code",
      "metadata": {
        "id": "q5dCjsyRtU0W"
      },
      "source": [
        "#importing naive bayes classifiers\n",
        "from sklearn.naive_bayes import GaussianNB\n",
        "from sklearn.naive_bayes import MultinomialNB\n",
        "from sklearn.naive_bayes import BernoulliNB\n"
      ],
      "execution_count": 53,
      "outputs": []
    },
    {
      "cell_type": "markdown",
      "metadata": {
        "id": "QIO2jfWTuvez"
      },
      "source": [
        "Applying Gaussian naive bayes"
      ]
    },
    {
      "cell_type": "code",
      "metadata": {
        "id": "paKGZbf4uYDt"
      },
      "source": [
        "# training Gausssian Naive bayes classifier\n",
        "GNB  = GaussianNB().fit(X_train,y_train)"
      ],
      "execution_count": 54,
      "outputs": []
    },
    {
      "cell_type": "code",
      "metadata": {
        "id": "9894wtjDu6Im"
      },
      "source": [
        "# predicting on train data\n",
        "y_train_pred_gnb = GNB.predict(X_train)\n",
        "\n",
        "# predicting on test data\n",
        "y_test_pred_gnb = GNB.predict(X_test)"
      ],
      "execution_count": 55,
      "outputs": []
    },
    {
      "cell_type": "markdown",
      "metadata": {
        "id": "QOorMcH111PX"
      },
      "source": [
        "Applying Multinomial Naive bayes"
      ]
    },
    {
      "cell_type": "code",
      "metadata": {
        "id": "QLnjFDNG10aW"
      },
      "source": [
        "#creating MultinomialNaive bayes\n",
        "MNB = MultinomialNB().fit(X_train,y_train)"
      ],
      "execution_count": 56,
      "outputs": []
    },
    {
      "cell_type": "code",
      "metadata": {
        "id": "ShyJQmAN2Ja9"
      },
      "source": [
        "# predicting on train data\n",
        "y_train_pred_mnb = MNB.predict(X_train)\n",
        "\n",
        "# predicting on test data\n",
        "y_test_pred_mnb = MNB.predict(X_test)"
      ],
      "execution_count": 57,
      "outputs": []
    },
    {
      "cell_type": "markdown",
      "metadata": {
        "id": "8nByz5W12Tmm"
      },
      "source": [
        "Applying Bernoulli Naive bayes"
      ]
    },
    {
      "cell_type": "code",
      "metadata": {
        "id": "WRroLhsX2TN2"
      },
      "source": [
        "# applying bernoulii Naive bayes\n",
        "BNB = BernoulliNB().fit(X_train,y_train)"
      ],
      "execution_count": 58,
      "outputs": []
    },
    {
      "cell_type": "code",
      "metadata": {
        "id": "Y7zZZNNt2h9d"
      },
      "source": [
        "# predicting on train data\n",
        "y_train_pred_bnb = BNB.predict(X_train)\n",
        "\n",
        "# predicting on train data\n",
        "y_test_pred_bnb = BNB.predict(X_test)\n"
      ],
      "execution_count": 59,
      "outputs": []
    },
    {
      "cell_type": "code",
      "metadata": {
        "id": "NwYWgg9qvaX1"
      },
      "source": [
        "# importing classification report and confusion matrix\n",
        "from sklearn.metrics import classification_report,confusion_matrix"
      ],
      "execution_count": 60,
      "outputs": []
    },
    {
      "cell_type": "code",
      "metadata": {
        "id": "bcQhfkhd0cTf",
        "colab": {
          "base_uri": "https://localhost:8080/"
        },
        "outputId": "78ef7442-93c4-44c1-eadb-c3a5aa440d45"
      },
      "source": [
        "print(confusion_matrix(y_train,y_train_pred_gnb))\n",
        "print(confusion_matrix(y_test,y_test_pred_gnb))"
      ],
      "execution_count": 61,
      "outputs": [
        {
          "output_type": "stream",
          "text": [
            "[[20247  3267]\n",
            " [ 2308 18998]]\n",
            "[[6580 1174]\n",
            " [ 843 6344]]\n"
          ],
          "name": "stdout"
        }
      ]
    },
    {
      "cell_type": "markdown",
      "metadata": {
        "id": "mzOJLsmYAE1O"
      },
      "source": [
        "####Result of GaussianNB"
      ]
    },
    {
      "cell_type": "code",
      "metadata": {
        "id": "Dujge8h303lF",
        "colab": {
          "base_uri": "https://localhost:8080/"
        },
        "outputId": "af537eac-0e24-4c51-d50e-eefc87df6be7"
      },
      "source": [
        "print(classification_report(y_train,y_train_pred_gnb))\n",
        "print(\"\\n\")\n",
        "print(classification_report(y_test,y_test_pred_gnb))"
      ],
      "execution_count": 62,
      "outputs": [
        {
          "output_type": "stream",
          "text": [
            "              precision    recall  f1-score   support\n",
            "\n",
            "          no       0.90      0.86      0.88     23514\n",
            "         yes       0.85      0.89      0.87     21306\n",
            "\n",
            "    accuracy                           0.88     44820\n",
            "   macro avg       0.88      0.88      0.88     44820\n",
            "weighted avg       0.88      0.88      0.88     44820\n",
            "\n",
            "\n",
            "\n",
            "              precision    recall  f1-score   support\n",
            "\n",
            "          no       0.89      0.85      0.87      7754\n",
            "         yes       0.84      0.88      0.86      7187\n",
            "\n",
            "    accuracy                           0.87     14941\n",
            "   macro avg       0.87      0.87      0.86     14941\n",
            "weighted avg       0.87      0.87      0.87     14941\n",
            "\n"
          ],
          "name": "stdout"
        }
      ]
    },
    {
      "cell_type": "markdown",
      "metadata": {
        "id": "F3i0jrsqAJlq"
      },
      "source": [
        "####Result of MultinomialNB"
      ]
    },
    {
      "cell_type": "code",
      "metadata": {
        "id": "Q8jS92y52tLF",
        "colab": {
          "base_uri": "https://localhost:8080/"
        },
        "outputId": "20660c5f-93ee-4fb0-ac38-92682dc17fca"
      },
      "source": [
        "print(classification_report(y_train,y_train_pred_mnb))\n",
        "print(\"\\n\")\n",
        "print(classification_report(y_test,y_test_pred_mnb))"
      ],
      "execution_count": 63,
      "outputs": [
        {
          "output_type": "stream",
          "text": [
            "              precision    recall  f1-score   support\n",
            "\n",
            "          no       0.89      0.85      0.87     23514\n",
            "         yes       0.84      0.88      0.86     21306\n",
            "\n",
            "    accuracy                           0.87     44820\n",
            "   macro avg       0.87      0.87      0.87     44820\n",
            "weighted avg       0.87      0.87      0.87     44820\n",
            "\n",
            "\n",
            "\n",
            "              precision    recall  f1-score   support\n",
            "\n",
            "          no       0.89      0.85      0.87      7754\n",
            "         yes       0.84      0.89      0.86      7187\n",
            "\n",
            "    accuracy                           0.86     14941\n",
            "   macro avg       0.86      0.87      0.86     14941\n",
            "weighted avg       0.87      0.86      0.86     14941\n",
            "\n"
          ],
          "name": "stdout"
        }
      ]
    },
    {
      "cell_type": "markdown",
      "metadata": {
        "id": "Q1PWsPZSAOtz"
      },
      "source": [
        "###Result of BernoulliNB"
      ]
    },
    {
      "cell_type": "code",
      "metadata": {
        "id": "3pUxqMFK22zd",
        "colab": {
          "base_uri": "https://localhost:8080/"
        },
        "outputId": "62ae137d-f971-427d-9a94-996df8b9b491"
      },
      "source": [
        "print(classification_report(y_train,y_train_pred_bnb))\n",
        "print(\"\\n\")\n",
        "print(classification_report(y_test,y_test_pred_bnb))"
      ],
      "execution_count": 64,
      "outputs": [
        {
          "output_type": "stream",
          "text": [
            "              precision    recall  f1-score   support\n",
            "\n",
            "          no       0.89      0.76      0.82     23514\n",
            "         yes       0.77      0.90      0.83     21306\n",
            "\n",
            "    accuracy                           0.83     44820\n",
            "   macro avg       0.83      0.83      0.83     44820\n",
            "weighted avg       0.84      0.83      0.82     44820\n",
            "\n",
            "\n",
            "\n",
            "              precision    recall  f1-score   support\n",
            "\n",
            "          no       0.90      0.75      0.81      7754\n",
            "         yes       0.77      0.91      0.83      7187\n",
            "\n",
            "    accuracy                           0.82     14941\n",
            "   macro avg       0.83      0.83      0.82     14941\n",
            "weighted avg       0.83      0.82      0.82     14941\n",
            "\n"
          ],
          "name": "stdout"
        }
      ]
    },
    {
      "cell_type": "markdown",
      "metadata": {
        "id": "pDQof24h6KRF"
      },
      "source": [
        "In above code we see that multinomial is performing best in all naive bayes classifier"
      ]
    },
    {
      "cell_type": "markdown",
      "metadata": {
        "id": "JfA7AVV-6eUk"
      },
      "source": [
        "With the help of this classifier lets try to find the NaN values of recommender columns."
      ]
    },
    {
      "cell_type": "code",
      "metadata": {
        "id": "-exDhuj57cFq"
      },
      "source": [
        "# creating arry of word with the help of tf-idfvectorizer \n",
        "# on NaN value dataset\n",
        "X_new= vectorization.transform(text_df_2['tokenized_mess']).toarray()"
      ],
      "execution_count": 65,
      "outputs": []
    },
    {
      "cell_type": "code",
      "metadata": {
        "id": "Yx-FRv216Trb",
        "colab": {
          "base_uri": "https://localhost:8080/"
        },
        "outputId": "3b8e9ea4-e940-46cd-c78f-e902a90b5d42"
      },
      "source": [
        "# predicting on NaN dataset\n",
        "text_df_2['recommended']=  MNB.predict(X_new)"
      ],
      "execution_count": 66,
      "outputs": [
        {
          "output_type": "stream",
          "text": [
            "/usr/local/lib/python3.7/dist-packages/ipykernel_launcher.py:2: SettingWithCopyWarning: \n",
            "A value is trying to be set on a copy of a slice from a DataFrame.\n",
            "Try using .loc[row_indexer,col_indexer] = value instead\n",
            "\n",
            "See the caveats in the documentation: https://pandas.pydata.org/pandas-docs/stable/user_guide/indexing.html#returning-a-view-versus-a-copy\n",
            "  \n"
          ],
          "name": "stderr"
        }
      ]
    },
    {
      "cell_type": "code",
      "metadata": {
        "id": "Pe3AH2RG7MqI",
        "colab": {
          "base_uri": "https://localhost:8080/",
          "height": 419
        },
        "outputId": "c33c1ccf-219b-4bae-9d88-7779d00b5686"
      },
      "source": [
        "text_df_2"
      ],
      "execution_count": 67,
      "outputs": [
        {
          "output_type": "execute_result",
          "data": {
            "text/html": [
              "<div>\n",
              "<style scoped>\n",
              "    .dataframe tbody tr th:only-of-type {\n",
              "        vertical-align: middle;\n",
              "    }\n",
              "\n",
              "    .dataframe tbody tr th {\n",
              "        vertical-align: top;\n",
              "    }\n",
              "\n",
              "    .dataframe thead th {\n",
              "        text-align: right;\n",
              "    }\n",
              "</style>\n",
              "<table border=\"1\" class=\"dataframe\">\n",
              "  <thead>\n",
              "    <tr style=\"text-align: right;\">\n",
              "      <th></th>\n",
              "      <th>customer_review</th>\n",
              "      <th>recommended</th>\n",
              "      <th>review_len</th>\n",
              "      <th>tokenized_mess</th>\n",
              "    </tr>\n",
              "  </thead>\n",
              "  <tbody>\n",
              "    <tr>\n",
              "      <th>65</th>\n",
              "      <td>âœ… Trip Verified | Lagos to Istanbul via Kath...</td>\n",
              "      <td>no</td>\n",
              "      <td>629</td>\n",
              "      <td>âœtrip tripverified verifiedlagos lagosto tois...</td>\n",
              "    </tr>\n",
              "    <tr>\n",
              "      <th>153</th>\n",
              "      <td>âœ… Trip Verified | Seychelles to Birmingham v...</td>\n",
              "      <td>no</td>\n",
              "      <td>469</td>\n",
              "      <td>âœtrip tripverified verifiedseychelles seychel...</td>\n",
              "    </tr>\n",
              "    <tr>\n",
              "      <th>209</th>\n",
              "      <td>âœ… Trip Verified | London to Bangkok via Ista...</td>\n",
              "      <td>yes</td>\n",
              "      <td>213</td>\n",
              "      <td>âœtrip tripverified verifiedlondon londonto to...</td>\n",
              "    </tr>\n",
              "    <tr>\n",
              "      <th>211</th>\n",
              "      <td>âœ… Trip Verified | At check-in in Johannesbur...</td>\n",
              "      <td>no</td>\n",
              "      <td>803</td>\n",
              "      <td>âœtrip tripverified verifiedat atcheck checkin...</td>\n",
              "    </tr>\n",
              "    <tr>\n",
              "      <th>261</th>\n",
              "      <td>âœ… Trip Verified | San Francisco to Mashhad v...</td>\n",
              "      <td>no</td>\n",
              "      <td>527</td>\n",
              "      <td>âœtrip tripverified verifiedsan sanfrancisco f...</td>\n",
              "    </tr>\n",
              "    <tr>\n",
              "      <th>...</th>\n",
              "      <td>...</td>\n",
              "      <td>...</td>\n",
              "      <td>...</td>\n",
              "      <td>...</td>\n",
              "    </tr>\n",
              "    <tr>\n",
              "      <th>131460</th>\n",
              "      <td>âœ… Trip Verified | Kiev to Riga. 24 hrs befor...</td>\n",
              "      <td>no</td>\n",
              "      <td>1437</td>\n",
              "      <td>âœtrip tripverified verifiedkiev kievto toriga...</td>\n",
              "    </tr>\n",
              "    <tr>\n",
              "      <th>131554</th>\n",
              "      <td>âœ… Verified Review | Flew Ukraine Internation...</td>\n",
              "      <td>no</td>\n",
              "      <td>1375</td>\n",
              "      <td>âœverified verifiedreview reviewflew flewukrai...</td>\n",
              "    </tr>\n",
              "    <tr>\n",
              "      <th>131648</th>\n",
              "      <td>We travelled Ukraine International from London...</td>\n",
              "      <td>no</td>\n",
              "      <td>1431</td>\n",
              "      <td>wetravelled travelledukraine ukraineinternatio...</td>\n",
              "    </tr>\n",
              "    <tr>\n",
              "      <th>131726</th>\n",
              "      <td>DXB-KBP-LGW. Both planes were 737-800s but the...</td>\n",
              "      <td>no</td>\n",
              "      <td>411</td>\n",
              "      <td>dxbkbp kbplgw lgwboth bothplane planewere were...</td>\n",
              "    </tr>\n",
              "    <tr>\n",
              "      <th>131792</th>\n",
              "      <td>Flew four flights in July 2013 Tel Aviv (TLV) ...</td>\n",
              "      <td>yes</td>\n",
              "      <td>76</td>\n",
              "      <td>flewfour fourflight flightin injuly july2013 2...</td>\n",
              "    </tr>\n",
              "  </tbody>\n",
              "</table>\n",
              "<p>1422 rows × 4 columns</p>\n",
              "</div>"
            ],
            "text/plain": [
              "                                          customer_review  ...                                     tokenized_mess\n",
              "65      âœ… Trip Verified | Lagos to Istanbul via Kath...  ...  âœtrip tripverified verifiedlagos lagosto tois...\n",
              "153     âœ… Trip Verified | Seychelles to Birmingham v...  ...  âœtrip tripverified verifiedseychelles seychel...\n",
              "209     âœ… Trip Verified | London to Bangkok via Ista...  ...  âœtrip tripverified verifiedlondon londonto to...\n",
              "211     âœ… Trip Verified | At check-in in Johannesbur...  ...  âœtrip tripverified verifiedat atcheck checkin...\n",
              "261     âœ… Trip Verified | San Francisco to Mashhad v...  ...  âœtrip tripverified verifiedsan sanfrancisco f...\n",
              "...                                                   ...  ...                                                ...\n",
              "131460  âœ… Trip Verified | Kiev to Riga. 24 hrs befor...  ...  âœtrip tripverified verifiedkiev kievto toriga...\n",
              "131554  âœ… Verified Review | Flew Ukraine Internation...  ...  âœverified verifiedreview reviewflew flewukrai...\n",
              "131648  We travelled Ukraine International from London...  ...  wetravelled travelledukraine ukraineinternatio...\n",
              "131726  DXB-KBP-LGW. Both planes were 737-800s but the...  ...  dxbkbp kbplgw lgwboth bothplane planewere were...\n",
              "131792  Flew four flights in July 2013 Tel Aviv (TLV) ...  ...  flewfour fourflight flightin injuly july2013 2...\n",
              "\n",
              "[1422 rows x 4 columns]"
            ]
          },
          "metadata": {
            "tags": []
          },
          "execution_count": 67
        }
      ]
    },
    {
      "cell_type": "markdown",
      "metadata": {
        "id": "1KrxNXYq0gQd"
      },
      "source": [
        "### Imputing the result of above model in missing values of recommender feature\n"
      ]
    },
    {
      "cell_type": "code",
      "metadata": {
        "id": "YjSdHSWo8N-W"
      },
      "source": [
        "#varibale which have Nan values in recommended features\n",
        "recommended_nan = main_df['recommended'].isna()"
      ],
      "execution_count": 68,
      "outputs": []
    },
    {
      "cell_type": "code",
      "metadata": {
        "id": "MFD-KYhkjL2R"
      },
      "source": [
        "# imputation of depended variable with prediction MNB model\n",
        "main_df.loc[recommended_nan,'recommended'] = text_df_2['recommended']"
      ],
      "execution_count": 69,
      "outputs": []
    },
    {
      "cell_type": "markdown",
      "metadata": {
        "id": "NOYLKRunCILT"
      },
      "source": [
        "##Imputing Nan values in Independed features"
      ]
    },
    {
      "cell_type": "markdown",
      "metadata": {
        "id": "4ETp1dBuCaQ-"
      },
      "source": [
        "We will be droping the columns which have more than 60% of  data as Nan and is Categorical features"
      ]
    },
    {
      "cell_type": "markdown",
      "metadata": {
        "id": "p-XJtUJ5b4oW"
      },
      "source": [
        "As from heat map we can see that there are few features which have NaN values, it would be right decision to drop the features which have More that 60% values as NaN, as imputing them will only create baisness in the dataset"
      ]
    },
    {
      "cell_type": "code",
      "metadata": {
        "id": "lz2bGWibZ5sC"
      },
      "source": [
        "# function to get columns which have more than 60% values as NaN\n",
        "def null_percentage(name):\n",
        "  'this function will collect all features which have nan vaalues more than 60%'\n",
        "  drop_features =[]\n",
        "  for i in name:\n",
        "    null_value= main_df[i].isna().sum()\n",
        "    if (null_value/len(main_df)) > 0.6:\n",
        "      drop_features.append(i)\n",
        "\n",
        "  return drop_features"
      ],
      "execution_count": 70,
      "outputs": []
    },
    {
      "cell_type": "code",
      "metadata": {
        "id": "83hpgI_OedV_",
        "colab": {
          "base_uri": "https://localhost:8080/"
        },
        "outputId": "16e07a4d-cb57-4b7c-cc11-a8b128c3dcf5"
      },
      "source": [
        "# applying function\n",
        "droping_features= null_percentage(features)\n",
        "droping_features\n"
      ],
      "execution_count": 71,
      "outputs": [
        {
          "output_type": "execute_result",
          "data": {
            "text/plain": [
              "['aircraft']"
            ]
          },
          "metadata": {
            "tags": []
          },
          "execution_count": 71
        }
      ]
    },
    {
      "cell_type": "code",
      "metadata": {
        "id": "m4uPK_2BDMAD"
      },
      "source": [
        "#uniques values in this columns\n",
        "# main_df[droping_features"
      ],
      "execution_count": 156,
      "outputs": []
    },
    {
      "cell_type": "code",
      "metadata": {
        "id": "uMEuvCsYdjpQ",
        "colab": {
          "base_uri": "https://localhost:8080/",
          "height": 323
        },
        "outputId": "407d83b2-e031-41a3-b3f2-eb669a347870"
      },
      "source": [
        "# droping these features\n",
        "main_df.drop(droping_features,axis=1,inplace=True)"
      ],
      "execution_count": 74,
      "outputs": [
        {
          "output_type": "error",
          "ename": "KeyError",
          "evalue": "ignored",
          "traceback": [
            "\u001b[0;31m---------------------------------------------------------------------------\u001b[0m",
            "\u001b[0;31mKeyError\u001b[0m                                  Traceback (most recent call last)",
            "\u001b[0;32m<ipython-input-74-ecbf54b55278>\u001b[0m in \u001b[0;36m<module>\u001b[0;34m()\u001b[0m\n\u001b[1;32m      1\u001b[0m \u001b[0;31m# droping these features\u001b[0m\u001b[0;34m\u001b[0m\u001b[0;34m\u001b[0m\u001b[0;34m\u001b[0m\u001b[0m\n\u001b[0;32m----> 2\u001b[0;31m \u001b[0mmain_df\u001b[0m\u001b[0;34m.\u001b[0m\u001b[0mdrop\u001b[0m\u001b[0;34m(\u001b[0m\u001b[0mdroping_features\u001b[0m\u001b[0;34m,\u001b[0m\u001b[0maxis\u001b[0m\u001b[0;34m=\u001b[0m\u001b[0;36m1\u001b[0m\u001b[0;34m,\u001b[0m\u001b[0minplace\u001b[0m\u001b[0;34m=\u001b[0m\u001b[0;32mTrue\u001b[0m\u001b[0;34m)\u001b[0m\u001b[0;34m\u001b[0m\u001b[0;34m\u001b[0m\u001b[0m\n\u001b[0m",
            "\u001b[0;32m/usr/local/lib/python3.7/dist-packages/pandas/core/frame.py\u001b[0m in \u001b[0;36mdrop\u001b[0;34m(self, labels, axis, index, columns, level, inplace, errors)\u001b[0m\n\u001b[1;32m   4172\u001b[0m             \u001b[0mlevel\u001b[0m\u001b[0;34m=\u001b[0m\u001b[0mlevel\u001b[0m\u001b[0;34m,\u001b[0m\u001b[0;34m\u001b[0m\u001b[0;34m\u001b[0m\u001b[0m\n\u001b[1;32m   4173\u001b[0m             \u001b[0minplace\u001b[0m\u001b[0;34m=\u001b[0m\u001b[0minplace\u001b[0m\u001b[0;34m,\u001b[0m\u001b[0;34m\u001b[0m\u001b[0;34m\u001b[0m\u001b[0m\n\u001b[0;32m-> 4174\u001b[0;31m             \u001b[0merrors\u001b[0m\u001b[0;34m=\u001b[0m\u001b[0merrors\u001b[0m\u001b[0;34m,\u001b[0m\u001b[0;34m\u001b[0m\u001b[0;34m\u001b[0m\u001b[0m\n\u001b[0m\u001b[1;32m   4175\u001b[0m         )\n\u001b[1;32m   4176\u001b[0m \u001b[0;34m\u001b[0m\u001b[0m\n",
            "\u001b[0;32m/usr/local/lib/python3.7/dist-packages/pandas/core/generic.py\u001b[0m in \u001b[0;36mdrop\u001b[0;34m(self, labels, axis, index, columns, level, inplace, errors)\u001b[0m\n\u001b[1;32m   3887\u001b[0m         \u001b[0;32mfor\u001b[0m \u001b[0maxis\u001b[0m\u001b[0;34m,\u001b[0m \u001b[0mlabels\u001b[0m \u001b[0;32min\u001b[0m \u001b[0maxes\u001b[0m\u001b[0;34m.\u001b[0m\u001b[0mitems\u001b[0m\u001b[0;34m(\u001b[0m\u001b[0;34m)\u001b[0m\u001b[0;34m:\u001b[0m\u001b[0;34m\u001b[0m\u001b[0;34m\u001b[0m\u001b[0m\n\u001b[1;32m   3888\u001b[0m             \u001b[0;32mif\u001b[0m \u001b[0mlabels\u001b[0m \u001b[0;32mis\u001b[0m \u001b[0;32mnot\u001b[0m \u001b[0;32mNone\u001b[0m\u001b[0;34m:\u001b[0m\u001b[0;34m\u001b[0m\u001b[0;34m\u001b[0m\u001b[0m\n\u001b[0;32m-> 3889\u001b[0;31m                 \u001b[0mobj\u001b[0m \u001b[0;34m=\u001b[0m \u001b[0mobj\u001b[0m\u001b[0;34m.\u001b[0m\u001b[0m_drop_axis\u001b[0m\u001b[0;34m(\u001b[0m\u001b[0mlabels\u001b[0m\u001b[0;34m,\u001b[0m \u001b[0maxis\u001b[0m\u001b[0;34m,\u001b[0m \u001b[0mlevel\u001b[0m\u001b[0;34m=\u001b[0m\u001b[0mlevel\u001b[0m\u001b[0;34m,\u001b[0m \u001b[0merrors\u001b[0m\u001b[0;34m=\u001b[0m\u001b[0merrors\u001b[0m\u001b[0;34m)\u001b[0m\u001b[0;34m\u001b[0m\u001b[0;34m\u001b[0m\u001b[0m\n\u001b[0m\u001b[1;32m   3890\u001b[0m \u001b[0;34m\u001b[0m\u001b[0m\n\u001b[1;32m   3891\u001b[0m         \u001b[0;32mif\u001b[0m \u001b[0minplace\u001b[0m\u001b[0;34m:\u001b[0m\u001b[0;34m\u001b[0m\u001b[0;34m\u001b[0m\u001b[0m\n",
            "\u001b[0;32m/usr/local/lib/python3.7/dist-packages/pandas/core/generic.py\u001b[0m in \u001b[0;36m_drop_axis\u001b[0;34m(self, labels, axis, level, errors)\u001b[0m\n\u001b[1;32m   3921\u001b[0m                 \u001b[0mnew_axis\u001b[0m \u001b[0;34m=\u001b[0m \u001b[0maxis\u001b[0m\u001b[0;34m.\u001b[0m\u001b[0mdrop\u001b[0m\u001b[0;34m(\u001b[0m\u001b[0mlabels\u001b[0m\u001b[0;34m,\u001b[0m \u001b[0mlevel\u001b[0m\u001b[0;34m=\u001b[0m\u001b[0mlevel\u001b[0m\u001b[0;34m,\u001b[0m \u001b[0merrors\u001b[0m\u001b[0;34m=\u001b[0m\u001b[0merrors\u001b[0m\u001b[0;34m)\u001b[0m\u001b[0;34m\u001b[0m\u001b[0;34m\u001b[0m\u001b[0m\n\u001b[1;32m   3922\u001b[0m             \u001b[0;32melse\u001b[0m\u001b[0;34m:\u001b[0m\u001b[0;34m\u001b[0m\u001b[0;34m\u001b[0m\u001b[0m\n\u001b[0;32m-> 3923\u001b[0;31m                 \u001b[0mnew_axis\u001b[0m \u001b[0;34m=\u001b[0m \u001b[0maxis\u001b[0m\u001b[0;34m.\u001b[0m\u001b[0mdrop\u001b[0m\u001b[0;34m(\u001b[0m\u001b[0mlabels\u001b[0m\u001b[0;34m,\u001b[0m \u001b[0merrors\u001b[0m\u001b[0;34m=\u001b[0m\u001b[0merrors\u001b[0m\u001b[0;34m)\u001b[0m\u001b[0;34m\u001b[0m\u001b[0;34m\u001b[0m\u001b[0m\n\u001b[0m\u001b[1;32m   3924\u001b[0m             \u001b[0mresult\u001b[0m \u001b[0;34m=\u001b[0m \u001b[0mself\u001b[0m\u001b[0;34m.\u001b[0m\u001b[0mreindex\u001b[0m\u001b[0;34m(\u001b[0m\u001b[0;34m**\u001b[0m\u001b[0;34m{\u001b[0m\u001b[0maxis_name\u001b[0m\u001b[0;34m:\u001b[0m \u001b[0mnew_axis\u001b[0m\u001b[0;34m}\u001b[0m\u001b[0;34m)\u001b[0m\u001b[0;34m\u001b[0m\u001b[0;34m\u001b[0m\u001b[0m\n\u001b[1;32m   3925\u001b[0m \u001b[0;34m\u001b[0m\u001b[0m\n",
            "\u001b[0;32m/usr/local/lib/python3.7/dist-packages/pandas/core/indexes/base.py\u001b[0m in \u001b[0;36mdrop\u001b[0;34m(self, labels, errors)\u001b[0m\n\u001b[1;32m   5285\u001b[0m         \u001b[0;32mif\u001b[0m \u001b[0mmask\u001b[0m\u001b[0;34m.\u001b[0m\u001b[0many\u001b[0m\u001b[0;34m(\u001b[0m\u001b[0;34m)\u001b[0m\u001b[0;34m:\u001b[0m\u001b[0;34m\u001b[0m\u001b[0;34m\u001b[0m\u001b[0m\n\u001b[1;32m   5286\u001b[0m             \u001b[0;32mif\u001b[0m \u001b[0merrors\u001b[0m \u001b[0;34m!=\u001b[0m \u001b[0;34m\"ignore\"\u001b[0m\u001b[0;34m:\u001b[0m\u001b[0;34m\u001b[0m\u001b[0;34m\u001b[0m\u001b[0m\n\u001b[0;32m-> 5287\u001b[0;31m                 \u001b[0;32mraise\u001b[0m \u001b[0mKeyError\u001b[0m\u001b[0;34m(\u001b[0m\u001b[0;34mf\"{labels[mask]} not found in axis\"\u001b[0m\u001b[0;34m)\u001b[0m\u001b[0;34m\u001b[0m\u001b[0;34m\u001b[0m\u001b[0m\n\u001b[0m\u001b[1;32m   5288\u001b[0m             \u001b[0mindexer\u001b[0m \u001b[0;34m=\u001b[0m \u001b[0mindexer\u001b[0m\u001b[0;34m[\u001b[0m\u001b[0;34m~\u001b[0m\u001b[0mmask\u001b[0m\u001b[0;34m]\u001b[0m\u001b[0;34m\u001b[0m\u001b[0;34m\u001b[0m\u001b[0m\n\u001b[1;32m   5289\u001b[0m         \u001b[0;32mreturn\u001b[0m \u001b[0mself\u001b[0m\u001b[0;34m.\u001b[0m\u001b[0mdelete\u001b[0m\u001b[0;34m(\u001b[0m\u001b[0mindexer\u001b[0m\u001b[0;34m)\u001b[0m\u001b[0;34m\u001b[0m\u001b[0;34m\u001b[0m\u001b[0m\n",
            "\u001b[0;31mKeyError\u001b[0m: \"['aircraft'] not found in axis\""
          ]
        }
      ]
    },
    {
      "cell_type": "markdown",
      "metadata": {
        "id": "AUqVD55OEaQ6"
      },
      "source": [
        "#### Imputing NaN in numerical columns\n",
        "\n",
        "we have 7 numerical columns \n",
        "\n",
        "if a person have given high review to seat_comfort, food_bev, ground service, cabin_service ,entertainment then there is high chance that overall ratting will also be high and visa versa.\n",
        "\n",
        "we have also seen that recommended is highly dependent on overall review.\n"
      ]
    },
    {
      "cell_type": "markdown",
      "metadata": {
        "id": "vB18KpXQGFh4"
      },
      "source": [
        "lets try to find all rows which have nan values for every numerical variable"
      ]
    },
    {
      "cell_type": "code",
      "metadata": {
        "id": "TH2bFpK5zz7R",
        "colab": {
          "base_uri": "https://localhost:8080/",
          "height": 813
        },
        "outputId": "282af5ba-a598-4245-d417-c0e5a0c009db"
      },
      "source": [
        "main_df"
      ],
      "execution_count": 75,
      "outputs": [
        {
          "output_type": "execute_result",
          "data": {
            "text/html": [
              "<div>\n",
              "<style scoped>\n",
              "    .dataframe tbody tr th:only-of-type {\n",
              "        vertical-align: middle;\n",
              "    }\n",
              "\n",
              "    .dataframe tbody tr th {\n",
              "        vertical-align: top;\n",
              "    }\n",
              "\n",
              "    .dataframe thead th {\n",
              "        text-align: right;\n",
              "    }\n",
              "</style>\n",
              "<table border=\"1\" class=\"dataframe\">\n",
              "  <thead>\n",
              "    <tr style=\"text-align: right;\">\n",
              "      <th></th>\n",
              "      <th>airline</th>\n",
              "      <th>overall</th>\n",
              "      <th>author</th>\n",
              "      <th>review_date</th>\n",
              "      <th>customer_review</th>\n",
              "      <th>traveller_type</th>\n",
              "      <th>cabin</th>\n",
              "      <th>route</th>\n",
              "      <th>date_flown</th>\n",
              "      <th>seat_comfort</th>\n",
              "      <th>cabin_service</th>\n",
              "      <th>food_bev</th>\n",
              "      <th>entertainment</th>\n",
              "      <th>ground_service</th>\n",
              "      <th>value_for_money</th>\n",
              "      <th>recommended</th>\n",
              "    </tr>\n",
              "  </thead>\n",
              "  <tbody>\n",
              "    <tr>\n",
              "      <th>1</th>\n",
              "      <td>Turkish Airlines</td>\n",
              "      <td>7.0</td>\n",
              "      <td>Christopher Hackley</td>\n",
              "      <td>8th May 2019</td>\n",
              "      <td>âœ… Trip Verified | London to Izmir via Istanb...</td>\n",
              "      <td>Business</td>\n",
              "      <td>Economy Class</td>\n",
              "      <td>London to Izmir via Istanbul</td>\n",
              "      <td>2019-05-01 00:00:00</td>\n",
              "      <td>4.0</td>\n",
              "      <td>5.0</td>\n",
              "      <td>4.0</td>\n",
              "      <td>4.0</td>\n",
              "      <td>2.0</td>\n",
              "      <td>4.0</td>\n",
              "      <td>yes</td>\n",
              "    </tr>\n",
              "    <tr>\n",
              "      <th>3</th>\n",
              "      <td>Turkish Airlines</td>\n",
              "      <td>2.0</td>\n",
              "      <td>Adriana Pisoi</td>\n",
              "      <td>7th May 2019</td>\n",
              "      <td>âœ… Trip Verified | Istanbul to Bucharest. We ...</td>\n",
              "      <td>Family Leisure</td>\n",
              "      <td>Economy Class</td>\n",
              "      <td>Istanbul to Bucharest</td>\n",
              "      <td>2019-05-01 00:00:00</td>\n",
              "      <td>4.0</td>\n",
              "      <td>1.0</td>\n",
              "      <td>1.0</td>\n",
              "      <td>1.0</td>\n",
              "      <td>1.0</td>\n",
              "      <td>1.0</td>\n",
              "      <td>no</td>\n",
              "    </tr>\n",
              "    <tr>\n",
              "      <th>5</th>\n",
              "      <td>Turkish Airlines</td>\n",
              "      <td>3.0</td>\n",
              "      <td>M Galerko</td>\n",
              "      <td>7th May 2019</td>\n",
              "      <td>âœ… Trip Verified | Rome to Prishtina via Ista...</td>\n",
              "      <td>Business</td>\n",
              "      <td>Economy Class</td>\n",
              "      <td>Rome to Prishtina via Istanbul</td>\n",
              "      <td>2019-05-01 00:00:00</td>\n",
              "      <td>1.0</td>\n",
              "      <td>4.0</td>\n",
              "      <td>1.0</td>\n",
              "      <td>3.0</td>\n",
              "      <td>1.0</td>\n",
              "      <td>2.0</td>\n",
              "      <td>no</td>\n",
              "    </tr>\n",
              "    <tr>\n",
              "      <th>7</th>\n",
              "      <td>Turkish Airlines</td>\n",
              "      <td>10.0</td>\n",
              "      <td>Zeshan Shah</td>\n",
              "      <td>6th May 2019</td>\n",
              "      <td>âœ… Trip Verified | Flew on Turkish Airlines I...</td>\n",
              "      <td>Solo Leisure</td>\n",
              "      <td>Economy Class</td>\n",
              "      <td>Washington Dulles to Karachi</td>\n",
              "      <td>April 2019</td>\n",
              "      <td>4.0</td>\n",
              "      <td>5.0</td>\n",
              "      <td>5.0</td>\n",
              "      <td>5.0</td>\n",
              "      <td>5.0</td>\n",
              "      <td>5.0</td>\n",
              "      <td>yes</td>\n",
              "    </tr>\n",
              "    <tr>\n",
              "      <th>9</th>\n",
              "      <td>Turkish Airlines</td>\n",
              "      <td>1.0</td>\n",
              "      <td>Pooja Jain</td>\n",
              "      <td>6th May 2019</td>\n",
              "      <td>âœ… Trip Verified | Mumbai to Dublin via Istan...</td>\n",
              "      <td>Solo Leisure</td>\n",
              "      <td>Economy Class</td>\n",
              "      <td>Mumbai to Dublin via Istanbul</td>\n",
              "      <td>2019-05-01 00:00:00</td>\n",
              "      <td>1.0</td>\n",
              "      <td>1.0</td>\n",
              "      <td>1.0</td>\n",
              "      <td>1.0</td>\n",
              "      <td>1.0</td>\n",
              "      <td>1.0</td>\n",
              "      <td>no</td>\n",
              "    </tr>\n",
              "    <tr>\n",
              "      <th>...</th>\n",
              "      <td>...</td>\n",
              "      <td>...</td>\n",
              "      <td>...</td>\n",
              "      <td>...</td>\n",
              "      <td>...</td>\n",
              "      <td>...</td>\n",
              "      <td>...</td>\n",
              "      <td>...</td>\n",
              "      <td>...</td>\n",
              "      <td>...</td>\n",
              "      <td>...</td>\n",
              "      <td>...</td>\n",
              "      <td>...</td>\n",
              "      <td>...</td>\n",
              "      <td>...</td>\n",
              "      <td>...</td>\n",
              "    </tr>\n",
              "    <tr>\n",
              "      <th>131886</th>\n",
              "      <td>Ukraine International</td>\n",
              "      <td>NaN</td>\n",
              "      <td>Yevheniy Kahanovych</td>\n",
              "      <td>21st January 2007</td>\n",
              "      <td>Two domestic flights between Kiev and Lviv las...</td>\n",
              "      <td>NaN</td>\n",
              "      <td>NaN</td>\n",
              "      <td>NaN</td>\n",
              "      <td>NaN</td>\n",
              "      <td>NaN</td>\n",
              "      <td>NaN</td>\n",
              "      <td>NaN</td>\n",
              "      <td>NaN</td>\n",
              "      <td>NaN</td>\n",
              "      <td>NaN</td>\n",
              "      <td>no</td>\n",
              "    </tr>\n",
              "    <tr>\n",
              "      <th>131888</th>\n",
              "      <td>Ukraine International</td>\n",
              "      <td>NaN</td>\n",
              "      <td>Helen Lee</td>\n",
              "      <td>15th December 2006</td>\n",
              "      <td>I had a good flight from London to Kiev with U...</td>\n",
              "      <td>NaN</td>\n",
              "      <td>NaN</td>\n",
              "      <td>NaN</td>\n",
              "      <td>NaN</td>\n",
              "      <td>NaN</td>\n",
              "      <td>NaN</td>\n",
              "      <td>NaN</td>\n",
              "      <td>NaN</td>\n",
              "      <td>NaN</td>\n",
              "      <td>NaN</td>\n",
              "      <td>no</td>\n",
              "    </tr>\n",
              "    <tr>\n",
              "      <th>131890</th>\n",
              "      <td>Ukraine International</td>\n",
              "      <td>NaN</td>\n",
              "      <td>Andriy Yesypenko</td>\n",
              "      <td>19th May 2006</td>\n",
              "      <td>Kiev - London (Gatwick) in business class (in ...</td>\n",
              "      <td>NaN</td>\n",
              "      <td>NaN</td>\n",
              "      <td>NaN</td>\n",
              "      <td>NaN</td>\n",
              "      <td>NaN</td>\n",
              "      <td>NaN</td>\n",
              "      <td>NaN</td>\n",
              "      <td>NaN</td>\n",
              "      <td>NaN</td>\n",
              "      <td>NaN</td>\n",
              "      <td>no</td>\n",
              "    </tr>\n",
              "    <tr>\n",
              "      <th>131892</th>\n",
              "      <td>Ukraine International</td>\n",
              "      <td>NaN</td>\n",
              "      <td>Volodya Bilotkach</td>\n",
              "      <td>29th April 2006</td>\n",
              "      <td>Several flights - KBP to AMS (3 times one way)...</td>\n",
              "      <td>NaN</td>\n",
              "      <td>NaN</td>\n",
              "      <td>NaN</td>\n",
              "      <td>NaN</td>\n",
              "      <td>NaN</td>\n",
              "      <td>NaN</td>\n",
              "      <td>NaN</td>\n",
              "      <td>NaN</td>\n",
              "      <td>NaN</td>\n",
              "      <td>NaN</td>\n",
              "      <td>no</td>\n",
              "    </tr>\n",
              "    <tr>\n",
              "      <th>131894</th>\n",
              "      <td>Ukraine International</td>\n",
              "      <td>NaN</td>\n",
              "      <td>Kasper Hettinga</td>\n",
              "      <td>10th February 2006</td>\n",
              "      <td>KBP-AMS with UIA. Although it was a relatively...</td>\n",
              "      <td>NaN</td>\n",
              "      <td>NaN</td>\n",
              "      <td>NaN</td>\n",
              "      <td>NaN</td>\n",
              "      <td>NaN</td>\n",
              "      <td>NaN</td>\n",
              "      <td>NaN</td>\n",
              "      <td>NaN</td>\n",
              "      <td>NaN</td>\n",
              "      <td>NaN</td>\n",
              "      <td>no</td>\n",
              "    </tr>\n",
              "  </tbody>\n",
              "</table>\n",
              "<p>61183 rows × 16 columns</p>\n",
              "</div>"
            ],
            "text/plain": [
              "                      airline  overall  ... value_for_money recommended\n",
              "1            Turkish Airlines      7.0  ...             4.0         yes\n",
              "3            Turkish Airlines      2.0  ...             1.0          no\n",
              "5            Turkish Airlines      3.0  ...             2.0          no\n",
              "7            Turkish Airlines     10.0  ...             5.0         yes\n",
              "9            Turkish Airlines      1.0  ...             1.0          no\n",
              "...                       ...      ...  ...             ...         ...\n",
              "131886  Ukraine International      NaN  ...             NaN          no\n",
              "131888  Ukraine International      NaN  ...             NaN          no\n",
              "131890  Ukraine International      NaN  ...             NaN          no\n",
              "131892  Ukraine International      NaN  ...             NaN          no\n",
              "131894  Ukraine International      NaN  ...             NaN          no\n",
              "\n",
              "[61183 rows x 16 columns]"
            ]
          },
          "metadata": {
            "tags": []
          },
          "execution_count": 75
        }
      ]
    },
    {
      "cell_type": "code",
      "metadata": {
        "id": "d9sfBQNWWqEn"
      },
      "source": [
        "Nan_no = (main_df['overall'].isna()) & (main_df['recommended']=='no') & (main_df['seat_comfort'].isna()) & (main_df['food_bev'].isna()) & (main_df['entertainment'].isna()) & (main_df['ground_service'].isna() & main_df['value_for_money'].isna())"
      ],
      "execution_count": 76,
      "outputs": []
    },
    {
      "cell_type": "code",
      "metadata": {
        "id": "mNKw-sy6kWKU",
        "colab": {
          "base_uri": "https://localhost:8080/",
          "height": 813
        },
        "outputId": "2d1c5c9a-ef2f-45d8-a4bc-a2011b3d4949"
      },
      "source": [
        "main_df[Nan_no]"
      ],
      "execution_count": 77,
      "outputs": [
        {
          "output_type": "execute_result",
          "data": {
            "text/html": [
              "<div>\n",
              "<style scoped>\n",
              "    .dataframe tbody tr th:only-of-type {\n",
              "        vertical-align: middle;\n",
              "    }\n",
              "\n",
              "    .dataframe tbody tr th {\n",
              "        vertical-align: top;\n",
              "    }\n",
              "\n",
              "    .dataframe thead th {\n",
              "        text-align: right;\n",
              "    }\n",
              "</style>\n",
              "<table border=\"1\" class=\"dataframe\">\n",
              "  <thead>\n",
              "    <tr style=\"text-align: right;\">\n",
              "      <th></th>\n",
              "      <th>airline</th>\n",
              "      <th>overall</th>\n",
              "      <th>author</th>\n",
              "      <th>review_date</th>\n",
              "      <th>customer_review</th>\n",
              "      <th>traveller_type</th>\n",
              "      <th>cabin</th>\n",
              "      <th>route</th>\n",
              "      <th>date_flown</th>\n",
              "      <th>seat_comfort</th>\n",
              "      <th>cabin_service</th>\n",
              "      <th>food_bev</th>\n",
              "      <th>entertainment</th>\n",
              "      <th>ground_service</th>\n",
              "      <th>value_for_money</th>\n",
              "      <th>recommended</th>\n",
              "    </tr>\n",
              "  </thead>\n",
              "  <tbody>\n",
              "    <tr>\n",
              "      <th>13705</th>\n",
              "      <td>KLM Royal Dutch Airlines</td>\n",
              "      <td>NaN</td>\n",
              "      <td>Martin Webber</td>\n",
              "      <td>22nd October 2014</td>\n",
              "      <td>Having booked a series of long-haul Business C...</td>\n",
              "      <td>NaN</td>\n",
              "      <td>Business Class</td>\n",
              "      <td>NaN</td>\n",
              "      <td>NaN</td>\n",
              "      <td>NaN</td>\n",
              "      <td>1.0</td>\n",
              "      <td>NaN</td>\n",
              "      <td>NaN</td>\n",
              "      <td>NaN</td>\n",
              "      <td>NaN</td>\n",
              "      <td>no</td>\n",
              "    </tr>\n",
              "    <tr>\n",
              "      <th>13775</th>\n",
              "      <td>KLM Royal Dutch Airlines</td>\n",
              "      <td>NaN</td>\n",
              "      <td>H Henry</td>\n",
              "      <td>6th August 2014</td>\n",
              "      <td>Amsterdam to LHR - travelled on KLM after 14 y...</td>\n",
              "      <td>NaN</td>\n",
              "      <td>Business Class</td>\n",
              "      <td>NaN</td>\n",
              "      <td>NaN</td>\n",
              "      <td>NaN</td>\n",
              "      <td>NaN</td>\n",
              "      <td>NaN</td>\n",
              "      <td>NaN</td>\n",
              "      <td>NaN</td>\n",
              "      <td>NaN</td>\n",
              "      <td>no</td>\n",
              "    </tr>\n",
              "    <tr>\n",
              "      <th>14435</th>\n",
              "      <td>Virgin America</td>\n",
              "      <td>NaN</td>\n",
              "      <td>Kathleen Daley</td>\n",
              "      <td>24th February 2015</td>\n",
              "      <td>I was sending 3 people out to Los Angeles for ...</td>\n",
              "      <td>NaN</td>\n",
              "      <td>Economy Class</td>\n",
              "      <td>NaN</td>\n",
              "      <td>NaN</td>\n",
              "      <td>NaN</td>\n",
              "      <td>NaN</td>\n",
              "      <td>NaN</td>\n",
              "      <td>NaN</td>\n",
              "      <td>NaN</td>\n",
              "      <td>NaN</td>\n",
              "      <td>no</td>\n",
              "    </tr>\n",
              "    <tr>\n",
              "      <th>23085</th>\n",
              "      <td>Delta Air Lines</td>\n",
              "      <td>NaN</td>\n",
              "      <td>Kyle Martin</td>\n",
              "      <td>10th December 2014</td>\n",
              "      <td>I have been flying Delta for years (several wi...</td>\n",
              "      <td>NaN</td>\n",
              "      <td>Economy Class</td>\n",
              "      <td>NaN</td>\n",
              "      <td>NaN</td>\n",
              "      <td>NaN</td>\n",
              "      <td>1.0</td>\n",
              "      <td>NaN</td>\n",
              "      <td>NaN</td>\n",
              "      <td>NaN</td>\n",
              "      <td>NaN</td>\n",
              "      <td>no</td>\n",
              "    </tr>\n",
              "    <tr>\n",
              "      <th>23179</th>\n",
              "      <td>Delta Air Lines</td>\n",
              "      <td>NaN</td>\n",
              "      <td>C Tellefsen</td>\n",
              "      <td>14th September 2014</td>\n",
              "      <td>I keep making the mistake of choosing Delta. I...</td>\n",
              "      <td>NaN</td>\n",
              "      <td>Economy Class</td>\n",
              "      <td>NaN</td>\n",
              "      <td>NaN</td>\n",
              "      <td>NaN</td>\n",
              "      <td>NaN</td>\n",
              "      <td>NaN</td>\n",
              "      <td>NaN</td>\n",
              "      <td>NaN</td>\n",
              "      <td>NaN</td>\n",
              "      <td>no</td>\n",
              "    </tr>\n",
              "    <tr>\n",
              "      <th>...</th>\n",
              "      <td>...</td>\n",
              "      <td>...</td>\n",
              "      <td>...</td>\n",
              "      <td>...</td>\n",
              "      <td>...</td>\n",
              "      <td>...</td>\n",
              "      <td>...</td>\n",
              "      <td>...</td>\n",
              "      <td>...</td>\n",
              "      <td>...</td>\n",
              "      <td>...</td>\n",
              "      <td>...</td>\n",
              "      <td>...</td>\n",
              "      <td>...</td>\n",
              "      <td>...</td>\n",
              "      <td>...</td>\n",
              "    </tr>\n",
              "    <tr>\n",
              "      <th>131886</th>\n",
              "      <td>Ukraine International</td>\n",
              "      <td>NaN</td>\n",
              "      <td>Yevheniy Kahanovych</td>\n",
              "      <td>21st January 2007</td>\n",
              "      <td>Two domestic flights between Kiev and Lviv las...</td>\n",
              "      <td>NaN</td>\n",
              "      <td>NaN</td>\n",
              "      <td>NaN</td>\n",
              "      <td>NaN</td>\n",
              "      <td>NaN</td>\n",
              "      <td>NaN</td>\n",
              "      <td>NaN</td>\n",
              "      <td>NaN</td>\n",
              "      <td>NaN</td>\n",
              "      <td>NaN</td>\n",
              "      <td>no</td>\n",
              "    </tr>\n",
              "    <tr>\n",
              "      <th>131888</th>\n",
              "      <td>Ukraine International</td>\n",
              "      <td>NaN</td>\n",
              "      <td>Helen Lee</td>\n",
              "      <td>15th December 2006</td>\n",
              "      <td>I had a good flight from London to Kiev with U...</td>\n",
              "      <td>NaN</td>\n",
              "      <td>NaN</td>\n",
              "      <td>NaN</td>\n",
              "      <td>NaN</td>\n",
              "      <td>NaN</td>\n",
              "      <td>NaN</td>\n",
              "      <td>NaN</td>\n",
              "      <td>NaN</td>\n",
              "      <td>NaN</td>\n",
              "      <td>NaN</td>\n",
              "      <td>no</td>\n",
              "    </tr>\n",
              "    <tr>\n",
              "      <th>131890</th>\n",
              "      <td>Ukraine International</td>\n",
              "      <td>NaN</td>\n",
              "      <td>Andriy Yesypenko</td>\n",
              "      <td>19th May 2006</td>\n",
              "      <td>Kiev - London (Gatwick) in business class (in ...</td>\n",
              "      <td>NaN</td>\n",
              "      <td>NaN</td>\n",
              "      <td>NaN</td>\n",
              "      <td>NaN</td>\n",
              "      <td>NaN</td>\n",
              "      <td>NaN</td>\n",
              "      <td>NaN</td>\n",
              "      <td>NaN</td>\n",
              "      <td>NaN</td>\n",
              "      <td>NaN</td>\n",
              "      <td>no</td>\n",
              "    </tr>\n",
              "    <tr>\n",
              "      <th>131892</th>\n",
              "      <td>Ukraine International</td>\n",
              "      <td>NaN</td>\n",
              "      <td>Volodya Bilotkach</td>\n",
              "      <td>29th April 2006</td>\n",
              "      <td>Several flights - KBP to AMS (3 times one way)...</td>\n",
              "      <td>NaN</td>\n",
              "      <td>NaN</td>\n",
              "      <td>NaN</td>\n",
              "      <td>NaN</td>\n",
              "      <td>NaN</td>\n",
              "      <td>NaN</td>\n",
              "      <td>NaN</td>\n",
              "      <td>NaN</td>\n",
              "      <td>NaN</td>\n",
              "      <td>NaN</td>\n",
              "      <td>no</td>\n",
              "    </tr>\n",
              "    <tr>\n",
              "      <th>131894</th>\n",
              "      <td>Ukraine International</td>\n",
              "      <td>NaN</td>\n",
              "      <td>Kasper Hettinga</td>\n",
              "      <td>10th February 2006</td>\n",
              "      <td>KBP-AMS with UIA. Although it was a relatively...</td>\n",
              "      <td>NaN</td>\n",
              "      <td>NaN</td>\n",
              "      <td>NaN</td>\n",
              "      <td>NaN</td>\n",
              "      <td>NaN</td>\n",
              "      <td>NaN</td>\n",
              "      <td>NaN</td>\n",
              "      <td>NaN</td>\n",
              "      <td>NaN</td>\n",
              "      <td>NaN</td>\n",
              "      <td>no</td>\n",
              "    </tr>\n",
              "  </tbody>\n",
              "</table>\n",
              "<p>154 rows × 16 columns</p>\n",
              "</div>"
            ],
            "text/plain": [
              "                         airline  overall  ... value_for_money recommended\n",
              "13705   KLM Royal Dutch Airlines      NaN  ...             NaN          no\n",
              "13775   KLM Royal Dutch Airlines      NaN  ...             NaN          no\n",
              "14435             Virgin America      NaN  ...             NaN          no\n",
              "23085            Delta Air Lines      NaN  ...             NaN          no\n",
              "23179            Delta Air Lines      NaN  ...             NaN          no\n",
              "...                          ...      ...  ...             ...         ...\n",
              "131886     Ukraine International      NaN  ...             NaN          no\n",
              "131888     Ukraine International      NaN  ...             NaN          no\n",
              "131890     Ukraine International      NaN  ...             NaN          no\n",
              "131892     Ukraine International      NaN  ...             NaN          no\n",
              "131894     Ukraine International      NaN  ...             NaN          no\n",
              "\n",
              "[154 rows x 16 columns]"
            ]
          },
          "metadata": {
            "tags": []
          },
          "execution_count": 77
        }
      ]
    },
    {
      "cell_type": "markdown",
      "metadata": {
        "id": "hQQM6_VldCGb"
      },
      "source": [
        "Here we found all rows which have recommended as no and NaN values in all review columns\n",
        "\n",
        "We will be replacing these NaN values whith 1"
      ]
    },
    {
      "cell_type": "code",
      "metadata": {
        "id": "n1TaXxZWdwql"
      },
      "source": [
        "# fill Nan values by 1\n",
        "main_df.loc[Nan_no,['overall','seat_comfort','food_bev','entertainment','ground_service','value_for_money','cabin_service']] = main_df.loc[Nan_no,['overall','seat_comfort','food_bev','entertainment','ground_service','value_for_money','cabin_service']].fillna(1)"
      ],
      "execution_count": 78,
      "outputs": []
    },
    {
      "cell_type": "code",
      "metadata": {
        "id": "AFRN_RZpdwDC",
        "colab": {
          "base_uri": "https://localhost:8080/",
          "height": 813
        },
        "outputId": "c24ccb7f-3537-448d-9e0b-c76f91a0d4f0"
      },
      "source": [
        "main_df.loc[Nan_no]"
      ],
      "execution_count": 79,
      "outputs": [
        {
          "output_type": "execute_result",
          "data": {
            "text/html": [
              "<div>\n",
              "<style scoped>\n",
              "    .dataframe tbody tr th:only-of-type {\n",
              "        vertical-align: middle;\n",
              "    }\n",
              "\n",
              "    .dataframe tbody tr th {\n",
              "        vertical-align: top;\n",
              "    }\n",
              "\n",
              "    .dataframe thead th {\n",
              "        text-align: right;\n",
              "    }\n",
              "</style>\n",
              "<table border=\"1\" class=\"dataframe\">\n",
              "  <thead>\n",
              "    <tr style=\"text-align: right;\">\n",
              "      <th></th>\n",
              "      <th>airline</th>\n",
              "      <th>overall</th>\n",
              "      <th>author</th>\n",
              "      <th>review_date</th>\n",
              "      <th>customer_review</th>\n",
              "      <th>traveller_type</th>\n",
              "      <th>cabin</th>\n",
              "      <th>route</th>\n",
              "      <th>date_flown</th>\n",
              "      <th>seat_comfort</th>\n",
              "      <th>cabin_service</th>\n",
              "      <th>food_bev</th>\n",
              "      <th>entertainment</th>\n",
              "      <th>ground_service</th>\n",
              "      <th>value_for_money</th>\n",
              "      <th>recommended</th>\n",
              "    </tr>\n",
              "  </thead>\n",
              "  <tbody>\n",
              "    <tr>\n",
              "      <th>13705</th>\n",
              "      <td>KLM Royal Dutch Airlines</td>\n",
              "      <td>1.0</td>\n",
              "      <td>Martin Webber</td>\n",
              "      <td>22nd October 2014</td>\n",
              "      <td>Having booked a series of long-haul Business C...</td>\n",
              "      <td>NaN</td>\n",
              "      <td>Business Class</td>\n",
              "      <td>NaN</td>\n",
              "      <td>NaN</td>\n",
              "      <td>1.0</td>\n",
              "      <td>1.0</td>\n",
              "      <td>1.0</td>\n",
              "      <td>1.0</td>\n",
              "      <td>1.0</td>\n",
              "      <td>1.0</td>\n",
              "      <td>no</td>\n",
              "    </tr>\n",
              "    <tr>\n",
              "      <th>13775</th>\n",
              "      <td>KLM Royal Dutch Airlines</td>\n",
              "      <td>1.0</td>\n",
              "      <td>H Henry</td>\n",
              "      <td>6th August 2014</td>\n",
              "      <td>Amsterdam to LHR - travelled on KLM after 14 y...</td>\n",
              "      <td>NaN</td>\n",
              "      <td>Business Class</td>\n",
              "      <td>NaN</td>\n",
              "      <td>NaN</td>\n",
              "      <td>1.0</td>\n",
              "      <td>1.0</td>\n",
              "      <td>1.0</td>\n",
              "      <td>1.0</td>\n",
              "      <td>1.0</td>\n",
              "      <td>1.0</td>\n",
              "      <td>no</td>\n",
              "    </tr>\n",
              "    <tr>\n",
              "      <th>14435</th>\n",
              "      <td>Virgin America</td>\n",
              "      <td>1.0</td>\n",
              "      <td>Kathleen Daley</td>\n",
              "      <td>24th February 2015</td>\n",
              "      <td>I was sending 3 people out to Los Angeles for ...</td>\n",
              "      <td>NaN</td>\n",
              "      <td>Economy Class</td>\n",
              "      <td>NaN</td>\n",
              "      <td>NaN</td>\n",
              "      <td>1.0</td>\n",
              "      <td>1.0</td>\n",
              "      <td>1.0</td>\n",
              "      <td>1.0</td>\n",
              "      <td>1.0</td>\n",
              "      <td>1.0</td>\n",
              "      <td>no</td>\n",
              "    </tr>\n",
              "    <tr>\n",
              "      <th>23085</th>\n",
              "      <td>Delta Air Lines</td>\n",
              "      <td>1.0</td>\n",
              "      <td>Kyle Martin</td>\n",
              "      <td>10th December 2014</td>\n",
              "      <td>I have been flying Delta for years (several wi...</td>\n",
              "      <td>NaN</td>\n",
              "      <td>Economy Class</td>\n",
              "      <td>NaN</td>\n",
              "      <td>NaN</td>\n",
              "      <td>1.0</td>\n",
              "      <td>1.0</td>\n",
              "      <td>1.0</td>\n",
              "      <td>1.0</td>\n",
              "      <td>1.0</td>\n",
              "      <td>1.0</td>\n",
              "      <td>no</td>\n",
              "    </tr>\n",
              "    <tr>\n",
              "      <th>23179</th>\n",
              "      <td>Delta Air Lines</td>\n",
              "      <td>1.0</td>\n",
              "      <td>C Tellefsen</td>\n",
              "      <td>14th September 2014</td>\n",
              "      <td>I keep making the mistake of choosing Delta. I...</td>\n",
              "      <td>NaN</td>\n",
              "      <td>Economy Class</td>\n",
              "      <td>NaN</td>\n",
              "      <td>NaN</td>\n",
              "      <td>1.0</td>\n",
              "      <td>1.0</td>\n",
              "      <td>1.0</td>\n",
              "      <td>1.0</td>\n",
              "      <td>1.0</td>\n",
              "      <td>1.0</td>\n",
              "      <td>no</td>\n",
              "    </tr>\n",
              "    <tr>\n",
              "      <th>...</th>\n",
              "      <td>...</td>\n",
              "      <td>...</td>\n",
              "      <td>...</td>\n",
              "      <td>...</td>\n",
              "      <td>...</td>\n",
              "      <td>...</td>\n",
              "      <td>...</td>\n",
              "      <td>...</td>\n",
              "      <td>...</td>\n",
              "      <td>...</td>\n",
              "      <td>...</td>\n",
              "      <td>...</td>\n",
              "      <td>...</td>\n",
              "      <td>...</td>\n",
              "      <td>...</td>\n",
              "      <td>...</td>\n",
              "    </tr>\n",
              "    <tr>\n",
              "      <th>131886</th>\n",
              "      <td>Ukraine International</td>\n",
              "      <td>1.0</td>\n",
              "      <td>Yevheniy Kahanovych</td>\n",
              "      <td>21st January 2007</td>\n",
              "      <td>Two domestic flights between Kiev and Lviv las...</td>\n",
              "      <td>NaN</td>\n",
              "      <td>NaN</td>\n",
              "      <td>NaN</td>\n",
              "      <td>NaN</td>\n",
              "      <td>1.0</td>\n",
              "      <td>1.0</td>\n",
              "      <td>1.0</td>\n",
              "      <td>1.0</td>\n",
              "      <td>1.0</td>\n",
              "      <td>1.0</td>\n",
              "      <td>no</td>\n",
              "    </tr>\n",
              "    <tr>\n",
              "      <th>131888</th>\n",
              "      <td>Ukraine International</td>\n",
              "      <td>1.0</td>\n",
              "      <td>Helen Lee</td>\n",
              "      <td>15th December 2006</td>\n",
              "      <td>I had a good flight from London to Kiev with U...</td>\n",
              "      <td>NaN</td>\n",
              "      <td>NaN</td>\n",
              "      <td>NaN</td>\n",
              "      <td>NaN</td>\n",
              "      <td>1.0</td>\n",
              "      <td>1.0</td>\n",
              "      <td>1.0</td>\n",
              "      <td>1.0</td>\n",
              "      <td>1.0</td>\n",
              "      <td>1.0</td>\n",
              "      <td>no</td>\n",
              "    </tr>\n",
              "    <tr>\n",
              "      <th>131890</th>\n",
              "      <td>Ukraine International</td>\n",
              "      <td>1.0</td>\n",
              "      <td>Andriy Yesypenko</td>\n",
              "      <td>19th May 2006</td>\n",
              "      <td>Kiev - London (Gatwick) in business class (in ...</td>\n",
              "      <td>NaN</td>\n",
              "      <td>NaN</td>\n",
              "      <td>NaN</td>\n",
              "      <td>NaN</td>\n",
              "      <td>1.0</td>\n",
              "      <td>1.0</td>\n",
              "      <td>1.0</td>\n",
              "      <td>1.0</td>\n",
              "      <td>1.0</td>\n",
              "      <td>1.0</td>\n",
              "      <td>no</td>\n",
              "    </tr>\n",
              "    <tr>\n",
              "      <th>131892</th>\n",
              "      <td>Ukraine International</td>\n",
              "      <td>1.0</td>\n",
              "      <td>Volodya Bilotkach</td>\n",
              "      <td>29th April 2006</td>\n",
              "      <td>Several flights - KBP to AMS (3 times one way)...</td>\n",
              "      <td>NaN</td>\n",
              "      <td>NaN</td>\n",
              "      <td>NaN</td>\n",
              "      <td>NaN</td>\n",
              "      <td>1.0</td>\n",
              "      <td>1.0</td>\n",
              "      <td>1.0</td>\n",
              "      <td>1.0</td>\n",
              "      <td>1.0</td>\n",
              "      <td>1.0</td>\n",
              "      <td>no</td>\n",
              "    </tr>\n",
              "    <tr>\n",
              "      <th>131894</th>\n",
              "      <td>Ukraine International</td>\n",
              "      <td>1.0</td>\n",
              "      <td>Kasper Hettinga</td>\n",
              "      <td>10th February 2006</td>\n",
              "      <td>KBP-AMS with UIA. Although it was a relatively...</td>\n",
              "      <td>NaN</td>\n",
              "      <td>NaN</td>\n",
              "      <td>NaN</td>\n",
              "      <td>NaN</td>\n",
              "      <td>1.0</td>\n",
              "      <td>1.0</td>\n",
              "      <td>1.0</td>\n",
              "      <td>1.0</td>\n",
              "      <td>1.0</td>\n",
              "      <td>1.0</td>\n",
              "      <td>no</td>\n",
              "    </tr>\n",
              "  </tbody>\n",
              "</table>\n",
              "<p>154 rows × 16 columns</p>\n",
              "</div>"
            ],
            "text/plain": [
              "                         airline  overall  ... value_for_money recommended\n",
              "13705   KLM Royal Dutch Airlines      1.0  ...             1.0          no\n",
              "13775   KLM Royal Dutch Airlines      1.0  ...             1.0          no\n",
              "14435             Virgin America      1.0  ...             1.0          no\n",
              "23085            Delta Air Lines      1.0  ...             1.0          no\n",
              "23179            Delta Air Lines      1.0  ...             1.0          no\n",
              "...                          ...      ...  ...             ...         ...\n",
              "131886     Ukraine International      1.0  ...             1.0          no\n",
              "131888     Ukraine International      1.0  ...             1.0          no\n",
              "131890     Ukraine International      1.0  ...             1.0          no\n",
              "131892     Ukraine International      1.0  ...             1.0          no\n",
              "131894     Ukraine International      1.0  ...             1.0          no\n",
              "\n",
              "[154 rows x 16 columns]"
            ]
          },
          "metadata": {
            "tags": []
          },
          "execution_count": 79
        }
      ]
    },
    {
      "cell_type": "markdown",
      "metadata": {
        "id": "pxawL2RFhftV"
      },
      "source": [
        "#### When recommended is YES\n",
        "\n",
        "The numerical features are having NaN values\n",
        "\n",
        "Replacing those NaN values to a valid value on the bases of recommended column"
      ]
    },
    {
      "cell_type": "code",
      "metadata": {
        "id": "x7cuwfbThnjm"
      },
      "source": [
        "Nan_yes=(main_df['overall'].isna()) & (main_df['recommended']=='yes') & (main_df['seat_comfort'].isna()) & (main_df['food_bev'].isna()) & (main_df['entertainment'].isna()) & (main_df['ground_service'].isna() & main_df['value_for_money'].isna())"
      ],
      "execution_count": 80,
      "outputs": []
    },
    {
      "cell_type": "code",
      "metadata": {
        "id": "OPzrG3lvivLY"
      },
      "source": [
        "# fillinng Nan vaues by 10\n",
        "main_df.loc[Nan_yes,['overall','seat_comfort','food_bev','entertainment','ground_service','value_for_money','cabin_service']] =main_df.loc[Nan_yes,['overall','seat_comfort','food_bev','entertainment','ground_service','value_for_money','cabin_service']].fillna(10)"
      ],
      "execution_count": 81,
      "outputs": []
    },
    {
      "cell_type": "markdown",
      "metadata": {
        "id": "4Pa2GzUVz0dT"
      },
      "source": [
        "### Replacing NaN values\n",
        "In numerical features apart from overall feature to median values of respected features"
      ]
    },
    {
      "cell_type": "code",
      "metadata": {
        "id": "UO99ij4TrS3N"
      },
      "source": [
        "main_df[['seat_comfort','food_bev','entertainment','ground_service','value_for_money','cabin_service']] = main_df[['seat_comfort','food_bev','entertainment','ground_service','value_for_money','cabin_service']].fillna(main_df[['seat_comfort','food_bev','entertainment','ground_service','value_for_money','cabin_service']].median())"
      ],
      "execution_count": 82,
      "outputs": []
    },
    {
      "cell_type": "code",
      "metadata": {
        "id": "fFekAt6v29ra",
        "colab": {
          "base_uri": "https://localhost:8080/"
        },
        "outputId": "74604ebc-ec84-4cf8-cd6f-96391b043fbb"
      },
      "source": [
        "main_df.isna().sum()"
      ],
      "execution_count": 83,
      "outputs": [
        {
          "output_type": "execute_result",
          "data": {
            "text/plain": [
              "airline                0\n",
              "overall             1625\n",
              "author                 0\n",
              "review_date            0\n",
              "customer_review        0\n",
              "traveller_type     23643\n",
              "cabin               2478\n",
              "route              23670\n",
              "date_flown         23749\n",
              "seat_comfort           0\n",
              "cabin_service          0\n",
              "food_bev               0\n",
              "entertainment          0\n",
              "ground_service         0\n",
              "value_for_money        0\n",
              "recommended            0\n",
              "dtype: int64"
            ]
          },
          "metadata": {
            "tags": []
          },
          "execution_count": 83
        }
      ]
    },
    {
      "cell_type": "markdown",
      "metadata": {
        "id": "vEkwwBOm4VJb"
      },
      "source": [
        "###Creating a Average column\n",
        "which have avrg score of (all numerical features except overall)"
      ]
    },
    {
      "cell_type": "code",
      "metadata": {
        "id": "DWOW5jSsrgxo"
      },
      "source": [
        "main_df['Avg_num']= (main_df['seat_comfort']+ main_df['cabin_service']+ main_df['food_bev']+main_df['entertainment']+main_df['ground_service']+main_df['value_for_money'])//6"
      ],
      "execution_count": 84,
      "outputs": []
    },
    {
      "cell_type": "markdown",
      "metadata": {
        "id": "oBlFOCRRg9Iz"
      },
      "source": [
        "### Finding NaN in overall feature\n",
        "We will be replacing all Nan values in overall feature by avg colummn"
      ]
    },
    {
      "cell_type": "code",
      "metadata": {
        "id": "Rxj79ghOhmSa"
      },
      "source": [
        "m=(main_df['overall'].isna())"
      ],
      "execution_count": 85,
      "outputs": []
    },
    {
      "cell_type": "code",
      "metadata": {
        "id": "lbAXVU5zhmFr"
      },
      "source": [
        "main_df.loc[m,'overall']= main_df.loc[m,'Avg_num']*2"
      ],
      "execution_count": 86,
      "outputs": []
    },
    {
      "cell_type": "markdown",
      "metadata": {
        "id": "OvEv7PDIqzzR"
      },
      "source": [
        "Changing wrong"
      ]
    },
    {
      "cell_type": "code",
      "metadata": {
        "id": "zMF720zDpozr"
      },
      "source": [
        ""
      ],
      "execution_count": 86,
      "outputs": []
    },
    {
      "cell_type": "code",
      "metadata": {
        "id": "AnAdRPfWez41"
      },
      "source": [
        ""
      ],
      "execution_count": 86,
      "outputs": []
    },
    {
      "cell_type": "markdown",
      "metadata": {
        "id": "uPavtczFrzlD"
      },
      "source": [
        "Droping all Non important columns/features"
      ]
    },
    {
      "cell_type": "code",
      "metadata": {
        "id": "xmx6wkJAEJkQ"
      },
      "source": [
        " # droping Non important features\n",
        "main_df.drop(['author','review_date','date_flown','route'],axis=1,inplace=True)"
      ],
      "execution_count": 87,
      "outputs": []
    },
    {
      "cell_type": "markdown",
      "metadata": {
        "id": "fONurRXUFD9s"
      },
      "source": [
        "## working on Text and Categorical features"
      ]
    },
    {
      "cell_type": "markdown",
      "metadata": {
        "id": "qZG7RLFmSKO2"
      },
      "source": [
        "**Airline**"
      ]
    },
    {
      "cell_type": "code",
      "metadata": {
        "id": "5gwFlALWOyY2",
        "colab": {
          "base_uri": "https://localhost:8080/",
          "height": 508
        },
        "outputId": "c4dd7943-d639-41aa-f46c-8836148dcacc"
      },
      "source": [
        "# graph showing count of each airline \n",
        "main_df['airline'].value_counts().plot(kind='bar',figsize=(15,6))"
      ],
      "execution_count": 88,
      "outputs": [
        {
          "output_type": "execute_result",
          "data": {
            "text/plain": [
              "<matplotlib.axes._subplots.AxesSubplot at 0x7ff7f5c2fcd0>"
            ]
          },
          "metadata": {
            "tags": []
          },
          "execution_count": 88
        },
        {
          "output_type": "display_data",
          "data": {
            "image/png": "[encoded data removed]",
            "text/plain": [
              "<Figure size 1080x432 with 1 Axes>"
            ]
          },
          "metadata": {
            "tags": [],
            "needs_background": "light"
          }
        }
      ]
    },
    {
      "cell_type": "markdown",
      "metadata": {
        "id": "-kY1dq0-Op1P"
      },
      "source": [
        "We can do one hot incoding to these categorical values"
      ]
    },
    {
      "cell_type": "markdown",
      "metadata": {
        "id": "JGj4MxYKSPRt"
      },
      "source": [
        "**Cabin**"
      ]
    },
    {
      "cell_type": "code",
      "metadata": {
        "id": "jIaelG1mSQgW",
        "colab": {
          "base_uri": "https://localhost:8080/"
        },
        "outputId": "fb88eb17-6c0c-4e7f-876e-ffa01f1bbd08"
      },
      "source": [
        "# counting number of unique classes in this feature\n",
        "main_df['cabin'].value_counts()"
      ],
      "execution_count": 89,
      "outputs": [
        {
          "output_type": "execute_result",
          "data": {
            "text/plain": [
              "Economy Class      45171\n",
              "Business Class      9590\n",
              "Premium Economy     2412\n",
              "First Class         1532\n",
              "Name: cabin, dtype: int64"
            ]
          },
          "metadata": {
            "tags": []
          },
          "execution_count": 89
        }
      ]
    },
    {
      "cell_type": "markdown",
      "metadata": {
        "id": "0Z29OsUgSu8Z"
      },
      "source": [
        "**Travel Type**"
      ]
    },
    {
      "cell_type": "code",
      "metadata": {
        "id": "jUUIS1IXSvyT",
        "colab": {
          "base_uri": "https://localhost:8080/"
        },
        "outputId": "3c9ff2e4-d26a-440d-8f64-eb8f1a9ea99e"
      },
      "source": [
        "# counting number of unique classes in this feature\n",
        "main_df['traveller_type'].value_counts()"
      ],
      "execution_count": 90,
      "outputs": [
        {
          "output_type": "execute_result",
          "data": {
            "text/plain": [
              "Solo Leisure      13935\n",
              "Couple Leisure     9699\n",
              "Family Leisure     7142\n",
              "Business           6764\n",
              "Name: traveller_type, dtype: int64"
            ]
          },
          "metadata": {
            "tags": []
          },
          "execution_count": 90
        }
      ]
    },
    {
      "cell_type": "markdown",
      "metadata": {
        "id": "KPVUILOlTNdp"
      },
      "source": [
        "customer review"
      ]
    },
    {
      "cell_type": "code",
      "metadata": {
        "id": "WPDimoh-TOMf",
        "colab": {
          "base_uri": "https://localhost:8080/",
          "height": 137
        },
        "outputId": "512ccc0e-a83b-4bda-8410-1dfc4b4fc159"
      },
      "source": [
        "main_df['customer_review'][5]"
      ],
      "execution_count": 91,
      "outputs": [
        {
          "output_type": "execute_result",
          "data": {
            "application/vnd.google.colaboratory.intrinsic+json": {
              "type": "string"
            },
            "text/plain": [
              "'âœ… Trip Verified | Rome to Prishtina via Istanbul. I flew with this company several times in the past years, and I can honestly say that it is getting worse and worse. I flew from Rome to Prishtina via Istanbul, all 4 flights had a delay (which apparently is pretty normal with Turkish). The ground staff is for the most part useless. In Istambul i have tried to ask a few information about a flight delay (i had just 30 minutes before the connecting flight) and the whole answer was: \"Relax Sir, No problem Sir, It\\'s okay\". The new airport is a gigantic mess, very big and disorganized. When you land in Istanbul it takes about 20 to 25 minutes taxiing and other 10 minutes before they actually start disembarking, it\\'s an exhausting experience especially if you are in a hurry. Forget about asking for some indication at the new airport, they all chat between each other, some with a coffee in their hands. I flew with four different aircraft on this trip, two were fairly new, the other two were old, seats worn. Food on board was of very poor quality.., let me repeat this, very...poor quality. In general i can say that crew is decently trained and deliver a good experience or at least they try, of course it is far from the experience you get flying Qatar or Emirates but still pretty good, while ground personnel, especially in Istanbul is the personification of the word Lazy. A complete disaster. I will try and avoid Turkish Airlines in the future, it is not a cheap company and definitely not worth for the money you pay. If you are in a hurry or you know you will be avoid this company and avoid the new istanbul airport at all costs.'"
            ]
          },
          "metadata": {
            "tags": []
          },
          "execution_count": 91
        }
      ]
    },
    {
      "cell_type": "code",
      "metadata": {
        "id": "9hW4LnlTW5oH"
      },
      "source": [
        ""
      ],
      "execution_count": 91,
      "outputs": []
    },
    {
      "cell_type": "code",
      "metadata": {
        "id": "FxC8nw6vXFvo"
      },
      "source": [
        ""
      ],
      "execution_count": 91,
      "outputs": []
    },
    {
      "cell_type": "code",
      "metadata": {
        "id": "ZjmZ6_m-Bh1Y"
      },
      "source": [
        "# replacing yes =1 and no =0 in recommended column\n",
        "main_df['recommended'].replace({'yes':1,'no':0},inplace=True)"
      ],
      "execution_count": 92,
      "outputs": []
    },
    {
      "cell_type": "code",
      "metadata": {
        "id": "D9zCH_Y_jfr9",
        "colab": {
          "base_uri": "https://localhost:8080/"
        },
        "outputId": "9e912438-4331-49df-efe4-5dc601f9bd81"
      },
      "source": [
        "# checking for NaN values in columns\n",
        "main_df.isna().sum()"
      ],
      "execution_count": 93,
      "outputs": [
        {
          "output_type": "execute_result",
          "data": {
            "text/plain": [
              "airline                0\n",
              "overall                0\n",
              "customer_review        0\n",
              "traveller_type     23643\n",
              "cabin               2478\n",
              "seat_comfort           0\n",
              "cabin_service          0\n",
              "food_bev               0\n",
              "entertainment          0\n",
              "ground_service         0\n",
              "value_for_money        0\n",
              "recommended            0\n",
              "Avg_num                0\n",
              "dtype: int64"
            ]
          },
          "metadata": {
            "tags": []
          },
          "execution_count": 93
        }
      ]
    },
    {
      "cell_type": "markdown",
      "metadata": {
        "id": "aZ7nFGjz0zkQ"
      },
      "source": [
        "## Sentiment analysis using vadar"
      ]
    },
    {
      "cell_type": "code",
      "metadata": {
        "id": "-45sSvsi1vpy",
        "colab": {
          "base_uri": "https://localhost:8080/"
        },
        "outputId": "9c89a750-0a0b-4a45-c557-af43d32f0572"
      },
      "source": [
        "pip install vaderSentiment"
      ],
      "execution_count": 94,
      "outputs": [
        {
          "output_type": "stream",
          "text": [
            "Collecting vaderSentiment\n",
            "\u001b[?25l  Downloading https://files.pythonhosted.org/packages/76/fc/310e16254683c1ed35eeb97386986d6c00bc29df17ce280aed64d55537e9/vaderSentiment-3.3.2-py2.py3-none-any.whl (125kB)\n",
            "\r\u001b[K     |██▋                             | 10kB 13.2MB/s eta 0:00:01\r\u001b[K     |█████▏                          | 20kB 6.9MB/s eta 0:00:01\r\u001b[K     |███████▉                        | 30kB 4.8MB/s eta 0:00:01\r\u001b[K     |██████████▍                     | 40kB 5.0MB/s eta 0:00:01\r\u001b[K     |█████████████                   | 51kB 2.9MB/s eta 0:00:01\r\u001b[K     |███████████████▋                | 61kB 3.3MB/s eta 0:00:01\r\u001b[K     |██████████████████▏             | 71kB 3.2MB/s eta 0:00:01\r\u001b[K     |████████████████████▉           | 81kB 3.6MB/s eta 0:00:01\r\u001b[K     |███████████████████████▍        | 92kB 3.6MB/s eta 0:00:01\r\u001b[K     |██████████████████████████      | 102kB 3.8MB/s eta 0:00:01\r\u001b[K     |████████████████████████████▋   | 112kB 3.8MB/s eta 0:00:01\r\u001b[K     |███████████████████████████████▏| 122kB 3.8MB/s eta 0:00:01\r\u001b[K     |████████████████████████████████| 133kB 3.8MB/s \n",
            "\u001b[?25hRequirement already satisfied: requests in /usr/local/lib/python3.7/dist-packages (from vaderSentiment) (2.23.0)\n",
            "Requirement already satisfied: idna<3,>=2.5 in /usr/local/lib/python3.7/dist-packages (from requests->vaderSentiment) (2.10)\n",
            "Requirement already satisfied: certifi>=2017.4.17 in /usr/local/lib/python3.7/dist-packages (from requests->vaderSentiment) (2020.12.5)\n",
            "Requirement already satisfied: chardet<4,>=3.0.2 in /usr/local/lib/python3.7/dist-packages (from requests->vaderSentiment) (3.0.4)\n",
            "Requirement already satisfied: urllib3!=1.25.0,!=1.25.1,<1.26,>=1.21.1 in /usr/local/lib/python3.7/dist-packages (from requests->vaderSentiment) (1.24.3)\n",
            "Installing collected packages: vaderSentiment\n",
            "Successfully installed vaderSentiment-3.3.2\n"
          ],
          "name": "stdout"
        }
      ]
    },
    {
      "cell_type": "code",
      "metadata": {
        "id": "KxB_FW4E1-_F"
      },
      "source": [
        "# import SentimentIntensityAnalyzer class\n",
        "# from vaderSentiment.vaderSentiment module.\n",
        "from vaderSentiment.vaderSentiment import SentimentIntensityAnalyzer"
      ],
      "execution_count": 95,
      "outputs": []
    },
    {
      "cell_type": "code",
      "metadata": {
        "id": "HK6T1Qmq1-tc"
      },
      "source": [
        "# function to print sentiments\n",
        "# of the sentence.\n",
        "def sentiment_scores(sentence):\n",
        "  \n",
        "    # Create a SentimentIntensityAnalyzer object.\n",
        "    sid_obj = SentimentIntensityAnalyzer()\n",
        "  \n",
        "    # polarity_scores method of SentimentIntensityAnalyzer\n",
        "    # oject gives a sentiment dictionary.\n",
        "    # which contains pos, neg, neu, and compound scores.\n",
        "    sentiment_dict = sid_obj.polarity_scores(sentence)\n",
        "\n",
        "    return  sentiment_dict['compound']"
      ],
      "execution_count": 96,
      "outputs": []
    },
    {
      "cell_type": "code",
      "metadata": {
        "id": "7Hfyby5L1-mH"
      },
      "source": [
        "# creating a polarity column\n",
        "# to store sentiment analysis score on text data\n",
        "main_df['polarity']= main_df['customer_review'].apply(sentiment_scores)"
      ],
      "execution_count": 97,
      "outputs": []
    },
    {
      "cell_type": "code",
      "metadata": {
        "id": "6PeCx1bQ1-hw"
      },
      "source": [
        ""
      ],
      "execution_count": 97,
      "outputs": []
    },
    {
      "cell_type": "markdown",
      "metadata": {
        "id": "iNaTdITcn-b_"
      },
      "source": [
        "## Converting qualitative features\n",
        " Into number for machine learning as  most machine learning alogorithm takes numerical values.\n",
        "\n",
        " In our dataset we have 3 categorical columns \n",
        "> Airline\n",
        " * airline columns have zero NaN values so we can we Dummy variable encoding as this will give us one less feature as airline column have large number of categoreis\n",
        "\n",
        "> Travell type\n",
        " * These values dont have natural ordering and column have NaN values so its better to use One hot encoding.\n",
        " *  Here we have 4 class \n",
        "  * Solo\n",
        "  * Couple\n",
        "  * Family\n",
        "  * Business\n",
        "\n",
        " \n",
        "\n",
        "> Cabin\n",
        "*  These values have a natural ordering as business class is expensive than economy class.\n",
        "* we can rank these classes so in this dataset we see higher means better so\n",
        " * economy =  1\n",
        " * premium economy = 2\n",
        " * business class = 3\n",
        " * first class = 4\n",
        "\n",
        " * But we are having Nan value in these features so i will be doing one hot encoding\n",
        "\n",
        "   "
      ]
    },
    {
      "cell_type": "markdown",
      "metadata": {
        "id": "fLhY_vrWkLk7"
      },
      "source": [
        "Doing One hot encoding for categorical variables"
      ]
    },
    {
      "cell_type": "code",
      "metadata": {
        "id": "kBSS4kznKip8"
      },
      "source": [
        "# categoriacal features to do one hot encoding\n",
        "colms=['airline','cabin','traveller_type']"
      ],
      "execution_count": 98,
      "outputs": []
    },
    {
      "cell_type": "code",
      "metadata": {
        "id": "dwpfpMP4A7lj"
      },
      "source": [
        "new_df= pd.get_dummies(main_df,columns=colms)"
      ],
      "execution_count": 99,
      "outputs": []
    },
    {
      "cell_type": "code",
      "metadata": {
        "id": "nSrVL-qu_vRJ"
      },
      "source": [
        "ind_features = new_df.columns.drop(['customer_review','recommended'])\n"
      ],
      "execution_count": 100,
      "outputs": []
    },
    {
      "cell_type": "code",
      "metadata": {
        "id": "fJdrOYO9Ezny"
      },
      "source": [
        "dep_features = 'recommended'"
      ],
      "execution_count": 101,
      "outputs": []
    },
    {
      "cell_type": "code",
      "metadata": {
        "id": "iTBhyDyI_xx_",
        "colab": {
          "base_uri": "https://localhost:8080/"
        },
        "outputId": "28489afb-39c2-49b3-a529-4924bfb0cac0"
      },
      "source": [
        "ind_features"
      ],
      "execution_count": 102,
      "outputs": [
        {
          "output_type": "execute_result",
          "data": {
            "text/plain": [
              "Index(['overall', 'seat_comfort', 'cabin_service', 'food_bev', 'entertainment',\n",
              "       'ground_service', 'value_for_money', 'Avg_num', 'polarity',\n",
              "       'airline_ANA All Nippon Airways', 'airline_Adria Airways',\n",
              "       'airline_Aegean Airlines', 'airline_Aer Lingus',\n",
              "       'airline_Aeroflot Russian Airlines', 'airline_Aeromexico',\n",
              "       'airline_Air Arabia', 'airline_Air Canada', 'airline_Air Canada rouge',\n",
              "       'airline_Air China', 'airline_Air Europa', 'airline_Air France',\n",
              "       'airline_Air India', 'airline_Air New Zealand', 'airline_AirAsia',\n",
              "       'airline_Alaska Airlines', 'airline_Alitalia',\n",
              "       'airline_American Airlines', 'airline_Asiana Airlines',\n",
              "       'airline_Austrian Airlines', 'airline_Avianca',\n",
              "       'airline_Bangkok Airways', 'airline_British Airways',\n",
              "       'airline_Brussels Airlines', 'airline_Cathay Pacific Airways',\n",
              "       'airline_China Eastern Airlines', 'airline_China Southern Airlines',\n",
              "       'airline_Copa Airlines', 'airline_Delta Air Lines', 'airline_EVA Air',\n",
              "       'airline_Egyptair', 'airline_Emirates', 'airline_Ethiopian Airlines',\n",
              "       'airline_Etihad Airways', 'airline_Eurowings', 'airline_Finnair',\n",
              "       'airline_Frontier Airlines', 'airline_Garuda Indonesia',\n",
              "       'airline_Germanwings', 'airline_Gulf Air', 'airline_Iberia',\n",
              "       'airline_Icelandair', 'airline_IndiGo', 'airline_Jetblue Airways',\n",
              "       'airline_KLM Royal Dutch Airlines', 'airline_Korean Air',\n",
              "       'airline_Kuwait Airways', 'airline_LATAM Airlines',\n",
              "       'airline_LOT Polish Airlines', 'airline_Lufthansa', 'airline_Norwegian',\n",
              "       'airline_Pegasus Airlines', 'airline_Qantas Airways',\n",
              "       'airline_QantasLink', 'airline_Qatar Airways',\n",
              "       'airline_Royal Air Maroc', 'airline_Royal Jordanian Airlines',\n",
              "       'airline_Ryanair', 'airline_SAS Scandinavian',\n",
              "       'airline_Saudi Arabian Airlines', 'airline_Singapore Airlines',\n",
              "       'airline_South African Airways', 'airline_Southwest Airlines',\n",
              "       'airline_Spirit Airlines', 'airline_Sunwing Airlines',\n",
              "       'airline_Swiss Intl Air Lines', 'airline_TAP Portugal',\n",
              "       'airline_TAROM Romanian', 'airline_Thai Airways',\n",
              "       'airline_Thai Smile Airways', 'airline_Tunisair',\n",
              "       'airline_Turkish Airlines', 'airline_Ukraine International',\n",
              "       'airline_United Airlines', 'airline_Virgin America',\n",
              "       'airline_Vueling Airlines', 'airline_WOW air', 'airline_Wizz Air',\n",
              "       'airline_airBaltic', 'airline_easyJet', 'airline_flydubai',\n",
              "       'cabin_Business Class', 'cabin_Economy Class', 'cabin_First Class',\n",
              "       'cabin_Premium Economy', 'traveller_type_Business',\n",
              "       'traveller_type_Couple Leisure', 'traveller_type_Family Leisure',\n",
              "       'traveller_type_Solo Leisure'],\n",
              "      dtype='object')"
            ]
          },
          "metadata": {
            "tags": []
          },
          "execution_count": 102
        }
      ]
    },
    {
      "cell_type": "markdown",
      "metadata": {
        "id": "wPpyjIWDSVNp"
      },
      "source": [
        "## Feature scaling \n"
      ]
    },
    {
      "cell_type": "code",
      "metadata": {
        "id": "a-QdoIvgACUp"
      },
      "source": [
        " data = new_df[ind_features]\n",
        " Y= new_df[dep_features]"
      ],
      "execution_count": 103,
      "outputs": []
    },
    {
      "cell_type": "code",
      "metadata": {
        "id": "f9sk1jk5SuVQ"
      },
      "source": [
        "# importing minmax scaler\n",
        "from sklearn.preprocessing import MinMaxScaler"
      ],
      "execution_count": 104,
      "outputs": []
    },
    {
      "cell_type": "code",
      "metadata": {
        "id": "JdhcnVqUS7iu"
      },
      "source": [
        "feature_scaler= MinMaxScaler()"
      ],
      "execution_count": 105,
      "outputs": []
    },
    {
      "cell_type": "code",
      "metadata": {
        "id": "qzT7cPkGTZwu"
      },
      "source": [
        "data = feature_scaler.fit_transform(data)"
      ],
      "execution_count": 106,
      "outputs": []
    },
    {
      "cell_type": "code",
      "metadata": {
        "id": "eikPYdiZUCAm",
        "colab": {
          "base_uri": "https://localhost:8080/"
        },
        "outputId": "a6613492-5867-49d0-883b-088c4bd4c094"
      },
      "source": [
        "data"
      ],
      "execution_count": 107,
      "outputs": [
        {
          "output_type": "execute_result",
          "data": {
            "text/plain": [
              "array([[0.66666667, 0.33333333, 0.44444444, ..., 0.        , 0.        ,\n",
              "        0.        ],\n",
              "       [0.11111111, 0.33333333, 0.        , ..., 0.        , 1.        ,\n",
              "        0.        ],\n",
              "       [0.22222222, 0.        , 0.33333333, ..., 0.        , 0.        ,\n",
              "        0.        ],\n",
              "       ...,\n",
              "       [0.        , 0.        , 0.        , ..., 0.        , 0.        ,\n",
              "        0.        ],\n",
              "       [0.        , 0.        , 0.        , ..., 0.        , 0.        ,\n",
              "        0.        ],\n",
              "       [0.        , 0.        , 0.        , ..., 0.        , 0.        ,\n",
              "        0.        ]])"
            ]
          },
          "metadata": {
            "tags": []
          },
          "execution_count": 107
        }
      ]
    },
    {
      "cell_type": "markdown",
      "metadata": {
        "id": "yx9ingG0k3Bj"
      },
      "source": [
        "## Training the dataset \n"
      ]
    },
    {
      "cell_type": "code",
      "metadata": {
        "id": "cSwteXr5k2xl"
      },
      "source": [
        "from sklearn.model_selection import train_test_split"
      ],
      "execution_count": 108,
      "outputs": []
    },
    {
      "cell_type": "code",
      "metadata": {
        "id": "EphrKQtIk2sC"
      },
      "source": [
        "X_train,X_test,y_train,y_test = train_test_split(data,Y, test_size =0.2,random_state=0)\n"
      ],
      "execution_count": 109,
      "outputs": []
    },
    {
      "cell_type": "code",
      "metadata": {
        "id": "K2eP2eZTUCkG",
        "colab": {
          "base_uri": "https://localhost:8080/"
        },
        "outputId": "f63754cc-ed58-4dd3-a85e-ae7124660819"
      },
      "source": [
        "X_train.shape,X_test.shape"
      ],
      "execution_count": 110,
      "outputs": [
        {
          "output_type": "execute_result",
          "data": {
            "text/plain": [
              "((48946, 98), (12237, 98))"
            ]
          },
          "metadata": {
            "tags": []
          },
          "execution_count": 110
        }
      ]
    },
    {
      "cell_type": "markdown",
      "metadata": {
        "id": "KDaycX65mmX0"
      },
      "source": [
        "## Training model"
      ]
    },
    {
      "cell_type": "code",
      "metadata": {
        "id": "kTuxf7v91zlD"
      },
      "source": [
        "# importing all models from sklearn\n",
        "from sklearn.linear_model import LogisticRegression\n",
        "from sklearn.tree import DecisionTreeClassifier\n",
        "from sklearn.ensemble import RandomForestClassifier\n",
        "from sklearn.ensemble import GradientBoostingClassifier\n",
        "from xgboost import XGBClassifier\n",
        "from sklearn.svm import LinearSVC"
      ],
      "execution_count": 111,
      "outputs": []
    },
    {
      "cell_type": "code",
      "metadata": {
        "id": "_kFEnqSBSclz"
      },
      "source": [
        "# importing  metrics for evaluation  \n",
        "from sklearn.metrics import accuracy_score,confusion_matrix\n",
        "from sklearn.metrics import precision_score\n",
        "from sklearn.metrics import recall_score\n",
        "from sklearn.metrics import f1_score\n",
        "from sklearn.metrics import roc_auc_score\n",
        "from sklearn.metrics import roc_curve\n",
        "from sklearn.metrics import auc"
      ],
      "execution_count": 112,
      "outputs": []
    },
    {
      "cell_type": "code",
      "metadata": {
        "id": "fQN90EseDa6D"
      },
      "source": [
        "# import time module\n",
        "import time"
      ],
      "execution_count": 113,
      "outputs": []
    },
    {
      "cell_type": "code",
      "metadata": {
        "id": "io1N5GhQofGv"
      },
      "source": [
        "#declare the models\n",
        "lr_model=LogisticRegression()\n",
        "dt_model=DecisionTreeClassifier()\n",
        "rf_model=RandomForestClassifier()\n",
        "gbc_model=GradientBoostingClassifier()\n",
        "xgb_model=XGBClassifier()\n",
        "svc_model=LinearSVC()\n",
        "Mnb_model=MultinomialNB()\n",
        "\n",
        "\n",
        "#create a list of models\n",
        "models=[lr_model,svc_model,Mnb_model,dt_model,rf_model,gbc_model,xgb_model]\n",
        "\n",
        "#creating dictionay for storing the confustion matix\n",
        "dct_train={}\n",
        "dct_test={}\n",
        "lst_imp=[]\n",
        "# fuction for calculation the eveluation matrix\n",
        "def score_model(X_train,y_train,X_test,y_test):\n",
        "    df_columns=[]\n",
        "    df=pd.DataFrame(columns=df_columns)\n",
        "    i=0\n",
        "    #read model one by one\n",
        "    for model in models:\n",
        "        start = time.time()\n",
        "        model.fit(X_train,y_train)\n",
        "        end= time.time()\n",
        "        y_pred=model.predict(X_test)\n",
        "        y_pred_train=model.predict(X_train)\n",
        "        \n",
        "        #compute metrics\n",
        "        train_accuracy=accuracy_score(y_train,y_pred_train)\n",
        "        test_accuracy=accuracy_score(y_test,y_pred)\n",
        "        p_score_train=precision_score(y_train,y_pred_train)\n",
        "        p_score=precision_score(y_test,y_pred)\n",
        "        r_score_train=recall_score(y_train,y_pred_train)\n",
        "        r_score=recall_score(y_test,y_pred)\n",
        "        train_auc = roc_auc_score(y_train,y_pred_train)\n",
        "        test_auc = roc_auc_score(y_test,y_pred)\n",
        "        fp, tp, th = roc_curve(y_test, y_pred)\n",
        "        \n",
        "        #insert in dataframe\n",
        "        df.loc[i,\"Model_Name\"]=model.__class__.__name__\n",
        "        df.loc[i,\"Train_Accuracy\"]=round(train_accuracy*100,2)\n",
        "        df.loc[i,\"Test_Accuracy\"]=round(test_accuracy*100,2)\n",
        "        df.loc[i,\"Precision_Train\"]=round(p_score_train*100,2)\n",
        "        df.loc[i,\"Precision_Test\"]=round(p_score*100,2)\n",
        "        df.loc[i,\"Recall_Train\"]=round(r_score_train*100,2)\n",
        "        df.loc[i,\"Recall_test\"]=round(r_score*100,2)\n",
        "        df.loc[i,\"ROC_AUC_Train\"]=round(train_auc*100,2)\n",
        "        df.loc[i,\"ROC_AUC_Test\"]=round(test_auc*100,2)\n",
        "        df.loc[i,'AUC'] = auc(fp, tp)\n",
        "        df.loc[i,'MOdel_training_time ']= end-start\n",
        "        #inserted in dictionary\n",
        "        dct_train[model.__class__.__name__]=confusion_matrix(y_train,y_pred_train)\n",
        "        dct_test[model.__class__.__name__]=confusion_matrix(y_test,y_pred)\n",
        "\n",
        "        i+=1\n",
        "    # Return the data frame and dictionary\n",
        "    return df,dct_train,dct_test"
      ],
      "execution_count": 114,
      "outputs": []
    },
    {
      "cell_type": "code",
      "metadata": {
        "id": "seqm189PosYC"
      },
      "source": [
        "result_df,dct_train,dct_test=score_model(X_train,y_train,X_test,y_test)"
      ],
      "execution_count": 115,
      "outputs": []
    },
    {
      "cell_type": "code",
      "metadata": {
        "id": "C9ls1UejowAE",
        "colab": {
          "base_uri": "https://localhost:8080/",
          "height": 286
        },
        "outputId": "c85c5b63-7ed4-49c3-8c57-aebc91fc728c"
      },
      "source": [
        "result_df"
      ],
      "execution_count": 116,
      "outputs": [
        {
          "output_type": "execute_result",
          "data": {
            "text/html": [
              "<div>\n",
              "<style scoped>\n",
              "    .dataframe tbody tr th:only-of-type {\n",
              "        vertical-align: middle;\n",
              "    }\n",
              "\n",
              "    .dataframe tbody tr th {\n",
              "        vertical-align: top;\n",
              "    }\n",
              "\n",
              "    .dataframe thead th {\n",
              "        text-align: right;\n",
              "    }\n",
              "</style>\n",
              "<table border=\"1\" class=\"dataframe\">\n",
              "  <thead>\n",
              "    <tr style=\"text-align: right;\">\n",
              "      <th></th>\n",
              "      <th>Model_Name</th>\n",
              "      <th>Train_Accuracy</th>\n",
              "      <th>Test_Accuracy</th>\n",
              "      <th>Precision_Train</th>\n",
              "      <th>Precision_Test</th>\n",
              "      <th>Recall_Train</th>\n",
              "      <th>Recall_test</th>\n",
              "      <th>ROC_AUC_Train</th>\n",
              "      <th>ROC_AUC_Test</th>\n",
              "      <th>AUC</th>\n",
              "      <th>MOdel_training_time</th>\n",
              "    </tr>\n",
              "  </thead>\n",
              "  <tbody>\n",
              "    <tr>\n",
              "      <th>0</th>\n",
              "      <td>LogisticRegression</td>\n",
              "      <td>95.52</td>\n",
              "      <td>95.32</td>\n",
              "      <td>95.28</td>\n",
              "      <td>95.17</td>\n",
              "      <td>95.35</td>\n",
              "      <td>94.99</td>\n",
              "      <td>95.52</td>\n",
              "      <td>95.30</td>\n",
              "      <td>0.953025</td>\n",
              "      <td>1.507587</td>\n",
              "    </tr>\n",
              "    <tr>\n",
              "      <th>1</th>\n",
              "      <td>LinearSVC</td>\n",
              "      <td>95.49</td>\n",
              "      <td>95.35</td>\n",
              "      <td>95.20</td>\n",
              "      <td>95.20</td>\n",
              "      <td>95.36</td>\n",
              "      <td>95.02</td>\n",
              "      <td>95.48</td>\n",
              "      <td>95.34</td>\n",
              "      <td>0.953353</td>\n",
              "      <td>0.409506</td>\n",
              "    </tr>\n",
              "    <tr>\n",
              "      <th>2</th>\n",
              "      <td>MultinomialNB</td>\n",
              "      <td>86.64</td>\n",
              "      <td>86.38</td>\n",
              "      <td>82.21</td>\n",
              "      <td>82.00</td>\n",
              "      <td>91.90</td>\n",
              "      <td>91.47</td>\n",
              "      <td>86.86</td>\n",
              "      <td>86.61</td>\n",
              "      <td>0.866090</td>\n",
              "      <td>0.035059</td>\n",
              "    </tr>\n",
              "    <tr>\n",
              "      <th>3</th>\n",
              "      <td>DecisionTreeClassifier</td>\n",
              "      <td>99.99</td>\n",
              "      <td>93.23</td>\n",
              "      <td>100.00</td>\n",
              "      <td>92.94</td>\n",
              "      <td>99.98</td>\n",
              "      <td>92.83</td>\n",
              "      <td>99.99</td>\n",
              "      <td>93.21</td>\n",
              "      <td>0.932073</td>\n",
              "      <td>0.692671</td>\n",
              "    </tr>\n",
              "    <tr>\n",
              "      <th>4</th>\n",
              "      <td>RandomForestClassifier</td>\n",
              "      <td>99.99</td>\n",
              "      <td>95.26</td>\n",
              "      <td>100.00</td>\n",
              "      <td>95.79</td>\n",
              "      <td>99.97</td>\n",
              "      <td>94.18</td>\n",
              "      <td>99.99</td>\n",
              "      <td>95.21</td>\n",
              "      <td>0.952113</td>\n",
              "      <td>5.910911</td>\n",
              "    </tr>\n",
              "    <tr>\n",
              "      <th>5</th>\n",
              "      <td>GradientBoostingClassifier</td>\n",
              "      <td>95.58</td>\n",
              "      <td>95.26</td>\n",
              "      <td>95.65</td>\n",
              "      <td>95.43</td>\n",
              "      <td>95.06</td>\n",
              "      <td>94.58</td>\n",
              "      <td>95.55</td>\n",
              "      <td>95.23</td>\n",
              "      <td>0.952292</td>\n",
              "      <td>16.911354</td>\n",
              "    </tr>\n",
              "    <tr>\n",
              "      <th>6</th>\n",
              "      <td>XGBClassifier</td>\n",
              "      <td>95.59</td>\n",
              "      <td>95.27</td>\n",
              "      <td>95.64</td>\n",
              "      <td>95.48</td>\n",
              "      <td>95.10</td>\n",
              "      <td>94.54</td>\n",
              "      <td>95.57</td>\n",
              "      <td>95.24</td>\n",
              "      <td>0.952354</td>\n",
              "      <td>10.559092</td>\n",
              "    </tr>\n",
              "  </tbody>\n",
              "</table>\n",
              "</div>"
            ],
            "text/plain": [
              "                   Model_Name  Train_Accuracy  ...       AUC  MOdel_training_time \n",
              "0          LogisticRegression           95.52  ...  0.953025              1.507587\n",
              "1                   LinearSVC           95.49  ...  0.953353              0.409506\n",
              "2               MultinomialNB           86.64  ...  0.866090              0.035059\n",
              "3      DecisionTreeClassifier           99.99  ...  0.932073              0.692671\n",
              "4      RandomForestClassifier           99.99  ...  0.952113              5.910911\n",
              "5  GradientBoostingClassifier           95.58  ...  0.952292             16.911354\n",
              "6               XGBClassifier           95.59  ...  0.952354             10.559092\n",
              "\n",
              "[7 rows x 11 columns]"
            ]
          },
          "metadata": {
            "tags": []
          },
          "execution_count": 116
        }
      ]
    },
    {
      "cell_type": "markdown",
      "metadata": {
        "id": "_sYxu8eflzyz"
      },
      "source": [
        "##Confusion Matrix for Train set"
      ]
    },
    {
      "cell_type": "code",
      "metadata": {
        "id": "eRVlVEnul_li",
        "colab": {
          "base_uri": "https://localhost:8080/",
          "height": 1000
        },
        "outputId": "b1cd134f-cd65-438b-ba11-22830b7713b1"
      },
      "source": [
        "#confusion matrix of train set\n",
        "for key,value in dct_train.items():\n",
        "  print(f'Confusion matrix for {key}')\n",
        "  print(value)\n",
        "  sns.heatmap(value,annot=True)\n",
        "  plt.show()\n",
        "  print()"
      ],
      "execution_count": 117,
      "outputs": [
        {
          "output_type": "stream",
          "text": [
            "Confusion matrix for LogisticRegression\n",
            "[[24470  1105]\n",
            " [ 1086 22285]]\n"
          ],
          "name": "stdout"
        },
        {
          "output_type": "display_data",
          "data": {
            "image/png": "[encoded data removed]",
            "text/plain": [
              "<Figure size 432x288 with 2 Axes>"
            ]
          },
          "metadata": {
            "tags": [],
            "needs_background": "light"
          }
        },
        {
          "output_type": "stream",
          "text": [
            "\n",
            "Confusion matrix for LinearSVC\n",
            "[[24451  1124]\n",
            " [ 1085 22286]]\n"
          ],
          "name": "stdout"
        },
        {
          "output_type": "display_data",
          "data": {
            "image/png": "[encoded data removed]",
            "text/plain": [
              "<Figure size 432x288 with 2 Axes>"
            ]
          },
          "metadata": {
            "tags": [],
            "needs_background": "light"
          }
        },
        {
          "output_type": "stream",
          "text": [
            "\n",
            "Confusion matrix for MultinomialNB\n",
            "[[20926  4649]\n",
            " [ 1892 21479]]\n"
          ],
          "name": "stdout"
        },
        {
          "output_type": "display_data",
          "data": {
            "image/png": "[encoded data removed]",
            "text/plain": [
              "<Figure size 432x288 with 2 Axes>"
            ]
          },
          "metadata": {
            "tags": [],
            "needs_background": "light"
          }
        },
        {
          "output_type": "stream",
          "text": [
            "\n",
            "Confusion matrix for DecisionTreeClassifier\n",
            "[[25574     1]\n",
            " [    4 23367]]\n"
          ],
          "name": "stdout"
        },
        {
          "output_type": "display_data",
          "data": {
            "image/png": "[encoded data removed]",
            "text/plain": [
              "<Figure size 432x288 with 2 Axes>"
            ]
          },
          "metadata": {
            "tags": [],
            "needs_background": "light"
          }
        },
        {
          "output_type": "stream",
          "text": [
            "\n",
            "Confusion matrix for RandomForestClassifier\n",
            "[[25574     1]\n",
            " [    6 23365]]\n"
          ],
          "name": "stdout"
        },
        {
          "output_type": "display_data",
          "data": {
            "image/png": "[encoded data removed]",
            "text/plain": [
              "<Figure size 432x288 with 2 Axes>"
            ]
          },
          "metadata": {
            "tags": [],
            "needs_background": "light"
          }
        },
        {
          "output_type": "stream",
          "text": [
            "\n",
            "Confusion matrix for GradientBoostingClassifier\n",
            "[[24565  1010]\n",
            " [ 1155 22216]]\n"
          ],
          "name": "stdout"
        },
        {
          "output_type": "display_data",
          "data": {
            "image/png": "[encoded data removed]",
            "text/plain": [
              "<Figure size 432x288 with 2 Axes>"
            ]
          },
          "metadata": {
            "tags": [],
            "needs_background": "light"
          }
        },
        {
          "output_type": "stream",
          "text": [
            "\n",
            "Confusion matrix for XGBClassifier\n",
            "[[24561  1014]\n",
            " [ 1146 22225]]\n"
          ],
          "name": "stdout"
        },
        {
          "output_type": "display_data",
          "data": {
            "image/png": "[encoded data removed]",
            "text/plain": [
              "<Figure size 432x288 with 2 Axes>"
            ]
          },
          "metadata": {
            "tags": [],
            "needs_background": "light"
          }
        },
        {
          "output_type": "stream",
          "text": [
            "\n"
          ],
          "name": "stdout"
        }
      ]
    },
    {
      "cell_type": "markdown",
      "metadata": {
        "id": "03VOO8sDnWhJ"
      },
      "source": [
        "### Confusion matrix for test dataset"
      ]
    },
    {
      "cell_type": "code",
      "metadata": {
        "id": "vCEvNjWZZ3NB",
        "colab": {
          "base_uri": "https://localhost:8080/",
          "height": 1000
        },
        "outputId": "cad858e5-8c2c-476f-a866-47061b2848d7"
      },
      "source": [
        "for key,value in dct_test.items():\n",
        "  print(f' Confusion matrix for {key}  ')\n",
        "  print(value)\n",
        "  sns.heatmap(value,annot=True)\n",
        "  plt.show()\n",
        "  print()"
      ],
      "execution_count": 118,
      "outputs": [
        {
          "output_type": "stream",
          "text": [
            " Confusion matrix for LogisticRegression  \n",
            "[[6129  281]\n",
            " [ 292 5535]]\n"
          ],
          "name": "stdout"
        },
        {
          "output_type": "display_data",
          "data": {
            "image/png": "[encoded data removed]",
            "text/plain": [
              "<Figure size 432x288 with 2 Axes>"
            ]
          },
          "metadata": {
            "tags": [],
            "needs_background": "light"
          }
        },
        {
          "output_type": "stream",
          "text": [
            "\n",
            " Confusion matrix for LinearSVC  \n",
            "[[6131  279]\n",
            " [ 290 5537]]\n"
          ],
          "name": "stdout"
        },
        {
          "output_type": "display_data",
          "data": {
            "image/png": "[encoded data removed]",
            "text/plain": [
              "<Figure size 432x288 with 2 Axes>"
            ]
          },
          "metadata": {
            "tags": [],
            "needs_background": "light"
          }
        },
        {
          "output_type": "stream",
          "text": [
            "\n",
            " Confusion matrix for MultinomialNB  \n",
            "[[5240 1170]\n",
            " [ 497 5330]]\n"
          ],
          "name": "stdout"
        },
        {
          "output_type": "display_data",
          "data": {
            "image/png": "[encoded data removed]",
            "text/plain": [
              "<Figure size 432x288 with 2 Axes>"
            ]
          },
          "metadata": {
            "tags": [],
            "needs_background": "light"
          }
        },
        {
          "output_type": "stream",
          "text": [
            "\n",
            " Confusion matrix for DecisionTreeClassifier  \n",
            "[[5999  411]\n",
            " [ 418 5409]]\n"
          ],
          "name": "stdout"
        },
        {
          "output_type": "display_data",
          "data": {
            "image/png": "[encoded data removed]",
            "text/plain": [
              "<Figure size 432x288 with 2 Axes>"
            ]
          },
          "metadata": {
            "tags": [],
            "needs_background": "light"
          }
        },
        {
          "output_type": "stream",
          "text": [
            "\n",
            " Confusion matrix for RandomForestClassifier  \n",
            "[[6169  241]\n",
            " [ 339 5488]]\n"
          ],
          "name": "stdout"
        },
        {
          "output_type": "display_data",
          "data": {
            "image/png": "[encoded data removed]",
            "text/plain": [
              "<Figure size 432x288 with 2 Axes>"
            ]
          },
          "metadata": {
            "tags": [],
            "needs_background": "light"
          }
        },
        {
          "output_type": "stream",
          "text": [
            "\n",
            " Confusion matrix for GradientBoostingClassifier  \n",
            "[[6146  264]\n",
            " [ 316 5511]]\n"
          ],
          "name": "stdout"
        },
        {
          "output_type": "display_data",
          "data": {
            "image/png": "[encoded data removed]",
            "text/plain": [
              "<Figure size 432x288 with 2 Axes>"
            ]
          },
          "metadata": {
            "tags": [],
            "needs_background": "light"
          }
        },
        {
          "output_type": "stream",
          "text": [
            "\n",
            " Confusion matrix for XGBClassifier  \n",
            "[[6149  261]\n",
            " [ 318 5509]]\n"
          ],
          "name": "stdout"
        },
        {
          "output_type": "display_data",
          "data": {
            "image/png": "[encoded data removed]",
            "text/plain": [
              "<Figure size 432x288 with 2 Axes>"
            ]
          },
          "metadata": {
            "tags": [],
            "needs_background": "light"
          }
        },
        {
          "output_type": "stream",
          "text": [
            "\n"
          ],
          "name": "stdout"
        }
      ]
    },
    {
      "cell_type": "markdown",
      "metadata": {
        "id": "SdJfVFY7CGrp"
      },
      "source": [
        "## Cross validation and Hyperparameter  tuning"
      ]
    },
    {
      "cell_type": "code",
      "metadata": {
        "id": "otnN0XJtCkEn"
      },
      "source": [
        "from sklearn.model_selection import GridSearchCV\n",
        "from sklearn.model_selection import cross_val_score"
      ],
      "execution_count": 157,
      "outputs": []
    },
    {
      "cell_type": "markdown",
      "metadata": {
        "id": "AJpGO5MHtCED"
      },
      "source": [
        "####Logistic Regression"
      ]
    },
    {
      "cell_type": "markdown",
      "metadata": {
        "id": "8okp2T0iH7fm"
      },
      "source": [
        "###cross validation"
      ]
    },
    {
      "cell_type": "code",
      "metadata": {
        "colab": {
          "base_uri": "https://localhost:8080/"
        },
        "id": "LGqsZWpbICcL",
        "outputId": "ae00ab40-29f4-49a6-f3a1-65e2365ec1c0"
      },
      "source": [
        "accuracy = cross_val_score(lr_model, X_train, y_train, scoring='accuracy', cv = 10)\n",
        "print(accuracy)\n",
        "\n",
        "\n"
      ],
      "execution_count": 158,
      "outputs": [
        {
          "output_type": "stream",
          "text": [
            "/usr/local/lib/python3.7/dist-packages/sklearn/linear_model/_logistic.py:940: ConvergenceWarning: lbfgs failed to converge (status=1):\n",
            "STOP: TOTAL NO. of ITERATIONS REACHED LIMIT.\n",
            "\n",
            "Increase the number of iterations (max_iter) or scale the data as shown in:\n",
            "    https://scikit-learn.org/stable/modules/preprocessing.html\n",
            "Please also refer to the documentation for alternative solver options:\n",
            "    https://scikit-learn.org/stable/modules/linear_model.html#logistic-regression\n",
            "  extra_warning_msg=_LOGISTIC_SOLVER_CONVERGENCE_MSG)\n",
            "/usr/local/lib/python3.7/dist-packages/sklearn/linear_model/_logistic.py:940: ConvergenceWarning: lbfgs failed to converge (status=1):\n",
            "STOP: TOTAL NO. of ITERATIONS REACHED LIMIT.\n",
            "\n",
            "Increase the number of iterations (max_iter) or scale the data as shown in:\n",
            "    https://scikit-learn.org/stable/modules/preprocessing.html\n",
            "Please also refer to the documentation for alternative solver options:\n",
            "    https://scikit-learn.org/stable/modules/linear_model.html#logistic-regression\n",
            "  extra_warning_msg=_LOGISTIC_SOLVER_CONVERGENCE_MSG)\n",
            "/usr/local/lib/python3.7/dist-packages/sklearn/linear_model/_logistic.py:940: ConvergenceWarning: lbfgs failed to converge (status=1):\n",
            "STOP: TOTAL NO. of ITERATIONS REACHED LIMIT.\n",
            "\n",
            "Increase the number of iterations (max_iter) or scale the data as shown in:\n",
            "    https://scikit-learn.org/stable/modules/preprocessing.html\n",
            "Please also refer to the documentation for alternative solver options:\n",
            "    https://scikit-learn.org/stable/modules/linear_model.html#logistic-regression\n",
            "  extra_warning_msg=_LOGISTIC_SOLVER_CONVERGENCE_MSG)\n",
            "/usr/local/lib/python3.7/dist-packages/sklearn/linear_model/_logistic.py:940: ConvergenceWarning: lbfgs failed to converge (status=1):\n",
            "STOP: TOTAL NO. of ITERATIONS REACHED LIMIT.\n",
            "\n",
            "Increase the number of iterations (max_iter) or scale the data as shown in:\n",
            "    https://scikit-learn.org/stable/modules/preprocessing.html\n",
            "Please also refer to the documentation for alternative solver options:\n",
            "    https://scikit-learn.org/stable/modules/linear_model.html#logistic-regression\n",
            "  extra_warning_msg=_LOGISTIC_SOLVER_CONVERGENCE_MSG)\n",
            "/usr/local/lib/python3.7/dist-packages/sklearn/linear_model/_logistic.py:940: ConvergenceWarning: lbfgs failed to converge (status=1):\n",
            "STOP: TOTAL NO. of ITERATIONS REACHED LIMIT.\n",
            "\n",
            "Increase the number of iterations (max_iter) or scale the data as shown in:\n",
            "    https://scikit-learn.org/stable/modules/preprocessing.html\n",
            "Please also refer to the documentation for alternative solver options:\n",
            "    https://scikit-learn.org/stable/modules/linear_model.html#logistic-regression\n",
            "  extra_warning_msg=_LOGISTIC_SOLVER_CONVERGENCE_MSG)\n",
            "/usr/local/lib/python3.7/dist-packages/sklearn/linear_model/_logistic.py:940: ConvergenceWarning: lbfgs failed to converge (status=1):\n",
            "STOP: TOTAL NO. of ITERATIONS REACHED LIMIT.\n",
            "\n",
            "Increase the number of iterations (max_iter) or scale the data as shown in:\n",
            "    https://scikit-learn.org/stable/modules/preprocessing.html\n",
            "Please also refer to the documentation for alternative solver options:\n",
            "    https://scikit-learn.org/stable/modules/linear_model.html#logistic-regression\n",
            "  extra_warning_msg=_LOGISTIC_SOLVER_CONVERGENCE_MSG)\n",
            "/usr/local/lib/python3.7/dist-packages/sklearn/linear_model/_logistic.py:940: ConvergenceWarning: lbfgs failed to converge (status=1):\n",
            "STOP: TOTAL NO. of ITERATIONS REACHED LIMIT.\n",
            "\n",
            "Increase the number of iterations (max_iter) or scale the data as shown in:\n",
            "    https://scikit-learn.org/stable/modules/preprocessing.html\n",
            "Please also refer to the documentation for alternative solver options:\n",
            "    https://scikit-learn.org/stable/modules/linear_model.html#logistic-regression\n",
            "  extra_warning_msg=_LOGISTIC_SOLVER_CONVERGENCE_MSG)\n",
            "/usr/local/lib/python3.7/dist-packages/sklearn/linear_model/_logistic.py:940: ConvergenceWarning: lbfgs failed to converge (status=1):\n",
            "STOP: TOTAL NO. of ITERATIONS REACHED LIMIT.\n",
            "\n",
            "Increase the number of iterations (max_iter) or scale the data as shown in:\n",
            "    https://scikit-learn.org/stable/modules/preprocessing.html\n",
            "Please also refer to the documentation for alternative solver options:\n",
            "    https://scikit-learn.org/stable/modules/linear_model.html#logistic-regression\n",
            "  extra_warning_msg=_LOGISTIC_SOLVER_CONVERGENCE_MSG)\n",
            "/usr/local/lib/python3.7/dist-packages/sklearn/linear_model/_logistic.py:940: ConvergenceWarning: lbfgs failed to converge (status=1):\n",
            "STOP: TOTAL NO. of ITERATIONS REACHED LIMIT.\n",
            "\n",
            "Increase the number of iterations (max_iter) or scale the data as shown in:\n",
            "    https://scikit-learn.org/stable/modules/preprocessing.html\n",
            "Please also refer to the documentation for alternative solver options:\n",
            "    https://scikit-learn.org/stable/modules/linear_model.html#logistic-regression\n",
            "  extra_warning_msg=_LOGISTIC_SOLVER_CONVERGENCE_MSG)\n"
          ],
          "name": "stderr"
        },
        {
          "output_type": "stream",
          "text": [
            "[0.95648621 0.95975485 0.95689479 0.95730337 0.96159346 0.96098059\n",
            " 0.95668165 0.96117695 0.96097262 0.95913363]\n",
            "Accuracy of Model with Cross Validation is: 95.90978133780374\n"
          ],
          "name": "stdout"
        },
        {
          "output_type": "stream",
          "text": [
            "/usr/local/lib/python3.7/dist-packages/sklearn/linear_model/_logistic.py:940: ConvergenceWarning: lbfgs failed to converge (status=1):\n",
            "STOP: TOTAL NO. of ITERATIONS REACHED LIMIT.\n",
            "\n",
            "Increase the number of iterations (max_iter) or scale the data as shown in:\n",
            "    https://scikit-learn.org/stable/modules/preprocessing.html\n",
            "Please also refer to the documentation for alternative solver options:\n",
            "    https://scikit-learn.org/stable/modules/linear_model.html#logistic-regression\n",
            "  extra_warning_msg=_LOGISTIC_SOLVER_CONVERGENCE_MSG)\n"
          ],
          "name": "stderr"
        }
      ]
    },
    {
      "cell_type": "code",
      "metadata": {
        "colab": {
          "base_uri": "https://localhost:8080/"
        },
        "id": "bA1y_2QAHyJf",
        "outputId": "e9675df6-fa8d-4e47-97f4-94ff226bbe73"
      },
      "source": [
        "#get the mean of each fold \n",
        "print(\"Accuracy of Model with Cross Validation is:\",accuracy.mean() * 100)"
      ],
      "execution_count": 159,
      "outputs": [
        {
          "output_type": "stream",
          "text": [
            "Accuracy of Model with Cross Validation is: 95.90978133780374\n"
          ],
          "name": "stdout"
        }
      ]
    },
    {
      "cell_type": "code",
      "metadata": {
        "id": "sjpKLCt2sTQJ",
        "colab": {
          "base_uri": "https://localhost:8080/"
        },
        "outputId": "2ef84d6a-942c-4f58-eb88-00e4255ac955"
      },
      "source": [
        "lr_model = LogisticRegression(random_state= 4)\n",
        "parameters ={\"C\":[1e-9,1e-6,1e-3,1e-2,1e-1,1,1e2,1e3,1e6]}\n",
        "lr_model_cv= GridSearchCV(lr_model,parameters,cv=4)\n",
        "lr_model_cv.fit(X_train,y_train)"
      ],
      "execution_count": 120,
      "outputs": [
        {
          "output_type": "execute_result",
          "data": {
            "text/plain": [
              "GridSearchCV(cv=4, error_score=nan,\n",
              "             estimator=LogisticRegression(C=1.0, class_weight=None, dual=False,\n",
              "                                          fit_intercept=True,\n",
              "                                          intercept_scaling=1, l1_ratio=None,\n",
              "                                          max_iter=100, multi_class='auto',\n",
              "                                          n_jobs=None, penalty='l2',\n",
              "                                          random_state=4, solver='lbfgs',\n",
              "                                          tol=0.0001, verbose=0,\n",
              "                                          warm_start=False),\n",
              "             iid='deprecated', n_jobs=None,\n",
              "             param_grid={'C': [1e-09, 1e-06, 0.001, 0.01, 0.1, 1, 100.0, 1000.0,\n",
              "                               1000000.0]},\n",
              "             pre_dispatch='2*n_jobs', refit=True, return_train_score=False,\n",
              "             scoring=None, verbose=0)"
            ]
          },
          "metadata": {
            "tags": []
          },
          "execution_count": 120
        }
      ]
    },
    {
      "cell_type": "code",
      "metadata": {
        "id": "MKh2DpP0ulBd",
        "colab": {
          "base_uri": "https://localhost:8080/"
        },
        "outputId": "d578d594-a9c7-4039-a049-e0ee36e65cab"
      },
      "source": [
        "lr_model_cv.best_params_"
      ],
      "execution_count": 121,
      "outputs": [
        {
          "output_type": "execute_result",
          "data": {
            "text/plain": [
              "{'C': 1000.0}"
            ]
          },
          "metadata": {
            "tags": []
          },
          "execution_count": 121
        }
      ]
    },
    {
      "cell_type": "code",
      "metadata": {
        "id": "8EdUg0X0u8T0"
      },
      "source": [
        "y_test_pred = lr_model_cv.predict(X_test)"
      ],
      "execution_count": 122,
      "outputs": []
    },
    {
      "cell_type": "code",
      "metadata": {
        "id": "21Iv1_3GveZR",
        "colab": {
          "base_uri": "https://localhost:8080/"
        },
        "outputId": "3c8a6fdd-2f50-4b34-9f25-9e2d4fedce2f"
      },
      "source": [
        "accuracy_score(y_test,y_test_pred)"
      ],
      "execution_count": 123,
      "outputs": [
        {
          "output_type": "execute_result",
          "data": {
            "text/plain": [
              "0.9532565171202092"
            ]
          },
          "metadata": {
            "tags": []
          },
          "execution_count": 123
        }
      ]
    },
    {
      "cell_type": "code",
      "metadata": {
        "id": "lXUMCbIRveTU",
        "colab": {
          "base_uri": "https://localhost:8080/"
        },
        "outputId": "68b22e03-d670-4d05-a912-b157b8bfa832"
      },
      "source": [
        "print(confusion_matrix(y_test,y_test_pred))"
      ],
      "execution_count": 124,
      "outputs": [
        {
          "output_type": "stream",
          "text": [
            "[[6134  276]\n",
            " [ 296 5531]]\n"
          ],
          "name": "stdout"
        }
      ]
    },
    {
      "cell_type": "code",
      "metadata": {
        "id": "lKseFgF1vx51"
      },
      "source": [
        ""
      ],
      "execution_count": 124,
      "outputs": []
    },
    {
      "cell_type": "markdown",
      "metadata": {
        "id": "lqjPvUEpFvXz"
      },
      "source": [
        "###Random forest"
      ]
    },
    {
      "cell_type": "code",
      "metadata": {
        "id": "tr-2Q_NXFusY"
      },
      "source": [
        "rf_model=RandomForestClassifier(random_state =10)\n"
      ],
      "execution_count": 125,
      "outputs": []
    },
    {
      "cell_type": "code",
      "metadata": {
        "id": "951XIBUCyDSj",
        "colab": {
          "base_uri": "https://localhost:8080/"
        },
        "outputId": "04474641-cd4e-4922-d826-0f7b39fc89fe"
      },
      "source": [
        "rf_model"
      ],
      "execution_count": 126,
      "outputs": [
        {
          "output_type": "execute_result",
          "data": {
            "text/plain": [
              "RandomForestClassifier(bootstrap=True, ccp_alpha=0.0, class_weight=None,\n",
              "                       criterion='gini', max_depth=None, max_features='auto',\n",
              "                       max_leaf_nodes=None, max_samples=None,\n",
              "                       min_impurity_decrease=0.0, min_impurity_split=None,\n",
              "                       min_samples_leaf=1, min_samples_split=2,\n",
              "                       min_weight_fraction_leaf=0.0, n_estimators=100,\n",
              "                       n_jobs=None, oob_score=False, random_state=10, verbose=0,\n",
              "                       warm_start=False)"
            ]
          },
          "metadata": {
            "tags": []
          },
          "execution_count": 126
        }
      ]
    },
    {
      "cell_type": "code",
      "metadata": {
        "id": "oIVsbWf2Fum3"
      },
      "source": [
        "\n",
        "# Maximum number of levels in tree\n",
        "max_depth = [int(x) for x in np.linspace(50, 70, num = 4)]\n",
        "max_depth.append(None)\n",
        "# Minimum number of samples required to split a node\n",
        "min_samples_split = [2, 5]\n",
        "# Minimum number of samples required at each leaf node\n",
        "min_samples_leaf = [1, 2, 4]\n"
      ],
      "execution_count": 127,
      "outputs": []
    },
    {
      "cell_type": "code",
      "metadata": {
        "id": "J4qx1iczxSiK"
      },
      "source": [
        "param = {'max_depth':max_depth,'min_samples_split':min_samples_split,'min_samples_leaf':min_samples_leaf,}"
      ],
      "execution_count": 128,
      "outputs": []
    },
    {
      "cell_type": "code",
      "metadata": {
        "id": "aTTsgNUfEO8-",
        "colab": {
          "base_uri": "https://localhost:8080/"
        },
        "outputId": "b833d2a9-e1c7-4aee-c0bf-83b1794df681"
      },
      "source": [
        "param"
      ],
      "execution_count": 129,
      "outputs": [
        {
          "output_type": "execute_result",
          "data": {
            "text/plain": [
              "{'max_depth': [50, 56, 63, 70, None],\n",
              " 'min_samples_leaf': [1, 2, 4],\n",
              " 'min_samples_split': [2, 5]}"
            ]
          },
          "metadata": {
            "tags": []
          },
          "execution_count": 129
        }
      ]
    },
    {
      "cell_type": "code",
      "metadata": {
        "id": "ElA93OZqyQGP",
        "colab": {
          "base_uri": "https://localhost:8080/",
          "height": 323
        },
        "outputId": "8787534d-9bdb-415c-a1d0-b0a33fb3b01e"
      },
      "source": [
        "rf_model_cv= GridSearchCV(rf_model,param,cv=4)\n",
        "rf_model_cv.fit(X_train,y_train)"
      ],
      "execution_count": 130,
      "outputs": [
        {
          "output_type": "error",
          "ename": "KeyboardInterrupt",
          "evalue": "ignored",
          "traceback": [
            "\u001b[0;31m---------------------------------------------------------------------------\u001b[0m",
            "\u001b[0;31mKeyboardInterrupt\u001b[0m                         Traceback (most recent call last)",
            "\u001b[0;32m<ipython-input-130-538aef81401c>\u001b[0m in \u001b[0;36m<module>\u001b[0;34m()\u001b[0m\n\u001b[1;32m      1\u001b[0m \u001b[0mrf_model_cv\u001b[0m\u001b[0;34m=\u001b[0m \u001b[0mGridSearchCV\u001b[0m\u001b[0;34m(\u001b[0m\u001b[0mrf_model\u001b[0m\u001b[0;34m,\u001b[0m\u001b[0mparam\u001b[0m\u001b[0;34m,\u001b[0m\u001b[0mcv\u001b[0m\u001b[0;34m=\u001b[0m\u001b[0;36m4\u001b[0m\u001b[0;34m)\u001b[0m\u001b[0;34m\u001b[0m\u001b[0;34m\u001b[0m\u001b[0m\n\u001b[0;32m----> 2\u001b[0;31m \u001b[0mrf_model_cv\u001b[0m\u001b[0;34m.\u001b[0m\u001b[0mfit\u001b[0m\u001b[0;34m(\u001b[0m\u001b[0mX_train\u001b[0m\u001b[0;34m,\u001b[0m\u001b[0my_train\u001b[0m\u001b[0;34m)\u001b[0m\u001b[0;34m\u001b[0m\u001b[0;34m\u001b[0m\u001b[0m\n\u001b[0m",
            "\u001b[0;32m/usr/local/lib/python3.7/dist-packages/sklearn/model_selection/_search.py\u001b[0m in \u001b[0;36mfit\u001b[0;34m(self, X, y, groups, **fit_params)\u001b[0m\n\u001b[1;32m    708\u001b[0m                 \u001b[0;32mreturn\u001b[0m \u001b[0mresults\u001b[0m\u001b[0;34m\u001b[0m\u001b[0;34m\u001b[0m\u001b[0m\n\u001b[1;32m    709\u001b[0m \u001b[0;34m\u001b[0m\u001b[0m\n\u001b[0;32m--> 710\u001b[0;31m             \u001b[0mself\u001b[0m\u001b[0;34m.\u001b[0m\u001b[0m_run_search\u001b[0m\u001b[0;34m(\u001b[0m\u001b[0mevaluate_candidates\u001b[0m\u001b[0;34m)\u001b[0m\u001b[0;34m\u001b[0m\u001b[0;34m\u001b[0m\u001b[0m\n\u001b[0m\u001b[1;32m    711\u001b[0m \u001b[0;34m\u001b[0m\u001b[0m\n\u001b[1;32m    712\u001b[0m         \u001b[0;31m# For multi-metric evaluation, store the best_index_, best_params_ and\u001b[0m\u001b[0;34m\u001b[0m\u001b[0;34m\u001b[0m\u001b[0;34m\u001b[0m\u001b[0m\n",
            "\u001b[0;32m/usr/local/lib/python3.7/dist-packages/sklearn/model_selection/_search.py\u001b[0m in \u001b[0;36m_run_search\u001b[0;34m(self, evaluate_candidates)\u001b[0m\n\u001b[1;32m   1149\u001b[0m     \u001b[0;32mdef\u001b[0m \u001b[0m_run_search\u001b[0m\u001b[0;34m(\u001b[0m\u001b[0mself\u001b[0m\u001b[0;34m,\u001b[0m \u001b[0mevaluate_candidates\u001b[0m\u001b[0;34m)\u001b[0m\u001b[0;34m:\u001b[0m\u001b[0;34m\u001b[0m\u001b[0;34m\u001b[0m\u001b[0m\n\u001b[1;32m   1150\u001b[0m         \u001b[0;34m\"\"\"Search all candidates in param_grid\"\"\"\u001b[0m\u001b[0;34m\u001b[0m\u001b[0;34m\u001b[0m\u001b[0m\n\u001b[0;32m-> 1151\u001b[0;31m         \u001b[0mevaluate_candidates\u001b[0m\u001b[0;34m(\u001b[0m\u001b[0mParameterGrid\u001b[0m\u001b[0;34m(\u001b[0m\u001b[0mself\u001b[0m\u001b[0;34m.\u001b[0m\u001b[0mparam_grid\u001b[0m\u001b[0;34m)\u001b[0m\u001b[0;34m)\u001b[0m\u001b[0;34m\u001b[0m\u001b[0;34m\u001b[0m\u001b[0m\n\u001b[0m\u001b[1;32m   1152\u001b[0m \u001b[0;34m\u001b[0m\u001b[0m\n\u001b[1;32m   1153\u001b[0m \u001b[0;34m\u001b[0m\u001b[0m\n",
            "\u001b[0;32m/usr/local/lib/python3.7/dist-packages/sklearn/model_selection/_search.py\u001b[0m in \u001b[0;36mevaluate_candidates\u001b[0;34m(candidate_params)\u001b[0m\n\u001b[1;32m    687\u001b[0m                                \u001b[0;32mfor\u001b[0m \u001b[0mparameters\u001b[0m\u001b[0;34m,\u001b[0m \u001b[0;34m(\u001b[0m\u001b[0mtrain\u001b[0m\u001b[0;34m,\u001b[0m \u001b[0mtest\u001b[0m\u001b[0;34m)\u001b[0m\u001b[0;34m\u001b[0m\u001b[0;34m\u001b[0m\u001b[0m\n\u001b[1;32m    688\u001b[0m                                in product(candidate_params,\n\u001b[0;32m--> 689\u001b[0;31m                                           cv.split(X, y, groups)))\n\u001b[0m\u001b[1;32m    690\u001b[0m \u001b[0;34m\u001b[0m\u001b[0m\n\u001b[1;32m    691\u001b[0m                 \u001b[0;32mif\u001b[0m \u001b[0mlen\u001b[0m\u001b[0;34m(\u001b[0m\u001b[0mout\u001b[0m\u001b[0;34m)\u001b[0m \u001b[0;34m<\u001b[0m \u001b[0;36m1\u001b[0m\u001b[0;34m:\u001b[0m\u001b[0;34m\u001b[0m\u001b[0;34m\u001b[0m\u001b[0m\n",
            "\u001b[0;32m/usr/local/lib/python3.7/dist-packages/joblib/parallel.py\u001b[0m in \u001b[0;36m__call__\u001b[0;34m(self, iterable)\u001b[0m\n\u001b[1;32m   1042\u001b[0m                 \u001b[0mself\u001b[0m\u001b[0;34m.\u001b[0m\u001b[0m_iterating\u001b[0m \u001b[0;34m=\u001b[0m \u001b[0mself\u001b[0m\u001b[0;34m.\u001b[0m\u001b[0m_original_iterator\u001b[0m \u001b[0;32mis\u001b[0m \u001b[0;32mnot\u001b[0m \u001b[0;32mNone\u001b[0m\u001b[0;34m\u001b[0m\u001b[0;34m\u001b[0m\u001b[0m\n\u001b[1;32m   1043\u001b[0m \u001b[0;34m\u001b[0m\u001b[0m\n\u001b[0;32m-> 1044\u001b[0;31m             \u001b[0;32mwhile\u001b[0m \u001b[0mself\u001b[0m\u001b[0;34m.\u001b[0m\u001b[0mdispatch_one_batch\u001b[0m\u001b[0;34m(\u001b[0m\u001b[0miterator\u001b[0m\u001b[0;34m)\u001b[0m\u001b[0;34m:\u001b[0m\u001b[0;34m\u001b[0m\u001b[0;34m\u001b[0m\u001b[0m\n\u001b[0m\u001b[1;32m   1045\u001b[0m                 \u001b[0;32mpass\u001b[0m\u001b[0;34m\u001b[0m\u001b[0;34m\u001b[0m\u001b[0m\n\u001b[1;32m   1046\u001b[0m \u001b[0;34m\u001b[0m\u001b[0m\n",
            "\u001b[0;32m/usr/local/lib/python3.7/dist-packages/joblib/parallel.py\u001b[0m in \u001b[0;36mdispatch_one_batch\u001b[0;34m(self, iterator)\u001b[0m\n\u001b[1;32m    857\u001b[0m                 \u001b[0;32mreturn\u001b[0m \u001b[0;32mFalse\u001b[0m\u001b[0;34m\u001b[0m\u001b[0;34m\u001b[0m\u001b[0m\n\u001b[1;32m    858\u001b[0m             \u001b[0;32melse\u001b[0m\u001b[0;34m:\u001b[0m\u001b[0;34m\u001b[0m\u001b[0;34m\u001b[0m\u001b[0m\n\u001b[0;32m--> 859\u001b[0;31m                 \u001b[0mself\u001b[0m\u001b[0;34m.\u001b[0m\u001b[0m_dispatch\u001b[0m\u001b[0;34m(\u001b[0m\u001b[0mtasks\u001b[0m\u001b[0;34m)\u001b[0m\u001b[0;34m\u001b[0m\u001b[0;34m\u001b[0m\u001b[0m\n\u001b[0m\u001b[1;32m    860\u001b[0m                 \u001b[0;32mreturn\u001b[0m \u001b[0;32mTrue\u001b[0m\u001b[0;34m\u001b[0m\u001b[0;34m\u001b[0m\u001b[0m\n\u001b[1;32m    861\u001b[0m \u001b[0;34m\u001b[0m\u001b[0m\n",
            "\u001b[0;32m/usr/local/lib/python3.7/dist-packages/joblib/parallel.py\u001b[0m in \u001b[0;36m_dispatch\u001b[0;34m(self, batch)\u001b[0m\n\u001b[1;32m    775\u001b[0m         \u001b[0;32mwith\u001b[0m \u001b[0mself\u001b[0m\u001b[0;34m.\u001b[0m\u001b[0m_lock\u001b[0m\u001b[0;34m:\u001b[0m\u001b[0;34m\u001b[0m\u001b[0;34m\u001b[0m\u001b[0m\n\u001b[1;32m    776\u001b[0m             \u001b[0mjob_idx\u001b[0m \u001b[0;34m=\u001b[0m \u001b[0mlen\u001b[0m\u001b[0;34m(\u001b[0m\u001b[0mself\u001b[0m\u001b[0;34m.\u001b[0m\u001b[0m_jobs\u001b[0m\u001b[0;34m)\u001b[0m\u001b[0;34m\u001b[0m\u001b[0;34m\u001b[0m\u001b[0m\n\u001b[0;32m--> 777\u001b[0;31m             \u001b[0mjob\u001b[0m \u001b[0;34m=\u001b[0m \u001b[0mself\u001b[0m\u001b[0;34m.\u001b[0m\u001b[0m_backend\u001b[0m\u001b[0;34m.\u001b[0m\u001b[0mapply_async\u001b[0m\u001b[0;34m(\u001b[0m\u001b[0mbatch\u001b[0m\u001b[0;34m,\u001b[0m \u001b[0mcallback\u001b[0m\u001b[0;34m=\u001b[0m\u001b[0mcb\u001b[0m\u001b[0;34m)\u001b[0m\u001b[0;34m\u001b[0m\u001b[0;34m\u001b[0m\u001b[0m\n\u001b[0m\u001b[1;32m    778\u001b[0m             \u001b[0;31m# A job can complete so quickly than its callback is\u001b[0m\u001b[0;34m\u001b[0m\u001b[0;34m\u001b[0m\u001b[0;34m\u001b[0m\u001b[0m\n\u001b[1;32m    779\u001b[0m             \u001b[0;31m# called before we get here, causing self._jobs to\u001b[0m\u001b[0;34m\u001b[0m\u001b[0;34m\u001b[0m\u001b[0;34m\u001b[0m\u001b[0m\n",
            "\u001b[0;32m/usr/local/lib/python3.7/dist-packages/joblib/_parallel_backends.py\u001b[0m in \u001b[0;36mapply_async\u001b[0;34m(self, func, callback)\u001b[0m\n\u001b[1;32m    206\u001b[0m     \u001b[0;32mdef\u001b[0m \u001b[0mapply_async\u001b[0m\u001b[0;34m(\u001b[0m\u001b[0mself\u001b[0m\u001b[0;34m,\u001b[0m \u001b[0mfunc\u001b[0m\u001b[0;34m,\u001b[0m \u001b[0mcallback\u001b[0m\u001b[0;34m=\u001b[0m\u001b[0;32mNone\u001b[0m\u001b[0;34m)\u001b[0m\u001b[0;34m:\u001b[0m\u001b[0;34m\u001b[0m\u001b[0;34m\u001b[0m\u001b[0m\n\u001b[1;32m    207\u001b[0m         \u001b[0;34m\"\"\"Schedule a func to be run\"\"\"\u001b[0m\u001b[0;34m\u001b[0m\u001b[0;34m\u001b[0m\u001b[0m\n\u001b[0;32m--> 208\u001b[0;31m         \u001b[0mresult\u001b[0m \u001b[0;34m=\u001b[0m \u001b[0mImmediateResult\u001b[0m\u001b[0;34m(\u001b[0m\u001b[0mfunc\u001b[0m\u001b[0;34m)\u001b[0m\u001b[0;34m\u001b[0m\u001b[0;34m\u001b[0m\u001b[0m\n\u001b[0m\u001b[1;32m    209\u001b[0m         \u001b[0;32mif\u001b[0m \u001b[0mcallback\u001b[0m\u001b[0;34m:\u001b[0m\u001b[0;34m\u001b[0m\u001b[0;34m\u001b[0m\u001b[0m\n\u001b[1;32m    210\u001b[0m             \u001b[0mcallback\u001b[0m\u001b[0;34m(\u001b[0m\u001b[0mresult\u001b[0m\u001b[0;34m)\u001b[0m\u001b[0;34m\u001b[0m\u001b[0;34m\u001b[0m\u001b[0m\n",
            "\u001b[0;32m/usr/local/lib/python3.7/dist-packages/joblib/_parallel_backends.py\u001b[0m in \u001b[0;36m__init__\u001b[0;34m(self, batch)\u001b[0m\n\u001b[1;32m    570\u001b[0m         \u001b[0;31m# Don't delay the application, to avoid keeping the input\u001b[0m\u001b[0;34m\u001b[0m\u001b[0;34m\u001b[0m\u001b[0;34m\u001b[0m\u001b[0m\n\u001b[1;32m    571\u001b[0m         \u001b[0;31m# arguments in memory\u001b[0m\u001b[0;34m\u001b[0m\u001b[0;34m\u001b[0m\u001b[0;34m\u001b[0m\u001b[0m\n\u001b[0;32m--> 572\u001b[0;31m         \u001b[0mself\u001b[0m\u001b[0;34m.\u001b[0m\u001b[0mresults\u001b[0m \u001b[0;34m=\u001b[0m \u001b[0mbatch\u001b[0m\u001b[0;34m(\u001b[0m\u001b[0;34m)\u001b[0m\u001b[0;34m\u001b[0m\u001b[0;34m\u001b[0m\u001b[0m\n\u001b[0m\u001b[1;32m    573\u001b[0m \u001b[0;34m\u001b[0m\u001b[0m\n\u001b[1;32m    574\u001b[0m     \u001b[0;32mdef\u001b[0m \u001b[0mget\u001b[0m\u001b[0;34m(\u001b[0m\u001b[0mself\u001b[0m\u001b[0;34m)\u001b[0m\u001b[0;34m:\u001b[0m\u001b[0;34m\u001b[0m\u001b[0;34m\u001b[0m\u001b[0m\n",
            "\u001b[0;32m/usr/local/lib/python3.7/dist-packages/joblib/parallel.py\u001b[0m in \u001b[0;36m__call__\u001b[0;34m(self)\u001b[0m\n\u001b[1;32m    261\u001b[0m         \u001b[0;32mwith\u001b[0m \u001b[0mparallel_backend\u001b[0m\u001b[0;34m(\u001b[0m\u001b[0mself\u001b[0m\u001b[0;34m.\u001b[0m\u001b[0m_backend\u001b[0m\u001b[0;34m,\u001b[0m \u001b[0mn_jobs\u001b[0m\u001b[0;34m=\u001b[0m\u001b[0mself\u001b[0m\u001b[0;34m.\u001b[0m\u001b[0m_n_jobs\u001b[0m\u001b[0;34m)\u001b[0m\u001b[0;34m:\u001b[0m\u001b[0;34m\u001b[0m\u001b[0;34m\u001b[0m\u001b[0m\n\u001b[1;32m    262\u001b[0m             return [func(*args, **kwargs)\n\u001b[0;32m--> 263\u001b[0;31m                     for func, args, kwargs in self.items]\n\u001b[0m\u001b[1;32m    264\u001b[0m \u001b[0;34m\u001b[0m\u001b[0m\n\u001b[1;32m    265\u001b[0m     \u001b[0;32mdef\u001b[0m \u001b[0m__reduce__\u001b[0m\u001b[0;34m(\u001b[0m\u001b[0mself\u001b[0m\u001b[0;34m)\u001b[0m\u001b[0;34m:\u001b[0m\u001b[0;34m\u001b[0m\u001b[0;34m\u001b[0m\u001b[0m\n",
            "\u001b[0;32m/usr/local/lib/python3.7/dist-packages/joblib/parallel.py\u001b[0m in \u001b[0;36m<listcomp>\u001b[0;34m(.0)\u001b[0m\n\u001b[1;32m    261\u001b[0m         \u001b[0;32mwith\u001b[0m \u001b[0mparallel_backend\u001b[0m\u001b[0;34m(\u001b[0m\u001b[0mself\u001b[0m\u001b[0;34m.\u001b[0m\u001b[0m_backend\u001b[0m\u001b[0;34m,\u001b[0m \u001b[0mn_jobs\u001b[0m\u001b[0;34m=\u001b[0m\u001b[0mself\u001b[0m\u001b[0;34m.\u001b[0m\u001b[0m_n_jobs\u001b[0m\u001b[0;34m)\u001b[0m\u001b[0;34m:\u001b[0m\u001b[0;34m\u001b[0m\u001b[0;34m\u001b[0m\u001b[0m\n\u001b[1;32m    262\u001b[0m             return [func(*args, **kwargs)\n\u001b[0;32m--> 263\u001b[0;31m                     for func, args, kwargs in self.items]\n\u001b[0m\u001b[1;32m    264\u001b[0m \u001b[0;34m\u001b[0m\u001b[0m\n\u001b[1;32m    265\u001b[0m     \u001b[0;32mdef\u001b[0m \u001b[0m__reduce__\u001b[0m\u001b[0;34m(\u001b[0m\u001b[0mself\u001b[0m\u001b[0;34m)\u001b[0m\u001b[0;34m:\u001b[0m\u001b[0;34m\u001b[0m\u001b[0;34m\u001b[0m\u001b[0m\n",
            "\u001b[0;32m/usr/local/lib/python3.7/dist-packages/sklearn/model_selection/_validation.py\u001b[0m in \u001b[0;36m_fit_and_score\u001b[0;34m(estimator, X, y, scorer, train, test, verbose, parameters, fit_params, return_train_score, return_parameters, return_n_test_samples, return_times, return_estimator, error_score)\u001b[0m\n\u001b[1;32m    513\u001b[0m             \u001b[0mestimator\u001b[0m\u001b[0;34m.\u001b[0m\u001b[0mfit\u001b[0m\u001b[0;34m(\u001b[0m\u001b[0mX_train\u001b[0m\u001b[0;34m,\u001b[0m \u001b[0;34m**\u001b[0m\u001b[0mfit_params\u001b[0m\u001b[0;34m)\u001b[0m\u001b[0;34m\u001b[0m\u001b[0;34m\u001b[0m\u001b[0m\n\u001b[1;32m    514\u001b[0m         \u001b[0;32melse\u001b[0m\u001b[0;34m:\u001b[0m\u001b[0;34m\u001b[0m\u001b[0;34m\u001b[0m\u001b[0m\n\u001b[0;32m--> 515\u001b[0;31m             \u001b[0mestimator\u001b[0m\u001b[0;34m.\u001b[0m\u001b[0mfit\u001b[0m\u001b[0;34m(\u001b[0m\u001b[0mX_train\u001b[0m\u001b[0;34m,\u001b[0m \u001b[0my_train\u001b[0m\u001b[0;34m,\u001b[0m \u001b[0;34m**\u001b[0m\u001b[0mfit_params\u001b[0m\u001b[0;34m)\u001b[0m\u001b[0;34m\u001b[0m\u001b[0;34m\u001b[0m\u001b[0m\n\u001b[0m\u001b[1;32m    516\u001b[0m \u001b[0;34m\u001b[0m\u001b[0m\n\u001b[1;32m    517\u001b[0m     \u001b[0;32mexcept\u001b[0m \u001b[0mException\u001b[0m \u001b[0;32mas\u001b[0m \u001b[0me\u001b[0m\u001b[0;34m:\u001b[0m\u001b[0;34m\u001b[0m\u001b[0;34m\u001b[0m\u001b[0m\n",
            "\u001b[0;32m/usr/local/lib/python3.7/dist-packages/sklearn/ensemble/_forest.py\u001b[0m in \u001b[0;36mfit\u001b[0;34m(self, X, y, sample_weight)\u001b[0m\n\u001b[1;32m    381\u001b[0m                     \u001b[0mverbose\u001b[0m\u001b[0;34m=\u001b[0m\u001b[0mself\u001b[0m\u001b[0;34m.\u001b[0m\u001b[0mverbose\u001b[0m\u001b[0;34m,\u001b[0m \u001b[0mclass_weight\u001b[0m\u001b[0;34m=\u001b[0m\u001b[0mself\u001b[0m\u001b[0;34m.\u001b[0m\u001b[0mclass_weight\u001b[0m\u001b[0;34m,\u001b[0m\u001b[0;34m\u001b[0m\u001b[0;34m\u001b[0m\u001b[0m\n\u001b[1;32m    382\u001b[0m                     n_samples_bootstrap=n_samples_bootstrap)\n\u001b[0;32m--> 383\u001b[0;31m                 for i, t in enumerate(trees))\n\u001b[0m\u001b[1;32m    384\u001b[0m \u001b[0;34m\u001b[0m\u001b[0m\n\u001b[1;32m    385\u001b[0m             \u001b[0;31m# Collect newly grown trees\u001b[0m\u001b[0;34m\u001b[0m\u001b[0;34m\u001b[0m\u001b[0;34m\u001b[0m\u001b[0m\n",
            "\u001b[0;32m/usr/local/lib/python3.7/dist-packages/joblib/parallel.py\u001b[0m in \u001b[0;36m__call__\u001b[0;34m(self, iterable)\u001b[0m\n\u001b[1;32m   1042\u001b[0m                 \u001b[0mself\u001b[0m\u001b[0;34m.\u001b[0m\u001b[0m_iterating\u001b[0m \u001b[0;34m=\u001b[0m \u001b[0mself\u001b[0m\u001b[0;34m.\u001b[0m\u001b[0m_original_iterator\u001b[0m \u001b[0;32mis\u001b[0m \u001b[0;32mnot\u001b[0m \u001b[0;32mNone\u001b[0m\u001b[0;34m\u001b[0m\u001b[0;34m\u001b[0m\u001b[0m\n\u001b[1;32m   1043\u001b[0m \u001b[0;34m\u001b[0m\u001b[0m\n\u001b[0;32m-> 1044\u001b[0;31m             \u001b[0;32mwhile\u001b[0m \u001b[0mself\u001b[0m\u001b[0;34m.\u001b[0m\u001b[0mdispatch_one_batch\u001b[0m\u001b[0;34m(\u001b[0m\u001b[0miterator\u001b[0m\u001b[0;34m)\u001b[0m\u001b[0;34m:\u001b[0m\u001b[0;34m\u001b[0m\u001b[0;34m\u001b[0m\u001b[0m\n\u001b[0m\u001b[1;32m   1045\u001b[0m                 \u001b[0;32mpass\u001b[0m\u001b[0;34m\u001b[0m\u001b[0;34m\u001b[0m\u001b[0m\n\u001b[1;32m   1046\u001b[0m \u001b[0;34m\u001b[0m\u001b[0m\n",
            "\u001b[0;32m/usr/local/lib/python3.7/dist-packages/joblib/parallel.py\u001b[0m in \u001b[0;36mdispatch_one_batch\u001b[0;34m(self, iterator)\u001b[0m\n\u001b[1;32m    857\u001b[0m                 \u001b[0;32mreturn\u001b[0m \u001b[0;32mFalse\u001b[0m\u001b[0;34m\u001b[0m\u001b[0;34m\u001b[0m\u001b[0m\n\u001b[1;32m    858\u001b[0m             \u001b[0;32melse\u001b[0m\u001b[0;34m:\u001b[0m\u001b[0;34m\u001b[0m\u001b[0;34m\u001b[0m\u001b[0m\n\u001b[0;32m--> 859\u001b[0;31m                 \u001b[0mself\u001b[0m\u001b[0;34m.\u001b[0m\u001b[0m_dispatch\u001b[0m\u001b[0;34m(\u001b[0m\u001b[0mtasks\u001b[0m\u001b[0;34m)\u001b[0m\u001b[0;34m\u001b[0m\u001b[0;34m\u001b[0m\u001b[0m\n\u001b[0m\u001b[1;32m    860\u001b[0m                 \u001b[0;32mreturn\u001b[0m \u001b[0;32mTrue\u001b[0m\u001b[0;34m\u001b[0m\u001b[0;34m\u001b[0m\u001b[0m\n\u001b[1;32m    861\u001b[0m \u001b[0;34m\u001b[0m\u001b[0m\n",
            "\u001b[0;32m/usr/local/lib/python3.7/dist-packages/joblib/parallel.py\u001b[0m in \u001b[0;36m_dispatch\u001b[0;34m(self, batch)\u001b[0m\n\u001b[1;32m    775\u001b[0m         \u001b[0;32mwith\u001b[0m \u001b[0mself\u001b[0m\u001b[0;34m.\u001b[0m\u001b[0m_lock\u001b[0m\u001b[0;34m:\u001b[0m\u001b[0;34m\u001b[0m\u001b[0;34m\u001b[0m\u001b[0m\n\u001b[1;32m    776\u001b[0m             \u001b[0mjob_idx\u001b[0m \u001b[0;34m=\u001b[0m \u001b[0mlen\u001b[0m\u001b[0;34m(\u001b[0m\u001b[0mself\u001b[0m\u001b[0;34m.\u001b[0m\u001b[0m_jobs\u001b[0m\u001b[0;34m)\u001b[0m\u001b[0;34m\u001b[0m\u001b[0;34m\u001b[0m\u001b[0m\n\u001b[0;32m--> 777\u001b[0;31m             \u001b[0mjob\u001b[0m \u001b[0;34m=\u001b[0m \u001b[0mself\u001b[0m\u001b[0;34m.\u001b[0m\u001b[0m_backend\u001b[0m\u001b[0;34m.\u001b[0m\u001b[0mapply_async\u001b[0m\u001b[0;34m(\u001b[0m\u001b[0mbatch\u001b[0m\u001b[0;34m,\u001b[0m \u001b[0mcallback\u001b[0m\u001b[0;34m=\u001b[0m\u001b[0mcb\u001b[0m\u001b[0;34m)\u001b[0m\u001b[0;34m\u001b[0m\u001b[0;34m\u001b[0m\u001b[0m\n\u001b[0m\u001b[1;32m    778\u001b[0m             \u001b[0;31m# A job can complete so quickly than its callback is\u001b[0m\u001b[0;34m\u001b[0m\u001b[0;34m\u001b[0m\u001b[0;34m\u001b[0m\u001b[0m\n\u001b[1;32m    779\u001b[0m             \u001b[0;31m# called before we get here, causing self._jobs to\u001b[0m\u001b[0;34m\u001b[0m\u001b[0;34m\u001b[0m\u001b[0;34m\u001b[0m\u001b[0m\n",
            "\u001b[0;32m/usr/local/lib/python3.7/dist-packages/joblib/_parallel_backends.py\u001b[0m in \u001b[0;36mapply_async\u001b[0;34m(self, func, callback)\u001b[0m\n\u001b[1;32m    206\u001b[0m     \u001b[0;32mdef\u001b[0m \u001b[0mapply_async\u001b[0m\u001b[0;34m(\u001b[0m\u001b[0mself\u001b[0m\u001b[0;34m,\u001b[0m \u001b[0mfunc\u001b[0m\u001b[0;34m,\u001b[0m \u001b[0mcallback\u001b[0m\u001b[0;34m=\u001b[0m\u001b[0;32mNone\u001b[0m\u001b[0;34m)\u001b[0m\u001b[0;34m:\u001b[0m\u001b[0;34m\u001b[0m\u001b[0;34m\u001b[0m\u001b[0m\n\u001b[1;32m    207\u001b[0m         \u001b[0;34m\"\"\"Schedule a func to be run\"\"\"\u001b[0m\u001b[0;34m\u001b[0m\u001b[0;34m\u001b[0m\u001b[0m\n\u001b[0;32m--> 208\u001b[0;31m         \u001b[0mresult\u001b[0m \u001b[0;34m=\u001b[0m \u001b[0mImmediateResult\u001b[0m\u001b[0;34m(\u001b[0m\u001b[0mfunc\u001b[0m\u001b[0;34m)\u001b[0m\u001b[0;34m\u001b[0m\u001b[0;34m\u001b[0m\u001b[0m\n\u001b[0m\u001b[1;32m    209\u001b[0m         \u001b[0;32mif\u001b[0m \u001b[0mcallback\u001b[0m\u001b[0;34m:\u001b[0m\u001b[0;34m\u001b[0m\u001b[0;34m\u001b[0m\u001b[0m\n\u001b[1;32m    210\u001b[0m             \u001b[0mcallback\u001b[0m\u001b[0;34m(\u001b[0m\u001b[0mresult\u001b[0m\u001b[0;34m)\u001b[0m\u001b[0;34m\u001b[0m\u001b[0;34m\u001b[0m\u001b[0m\n",
            "\u001b[0;32m/usr/local/lib/python3.7/dist-packages/joblib/_parallel_backends.py\u001b[0m in \u001b[0;36m__init__\u001b[0;34m(self, batch)\u001b[0m\n\u001b[1;32m    570\u001b[0m         \u001b[0;31m# Don't delay the application, to avoid keeping the input\u001b[0m\u001b[0;34m\u001b[0m\u001b[0;34m\u001b[0m\u001b[0;34m\u001b[0m\u001b[0m\n\u001b[1;32m    571\u001b[0m         \u001b[0;31m# arguments in memory\u001b[0m\u001b[0;34m\u001b[0m\u001b[0;34m\u001b[0m\u001b[0;34m\u001b[0m\u001b[0m\n\u001b[0;32m--> 572\u001b[0;31m         \u001b[0mself\u001b[0m\u001b[0;34m.\u001b[0m\u001b[0mresults\u001b[0m \u001b[0;34m=\u001b[0m \u001b[0mbatch\u001b[0m\u001b[0;34m(\u001b[0m\u001b[0;34m)\u001b[0m\u001b[0;34m\u001b[0m\u001b[0;34m\u001b[0m\u001b[0m\n\u001b[0m\u001b[1;32m    573\u001b[0m \u001b[0;34m\u001b[0m\u001b[0m\n\u001b[1;32m    574\u001b[0m     \u001b[0;32mdef\u001b[0m \u001b[0mget\u001b[0m\u001b[0;34m(\u001b[0m\u001b[0mself\u001b[0m\u001b[0;34m)\u001b[0m\u001b[0;34m:\u001b[0m\u001b[0;34m\u001b[0m\u001b[0;34m\u001b[0m\u001b[0m\n",
            "\u001b[0;32m/usr/local/lib/python3.7/dist-packages/joblib/parallel.py\u001b[0m in \u001b[0;36m__call__\u001b[0;34m(self)\u001b[0m\n\u001b[1;32m    261\u001b[0m         \u001b[0;32mwith\u001b[0m \u001b[0mparallel_backend\u001b[0m\u001b[0;34m(\u001b[0m\u001b[0mself\u001b[0m\u001b[0;34m.\u001b[0m\u001b[0m_backend\u001b[0m\u001b[0;34m,\u001b[0m \u001b[0mn_jobs\u001b[0m\u001b[0;34m=\u001b[0m\u001b[0mself\u001b[0m\u001b[0;34m.\u001b[0m\u001b[0m_n_jobs\u001b[0m\u001b[0;34m)\u001b[0m\u001b[0;34m:\u001b[0m\u001b[0;34m\u001b[0m\u001b[0;34m\u001b[0m\u001b[0m\n\u001b[1;32m    262\u001b[0m             return [func(*args, **kwargs)\n\u001b[0;32m--> 263\u001b[0;31m                     for func, args, kwargs in self.items]\n\u001b[0m\u001b[1;32m    264\u001b[0m \u001b[0;34m\u001b[0m\u001b[0m\n\u001b[1;32m    265\u001b[0m     \u001b[0;32mdef\u001b[0m \u001b[0m__reduce__\u001b[0m\u001b[0;34m(\u001b[0m\u001b[0mself\u001b[0m\u001b[0;34m)\u001b[0m\u001b[0;34m:\u001b[0m\u001b[0;34m\u001b[0m\u001b[0;34m\u001b[0m\u001b[0m\n",
            "\u001b[0;32m/usr/local/lib/python3.7/dist-packages/joblib/parallel.py\u001b[0m in \u001b[0;36m<listcomp>\u001b[0;34m(.0)\u001b[0m\n\u001b[1;32m    261\u001b[0m         \u001b[0;32mwith\u001b[0m \u001b[0mparallel_backend\u001b[0m\u001b[0;34m(\u001b[0m\u001b[0mself\u001b[0m\u001b[0;34m.\u001b[0m\u001b[0m_backend\u001b[0m\u001b[0;34m,\u001b[0m \u001b[0mn_jobs\u001b[0m\u001b[0;34m=\u001b[0m\u001b[0mself\u001b[0m\u001b[0;34m.\u001b[0m\u001b[0m_n_jobs\u001b[0m\u001b[0;34m)\u001b[0m\u001b[0;34m:\u001b[0m\u001b[0;34m\u001b[0m\u001b[0;34m\u001b[0m\u001b[0m\n\u001b[1;32m    262\u001b[0m             return [func(*args, **kwargs)\n\u001b[0;32m--> 263\u001b[0;31m                     for func, args, kwargs in self.items]\n\u001b[0m\u001b[1;32m    264\u001b[0m \u001b[0;34m\u001b[0m\u001b[0m\n\u001b[1;32m    265\u001b[0m     \u001b[0;32mdef\u001b[0m \u001b[0m__reduce__\u001b[0m\u001b[0;34m(\u001b[0m\u001b[0mself\u001b[0m\u001b[0;34m)\u001b[0m\u001b[0;34m:\u001b[0m\u001b[0;34m\u001b[0m\u001b[0;34m\u001b[0m\u001b[0m\n",
            "\u001b[0;32m/usr/local/lib/python3.7/dist-packages/sklearn/ensemble/_forest.py\u001b[0m in \u001b[0;36m_parallel_build_trees\u001b[0;34m(tree, forest, X, y, sample_weight, tree_idx, n_trees, verbose, class_weight, n_samples_bootstrap)\u001b[0m\n\u001b[1;32m    163\u001b[0m             \u001b[0mcurr_sample_weight\u001b[0m \u001b[0;34m*=\u001b[0m \u001b[0mcompute_sample_weight\u001b[0m\u001b[0;34m(\u001b[0m\u001b[0;34m'balanced'\u001b[0m\u001b[0;34m,\u001b[0m \u001b[0my\u001b[0m\u001b[0;34m,\u001b[0m \u001b[0mindices\u001b[0m\u001b[0;34m)\u001b[0m\u001b[0;34m\u001b[0m\u001b[0;34m\u001b[0m\u001b[0m\n\u001b[1;32m    164\u001b[0m \u001b[0;34m\u001b[0m\u001b[0m\n\u001b[0;32m--> 165\u001b[0;31m         \u001b[0mtree\u001b[0m\u001b[0;34m.\u001b[0m\u001b[0mfit\u001b[0m\u001b[0;34m(\u001b[0m\u001b[0mX\u001b[0m\u001b[0;34m,\u001b[0m \u001b[0my\u001b[0m\u001b[0;34m,\u001b[0m \u001b[0msample_weight\u001b[0m\u001b[0;34m=\u001b[0m\u001b[0mcurr_sample_weight\u001b[0m\u001b[0;34m,\u001b[0m \u001b[0mcheck_input\u001b[0m\u001b[0;34m=\u001b[0m\u001b[0;32mFalse\u001b[0m\u001b[0;34m)\u001b[0m\u001b[0;34m\u001b[0m\u001b[0;34m\u001b[0m\u001b[0m\n\u001b[0m\u001b[1;32m    166\u001b[0m     \u001b[0;32melse\u001b[0m\u001b[0;34m:\u001b[0m\u001b[0;34m\u001b[0m\u001b[0;34m\u001b[0m\u001b[0m\n\u001b[1;32m    167\u001b[0m         \u001b[0mtree\u001b[0m\u001b[0;34m.\u001b[0m\u001b[0mfit\u001b[0m\u001b[0;34m(\u001b[0m\u001b[0mX\u001b[0m\u001b[0;34m,\u001b[0m \u001b[0my\u001b[0m\u001b[0;34m,\u001b[0m \u001b[0msample_weight\u001b[0m\u001b[0;34m=\u001b[0m\u001b[0msample_weight\u001b[0m\u001b[0;34m,\u001b[0m \u001b[0mcheck_input\u001b[0m\u001b[0;34m=\u001b[0m\u001b[0;32mFalse\u001b[0m\u001b[0;34m)\u001b[0m\u001b[0;34m\u001b[0m\u001b[0;34m\u001b[0m\u001b[0m\n",
            "\u001b[0;32m/usr/local/lib/python3.7/dist-packages/sklearn/tree/_classes.py\u001b[0m in \u001b[0;36mfit\u001b[0;34m(self, X, y, sample_weight, check_input, X_idx_sorted)\u001b[0m\n\u001b[1;32m    875\u001b[0m             \u001b[0msample_weight\u001b[0m\u001b[0;34m=\u001b[0m\u001b[0msample_weight\u001b[0m\u001b[0;34m,\u001b[0m\u001b[0;34m\u001b[0m\u001b[0;34m\u001b[0m\u001b[0m\n\u001b[1;32m    876\u001b[0m             \u001b[0mcheck_input\u001b[0m\u001b[0;34m=\u001b[0m\u001b[0mcheck_input\u001b[0m\u001b[0;34m,\u001b[0m\u001b[0;34m\u001b[0m\u001b[0;34m\u001b[0m\u001b[0m\n\u001b[0;32m--> 877\u001b[0;31m             X_idx_sorted=X_idx_sorted)\n\u001b[0m\u001b[1;32m    878\u001b[0m         \u001b[0;32mreturn\u001b[0m \u001b[0mself\u001b[0m\u001b[0;34m\u001b[0m\u001b[0;34m\u001b[0m\u001b[0m\n\u001b[1;32m    879\u001b[0m \u001b[0;34m\u001b[0m\u001b[0m\n",
            "\u001b[0;32m/usr/local/lib/python3.7/dist-packages/sklearn/tree/_classes.py\u001b[0m in \u001b[0;36mfit\u001b[0;34m(self, X, y, sample_weight, check_input, X_idx_sorted)\u001b[0m\n\u001b[1;32m    365\u001b[0m                                            min_impurity_split)\n\u001b[1;32m    366\u001b[0m \u001b[0;34m\u001b[0m\u001b[0m\n\u001b[0;32m--> 367\u001b[0;31m         \u001b[0mbuilder\u001b[0m\u001b[0;34m.\u001b[0m\u001b[0mbuild\u001b[0m\u001b[0;34m(\u001b[0m\u001b[0mself\u001b[0m\u001b[0;34m.\u001b[0m\u001b[0mtree_\u001b[0m\u001b[0;34m,\u001b[0m \u001b[0mX\u001b[0m\u001b[0;34m,\u001b[0m \u001b[0my\u001b[0m\u001b[0;34m,\u001b[0m \u001b[0msample_weight\u001b[0m\u001b[0;34m,\u001b[0m \u001b[0mX_idx_sorted\u001b[0m\u001b[0;34m)\u001b[0m\u001b[0;34m\u001b[0m\u001b[0;34m\u001b[0m\u001b[0m\n\u001b[0m\u001b[1;32m    368\u001b[0m \u001b[0;34m\u001b[0m\u001b[0m\n\u001b[1;32m    369\u001b[0m         \u001b[0;32mif\u001b[0m \u001b[0mself\u001b[0m\u001b[0;34m.\u001b[0m\u001b[0mn_outputs_\u001b[0m \u001b[0;34m==\u001b[0m \u001b[0;36m1\u001b[0m \u001b[0;32mand\u001b[0m \u001b[0mis_classifier\u001b[0m\u001b[0;34m(\u001b[0m\u001b[0mself\u001b[0m\u001b[0;34m)\u001b[0m\u001b[0;34m:\u001b[0m\u001b[0;34m\u001b[0m\u001b[0;34m\u001b[0m\u001b[0m\n",
            "\u001b[0;31mKeyboardInterrupt\u001b[0m: "
          ]
        }
      ]
    },
    {
      "cell_type": "code",
      "metadata": {
        "id": "9SWn03lTyf9t"
      },
      "source": [
        "best = rf_model_cv.best_params_"
      ],
      "execution_count": null,
      "outputs": []
    },
    {
      "cell_type": "code",
      "metadata": {
        "id": "bGOSAH1rKST_"
      },
      "source": [
        "y_test_predrf = rf_model_cv.predict(X_test)"
      ],
      "execution_count": null,
      "outputs": []
    },
    {
      "cell_type": "code",
      "metadata": {
        "id": "irGLI8xaKuU3"
      },
      "source": [
        "accuracy_score(y_test,y_test_predrf)"
      ],
      "execution_count": null,
      "outputs": []
    },
    {
      "cell_type": "code",
      "metadata": {
        "id": "xfQs0qJPKe1_"
      },
      "source": [
        "print(confusion_matrix(y_test,y_test_predrf))"
      ],
      "execution_count": null,
      "outputs": []
    },
    {
      "cell_type": "markdown",
      "metadata": {
        "id": "uxnvwbPsMrzm"
      },
      "source": [
        "##Working on Anomaly"
      ]
    },
    {
      "cell_type": "markdown",
      "metadata": {
        "id": "Q0GPiA40rTYR"
      },
      "source": [
        "### finding anomaly in overall feature with respect to recommended"
      ]
    },
    {
      "cell_type": "markdown",
      "metadata": {
        "id": "fnzs5f9jhr5K"
      },
      "source": [
        "Finding overall values which are wrongly classified as (1,2) where there average is higher than 2.\n",
        "\n",
        "Replacing these values as 2* avg_value\n",
        "\n"
      ]
    },
    {
      "cell_type": "code",
      "metadata": {
        "id": "zEI3_KYkUr9f"
      },
      "source": [
        "wrong_overall = (main_df['Avg_num']>2) & (main_df['recommended']=='yes') & (main_df['overall']<=2)"
      ],
      "execution_count": 132,
      "outputs": []
    },
    {
      "cell_type": "code",
      "metadata": {
        "id": "yUti2OdUppQi"
      },
      "source": [
        "# replacing overall value to 2* avg value\n",
        "main_df.loc[wrong_overall,'overall'] = main_df.loc[wrong_overall,'Avg_num']*2 "
      ],
      "execution_count": 133,
      "outputs": []
    },
    {
      "cell_type": "markdown",
      "metadata": {
        "id": "wpKUteRVrmzd"
      },
      "source": [
        "## working more on anomility"
      ]
    },
    {
      "cell_type": "code",
      "metadata": {
        "id": "1jYz7KTgZ3GH",
        "colab": {
          "base_uri": "https://localhost:8080/",
          "height": 813
        },
        "outputId": "61449604-fb6d-484e-8d08-d74c02a2ad71"
      },
      "source": [
        "# trying to find all those values which have low over all value\n",
        "# and recommended is yes\n",
        "main_df[(main_df['overall']<= 2) & (main_df['recommended']==1)]"
      ],
      "execution_count": 134,
      "outputs": [
        {
          "output_type": "execute_result",
          "data": {
            "text/html": [
              "<div>\n",
              "<style scoped>\n",
              "    .dataframe tbody tr th:only-of-type {\n",
              "        vertical-align: middle;\n",
              "    }\n",
              "\n",
              "    .dataframe tbody tr th {\n",
              "        vertical-align: top;\n",
              "    }\n",
              "\n",
              "    .dataframe thead th {\n",
              "        text-align: right;\n",
              "    }\n",
              "</style>\n",
              "<table border=\"1\" class=\"dataframe\">\n",
              "  <thead>\n",
              "    <tr style=\"text-align: right;\">\n",
              "      <th></th>\n",
              "      <th>airline</th>\n",
              "      <th>overall</th>\n",
              "      <th>customer_review</th>\n",
              "      <th>traveller_type</th>\n",
              "      <th>cabin</th>\n",
              "      <th>seat_comfort</th>\n",
              "      <th>cabin_service</th>\n",
              "      <th>food_bev</th>\n",
              "      <th>entertainment</th>\n",
              "      <th>ground_service</th>\n",
              "      <th>value_for_money</th>\n",
              "      <th>recommended</th>\n",
              "      <th>Avg_num</th>\n",
              "      <th>polarity</th>\n",
              "    </tr>\n",
              "  </thead>\n",
              "  <tbody>\n",
              "    <tr>\n",
              "      <th>207</th>\n",
              "      <td>Turkish Airlines</td>\n",
              "      <td>2.0</td>\n",
              "      <td>âœ… Trip Verified | Belgrade to Kiev via Istan...</td>\n",
              "      <td>Solo Leisure</td>\n",
              "      <td>Economy Class</td>\n",
              "      <td>5.0</td>\n",
              "      <td>5.0</td>\n",
              "      <td>4.0</td>\n",
              "      <td>4.0</td>\n",
              "      <td>4.0</td>\n",
              "      <td>2.0</td>\n",
              "      <td>1</td>\n",
              "      <td>4.0</td>\n",
              "      <td>-0.3257</td>\n",
              "    </tr>\n",
              "    <tr>\n",
              "      <th>1155</th>\n",
              "      <td>Turkish Airlines</td>\n",
              "      <td>2.0</td>\n",
              "      <td>âœ… Verified Review | Munich to Istanbul. The ...</td>\n",
              "      <td>NaN</td>\n",
              "      <td>NaN</td>\n",
              "      <td>3.0</td>\n",
              "      <td>3.0</td>\n",
              "      <td>3.0</td>\n",
              "      <td>3.0</td>\n",
              "      <td>3.0</td>\n",
              "      <td>3.0</td>\n",
              "      <td>1</td>\n",
              "      <td>3.0</td>\n",
              "      <td>0.0000</td>\n",
              "    </tr>\n",
              "    <tr>\n",
              "      <th>1453</th>\n",
              "      <td>Turkish Airlines</td>\n",
              "      <td>1.0</td>\n",
              "      <td>25 hours before the departure, Turkish Airline...</td>\n",
              "      <td>Solo Leisure</td>\n",
              "      <td>Business Class</td>\n",
              "      <td>3.0</td>\n",
              "      <td>3.0</td>\n",
              "      <td>3.0</td>\n",
              "      <td>3.0</td>\n",
              "      <td>1.0</td>\n",
              "      <td>1.0</td>\n",
              "      <td>1</td>\n",
              "      <td>2.0</td>\n",
              "      <td>-0.3400</td>\n",
              "    </tr>\n",
              "    <tr>\n",
              "      <th>1657</th>\n",
              "      <td>Turkish Airlines</td>\n",
              "      <td>1.0</td>\n",
              "      <td>Dublin to Jakarta via Istanbul. A total shambl...</td>\n",
              "      <td>Solo Leisure</td>\n",
              "      <td>Business Class</td>\n",
              "      <td>1.0</td>\n",
              "      <td>2.0</td>\n",
              "      <td>2.0</td>\n",
              "      <td>1.0</td>\n",
              "      <td>1.0</td>\n",
              "      <td>2.0</td>\n",
              "      <td>1</td>\n",
              "      <td>1.0</td>\n",
              "      <td>-0.9761</td>\n",
              "    </tr>\n",
              "    <tr>\n",
              "      <th>1845</th>\n",
              "      <td>Turkish Airlines</td>\n",
              "      <td>2.0</td>\n",
              "      <td>Rome to Istanbul, and when this flight landed ...</td>\n",
              "      <td>Couple Leisure</td>\n",
              "      <td>Economy Class</td>\n",
              "      <td>4.0</td>\n",
              "      <td>1.0</td>\n",
              "      <td>3.0</td>\n",
              "      <td>3.0</td>\n",
              "      <td>5.0</td>\n",
              "      <td>2.0</td>\n",
              "      <td>1</td>\n",
              "      <td>3.0</td>\n",
              "      <td>-0.8706</td>\n",
              "    </tr>\n",
              "    <tr>\n",
              "      <th>...</th>\n",
              "      <td>...</td>\n",
              "      <td>...</td>\n",
              "      <td>...</td>\n",
              "      <td>...</td>\n",
              "      <td>...</td>\n",
              "      <td>...</td>\n",
              "      <td>...</td>\n",
              "      <td>...</td>\n",
              "      <td>...</td>\n",
              "      <td>...</td>\n",
              "      <td>...</td>\n",
              "      <td>...</td>\n",
              "      <td>...</td>\n",
              "      <td>...</td>\n",
              "    </tr>\n",
              "    <tr>\n",
              "      <th>123622</th>\n",
              "      <td>Aer Lingus</td>\n",
              "      <td>1.0</td>\n",
              "      <td>Not Verified | Amsterdam to Hartford via Dubli...</td>\n",
              "      <td>Couple Leisure</td>\n",
              "      <td>Business Class</td>\n",
              "      <td>4.0</td>\n",
              "      <td>4.0</td>\n",
              "      <td>3.0</td>\n",
              "      <td>3.0</td>\n",
              "      <td>1.0</td>\n",
              "      <td>1.0</td>\n",
              "      <td>1</td>\n",
              "      <td>2.0</td>\n",
              "      <td>-0.8645</td>\n",
              "    </tr>\n",
              "    <tr>\n",
              "      <th>125468</th>\n",
              "      <td>Alaska Airlines</td>\n",
              "      <td>2.0</td>\n",
              "      <td>âœ… Trip Verified | Maui to Seattle. In the th...</td>\n",
              "      <td>Family Leisure</td>\n",
              "      <td>Business Class</td>\n",
              "      <td>2.0</td>\n",
              "      <td>2.0</td>\n",
              "      <td>3.0</td>\n",
              "      <td>3.0</td>\n",
              "      <td>2.0</td>\n",
              "      <td>2.0</td>\n",
              "      <td>1</td>\n",
              "      <td>2.0</td>\n",
              "      <td>-0.7962</td>\n",
              "    </tr>\n",
              "    <tr>\n",
              "      <th>127182</th>\n",
              "      <td>Norwegian</td>\n",
              "      <td>2.0</td>\n",
              "      <td>âœ… Trip Verified | Copenhagen to Helsinki. Fl...</td>\n",
              "      <td>Solo Leisure</td>\n",
              "      <td>Economy Class</td>\n",
              "      <td>4.0</td>\n",
              "      <td>1.0</td>\n",
              "      <td>2.0</td>\n",
              "      <td>3.0</td>\n",
              "      <td>4.0</td>\n",
              "      <td>4.0</td>\n",
              "      <td>1</td>\n",
              "      <td>3.0</td>\n",
              "      <td>0.0000</td>\n",
              "    </tr>\n",
              "    <tr>\n",
              "      <th>128936</th>\n",
              "      <td>Norwegian</td>\n",
              "      <td>2.0</td>\n",
              "      <td>CPH-LGW-CPH same day. Obama in CPH and snowsto...</td>\n",
              "      <td>NaN</td>\n",
              "      <td>Economy Class</td>\n",
              "      <td>3.0</td>\n",
              "      <td>3.0</td>\n",
              "      <td>3.0</td>\n",
              "      <td>3.0</td>\n",
              "      <td>3.0</td>\n",
              "      <td>4.0</td>\n",
              "      <td>1</td>\n",
              "      <td>3.0</td>\n",
              "      <td>0.3182</td>\n",
              "    </tr>\n",
              "    <tr>\n",
              "      <th>129824</th>\n",
              "      <td>Kuwait Airways</td>\n",
              "      <td>1.0</td>\n",
              "      <td>I travelled from New York JFK to Kuwait via Lo...</td>\n",
              "      <td>NaN</td>\n",
              "      <td>NaN</td>\n",
              "      <td>3.0</td>\n",
              "      <td>3.0</td>\n",
              "      <td>3.0</td>\n",
              "      <td>3.0</td>\n",
              "      <td>3.0</td>\n",
              "      <td>3.0</td>\n",
              "      <td>1</td>\n",
              "      <td>3.0</td>\n",
              "      <td>-0.6808</td>\n",
              "    </tr>\n",
              "  </tbody>\n",
              "</table>\n",
              "<p>173 rows × 14 columns</p>\n",
              "</div>"
            ],
            "text/plain": [
              "                 airline  overall  ... Avg_num polarity\n",
              "207     Turkish Airlines      2.0  ...     4.0  -0.3257\n",
              "1155    Turkish Airlines      2.0  ...     3.0   0.0000\n",
              "1453    Turkish Airlines      1.0  ...     2.0  -0.3400\n",
              "1657    Turkish Airlines      1.0  ...     1.0  -0.9761\n",
              "1845    Turkish Airlines      2.0  ...     3.0  -0.8706\n",
              "...                  ...      ...  ...     ...      ...\n",
              "123622        Aer Lingus      1.0  ...     2.0  -0.8645\n",
              "125468   Alaska Airlines      2.0  ...     2.0  -0.7962\n",
              "127182         Norwegian      2.0  ...     3.0   0.0000\n",
              "128936         Norwegian      2.0  ...     3.0   0.3182\n",
              "129824    Kuwait Airways      1.0  ...     3.0  -0.6808\n",
              "\n",
              "[173 rows x 14 columns]"
            ]
          },
          "metadata": {
            "tags": []
          },
          "execution_count": 134
        }
      ]
    },
    {
      "cell_type": "code",
      "metadata": {
        "id": "Lx2Bl0ZVy2w9"
      },
      "source": [
        "yes = (main_df['overall']<= 2) & (main_df['recommended']==1)"
      ],
      "execution_count": 135,
      "outputs": []
    },
    {
      "cell_type": "code",
      "metadata": {
        "id": "kixV2BcOOUX-"
      },
      "source": [
        "# replacing recommended  value of 1  to 0\n",
        "main_df.loc[yes,'recommended'] = 0 "
      ],
      "execution_count": 136,
      "outputs": []
    },
    {
      "cell_type": "code",
      "metadata": {
        "id": "coDiEPtGO8c2"
      },
      "source": [
        ""
      ],
      "execution_count": 136,
      "outputs": []
    },
    {
      "cell_type": "code",
      "metadata": {
        "id": "Rggqvri5O7uC"
      },
      "source": [
        "no = (main_df['overall']>=9) & (main_df['recommended']==0)"
      ],
      "execution_count": 137,
      "outputs": []
    },
    {
      "cell_type": "code",
      "metadata": {
        "id": "bLDXnPVRPPdU"
      },
      "source": [
        "#replacing recommender value of 0 to 1\n",
        "main_df.loc[no,'recommended'] = 1"
      ],
      "execution_count": 138,
      "outputs": []
    },
    {
      "cell_type": "code",
      "metadata": {
        "id": "JHb-L_fGQGK0",
        "colab": {
          "base_uri": "https://localhost:8080/",
          "height": 813
        },
        "outputId": "c6458262-f6b0-461a-bb08-c5bf2fc01ad5"
      },
      "source": [
        "main_df"
      ],
      "execution_count": 139,
      "outputs": [
        {
          "output_type": "execute_result",
          "data": {
            "text/html": [
              "<div>\n",
              "<style scoped>\n",
              "    .dataframe tbody tr th:only-of-type {\n",
              "        vertical-align: middle;\n",
              "    }\n",
              "\n",
              "    .dataframe tbody tr th {\n",
              "        vertical-align: top;\n",
              "    }\n",
              "\n",
              "    .dataframe thead th {\n",
              "        text-align: right;\n",
              "    }\n",
              "</style>\n",
              "<table border=\"1\" class=\"dataframe\">\n",
              "  <thead>\n",
              "    <tr style=\"text-align: right;\">\n",
              "      <th></th>\n",
              "      <th>airline</th>\n",
              "      <th>overall</th>\n",
              "      <th>customer_review</th>\n",
              "      <th>traveller_type</th>\n",
              "      <th>cabin</th>\n",
              "      <th>seat_comfort</th>\n",
              "      <th>cabin_service</th>\n",
              "      <th>food_bev</th>\n",
              "      <th>entertainment</th>\n",
              "      <th>ground_service</th>\n",
              "      <th>value_for_money</th>\n",
              "      <th>recommended</th>\n",
              "      <th>Avg_num</th>\n",
              "      <th>polarity</th>\n",
              "    </tr>\n",
              "  </thead>\n",
              "  <tbody>\n",
              "    <tr>\n",
              "      <th>1</th>\n",
              "      <td>Turkish Airlines</td>\n",
              "      <td>7.0</td>\n",
              "      <td>âœ… Trip Verified | London to Izmir via Istanb...</td>\n",
              "      <td>Business</td>\n",
              "      <td>Economy Class</td>\n",
              "      <td>4.0</td>\n",
              "      <td>5.0</td>\n",
              "      <td>4.0</td>\n",
              "      <td>4.0</td>\n",
              "      <td>2.0</td>\n",
              "      <td>4.0</td>\n",
              "      <td>1</td>\n",
              "      <td>3.0</td>\n",
              "      <td>0.9386</td>\n",
              "    </tr>\n",
              "    <tr>\n",
              "      <th>3</th>\n",
              "      <td>Turkish Airlines</td>\n",
              "      <td>2.0</td>\n",
              "      <td>âœ… Trip Verified | Istanbul to Bucharest. We ...</td>\n",
              "      <td>Family Leisure</td>\n",
              "      <td>Economy Class</td>\n",
              "      <td>4.0</td>\n",
              "      <td>1.0</td>\n",
              "      <td>1.0</td>\n",
              "      <td>1.0</td>\n",
              "      <td>1.0</td>\n",
              "      <td>1.0</td>\n",
              "      <td>0</td>\n",
              "      <td>1.0</td>\n",
              "      <td>0.2732</td>\n",
              "    </tr>\n",
              "    <tr>\n",
              "      <th>5</th>\n",
              "      <td>Turkish Airlines</td>\n",
              "      <td>3.0</td>\n",
              "      <td>âœ… Trip Verified | Rome to Prishtina via Ista...</td>\n",
              "      <td>Business</td>\n",
              "      <td>Economy Class</td>\n",
              "      <td>1.0</td>\n",
              "      <td>4.0</td>\n",
              "      <td>1.0</td>\n",
              "      <td>3.0</td>\n",
              "      <td>1.0</td>\n",
              "      <td>2.0</td>\n",
              "      <td>0</td>\n",
              "      <td>2.0</td>\n",
              "      <td>-0.9192</td>\n",
              "    </tr>\n",
              "    <tr>\n",
              "      <th>7</th>\n",
              "      <td>Turkish Airlines</td>\n",
              "      <td>10.0</td>\n",
              "      <td>âœ… Trip Verified | Flew on Turkish Airlines I...</td>\n",
              "      <td>Solo Leisure</td>\n",
              "      <td>Economy Class</td>\n",
              "      <td>4.0</td>\n",
              "      <td>5.0</td>\n",
              "      <td>5.0</td>\n",
              "      <td>5.0</td>\n",
              "      <td>5.0</td>\n",
              "      <td>5.0</td>\n",
              "      <td>1</td>\n",
              "      <td>4.0</td>\n",
              "      <td>0.9718</td>\n",
              "    </tr>\n",
              "    <tr>\n",
              "      <th>9</th>\n",
              "      <td>Turkish Airlines</td>\n",
              "      <td>1.0</td>\n",
              "      <td>âœ… Trip Verified | Mumbai to Dublin via Istan...</td>\n",
              "      <td>Solo Leisure</td>\n",
              "      <td>Economy Class</td>\n",
              "      <td>1.0</td>\n",
              "      <td>1.0</td>\n",
              "      <td>1.0</td>\n",
              "      <td>1.0</td>\n",
              "      <td>1.0</td>\n",
              "      <td>1.0</td>\n",
              "      <td>0</td>\n",
              "      <td>1.0</td>\n",
              "      <td>-0.7599</td>\n",
              "    </tr>\n",
              "    <tr>\n",
              "      <th>...</th>\n",
              "      <td>...</td>\n",
              "      <td>...</td>\n",
              "      <td>...</td>\n",
              "      <td>...</td>\n",
              "      <td>...</td>\n",
              "      <td>...</td>\n",
              "      <td>...</td>\n",
              "      <td>...</td>\n",
              "      <td>...</td>\n",
              "      <td>...</td>\n",
              "      <td>...</td>\n",
              "      <td>...</td>\n",
              "      <td>...</td>\n",
              "      <td>...</td>\n",
              "    </tr>\n",
              "    <tr>\n",
              "      <th>131886</th>\n",
              "      <td>Ukraine International</td>\n",
              "      <td>1.0</td>\n",
              "      <td>Two domestic flights between Kiev and Lviv las...</td>\n",
              "      <td>NaN</td>\n",
              "      <td>NaN</td>\n",
              "      <td>1.0</td>\n",
              "      <td>1.0</td>\n",
              "      <td>1.0</td>\n",
              "      <td>1.0</td>\n",
              "      <td>1.0</td>\n",
              "      <td>1.0</td>\n",
              "      <td>0</td>\n",
              "      <td>1.0</td>\n",
              "      <td>0.9183</td>\n",
              "    </tr>\n",
              "    <tr>\n",
              "      <th>131888</th>\n",
              "      <td>Ukraine International</td>\n",
              "      <td>1.0</td>\n",
              "      <td>I had a good flight from London to Kiev with U...</td>\n",
              "      <td>NaN</td>\n",
              "      <td>NaN</td>\n",
              "      <td>1.0</td>\n",
              "      <td>1.0</td>\n",
              "      <td>1.0</td>\n",
              "      <td>1.0</td>\n",
              "      <td>1.0</td>\n",
              "      <td>1.0</td>\n",
              "      <td>0</td>\n",
              "      <td>1.0</td>\n",
              "      <td>0.8042</td>\n",
              "    </tr>\n",
              "    <tr>\n",
              "      <th>131890</th>\n",
              "      <td>Ukraine International</td>\n",
              "      <td>1.0</td>\n",
              "      <td>Kiev - London (Gatwick) in business class (in ...</td>\n",
              "      <td>NaN</td>\n",
              "      <td>NaN</td>\n",
              "      <td>1.0</td>\n",
              "      <td>1.0</td>\n",
              "      <td>1.0</td>\n",
              "      <td>1.0</td>\n",
              "      <td>1.0</td>\n",
              "      <td>1.0</td>\n",
              "      <td>0</td>\n",
              "      <td>1.0</td>\n",
              "      <td>-0.7131</td>\n",
              "    </tr>\n",
              "    <tr>\n",
              "      <th>131892</th>\n",
              "      <td>Ukraine International</td>\n",
              "      <td>1.0</td>\n",
              "      <td>Several flights - KBP to AMS (3 times one way)...</td>\n",
              "      <td>NaN</td>\n",
              "      <td>NaN</td>\n",
              "      <td>1.0</td>\n",
              "      <td>1.0</td>\n",
              "      <td>1.0</td>\n",
              "      <td>1.0</td>\n",
              "      <td>1.0</td>\n",
              "      <td>1.0</td>\n",
              "      <td>0</td>\n",
              "      <td>1.0</td>\n",
              "      <td>0.5267</td>\n",
              "    </tr>\n",
              "    <tr>\n",
              "      <th>131894</th>\n",
              "      <td>Ukraine International</td>\n",
              "      <td>1.0</td>\n",
              "      <td>KBP-AMS with UIA. Although it was a relatively...</td>\n",
              "      <td>NaN</td>\n",
              "      <td>NaN</td>\n",
              "      <td>1.0</td>\n",
              "      <td>1.0</td>\n",
              "      <td>1.0</td>\n",
              "      <td>1.0</td>\n",
              "      <td>1.0</td>\n",
              "      <td>1.0</td>\n",
              "      <td>0</td>\n",
              "      <td>1.0</td>\n",
              "      <td>0.8442</td>\n",
              "    </tr>\n",
              "  </tbody>\n",
              "</table>\n",
              "<p>61183 rows × 14 columns</p>\n",
              "</div>"
            ],
            "text/plain": [
              "                      airline  overall  ... Avg_num polarity\n",
              "1            Turkish Airlines      7.0  ...     3.0   0.9386\n",
              "3            Turkish Airlines      2.0  ...     1.0   0.2732\n",
              "5            Turkish Airlines      3.0  ...     2.0  -0.9192\n",
              "7            Turkish Airlines     10.0  ...     4.0   0.9718\n",
              "9            Turkish Airlines      1.0  ...     1.0  -0.7599\n",
              "...                       ...      ...  ...     ...      ...\n",
              "131886  Ukraine International      1.0  ...     1.0   0.9183\n",
              "131888  Ukraine International      1.0  ...     1.0   0.8042\n",
              "131890  Ukraine International      1.0  ...     1.0  -0.7131\n",
              "131892  Ukraine International      1.0  ...     1.0   0.5267\n",
              "131894  Ukraine International      1.0  ...     1.0   0.8442\n",
              "\n",
              "[61183 rows x 14 columns]"
            ]
          },
          "metadata": {
            "tags": []
          },
          "execution_count": 139
        }
      ]
    },
    {
      "cell_type": "markdown",
      "metadata": {
        "id": "j17AMc-rRB1u"
      },
      "source": [
        "##Training model by treating anomaly"
      ]
    },
    {
      "cell_type": "code",
      "metadata": {
        "id": "MlSdKt88Q_Qt"
      },
      "source": [
        "new_df= pd.get_dummies(main_df,columns=colms)"
      ],
      "execution_count": 140,
      "outputs": []
    },
    {
      "cell_type": "code",
      "metadata": {
        "id": "Zw09JJjBQ_Qt"
      },
      "source": [
        "ind_features = new_df.columns.drop(['customer_review','recommended'])\n"
      ],
      "execution_count": 141,
      "outputs": []
    },
    {
      "cell_type": "code",
      "metadata": {
        "id": "P-TW25NeQ_Qu"
      },
      "source": [
        "dep_features = 'recommended'"
      ],
      "execution_count": 142,
      "outputs": []
    },
    {
      "cell_type": "code",
      "metadata": {
        "id": "JrdpWhNyQ_Qu",
        "colab": {
          "base_uri": "https://localhost:8080/"
        },
        "outputId": "63235433-406d-41c0-bde1-b996009e0e3d"
      },
      "source": [
        "ind_features"
      ],
      "execution_count": 143,
      "outputs": [
        {
          "output_type": "execute_result",
          "data": {
            "text/plain": [
              "Index(['overall', 'seat_comfort', 'cabin_service', 'food_bev', 'entertainment',\n",
              "       'ground_service', 'value_for_money', 'Avg_num', 'polarity',\n",
              "       'airline_ANA All Nippon Airways', 'airline_Adria Airways',\n",
              "       'airline_Aegean Airlines', 'airline_Aer Lingus',\n",
              "       'airline_Aeroflot Russian Airlines', 'airline_Aeromexico',\n",
              "       'airline_Air Arabia', 'airline_Air Canada', 'airline_Air Canada rouge',\n",
              "       'airline_Air China', 'airline_Air Europa', 'airline_Air France',\n",
              "       'airline_Air India', 'airline_Air New Zealand', 'airline_AirAsia',\n",
              "       'airline_Alaska Airlines', 'airline_Alitalia',\n",
              "       'airline_American Airlines', 'airline_Asiana Airlines',\n",
              "       'airline_Austrian Airlines', 'airline_Avianca',\n",
              "       'airline_Bangkok Airways', 'airline_British Airways',\n",
              "       'airline_Brussels Airlines', 'airline_Cathay Pacific Airways',\n",
              "       'airline_China Eastern Airlines', 'airline_China Southern Airlines',\n",
              "       'airline_Copa Airlines', 'airline_Delta Air Lines', 'airline_EVA Air',\n",
              "       'airline_Egyptair', 'airline_Emirates', 'airline_Ethiopian Airlines',\n",
              "       'airline_Etihad Airways', 'airline_Eurowings', 'airline_Finnair',\n",
              "       'airline_Frontier Airlines', 'airline_Garuda Indonesia',\n",
              "       'airline_Germanwings', 'airline_Gulf Air', 'airline_Iberia',\n",
              "       'airline_Icelandair', 'airline_IndiGo', 'airline_Jetblue Airways',\n",
              "       'airline_KLM Royal Dutch Airlines', 'airline_Korean Air',\n",
              "       'airline_Kuwait Airways', 'airline_LATAM Airlines',\n",
              "       'airline_LOT Polish Airlines', 'airline_Lufthansa', 'airline_Norwegian',\n",
              "       'airline_Pegasus Airlines', 'airline_Qantas Airways',\n",
              "       'airline_QantasLink', 'airline_Qatar Airways',\n",
              "       'airline_Royal Air Maroc', 'airline_Royal Jordanian Airlines',\n",
              "       'airline_Ryanair', 'airline_SAS Scandinavian',\n",
              "       'airline_Saudi Arabian Airlines', 'airline_Singapore Airlines',\n",
              "       'airline_South African Airways', 'airline_Southwest Airlines',\n",
              "       'airline_Spirit Airlines', 'airline_Sunwing Airlines',\n",
              "       'airline_Swiss Intl Air Lines', 'airline_TAP Portugal',\n",
              "       'airline_TAROM Romanian', 'airline_Thai Airways',\n",
              "       'airline_Thai Smile Airways', 'airline_Tunisair',\n",
              "       'airline_Turkish Airlines', 'airline_Ukraine International',\n",
              "       'airline_United Airlines', 'airline_Virgin America',\n",
              "       'airline_Vueling Airlines', 'airline_WOW air', 'airline_Wizz Air',\n",
              "       'airline_airBaltic', 'airline_easyJet', 'airline_flydubai',\n",
              "       'cabin_Business Class', 'cabin_Economy Class', 'cabin_First Class',\n",
              "       'cabin_Premium Economy', 'traveller_type_Business',\n",
              "       'traveller_type_Couple Leisure', 'traveller_type_Family Leisure',\n",
              "       'traveller_type_Solo Leisure'],\n",
              "      dtype='object')"
            ]
          },
          "metadata": {
            "tags": []
          },
          "execution_count": 143
        }
      ]
    },
    {
      "cell_type": "markdown",
      "metadata": {
        "id": "hH6IIMM9Q_Qv"
      },
      "source": [
        "## Feature scaling \n"
      ]
    },
    {
      "cell_type": "code",
      "metadata": {
        "id": "qxmgjodqQ_Qw"
      },
      "source": [
        " data = new_df[ind_features]\n",
        " Y= new_df[dep_features]"
      ],
      "execution_count": 144,
      "outputs": []
    },
    {
      "cell_type": "code",
      "metadata": {
        "id": "W3S_U20WQ_Qw"
      },
      "source": [
        "# importing minmax scaler\n",
        "from sklearn.preprocessing import MinMaxScaler"
      ],
      "execution_count": 145,
      "outputs": []
    },
    {
      "cell_type": "code",
      "metadata": {
        "id": "Si6dHkyaQ_Qw"
      },
      "source": [
        "feature_scaler= MinMaxScaler()"
      ],
      "execution_count": 146,
      "outputs": []
    },
    {
      "cell_type": "code",
      "metadata": {
        "id": "tATKGInyQ_Qx"
      },
      "source": [
        "data = feature_scaler.fit_transform(data)"
      ],
      "execution_count": 147,
      "outputs": []
    },
    {
      "cell_type": "code",
      "metadata": {
        "id": "Kdf9jt1QQ_Qx",
        "colab": {
          "base_uri": "https://localhost:8080/"
        },
        "outputId": "daf581a3-f02d-43f4-8759-3fdf9e1d3306"
      },
      "source": [
        "data"
      ],
      "execution_count": 148,
      "outputs": [
        {
          "output_type": "execute_result",
          "data": {
            "text/plain": [
              "array([[0.66666667, 0.33333333, 0.44444444, ..., 0.        , 0.        ,\n",
              "        0.        ],\n",
              "       [0.11111111, 0.33333333, 0.        , ..., 0.        , 1.        ,\n",
              "        0.        ],\n",
              "       [0.22222222, 0.        , 0.33333333, ..., 0.        , 0.        ,\n",
              "        0.        ],\n",
              "       ...,\n",
              "       [0.        , 0.        , 0.        , ..., 0.        , 0.        ,\n",
              "        0.        ],\n",
              "       [0.        , 0.        , 0.        , ..., 0.        , 0.        ,\n",
              "        0.        ],\n",
              "       [0.        , 0.        , 0.        , ..., 0.        , 0.        ,\n",
              "        0.        ]])"
            ]
          },
          "metadata": {
            "tags": []
          },
          "execution_count": 148
        }
      ]
    },
    {
      "cell_type": "markdown",
      "metadata": {
        "id": "_Yj3JDa_Q_Qx"
      },
      "source": [
        "## Training the dataset \n"
      ]
    },
    {
      "cell_type": "code",
      "metadata": {
        "id": "j-3toxbaQ_Qy"
      },
      "source": [
        "from sklearn.model_selection import train_test_split"
      ],
      "execution_count": 149,
      "outputs": []
    },
    {
      "cell_type": "code",
      "metadata": {
        "id": "7QxGtLhMQ_Qy"
      },
      "source": [
        "X_train,X_test,y_train,y_test = train_test_split(data,Y, test_size =0.2,random_state=0)\n"
      ],
      "execution_count": 150,
      "outputs": []
    },
    {
      "cell_type": "code",
      "metadata": {
        "id": "NmcLzNknQ_Qy",
        "colab": {
          "base_uri": "https://localhost:8080/"
        },
        "outputId": "ff299c01-4d9f-4e5a-ce79-19b78f71d7c9"
      },
      "source": [
        "X_train.shape,X_test.shape"
      ],
      "execution_count": 151,
      "outputs": [
        {
          "output_type": "execute_result",
          "data": {
            "text/plain": [
              "((48946, 98), (12237, 98))"
            ]
          },
          "metadata": {
            "tags": []
          },
          "execution_count": 151
        }
      ]
    },
    {
      "cell_type": "code",
      "metadata": {
        "id": "N0SwfWgURjhe"
      },
      "source": [
        ""
      ],
      "execution_count": 151,
      "outputs": []
    },
    {
      "cell_type": "code",
      "metadata": {
        "id": "Zgw6KdQ-Rj9D"
      },
      "source": [
        "#declare the models\n",
        "lr_model=LogisticRegression(C=10)\n",
        "dt_model=DecisionTreeClassifier()\n",
        "rf_model=RandomForestClassifier(max_depth= 60, min_samples_leaf = 1, min_samples_split= 5)\n",
        "gbc_model=GradientBoostingClassifier()\n",
        "xgb_model=XGBClassifier()\n",
        "svc_model=LinearSVC()\n",
        "Mnb_model=MultinomialNB()\n",
        "\n",
        "\n",
        "#create a list of models\n",
        "models=[lr_model,svc_model,Mnb_model,dt_model,rf_model,gbc_model,xgb_model]\n",
        "\n",
        "#creating dictionay for storing the confustion matix\n",
        "dct_train={}\n",
        "dct_test={}\n",
        "lst_imp=[]\n",
        "# fuction for calculation the eveluation matrix\n",
        "def score_model(X_train,y_train,X_test,y_test):\n",
        "    df_columns=[]\n",
        "    df=pd.DataFrame(columns=df_columns)\n",
        "    i=0\n",
        "    #read model one by one\n",
        "    for model in models:\n",
        "        start = time.time()\n",
        "        model.fit(X_train,y_train)\n",
        "        end= time.time()\n",
        "        y_pred=model.predict(X_test)\n",
        "        y_pred_train=model.predict(X_train)\n",
        "        \n",
        "        #compute metrics\n",
        "        train_accuracy=accuracy_score(y_train,y_pred_train)\n",
        "        test_accuracy=accuracy_score(y_test,y_pred)\n",
        "        p_score_train=precision_score(y_train,y_pred_train)\n",
        "        p_score=precision_score(y_test,y_pred)\n",
        "        r_score_train=recall_score(y_train,y_pred_train)\n",
        "        r_score=recall_score(y_test,y_pred)\n",
        "        train_auc = roc_auc_score(y_train,y_pred_train)\n",
        "        test_auc = roc_auc_score(y_test,y_pred)\n",
        "        fp, tp, th = roc_curve(y_test, y_pred)\n",
        "        \n",
        "        #insert in dataframe\n",
        "        df.loc[i,\"Model_Name\"]=model.__class__.__name__\n",
        "        df.loc[i,\"Train_Accuracy\"]=round(train_accuracy*100,2)\n",
        "        df.loc[i,\"Test_Accuracy\"]=round(test_accuracy*100,2)\n",
        "        df.loc[i,\"Precision_Train\"]=round(p_score_train*100,2)\n",
        "        df.loc[i,\"Precision_Test\"]=round(p_score*100,2)\n",
        "        df.loc[i,\"Recall_Train\"]=round(r_score_train*100,2)\n",
        "        df.loc[i,\"Recall_test\"]=round(r_score*100,2)\n",
        "        df.loc[i,\"ROC_AUC_Train\"]=round(train_auc*100,2)\n",
        "        df.loc[i,\"ROC_AUC_Test\"]=round(test_auc*100,2)\n",
        "        df.loc[i,'AUC'] = auc(fp, tp)\n",
        "        df.loc[i,'MOdel_training_time ']= end-start\n",
        "        #inserted in dictionary\n",
        "        dct_train[model.__class__.__name__]=confusion_matrix(y_train,y_pred_train)\n",
        "        dct_test[model.__class__.__name__]=confusion_matrix(y_test,y_pred)\n",
        "\n",
        "        i+=1\n",
        "    # Return the data frame and dictionary\n",
        "    return df,dct_train,dct_test"
      ],
      "execution_count": 152,
      "outputs": []
    },
    {
      "cell_type": "code",
      "metadata": {
        "id": "QBoefzhJRj9E",
        "colab": {
          "base_uri": "https://localhost:8080/"
        },
        "outputId": "ddfff244-bfbe-4cca-868b-68372f496cd6"
      },
      "source": [
        "final_result_df,dct_train,dct_test=score_model(X_train,y_train,X_test,y_test)"
      ],
      "execution_count": 153,
      "outputs": [
        {
          "output_type": "stream",
          "text": [
            "/usr/local/lib/python3.7/dist-packages/sklearn/linear_model/_logistic.py:940: ConvergenceWarning: lbfgs failed to converge (status=1):\n",
            "STOP: TOTAL NO. of ITERATIONS REACHED LIMIT.\n",
            "\n",
            "Increase the number of iterations (max_iter) or scale the data as shown in:\n",
            "    https://scikit-learn.org/stable/modules/preprocessing.html\n",
            "Please also refer to the documentation for alternative solver options:\n",
            "    https://scikit-learn.org/stable/modules/linear_model.html#logistic-regression\n",
            "  extra_warning_msg=_LOGISTIC_SOLVER_CONVERGENCE_MSG)\n"
          ],
          "name": "stderr"
        }
      ]
    },
    {
      "cell_type": "code",
      "metadata": {
        "id": "5CaRnNh_Rj9E",
        "colab": {
          "base_uri": "https://localhost:8080/",
          "height": 286
        },
        "outputId": "577448f1-7524-4ff0-8037-dd5f410b72df"
      },
      "source": [
        "final_result_df"
      ],
      "execution_count": 154,
      "outputs": [
        {
          "output_type": "execute_result",
          "data": {
            "text/html": [
              "<div>\n",
              "<style scoped>\n",
              "    .dataframe tbody tr th:only-of-type {\n",
              "        vertical-align: middle;\n",
              "    }\n",
              "\n",
              "    .dataframe tbody tr th {\n",
              "        vertical-align: top;\n",
              "    }\n",
              "\n",
              "    .dataframe thead th {\n",
              "        text-align: right;\n",
              "    }\n",
              "</style>\n",
              "<table border=\"1\" class=\"dataframe\">\n",
              "  <thead>\n",
              "    <tr style=\"text-align: right;\">\n",
              "      <th></th>\n",
              "      <th>Model_Name</th>\n",
              "      <th>Train_Accuracy</th>\n",
              "      <th>Test_Accuracy</th>\n",
              "      <th>Precision_Train</th>\n",
              "      <th>Precision_Test</th>\n",
              "      <th>Recall_Train</th>\n",
              "      <th>Recall_test</th>\n",
              "      <th>ROC_AUC_Train</th>\n",
              "      <th>ROC_AUC_Test</th>\n",
              "      <th>AUC</th>\n",
              "      <th>MOdel_training_time</th>\n",
              "    </tr>\n",
              "  </thead>\n",
              "  <tbody>\n",
              "    <tr>\n",
              "      <th>0</th>\n",
              "      <td>LogisticRegression</td>\n",
              "      <td>96.00</td>\n",
              "      <td>95.87</td>\n",
              "      <td>95.77</td>\n",
              "      <td>95.78</td>\n",
              "      <td>95.85</td>\n",
              "      <td>95.53</td>\n",
              "      <td>95.99</td>\n",
              "      <td>95.86</td>\n",
              "      <td>0.958570</td>\n",
              "      <td>1.723343</td>\n",
              "    </tr>\n",
              "    <tr>\n",
              "      <th>1</th>\n",
              "      <td>LinearSVC</td>\n",
              "      <td>96.02</td>\n",
              "      <td>95.81</td>\n",
              "      <td>95.82</td>\n",
              "      <td>95.72</td>\n",
              "      <td>95.83</td>\n",
              "      <td>95.44</td>\n",
              "      <td>96.01</td>\n",
              "      <td>95.79</td>\n",
              "      <td>0.957906</td>\n",
              "      <td>0.299041</td>\n",
              "    </tr>\n",
              "    <tr>\n",
              "      <th>2</th>\n",
              "      <td>MultinomialNB</td>\n",
              "      <td>86.94</td>\n",
              "      <td>86.63</td>\n",
              "      <td>82.42</td>\n",
              "      <td>82.13</td>\n",
              "      <td>92.30</td>\n",
              "      <td>91.85</td>\n",
              "      <td>87.18</td>\n",
              "      <td>86.88</td>\n",
              "      <td>0.868766</td>\n",
              "      <td>0.024684</td>\n",
              "    </tr>\n",
              "    <tr>\n",
              "      <th>3</th>\n",
              "      <td>DecisionTreeClassifier</td>\n",
              "      <td>100.00</td>\n",
              "      <td>94.20</td>\n",
              "      <td>100.00</td>\n",
              "      <td>93.96</td>\n",
              "      <td>100.00</td>\n",
              "      <td>93.83</td>\n",
              "      <td>100.00</td>\n",
              "      <td>94.18</td>\n",
              "      <td>0.941805</td>\n",
              "      <td>0.446539</td>\n",
              "    </tr>\n",
              "    <tr>\n",
              "      <th>4</th>\n",
              "      <td>RandomForestClassifier</td>\n",
              "      <td>99.04</td>\n",
              "      <td>95.83</td>\n",
              "      <td>98.97</td>\n",
              "      <td>96.14</td>\n",
              "      <td>99.01</td>\n",
              "      <td>95.05</td>\n",
              "      <td>99.04</td>\n",
              "      <td>95.80</td>\n",
              "      <td>0.957954</td>\n",
              "      <td>5.565276</td>\n",
              "    </tr>\n",
              "    <tr>\n",
              "      <th>5</th>\n",
              "      <td>GradientBoostingClassifier</td>\n",
              "      <td>96.04</td>\n",
              "      <td>95.83</td>\n",
              "      <td>96.08</td>\n",
              "      <td>95.98</td>\n",
              "      <td>95.59</td>\n",
              "      <td>95.22</td>\n",
              "      <td>96.02</td>\n",
              "      <td>95.80</td>\n",
              "      <td>0.958035</td>\n",
              "      <td>18.392861</td>\n",
              "    </tr>\n",
              "    <tr>\n",
              "      <th>6</th>\n",
              "      <td>XGBClassifier</td>\n",
              "      <td>95.95</td>\n",
              "      <td>95.79</td>\n",
              "      <td>95.94</td>\n",
              "      <td>95.88</td>\n",
              "      <td>95.56</td>\n",
              "      <td>95.24</td>\n",
              "      <td>95.94</td>\n",
              "      <td>95.77</td>\n",
              "      <td>0.957653</td>\n",
              "      <td>10.983260</td>\n",
              "    </tr>\n",
              "  </tbody>\n",
              "</table>\n",
              "</div>"
            ],
            "text/plain": [
              "                   Model_Name  Train_Accuracy  ...       AUC  MOdel_training_time \n",
              "0          LogisticRegression           96.00  ...  0.958570              1.723343\n",
              "1                   LinearSVC           96.02  ...  0.957906              0.299041\n",
              "2               MultinomialNB           86.94  ...  0.868766              0.024684\n",
              "3      DecisionTreeClassifier          100.00  ...  0.941805              0.446539\n",
              "4      RandomForestClassifier           99.04  ...  0.957954              5.565276\n",
              "5  GradientBoostingClassifier           96.04  ...  0.958035             18.392861\n",
              "6               XGBClassifier           95.95  ...  0.957653             10.983260\n",
              "\n",
              "[7 rows x 11 columns]"
            ]
          },
          "metadata": {
            "tags": []
          },
          "execution_count": 154
        }
      ]
    },
    {
      "cell_type": "markdown",
      "metadata": {
        "id": "wYHrPOU1qoUI"
      },
      "source": [
        ""
      ]
    },
    {
      "cell_type": "code",
      "metadata": {
        "id": "riZc3RqWjZhp",
        "colab": {
          "base_uri": "https://localhost:8080/",
          "height": 297
        },
        "outputId": "16536971-0fc9-46a3-ed2e-852da6f65042"
      },
      "source": [
        "sns.lineplot(x='Model_Name',y='Test_Accuracy',data=final_result_df)"
      ],
      "execution_count": 155,
      "outputs": [
        {
          "output_type": "execute_result",
          "data": {
            "text/plain": [
              "<matplotlib.axes._subplots.AxesSubplot at 0x7ff7f374da90>"
            ]
          },
          "metadata": {
            "tags": []
          },
          "execution_count": 155
        },
        {
          "output_type": "display_data",
          "data": {
            "image/png": "[encoded data removed]",
            "text/plain": [
              "<Figure size 432x288 with 1 Axes>"
            ]
          },
          "metadata": {
            "tags": [],
            "needs_background": "light"
          }
        }
      ]
    },
    {
      "cell_type": "code",
      "metadata": {
        "id": "sam3SJUvj20G"
      },
      "source": [
        ""
      ],
      "execution_count": 155,
      "outputs": []
    }
  ]
}