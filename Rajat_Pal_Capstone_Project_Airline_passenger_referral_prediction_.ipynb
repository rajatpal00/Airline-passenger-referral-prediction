{
  "nbformat": 4,
  "nbformat_minor": 0,
  "metadata": {
    "colab": {
      "name": "Rajat Pal-Capstone Project-Airline passenger referral prediction .ipynb",
      "provenance": [],
      "collapsed_sections": [],
      "mount_file_id": "1VA1uTPeD7eOv_WDbwebj4yUDea3lQqLM",
      "authorship_tag": "ABX9TyO3qYsgcdaQC5VOzcLI8Sg8",
      "include_colab_link": true
    },
    "kernelspec": {
      "name": "python3",
      "display_name": "Python 3"
    },
    "language_info": {
      "name": "python"
    }
  },
  "cells": [
    {
      "cell_type": "markdown",
      "metadata": {
        "id": "view-in-github",
        "colab_type": "text"
      },
      "source": [
        "<a href=\"https://colab.research.google.com/github/rajatpal00/Airline-passenger-referral-prediction/blob/main/Rajat_Pal_Capstone_Project_Airline_passenger_referral_prediction_.ipynb\" target=\"_parent\"><img src=\"https://colab.research.google.com/assets/colab-badge.svg\" alt=\"Open In Colab\"/></a>"
      ]
    },
    {
      "cell_type": "markdown",
      "metadata": {
        "id": "G7dFWogK9uQH"
      },
      "source": [
        "##Dataset discription\n",
        "Data includes airline reviews from 2006 to 2019 for popular airlines around the world with multiple choice and free text questions. Data is scraped in Spring 2019.\n",
        "Feature descriptions briefly as follows:\n",
        "* airline: Name of the airline.\n",
        "* overall: Overall point is given to the trip between 1 to 10.\n",
        "* author: Author of the trip\n",
        "* reviewdate: Date of the Review\n",
        "* customer review: Review of the customers in free text format\n",
        " \n",
        "* aircraft: Type of the aircraft\n",
        "* traveller type: Type of traveler (e.g. business, leisure)\n",
        "* cabin: Cabin at the flight\n",
        "* date flown: Flight date\n",
        "* seat comfort: Rated between 1-5\n",
        "* cabin service: Rated between 1-5\n",
        "* food bev: Rated between 1-5\n",
        "* entertainment: Rated between 1-5\n",
        "* ground service: Rated between 1-5\n",
        "* value for money: Rated between 1-5"
      ]
    },
    {
      "cell_type": "markdown",
      "metadata": {
        "id": "uL6FgABU_nz7"
      },
      "source": [
        "##The main objective is to predict whether passengers will refer the airline to their friends."
      ]
    },
    {
      "cell_type": "code",
      "metadata": {
        "id": "-MxBjSMJtGRd"
      },
      "source": [
        "import pandas as pd \n",
        "import numpy as np \n",
        "import matplotlib.pyplot as plt\n",
        "import seaborn as sns\n",
        "%matplotlib inline"
      ],
      "execution_count": 1,
      "outputs": []
    },
    {
      "cell_type": "code",
      "metadata": {
        "id": "BlAEYh76uC83"
      },
      "source": [
        "main_df = pd.read_excel('/content/drive/MyDrive/AlmaBetter/capstone project/Airline Passenger Referral Prediction/data_airline_reviews.xlsx') "
      ],
      "execution_count": 2,
      "outputs": []
    },
    {
      "cell_type": "code",
      "metadata": {
        "colab": {
          "base_uri": "https://localhost:8080/",
          "height": 292
        },
        "id": "mavDioosuVKE",
        "outputId": "6b24bec9-b6f1-4cd2-b3b8-1db4518aec91"
      },
      "source": [
        "main_df.head()"
      ],
      "execution_count": 3,
      "outputs": [
        {
          "output_type": "execute_result",
          "data": {
            "text/html": [
              "<div>\n",
              "<style scoped>\n",
              "    .dataframe tbody tr th:only-of-type {\n",
              "        vertical-align: middle;\n",
              "    }\n",
              "\n",
              "    .dataframe tbody tr th {\n",
              "        vertical-align: top;\n",
              "    }\n",
              "\n",
              "    .dataframe thead th {\n",
              "        text-align: right;\n",
              "    }\n",
              "</style>\n",
              "<table border=\"1\" class=\"dataframe\">\n",
              "  <thead>\n",
              "    <tr style=\"text-align: right;\">\n",
              "      <th></th>\n",
              "      <th>airline</th>\n",
              "      <th>overall</th>\n",
              "      <th>author</th>\n",
              "      <th>review_date</th>\n",
              "      <th>customer_review</th>\n",
              "      <th>aircraft</th>\n",
              "      <th>traveller_type</th>\n",
              "      <th>cabin</th>\n",
              "      <th>route</th>\n",
              "      <th>date_flown</th>\n",
              "      <th>seat_comfort</th>\n",
              "      <th>cabin_service</th>\n",
              "      <th>food_bev</th>\n",
              "      <th>entertainment</th>\n",
              "      <th>ground_service</th>\n",
              "      <th>value_for_money</th>\n",
              "      <th>recommended</th>\n",
              "    </tr>\n",
              "  </thead>\n",
              "  <tbody>\n",
              "    <tr>\n",
              "      <th>0</th>\n",
              "      <td>NaN</td>\n",
              "      <td>NaN</td>\n",
              "      <td>NaN</td>\n",
              "      <td>NaN</td>\n",
              "      <td>NaN</td>\n",
              "      <td>NaN</td>\n",
              "      <td>NaN</td>\n",
              "      <td>NaN</td>\n",
              "      <td>NaN</td>\n",
              "      <td>NaN</td>\n",
              "      <td>NaN</td>\n",
              "      <td>NaN</td>\n",
              "      <td>NaN</td>\n",
              "      <td>NaN</td>\n",
              "      <td>NaN</td>\n",
              "      <td>NaN</td>\n",
              "      <td>NaN</td>\n",
              "    </tr>\n",
              "    <tr>\n",
              "      <th>1</th>\n",
              "      <td>Turkish Airlines</td>\n",
              "      <td>7.0</td>\n",
              "      <td>Christopher Hackley</td>\n",
              "      <td>8th May 2019</td>\n",
              "      <td>âœ… Trip Verified | London to Izmir via Istanb...</td>\n",
              "      <td>NaN</td>\n",
              "      <td>Business</td>\n",
              "      <td>Economy Class</td>\n",
              "      <td>London to Izmir via Istanbul</td>\n",
              "      <td>2019-05-01 00:00:00</td>\n",
              "      <td>4.0</td>\n",
              "      <td>5.0</td>\n",
              "      <td>4.0</td>\n",
              "      <td>4.0</td>\n",
              "      <td>2.0</td>\n",
              "      <td>4.0</td>\n",
              "      <td>yes</td>\n",
              "    </tr>\n",
              "    <tr>\n",
              "      <th>2</th>\n",
              "      <td>NaN</td>\n",
              "      <td>NaN</td>\n",
              "      <td>NaN</td>\n",
              "      <td>NaN</td>\n",
              "      <td>NaN</td>\n",
              "      <td>NaN</td>\n",
              "      <td>NaN</td>\n",
              "      <td>NaN</td>\n",
              "      <td>NaN</td>\n",
              "      <td>NaN</td>\n",
              "      <td>NaN</td>\n",
              "      <td>NaN</td>\n",
              "      <td>NaN</td>\n",
              "      <td>NaN</td>\n",
              "      <td>NaN</td>\n",
              "      <td>NaN</td>\n",
              "      <td>NaN</td>\n",
              "    </tr>\n",
              "    <tr>\n",
              "      <th>3</th>\n",
              "      <td>Turkish Airlines</td>\n",
              "      <td>2.0</td>\n",
              "      <td>Adriana Pisoi</td>\n",
              "      <td>7th May 2019</td>\n",
              "      <td>âœ… Trip Verified | Istanbul to Bucharest. We ...</td>\n",
              "      <td>NaN</td>\n",
              "      <td>Family Leisure</td>\n",
              "      <td>Economy Class</td>\n",
              "      <td>Istanbul to Bucharest</td>\n",
              "      <td>2019-05-01 00:00:00</td>\n",
              "      <td>4.0</td>\n",
              "      <td>1.0</td>\n",
              "      <td>1.0</td>\n",
              "      <td>1.0</td>\n",
              "      <td>1.0</td>\n",
              "      <td>1.0</td>\n",
              "      <td>no</td>\n",
              "    </tr>\n",
              "    <tr>\n",
              "      <th>4</th>\n",
              "      <td>NaN</td>\n",
              "      <td>NaN</td>\n",
              "      <td>NaN</td>\n",
              "      <td>NaN</td>\n",
              "      <td>NaN</td>\n",
              "      <td>NaN</td>\n",
              "      <td>NaN</td>\n",
              "      <td>NaN</td>\n",
              "      <td>NaN</td>\n",
              "      <td>NaN</td>\n",
              "      <td>NaN</td>\n",
              "      <td>NaN</td>\n",
              "      <td>NaN</td>\n",
              "      <td>NaN</td>\n",
              "      <td>NaN</td>\n",
              "      <td>NaN</td>\n",
              "      <td>NaN</td>\n",
              "    </tr>\n",
              "  </tbody>\n",
              "</table>\n",
              "</div>"
            ],
            "text/plain": [
              "            airline  overall  ... value_for_money recommended\n",
              "0               NaN      NaN  ...             NaN         NaN\n",
              "1  Turkish Airlines      7.0  ...             4.0         yes\n",
              "2               NaN      NaN  ...             NaN         NaN\n",
              "3  Turkish Airlines      2.0  ...             1.0          no\n",
              "4               NaN      NaN  ...             NaN         NaN\n",
              "\n",
              "[5 rows x 17 columns]"
            ]
          },
          "metadata": {
            "tags": []
          },
          "execution_count": 3
        }
      ]
    },
    {
      "cell_type": "code",
      "metadata": {
        "id": "I_heimh613AI"
      },
      "source": [
        "main_df.dropna(how='all',inplace=True)        # droping the rows which have all values as NaN\n",
        "# main_df.reset_index(inplace=True)             # reseting the index\n",
        "# main_df.drop('index',axis=1,inplace=True)     # droping index columns"
      ],
      "execution_count": 4,
      "outputs": []
    },
    {
      "cell_type": "markdown",
      "metadata": {
        "id": "SXutRs-hXq5l"
      },
      "source": [
        "###Duplicate values"
      ]
    },
    {
      "cell_type": "code",
      "metadata": {
        "colab": {
          "base_uri": "https://localhost:8080/"
        },
        "id": "GDQ2YSj9XxYD",
        "outputId": "84b894c0-52fb-43f5-ae60-d16c69541d48"
      },
      "source": [
        "#counting number of duplicate values\n",
        "main_df.duplicated().sum()"
      ],
      "execution_count": 5,
      "outputs": [
        {
          "output_type": "execute_result",
          "data": {
            "text/plain": [
              "4764"
            ]
          },
          "metadata": {
            "tags": []
          },
          "execution_count": 5
        }
      ]
    },
    {
      "cell_type": "code",
      "metadata": {
        "id": "T-CPcmHZYMK5"
      },
      "source": [
        "#droping duplicate rows\n",
        "main_df.drop_duplicates(inplace=True)"
      ],
      "execution_count": 6,
      "outputs": []
    },
    {
      "cell_type": "code",
      "metadata": {
        "colab": {
          "base_uri": "https://localhost:8080/",
          "height": 813
        },
        "id": "XH3KXu_4ZCii",
        "outputId": "8e8ca992-be28-478d-e0f2-93405ac37c07"
      },
      "source": [
        "main_df"
      ],
      "execution_count": 7,
      "outputs": [
        {
          "output_type": "execute_result",
          "data": {
            "text/html": [
              "<div>\n",
              "<style scoped>\n",
              "    .dataframe tbody tr th:only-of-type {\n",
              "        vertical-align: middle;\n",
              "    }\n",
              "\n",
              "    .dataframe tbody tr th {\n",
              "        vertical-align: top;\n",
              "    }\n",
              "\n",
              "    .dataframe thead th {\n",
              "        text-align: right;\n",
              "    }\n",
              "</style>\n",
              "<table border=\"1\" class=\"dataframe\">\n",
              "  <thead>\n",
              "    <tr style=\"text-align: right;\">\n",
              "      <th></th>\n",
              "      <th>airline</th>\n",
              "      <th>overall</th>\n",
              "      <th>author</th>\n",
              "      <th>review_date</th>\n",
              "      <th>customer_review</th>\n",
              "      <th>aircraft</th>\n",
              "      <th>traveller_type</th>\n",
              "      <th>cabin</th>\n",
              "      <th>route</th>\n",
              "      <th>date_flown</th>\n",
              "      <th>seat_comfort</th>\n",
              "      <th>cabin_service</th>\n",
              "      <th>food_bev</th>\n",
              "      <th>entertainment</th>\n",
              "      <th>ground_service</th>\n",
              "      <th>value_for_money</th>\n",
              "      <th>recommended</th>\n",
              "    </tr>\n",
              "  </thead>\n",
              "  <tbody>\n",
              "    <tr>\n",
              "      <th>1</th>\n",
              "      <td>Turkish Airlines</td>\n",
              "      <td>7.0</td>\n",
              "      <td>Christopher Hackley</td>\n",
              "      <td>8th May 2019</td>\n",
              "      <td>âœ… Trip Verified | London to Izmir via Istanb...</td>\n",
              "      <td>NaN</td>\n",
              "      <td>Business</td>\n",
              "      <td>Economy Class</td>\n",
              "      <td>London to Izmir via Istanbul</td>\n",
              "      <td>2019-05-01 00:00:00</td>\n",
              "      <td>4.0</td>\n",
              "      <td>5.0</td>\n",
              "      <td>4.0</td>\n",
              "      <td>4.0</td>\n",
              "      <td>2.0</td>\n",
              "      <td>4.0</td>\n",
              "      <td>yes</td>\n",
              "    </tr>\n",
              "    <tr>\n",
              "      <th>3</th>\n",
              "      <td>Turkish Airlines</td>\n",
              "      <td>2.0</td>\n",
              "      <td>Adriana Pisoi</td>\n",
              "      <td>7th May 2019</td>\n",
              "      <td>âœ… Trip Verified | Istanbul to Bucharest. We ...</td>\n",
              "      <td>NaN</td>\n",
              "      <td>Family Leisure</td>\n",
              "      <td>Economy Class</td>\n",
              "      <td>Istanbul to Bucharest</td>\n",
              "      <td>2019-05-01 00:00:00</td>\n",
              "      <td>4.0</td>\n",
              "      <td>1.0</td>\n",
              "      <td>1.0</td>\n",
              "      <td>1.0</td>\n",
              "      <td>1.0</td>\n",
              "      <td>1.0</td>\n",
              "      <td>no</td>\n",
              "    </tr>\n",
              "    <tr>\n",
              "      <th>5</th>\n",
              "      <td>Turkish Airlines</td>\n",
              "      <td>3.0</td>\n",
              "      <td>M Galerko</td>\n",
              "      <td>7th May 2019</td>\n",
              "      <td>âœ… Trip Verified | Rome to Prishtina via Ista...</td>\n",
              "      <td>NaN</td>\n",
              "      <td>Business</td>\n",
              "      <td>Economy Class</td>\n",
              "      <td>Rome to Prishtina via Istanbul</td>\n",
              "      <td>2019-05-01 00:00:00</td>\n",
              "      <td>1.0</td>\n",
              "      <td>4.0</td>\n",
              "      <td>1.0</td>\n",
              "      <td>3.0</td>\n",
              "      <td>1.0</td>\n",
              "      <td>2.0</td>\n",
              "      <td>no</td>\n",
              "    </tr>\n",
              "    <tr>\n",
              "      <th>7</th>\n",
              "      <td>Turkish Airlines</td>\n",
              "      <td>10.0</td>\n",
              "      <td>Zeshan Shah</td>\n",
              "      <td>6th May 2019</td>\n",
              "      <td>âœ… Trip Verified | Flew on Turkish Airlines I...</td>\n",
              "      <td>A330</td>\n",
              "      <td>Solo Leisure</td>\n",
              "      <td>Economy Class</td>\n",
              "      <td>Washington Dulles to Karachi</td>\n",
              "      <td>April 2019</td>\n",
              "      <td>4.0</td>\n",
              "      <td>5.0</td>\n",
              "      <td>5.0</td>\n",
              "      <td>5.0</td>\n",
              "      <td>5.0</td>\n",
              "      <td>5.0</td>\n",
              "      <td>yes</td>\n",
              "    </tr>\n",
              "    <tr>\n",
              "      <th>9</th>\n",
              "      <td>Turkish Airlines</td>\n",
              "      <td>1.0</td>\n",
              "      <td>Pooja Jain</td>\n",
              "      <td>6th May 2019</td>\n",
              "      <td>âœ… Trip Verified | Mumbai to Dublin via Istan...</td>\n",
              "      <td>NaN</td>\n",
              "      <td>Solo Leisure</td>\n",
              "      <td>Economy Class</td>\n",
              "      <td>Mumbai to Dublin via Istanbul</td>\n",
              "      <td>2019-05-01 00:00:00</td>\n",
              "      <td>1.0</td>\n",
              "      <td>1.0</td>\n",
              "      <td>1.0</td>\n",
              "      <td>1.0</td>\n",
              "      <td>1.0</td>\n",
              "      <td>1.0</td>\n",
              "      <td>no</td>\n",
              "    </tr>\n",
              "    <tr>\n",
              "      <th>...</th>\n",
              "      <td>...</td>\n",
              "      <td>...</td>\n",
              "      <td>...</td>\n",
              "      <td>...</td>\n",
              "      <td>...</td>\n",
              "      <td>...</td>\n",
              "      <td>...</td>\n",
              "      <td>...</td>\n",
              "      <td>...</td>\n",
              "      <td>...</td>\n",
              "      <td>...</td>\n",
              "      <td>...</td>\n",
              "      <td>...</td>\n",
              "      <td>...</td>\n",
              "      <td>...</td>\n",
              "      <td>...</td>\n",
              "      <td>...</td>\n",
              "    </tr>\n",
              "    <tr>\n",
              "      <th>131886</th>\n",
              "      <td>Ukraine International</td>\n",
              "      <td>NaN</td>\n",
              "      <td>Yevheniy Kahanovych</td>\n",
              "      <td>21st January 2007</td>\n",
              "      <td>Two domestic flights between Kiev and Lviv las...</td>\n",
              "      <td>NaN</td>\n",
              "      <td>NaN</td>\n",
              "      <td>NaN</td>\n",
              "      <td>NaN</td>\n",
              "      <td>NaN</td>\n",
              "      <td>NaN</td>\n",
              "      <td>NaN</td>\n",
              "      <td>NaN</td>\n",
              "      <td>NaN</td>\n",
              "      <td>NaN</td>\n",
              "      <td>NaN</td>\n",
              "      <td>no</td>\n",
              "    </tr>\n",
              "    <tr>\n",
              "      <th>131888</th>\n",
              "      <td>Ukraine International</td>\n",
              "      <td>NaN</td>\n",
              "      <td>Helen Lee</td>\n",
              "      <td>15th December 2006</td>\n",
              "      <td>I had a good flight from London to Kiev with U...</td>\n",
              "      <td>NaN</td>\n",
              "      <td>NaN</td>\n",
              "      <td>NaN</td>\n",
              "      <td>NaN</td>\n",
              "      <td>NaN</td>\n",
              "      <td>NaN</td>\n",
              "      <td>NaN</td>\n",
              "      <td>NaN</td>\n",
              "      <td>NaN</td>\n",
              "      <td>NaN</td>\n",
              "      <td>NaN</td>\n",
              "      <td>no</td>\n",
              "    </tr>\n",
              "    <tr>\n",
              "      <th>131890</th>\n",
              "      <td>Ukraine International</td>\n",
              "      <td>NaN</td>\n",
              "      <td>Andriy Yesypenko</td>\n",
              "      <td>19th May 2006</td>\n",
              "      <td>Kiev - London (Gatwick) in business class (in ...</td>\n",
              "      <td>NaN</td>\n",
              "      <td>NaN</td>\n",
              "      <td>NaN</td>\n",
              "      <td>NaN</td>\n",
              "      <td>NaN</td>\n",
              "      <td>NaN</td>\n",
              "      <td>NaN</td>\n",
              "      <td>NaN</td>\n",
              "      <td>NaN</td>\n",
              "      <td>NaN</td>\n",
              "      <td>NaN</td>\n",
              "      <td>no</td>\n",
              "    </tr>\n",
              "    <tr>\n",
              "      <th>131892</th>\n",
              "      <td>Ukraine International</td>\n",
              "      <td>NaN</td>\n",
              "      <td>Volodya Bilotkach</td>\n",
              "      <td>29th April 2006</td>\n",
              "      <td>Several flights - KBP to AMS (3 times one way)...</td>\n",
              "      <td>NaN</td>\n",
              "      <td>NaN</td>\n",
              "      <td>NaN</td>\n",
              "      <td>NaN</td>\n",
              "      <td>NaN</td>\n",
              "      <td>NaN</td>\n",
              "      <td>NaN</td>\n",
              "      <td>NaN</td>\n",
              "      <td>NaN</td>\n",
              "      <td>NaN</td>\n",
              "      <td>NaN</td>\n",
              "      <td>no</td>\n",
              "    </tr>\n",
              "    <tr>\n",
              "      <th>131894</th>\n",
              "      <td>Ukraine International</td>\n",
              "      <td>NaN</td>\n",
              "      <td>Kasper Hettinga</td>\n",
              "      <td>10th February 2006</td>\n",
              "      <td>KBP-AMS with UIA. Although it was a relatively...</td>\n",
              "      <td>NaN</td>\n",
              "      <td>NaN</td>\n",
              "      <td>NaN</td>\n",
              "      <td>NaN</td>\n",
              "      <td>NaN</td>\n",
              "      <td>NaN</td>\n",
              "      <td>NaN</td>\n",
              "      <td>NaN</td>\n",
              "      <td>NaN</td>\n",
              "      <td>NaN</td>\n",
              "      <td>NaN</td>\n",
              "      <td>no</td>\n",
              "    </tr>\n",
              "  </tbody>\n",
              "</table>\n",
              "<p>61183 rows × 17 columns</p>\n",
              "</div>"
            ],
            "text/plain": [
              "                      airline  overall  ... value_for_money recommended\n",
              "1            Turkish Airlines      7.0  ...             4.0         yes\n",
              "3            Turkish Airlines      2.0  ...             1.0          no\n",
              "5            Turkish Airlines      3.0  ...             2.0          no\n",
              "7            Turkish Airlines     10.0  ...             5.0         yes\n",
              "9            Turkish Airlines      1.0  ...             1.0          no\n",
              "...                       ...      ...  ...             ...         ...\n",
              "131886  Ukraine International      NaN  ...             NaN          no\n",
              "131888  Ukraine International      NaN  ...             NaN          no\n",
              "131890  Ukraine International      NaN  ...             NaN          no\n",
              "131892  Ukraine International      NaN  ...             NaN          no\n",
              "131894  Ukraine International      NaN  ...             NaN          no\n",
              "\n",
              "[61183 rows x 17 columns]"
            ]
          },
          "metadata": {
            "tags": []
          },
          "execution_count": 7
        }
      ]
    },
    {
      "cell_type": "markdown",
      "metadata": {
        "id": "Z3VYnxn_Xq0-"
      },
      "source": [
        "##EDA"
      ]
    },
    {
      "cell_type": "code",
      "metadata": {
        "colab": {
          "base_uri": "https://localhost:8080/"
        },
        "id": "neoogPNs2eNq",
        "outputId": "07e1be30-b621-4565-86cb-de43b1b948d9"
      },
      "source": [
        "main_df.shape"
      ],
      "execution_count": 8,
      "outputs": [
        {
          "output_type": "execute_result",
          "data": {
            "text/plain": [
              "(61183, 17)"
            ]
          },
          "metadata": {
            "tags": []
          },
          "execution_count": 8
        }
      ]
    },
    {
      "cell_type": "code",
      "metadata": {
        "colab": {
          "base_uri": "https://localhost:8080/"
        },
        "id": "OV3fuKVBuaaj",
        "outputId": "84b2c535-386f-4aea-df08-8af5fafcab91"
      },
      "source": [
        "main_df.info()\n"
      ],
      "execution_count": 9,
      "outputs": [
        {
          "output_type": "stream",
          "text": [
            "<class 'pandas.core.frame.DataFrame'>\n",
            "Int64Index: 61183 entries, 1 to 131894\n",
            "Data columns (total 17 columns):\n",
            " #   Column           Non-Null Count  Dtype  \n",
            "---  ------           --------------  -----  \n",
            " 0   airline          61183 non-null  object \n",
            " 1   overall          59401 non-null  float64\n",
            " 2   author           61183 non-null  object \n",
            " 3   review_date      61183 non-null  object \n",
            " 4   customer_review  61183 non-null  object \n",
            " 5   aircraft         18488 non-null  object \n",
            " 6   traveller_type   37540 non-null  object \n",
            " 7   cabin            58705 non-null  object \n",
            " 8   route            37513 non-null  object \n",
            " 9   date_flown       37434 non-null  object \n",
            " 10  seat_comfort     56211 non-null  float64\n",
            " 11  cabin_service    56240 non-null  float64\n",
            " 12  food_bev         48341 non-null  float64\n",
            " 13  entertainment    40230 non-null  float64\n",
            " 14  ground_service   37169 non-null  float64\n",
            " 15  value_for_money  59327 non-null  float64\n",
            " 16  recommended      59761 non-null  object \n",
            "dtypes: float64(7), object(10)\n",
            "memory usage: 8.4+ MB\n"
          ],
          "name": "stdout"
        }
      ]
    },
    {
      "cell_type": "markdown",
      "metadata": {
        "id": "hyeymqgbZrd6"
      },
      "source": [
        "Checking for NaN count of each features"
      ]
    },
    {
      "cell_type": "code",
      "metadata": {
        "colab": {
          "base_uri": "https://localhost:8080/"
        },
        "id": "YZH-Inp4QFnc",
        "outputId": "73e61333-2770-43e4-a2c7-3fef502bfba4"
      },
      "source": [
        "main_df.isna().sum()"
      ],
      "execution_count": 10,
      "outputs": [
        {
          "output_type": "execute_result",
          "data": {
            "text/plain": [
              "airline                0\n",
              "overall             1782\n",
              "author                 0\n",
              "review_date            0\n",
              "customer_review        0\n",
              "aircraft           42695\n",
              "traveller_type     23643\n",
              "cabin               2478\n",
              "route              23670\n",
              "date_flown         23749\n",
              "seat_comfort        4972\n",
              "cabin_service       4943\n",
              "food_bev           12842\n",
              "entertainment      20953\n",
              "ground_service     24014\n",
              "value_for_money     1856\n",
              "recommended         1422\n",
              "dtype: int64"
            ]
          },
          "metadata": {
            "tags": []
          },
          "execution_count": 10
        }
      ]
    },
    {
      "cell_type": "markdown",
      "metadata": {
        "id": "qolX7HNYagxn"
      },
      "source": [
        "### Checking for Imbalance in dataset"
      ]
    },
    {
      "cell_type": "code",
      "metadata": {
        "colab": {
          "base_uri": "https://localhost:8080/",
          "height": 471
        },
        "id": "nGyHk_oOXLzZ",
        "outputId": "a46f05f6-4422-462b-a727-84518e1f1585"
      },
      "source": [
        "sns.factorplot(x=\"recommended\", data=main_df, kind=\"count\", size=5, aspect=1.2, palette=\"PuBuGn_d\")\n",
        "plt.show()"
      ],
      "execution_count": 11,
      "outputs": [
        {
          "output_type": "stream",
          "text": [
            "/usr/local/lib/python3.7/dist-packages/seaborn/categorical.py:3714: UserWarning: The `factorplot` function has been renamed to `catplot`. The original name will be removed in a future release. Please update your code. Note that the default `kind` in `factorplot` (`'point'`) has changed `'strip'` in `catplot`.\n",
            "  warnings.warn(msg)\n",
            "/usr/local/lib/python3.7/dist-packages/seaborn/categorical.py:3720: UserWarning: The `size` parameter has been renamed to `height`; please update your code.\n",
            "  warnings.warn(msg, UserWarning)\n"
          ],
          "name": "stderr"
        },
        {
          "output_type": "display_data",
          "data": {
            "image/png": "[encoded data removed]",
            "text/plain": [
              "<Figure size 432x360 with 1 Axes>"
            ]
          },
          "metadata": {
            "tags": [],
            "needs_background": "light"
          }
        }
      ]
    },
    {
      "cell_type": "code",
      "metadata": {
        "colab": {
          "base_uri": "https://localhost:8080/",
          "height": 297
        },
        "id": "CcmcBj49zQ_2",
        "outputId": "0c1a2fc4-7fa1-464f-9f02-147fd3fcd715"
      },
      "source": [
        "main_df.describe()"
      ],
      "execution_count": 12,
      "outputs": [
        {
          "output_type": "execute_result",
          "data": {
            "text/html": [
              "<div>\n",
              "<style scoped>\n",
              "    .dataframe tbody tr th:only-of-type {\n",
              "        vertical-align: middle;\n",
              "    }\n",
              "\n",
              "    .dataframe tbody tr th {\n",
              "        vertical-align: top;\n",
              "    }\n",
              "\n",
              "    .dataframe thead th {\n",
              "        text-align: right;\n",
              "    }\n",
              "</style>\n",
              "<table border=\"1\" class=\"dataframe\">\n",
              "  <thead>\n",
              "    <tr style=\"text-align: right;\">\n",
              "      <th></th>\n",
              "      <th>overall</th>\n",
              "      <th>seat_comfort</th>\n",
              "      <th>cabin_service</th>\n",
              "      <th>food_bev</th>\n",
              "      <th>entertainment</th>\n",
              "      <th>ground_service</th>\n",
              "      <th>value_for_money</th>\n",
              "    </tr>\n",
              "  </thead>\n",
              "  <tbody>\n",
              "    <tr>\n",
              "      <th>count</th>\n",
              "      <td>59401.000000</td>\n",
              "      <td>56211.000000</td>\n",
              "      <td>56240.000000</td>\n",
              "      <td>48341.000000</td>\n",
              "      <td>40230.000000</td>\n",
              "      <td>37169.000000</td>\n",
              "      <td>59327.000000</td>\n",
              "    </tr>\n",
              "    <tr>\n",
              "      <th>mean</th>\n",
              "      <td>5.164863</td>\n",
              "      <td>2.959278</td>\n",
              "      <td>3.200231</td>\n",
              "      <td>2.926956</td>\n",
              "      <td>2.887994</td>\n",
              "      <td>2.681347</td>\n",
              "      <td>2.950849</td>\n",
              "    </tr>\n",
              "    <tr>\n",
              "      <th>std</th>\n",
              "      <td>3.483701</td>\n",
              "      <td>1.436467</td>\n",
              "      <td>1.568429</td>\n",
              "      <td>1.483122</td>\n",
              "      <td>1.504452</td>\n",
              "      <td>1.613995</td>\n",
              "      <td>1.588433</td>\n",
              "    </tr>\n",
              "    <tr>\n",
              "      <th>min</th>\n",
              "      <td>1.000000</td>\n",
              "      <td>1.000000</td>\n",
              "      <td>1.000000</td>\n",
              "      <td>1.000000</td>\n",
              "      <td>1.000000</td>\n",
              "      <td>1.000000</td>\n",
              "      <td>1.000000</td>\n",
              "    </tr>\n",
              "    <tr>\n",
              "      <th>25%</th>\n",
              "      <td>1.000000</td>\n",
              "      <td>2.000000</td>\n",
              "      <td>2.000000</td>\n",
              "      <td>1.000000</td>\n",
              "      <td>1.000000</td>\n",
              "      <td>1.000000</td>\n",
              "      <td>1.000000</td>\n",
              "    </tr>\n",
              "    <tr>\n",
              "      <th>50%</th>\n",
              "      <td>5.000000</td>\n",
              "      <td>3.000000</td>\n",
              "      <td>3.000000</td>\n",
              "      <td>3.000000</td>\n",
              "      <td>3.000000</td>\n",
              "      <td>3.000000</td>\n",
              "      <td>3.000000</td>\n",
              "    </tr>\n",
              "    <tr>\n",
              "      <th>75%</th>\n",
              "      <td>9.000000</td>\n",
              "      <td>4.000000</td>\n",
              "      <td>5.000000</td>\n",
              "      <td>4.000000</td>\n",
              "      <td>4.000000</td>\n",
              "      <td>4.000000</td>\n",
              "      <td>4.000000</td>\n",
              "    </tr>\n",
              "    <tr>\n",
              "      <th>max</th>\n",
              "      <td>10.000000</td>\n",
              "      <td>5.000000</td>\n",
              "      <td>5.000000</td>\n",
              "      <td>5.000000</td>\n",
              "      <td>5.000000</td>\n",
              "      <td>5.000000</td>\n",
              "      <td>5.000000</td>\n",
              "    </tr>\n",
              "  </tbody>\n",
              "</table>\n",
              "</div>"
            ],
            "text/plain": [
              "            overall  seat_comfort  ...  ground_service  value_for_money\n",
              "count  59401.000000  56211.000000  ...    37169.000000     59327.000000\n",
              "mean       5.164863      2.959278  ...        2.681347         2.950849\n",
              "std        3.483701      1.436467  ...        1.613995         1.588433\n",
              "min        1.000000      1.000000  ...        1.000000         1.000000\n",
              "25%        1.000000      2.000000  ...        1.000000         1.000000\n",
              "50%        5.000000      3.000000  ...        3.000000         3.000000\n",
              "75%        9.000000      4.000000  ...        4.000000         4.000000\n",
              "max       10.000000      5.000000  ...        5.000000         5.000000\n",
              "\n",
              "[8 rows x 7 columns]"
            ]
          },
          "metadata": {
            "tags": []
          },
          "execution_count": 12
        }
      ]
    },
    {
      "cell_type": "markdown",
      "metadata": {
        "id": "9Zr_-N5j9bkj"
      },
      "source": [
        "## Removing Non important features from dataset\n",
        "* Author - It is the name of passenger and it doesn't matter\n",
        "* Review date or flown date\n",
        "* route - as route will not decide the experience of person on flight\n"
      ]
    },
    {
      "cell_type": "code",
      "metadata": {
        "colab": {
          "base_uri": "https://localhost:8080/",
          "height": 470
        },
        "id": "JWyePxrzZ5-X",
        "outputId": "4a694232-6aae-47db-c4aa-6d39707182f7"
      },
      "source": [
        "#ploting heatmap to see NaN values in each features\n",
        "plt.figure(figsize=(12,6))\n",
        "sns.heatmap(main_df.isna(),cbar=False,cmap='Accent_r')"
      ],
      "execution_count": 13,
      "outputs": [
        {
          "output_type": "execute_result",
          "data": {
            "text/plain": [
              "<matplotlib.axes._subplots.AxesSubplot at 0x7fbf7a128850>"
            ]
          },
          "metadata": {
            "tags": []
          },
          "execution_count": 13
        },
        {
          "output_type": "display_data",
          "data": {
            "image/png": "[encoded data removed]",
            "text/plain": [
              "<Figure size 864x432 with 1 Axes>"
            ]
          },
          "metadata": {
            "tags": [],
            "needs_background": "light"
          }
        }
      ]
    },
    {
      "cell_type": "markdown",
      "metadata": {
        "id": "p-XJtUJ5b4oW"
      },
      "source": [
        "As from heat map we can see that there are few features which have NaN values, it would be right decision to drop the features which have More that 60% values as NaN, as imputing them will only create baisness in the dataset"
      ]
    },
    {
      "cell_type": "code",
      "metadata": {
        "id": "lz2bGWibZ5sC"
      },
      "source": [
        "def null_percentage(name):\n",
        "  'this function will collect all features which have nan vaalues more than 60%'\n",
        "  drop_features =[]\n",
        "  for i in name:\n",
        "    null_value= main_df[i].isna().sum()\n",
        "    if (null_value/len(main_df)) > 0.6:\n",
        "      drop_features.append(i)\n",
        "\n",
        "  return drop_features"
      ],
      "execution_count": 14,
      "outputs": []
    },
    {
      "cell_type": "code",
      "metadata": {
        "colab": {
          "base_uri": "https://localhost:8080/"
        },
        "id": "--62_js1eVEn",
        "outputId": "8b3d7e7d-8e1f-4b16-f272-525a35c6023f"
      },
      "source": [
        "features= main_df.columns\n",
        "features"
      ],
      "execution_count": 15,
      "outputs": [
        {
          "output_type": "execute_result",
          "data": {
            "text/plain": [
              "Index(['airline', 'overall', 'author', 'review_date', 'customer_review',\n",
              "       'aircraft', 'traveller_type', 'cabin', 'route', 'date_flown',\n",
              "       'seat_comfort', 'cabin_service', 'food_bev', 'entertainment',\n",
              "       'ground_service', 'value_for_money', 'recommended'],\n",
              "      dtype='object')"
            ]
          },
          "metadata": {
            "tags": []
          },
          "execution_count": 15
        }
      ]
    },
    {
      "cell_type": "code",
      "metadata": {
        "colab": {
          "base_uri": "https://localhost:8080/"
        },
        "id": "83hpgI_OedV_",
        "outputId": "bb3fe9a9-6c67-4a32-8eeb-5aedc20727ba"
      },
      "source": [
        "droping_features= null_percentage(features)\n",
        "droping_features\n"
      ],
      "execution_count": 16,
      "outputs": [
        {
          "output_type": "execute_result",
          "data": {
            "text/plain": [
              "['aircraft']"
            ]
          },
          "metadata": {
            "tags": []
          },
          "execution_count": 16
        }
      ]
    },
    {
      "cell_type": "code",
      "metadata": {
        "id": "uMEuvCsYdjpQ"
      },
      "source": [
        "main_df.drop(droping_features,axis=1,inplace=True)"
      ],
      "execution_count": 17,
      "outputs": []
    },
    {
      "cell_type": "markdown",
      "metadata": {
        "id": "Iizoqh5Hnw6t"
      },
      "source": [
        "Imptating dependent features"
      ]
    },
    {
      "cell_type": "code",
      "metadata": {
        "colab": {
          "base_uri": "https://localhost:8080/"
        },
        "id": "RkXogiEbnp5a",
        "outputId": "e5cc3903-9187-47d8-ff42-acec14ee1155"
      },
      "source": [
        "#no of nan values in recommeded column\n",
        "main_df['recommended'].isna().sum()"
      ],
      "execution_count": 18,
      "outputs": [
        {
          "output_type": "execute_result",
          "data": {
            "text/plain": [
              "1422"
            ]
          },
          "metadata": {
            "tags": []
          },
          "execution_count": 18
        }
      ]
    },
    {
      "cell_type": "code",
      "metadata": {
        "colab": {
          "base_uri": "https://localhost:8080/",
          "height": 454
        },
        "id": "5c7EeaxPpIqQ",
        "outputId": "084affbe-123f-425a-dbe5-d0333d156780"
      },
      "source": [
        "sns.factorplot(x='overall',data= main_df,kind='count')"
      ],
      "execution_count": 19,
      "outputs": [
        {
          "output_type": "stream",
          "text": [
            "/usr/local/lib/python3.7/dist-packages/seaborn/categorical.py:3714: UserWarning: The `factorplot` function has been renamed to `catplot`. The original name will be removed in a future release. Please update your code. Note that the default `kind` in `factorplot` (`'point'`) has changed `'strip'` in `catplot`.\n",
            "  warnings.warn(msg)\n"
          ],
          "name": "stderr"
        },
        {
          "output_type": "execute_result",
          "data": {
            "text/plain": [
              "<seaborn.axisgrid.FacetGrid at 0x7fbf7b815090>"
            ]
          },
          "metadata": {
            "tags": []
          },
          "execution_count": 19
        },
        {
          "output_type": "display_data",
          "data": {
            "image/png": "[encoded data removed]",
            "text/plain": [
              "<Figure size 360x360 with 1 Axes>"
            ]
          },
          "metadata": {
            "tags": [],
            "needs_background": "light"
          }
        }
      ]
    },
    {
      "cell_type": "code",
      "metadata": {
        "id": "2PScl90XBsKB"
      },
      "source": [
        "features_1= features.drop(['airline','author','aircraft','review_date', 'customer_review','route','recommended'])"
      ],
      "execution_count": 22,
      "outputs": []
    },
    {
      "cell_type": "code",
      "metadata": {
        "colab": {
          "base_uri": "https://localhost:8080/",
          "height": 1000
        },
        "id": "z80pQOwrBzwE",
        "outputId": "21ca5458-1679-44f3-b1ba-9001a27badf3"
      },
      "source": [
        "for feature in features_1:\n",
        "  print(feature)\n",
        "  main_df.groupby([feature])['recommended'].value_counts().unstack().plot(kind='bar',figsize=(15,6))\n",
        "  plt.title(f'How recommended  Varies with {feature} graph')\n",
        "  plt.ylabel(' Value Count')\n",
        "  plt.xlabel(feature)\n",
        "  plt.show()\n"
      ],
      "execution_count": 23,
      "outputs": [
        {
          "output_type": "stream",
          "text": [
            "overall\n"
          ],
          "name": "stdout"
        },
        {
          "output_type": "display_data",
          "data": {
            "image/png": "[encoded data removed]",
            "text/plain": [
              "<Figure size 1080x432 with 1 Axes>"
            ]
          },
          "metadata": {
            "tags": [],
            "needs_background": "light"
          }
        },
        {
          "output_type": "stream",
          "text": [
            "traveller_type\n"
          ],
          "name": "stdout"
        },
        {
          "output_type": "display_data",
          "data": {
            "image/png": "[encoded data removed]",
            "text/plain": [
              "<Figure size 1080x432 with 1 Axes>"
            ]
          },
          "metadata": {
            "tags": [],
            "needs_background": "light"
          }
        },
        {
          "output_type": "stream",
          "text": [
            "cabin\n"
          ],
          "name": "stdout"
        },
        {
          "output_type": "display_data",
          "data": {
            "image/png": "[encoded data removed]",
            "text/plain": [
              "<Figure size 1080x432 with 1 Axes>"
            ]
          },
          "metadata": {
            "tags": [],
            "needs_background": "light"
          }
        },
        {
          "output_type": "stream",
          "text": [
            "date_flown\n"
          ],
          "name": "stdout"
        },
        {
          "output_type": "display_data",
          "data": {
            "image/png": "[encoded data removed]",
            "text/plain": [
              "<Figure size 1080x432 with 1 Axes>"
            ]
          },
          "metadata": {
            "tags": [],
            "needs_background": "light"
          }
        },
        {
          "output_type": "stream",
          "text": [
            "seat_comfort\n"
          ],
          "name": "stdout"
        },
        {
          "output_type": "display_data",
          "data": {
            "image/png": "[encoded data removed]",
            "text/plain": [
              "<Figure size 1080x432 with 1 Axes>"
            ]
          },
          "metadata": {
            "tags": [],
            "needs_background": "light"
          }
        },
        {
          "output_type": "stream",
          "text": [
            "cabin_service\n"
          ],
          "name": "stdout"
        },
        {
          "output_type": "display_data",
          "data": {
            "image/png": "[encoded data removed]",
            "text/plain": [
              "<Figure size 1080x432 with 1 Axes>"
            ]
          },
          "metadata": {
            "tags": [],
            "needs_background": "light"
          }
        },
        {
          "output_type": "stream",
          "text": [
            "food_bev\n"
          ],
          "name": "stdout"
        },
        {
          "output_type": "display_data",
          "data": {
            "image/png": "[encoded data removed]",
            "text/plain": [
              "<Figure size 1080x432 with 1 Axes>"
            ]
          },
          "metadata": {
            "tags": [],
            "needs_background": "light"
          }
        },
        {
          "output_type": "stream",
          "text": [
            "entertainment\n"
          ],
          "name": "stdout"
        },
        {
          "output_type": "display_data",
          "data": {
            "image/png": "[encoded data removed]",
            "text/plain": [
              "<Figure size 1080x432 with 1 Axes>"
            ]
          },
          "metadata": {
            "tags": [],
            "needs_background": "light"
          }
        },
        {
          "output_type": "stream",
          "text": [
            "ground_service\n"
          ],
          "name": "stdout"
        },
        {
          "output_type": "display_data",
          "data": {
            "image/png": "[encoded data removed]",
            "text/plain": [
              "<Figure size 1080x432 with 1 Axes>"
            ]
          },
          "metadata": {
            "tags": [],
            "needs_background": "light"
          }
        },
        {
          "output_type": "stream",
          "text": [
            "value_for_money\n"
          ],
          "name": "stdout"
        },
        {
          "output_type": "display_data",
          "data": {
            "image/png": "[encoded data removed]",
            "text/plain": [
              "<Figure size 1080x432 with 1 Axes>"
            ]
          },
          "metadata": {
            "tags": [],
            "needs_background": "light"
          }
        }
      ]
    },
    {
      "cell_type": "markdown",
      "metadata": {
        "id": "PDoBDNlPL1mi"
      },
      "source": [
        "###Conclusion of above graphs\n",
        "\n",
        "**Numerical Features**\n",
        "* From all above graphs we can see that when a person have given higher rating then we have also recommended to the  friend.\n",
        "* we can also see some anomilities where a person have given very low rating and still recommended and visa versa.\n",
        "\n",
        "> Overall feature\n",
        " * So one thing we can be sure of that if a person have given an overall rating of less than 2 we wont be recommended.\n",
        " * whereas a person who have given a rating greater than 8 there are high chances that he will recommend.\n",
        "\n",
        "**Categorical Features**\n",
        "> Travel Type\n",
        " * The number of not recommended is higher in all the Travel type class\n",
        " but couple is one class where the diffrence is higher Where as solo class have minimun diffrence.\n",
        " * From above we can conclude that people travelling in groups face more problems than people travelling alone.\n",
        "\n",
        "> Cabin\n",
        " * Economy class is most unsatisfied by the services provided by the airline, thats why majority of them are not recommending.\n",
        "\n",
        "\n"
      ]
    },
    {
      "cell_type": "code",
      "metadata": {
        "id": "RUejYVh3e-Q5"
      },
      "source": [
        "anom = main_df[(main_df['overall']<=2) & (main_df['recommended']=='yes')]\n",
        "anom"
      ],
      "execution_count": null,
      "outputs": []
    },
    {
      "cell_type": "code",
      "metadata": {
        "id": "caHCglE1kWOa"
      },
      "source": [
        ""
      ],
      "execution_count": null,
      "outputs": []
    },
    {
      "cell_type": "code",
      "metadata": {
        "id": "mNKw-sy6kWKU"
      },
      "source": [
        ""
      ],
      "execution_count": null,
      "outputs": []
    },
    {
      "cell_type": "code",
      "metadata": {
        "id": "eUQPaIoDkWFr"
      },
      "source": [
        ""
      ],
      "execution_count": null,
      "outputs": []
    },
    {
      "cell_type": "markdown",
      "metadata": {
        "id": "Pira8BLBtxhx"
      },
      "source": [
        "We can see there are fews rows in which the overall rating is low but people have given high rating in other features, so By this we can understand that these values are incorrect. "
      ]
    },
    {
      "cell_type": "code",
      "metadata": {
        "id": "WQCyqcFPymTa"
      },
      "source": [
        "avg_df= main_df.copy()"
      ],
      "execution_count": null,
      "outputs": []
    },
    {
      "cell_type": "code",
      "metadata": {
        "id": "AZQS4Gr4zBWv"
      },
      "source": [
        "avg_df.columns"
      ],
      "execution_count": null,
      "outputs": []
    },
    {
      "cell_type": "code",
      "metadata": {
        "id": "TH2bFpK5zz7R"
      },
      "source": [
        "avg_df"
      ],
      "execution_count": null,
      "outputs": []
    },
    {
      "cell_type": "code",
      "metadata": {
        "id": "d9sfBQNWWqEn"
      },
      "source": [
        ""
      ],
      "execution_count": null,
      "outputs": []
    },
    {
      "cell_type": "markdown",
      "metadata": {
        "id": "KBjh8ycag1Ji"
      },
      "source": [
        "####When recommended is no "
      ]
    },
    {
      "cell_type": "markdown",
      "metadata": {
        "id": "hQQM6_VldCGb"
      },
      "source": [
        "Here we found all rows which have recommended as no and NaN values in all review columns\n",
        "\n",
        "We will be replacing these NaN values whith 1"
      ]
    },
    {
      "cell_type": "code",
      "metadata": {
        "id": "r9ZnfR6E4Lsn"
      },
      "source": [
        "\n",
        "Nan_no = (main_df['overall'].isna()) & (main_df['recommended']=='no') & (main_df['seat_comfort'].isna()) & (main_df['food_bev'].isna()) & (main_df['entertainment'].isna()) & (main_df['ground_service'].isna() & main_df['value_for_money'].isna())"
      ],
      "execution_count": 24,
      "outputs": []
    },
    {
      "cell_type": "code",
      "metadata": {
        "id": "n1TaXxZWdwql"
      },
      "source": [
        "# fill Nan values by 1\n",
        "main_df.loc[Nan_no,['overall','seat_comfort','food_bev','entertainment','ground_service','value_for_money','cabin_service']] = main_df.loc[Nan_no,['overall','seat_comfort','food_bev','entertainment','ground_service','value_for_money','cabin_service']].fillna(1)"
      ],
      "execution_count": 25,
      "outputs": []
    },
    {
      "cell_type": "code",
      "metadata": {
        "colab": {
          "base_uri": "https://localhost:8080/",
          "height": 813
        },
        "id": "AFRN_RZpdwDC",
        "outputId": "7a639d35-912b-4eab-a322-9021f7119dd3"
      },
      "source": [
        "main_df.loc[Nan_no]"
      ],
      "execution_count": 26,
      "outputs": [
        {
          "output_type": "execute_result",
          "data": {
            "text/html": [
              "<div>\n",
              "<style scoped>\n",
              "    .dataframe tbody tr th:only-of-type {\n",
              "        vertical-align: middle;\n",
              "    }\n",
              "\n",
              "    .dataframe tbody tr th {\n",
              "        vertical-align: top;\n",
              "    }\n",
              "\n",
              "    .dataframe thead th {\n",
              "        text-align: right;\n",
              "    }\n",
              "</style>\n",
              "<table border=\"1\" class=\"dataframe\">\n",
              "  <thead>\n",
              "    <tr style=\"text-align: right;\">\n",
              "      <th></th>\n",
              "      <th>airline</th>\n",
              "      <th>overall</th>\n",
              "      <th>author</th>\n",
              "      <th>review_date</th>\n",
              "      <th>customer_review</th>\n",
              "      <th>traveller_type</th>\n",
              "      <th>cabin</th>\n",
              "      <th>route</th>\n",
              "      <th>date_flown</th>\n",
              "      <th>seat_comfort</th>\n",
              "      <th>cabin_service</th>\n",
              "      <th>food_bev</th>\n",
              "      <th>entertainment</th>\n",
              "      <th>ground_service</th>\n",
              "      <th>value_for_money</th>\n",
              "      <th>recommended</th>\n",
              "    </tr>\n",
              "  </thead>\n",
              "  <tbody>\n",
              "    <tr>\n",
              "      <th>13705</th>\n",
              "      <td>KLM Royal Dutch Airlines</td>\n",
              "      <td>1.0</td>\n",
              "      <td>Martin Webber</td>\n",
              "      <td>22nd October 2014</td>\n",
              "      <td>Having booked a series of long-haul Business C...</td>\n",
              "      <td>NaN</td>\n",
              "      <td>Business Class</td>\n",
              "      <td>NaN</td>\n",
              "      <td>NaN</td>\n",
              "      <td>1.0</td>\n",
              "      <td>1.0</td>\n",
              "      <td>1.0</td>\n",
              "      <td>1.0</td>\n",
              "      <td>1.0</td>\n",
              "      <td>1.0</td>\n",
              "      <td>no</td>\n",
              "    </tr>\n",
              "    <tr>\n",
              "      <th>13775</th>\n",
              "      <td>KLM Royal Dutch Airlines</td>\n",
              "      <td>1.0</td>\n",
              "      <td>H Henry</td>\n",
              "      <td>6th August 2014</td>\n",
              "      <td>Amsterdam to LHR - travelled on KLM after 14 y...</td>\n",
              "      <td>NaN</td>\n",
              "      <td>Business Class</td>\n",
              "      <td>NaN</td>\n",
              "      <td>NaN</td>\n",
              "      <td>1.0</td>\n",
              "      <td>1.0</td>\n",
              "      <td>1.0</td>\n",
              "      <td>1.0</td>\n",
              "      <td>1.0</td>\n",
              "      <td>1.0</td>\n",
              "      <td>no</td>\n",
              "    </tr>\n",
              "    <tr>\n",
              "      <th>14435</th>\n",
              "      <td>Virgin America</td>\n",
              "      <td>1.0</td>\n",
              "      <td>Kathleen Daley</td>\n",
              "      <td>24th February 2015</td>\n",
              "      <td>I was sending 3 people out to Los Angeles for ...</td>\n",
              "      <td>NaN</td>\n",
              "      <td>Economy Class</td>\n",
              "      <td>NaN</td>\n",
              "      <td>NaN</td>\n",
              "      <td>1.0</td>\n",
              "      <td>1.0</td>\n",
              "      <td>1.0</td>\n",
              "      <td>1.0</td>\n",
              "      <td>1.0</td>\n",
              "      <td>1.0</td>\n",
              "      <td>no</td>\n",
              "    </tr>\n",
              "    <tr>\n",
              "      <th>23085</th>\n",
              "      <td>Delta Air Lines</td>\n",
              "      <td>1.0</td>\n",
              "      <td>Kyle Martin</td>\n",
              "      <td>10th December 2014</td>\n",
              "      <td>I have been flying Delta for years (several wi...</td>\n",
              "      <td>NaN</td>\n",
              "      <td>Economy Class</td>\n",
              "      <td>NaN</td>\n",
              "      <td>NaN</td>\n",
              "      <td>1.0</td>\n",
              "      <td>1.0</td>\n",
              "      <td>1.0</td>\n",
              "      <td>1.0</td>\n",
              "      <td>1.0</td>\n",
              "      <td>1.0</td>\n",
              "      <td>no</td>\n",
              "    </tr>\n",
              "    <tr>\n",
              "      <th>23179</th>\n",
              "      <td>Delta Air Lines</td>\n",
              "      <td>1.0</td>\n",
              "      <td>C Tellefsen</td>\n",
              "      <td>14th September 2014</td>\n",
              "      <td>I keep making the mistake of choosing Delta. I...</td>\n",
              "      <td>NaN</td>\n",
              "      <td>Economy Class</td>\n",
              "      <td>NaN</td>\n",
              "      <td>NaN</td>\n",
              "      <td>1.0</td>\n",
              "      <td>1.0</td>\n",
              "      <td>1.0</td>\n",
              "      <td>1.0</td>\n",
              "      <td>1.0</td>\n",
              "      <td>1.0</td>\n",
              "      <td>no</td>\n",
              "    </tr>\n",
              "    <tr>\n",
              "      <th>...</th>\n",
              "      <td>...</td>\n",
              "      <td>...</td>\n",
              "      <td>...</td>\n",
              "      <td>...</td>\n",
              "      <td>...</td>\n",
              "      <td>...</td>\n",
              "      <td>...</td>\n",
              "      <td>...</td>\n",
              "      <td>...</td>\n",
              "      <td>...</td>\n",
              "      <td>...</td>\n",
              "      <td>...</td>\n",
              "      <td>...</td>\n",
              "      <td>...</td>\n",
              "      <td>...</td>\n",
              "      <td>...</td>\n",
              "    </tr>\n",
              "    <tr>\n",
              "      <th>131886</th>\n",
              "      <td>Ukraine International</td>\n",
              "      <td>1.0</td>\n",
              "      <td>Yevheniy Kahanovych</td>\n",
              "      <td>21st January 2007</td>\n",
              "      <td>Two domestic flights between Kiev and Lviv las...</td>\n",
              "      <td>NaN</td>\n",
              "      <td>NaN</td>\n",
              "      <td>NaN</td>\n",
              "      <td>NaN</td>\n",
              "      <td>1.0</td>\n",
              "      <td>1.0</td>\n",
              "      <td>1.0</td>\n",
              "      <td>1.0</td>\n",
              "      <td>1.0</td>\n",
              "      <td>1.0</td>\n",
              "      <td>no</td>\n",
              "    </tr>\n",
              "    <tr>\n",
              "      <th>131888</th>\n",
              "      <td>Ukraine International</td>\n",
              "      <td>1.0</td>\n",
              "      <td>Helen Lee</td>\n",
              "      <td>15th December 2006</td>\n",
              "      <td>I had a good flight from London to Kiev with U...</td>\n",
              "      <td>NaN</td>\n",
              "      <td>NaN</td>\n",
              "      <td>NaN</td>\n",
              "      <td>NaN</td>\n",
              "      <td>1.0</td>\n",
              "      <td>1.0</td>\n",
              "      <td>1.0</td>\n",
              "      <td>1.0</td>\n",
              "      <td>1.0</td>\n",
              "      <td>1.0</td>\n",
              "      <td>no</td>\n",
              "    </tr>\n",
              "    <tr>\n",
              "      <th>131890</th>\n",
              "      <td>Ukraine International</td>\n",
              "      <td>1.0</td>\n",
              "      <td>Andriy Yesypenko</td>\n",
              "      <td>19th May 2006</td>\n",
              "      <td>Kiev - London (Gatwick) in business class (in ...</td>\n",
              "      <td>NaN</td>\n",
              "      <td>NaN</td>\n",
              "      <td>NaN</td>\n",
              "      <td>NaN</td>\n",
              "      <td>1.0</td>\n",
              "      <td>1.0</td>\n",
              "      <td>1.0</td>\n",
              "      <td>1.0</td>\n",
              "      <td>1.0</td>\n",
              "      <td>1.0</td>\n",
              "      <td>no</td>\n",
              "    </tr>\n",
              "    <tr>\n",
              "      <th>131892</th>\n",
              "      <td>Ukraine International</td>\n",
              "      <td>1.0</td>\n",
              "      <td>Volodya Bilotkach</td>\n",
              "      <td>29th April 2006</td>\n",
              "      <td>Several flights - KBP to AMS (3 times one way)...</td>\n",
              "      <td>NaN</td>\n",
              "      <td>NaN</td>\n",
              "      <td>NaN</td>\n",
              "      <td>NaN</td>\n",
              "      <td>1.0</td>\n",
              "      <td>1.0</td>\n",
              "      <td>1.0</td>\n",
              "      <td>1.0</td>\n",
              "      <td>1.0</td>\n",
              "      <td>1.0</td>\n",
              "      <td>no</td>\n",
              "    </tr>\n",
              "    <tr>\n",
              "      <th>131894</th>\n",
              "      <td>Ukraine International</td>\n",
              "      <td>1.0</td>\n",
              "      <td>Kasper Hettinga</td>\n",
              "      <td>10th February 2006</td>\n",
              "      <td>KBP-AMS with UIA. Although it was a relatively...</td>\n",
              "      <td>NaN</td>\n",
              "      <td>NaN</td>\n",
              "      <td>NaN</td>\n",
              "      <td>NaN</td>\n",
              "      <td>1.0</td>\n",
              "      <td>1.0</td>\n",
              "      <td>1.0</td>\n",
              "      <td>1.0</td>\n",
              "      <td>1.0</td>\n",
              "      <td>1.0</td>\n",
              "      <td>no</td>\n",
              "    </tr>\n",
              "  </tbody>\n",
              "</table>\n",
              "<p>138 rows × 16 columns</p>\n",
              "</div>"
            ],
            "text/plain": [
              "                         airline  overall  ... value_for_money recommended\n",
              "13705   KLM Royal Dutch Airlines      1.0  ...             1.0          no\n",
              "13775   KLM Royal Dutch Airlines      1.0  ...             1.0          no\n",
              "14435             Virgin America      1.0  ...             1.0          no\n",
              "23085            Delta Air Lines      1.0  ...             1.0          no\n",
              "23179            Delta Air Lines      1.0  ...             1.0          no\n",
              "...                          ...      ...  ...             ...         ...\n",
              "131886     Ukraine International      1.0  ...             1.0          no\n",
              "131888     Ukraine International      1.0  ...             1.0          no\n",
              "131890     Ukraine International      1.0  ...             1.0          no\n",
              "131892     Ukraine International      1.0  ...             1.0          no\n",
              "131894     Ukraine International      1.0  ...             1.0          no\n",
              "\n",
              "[138 rows x 16 columns]"
            ]
          },
          "metadata": {
            "tags": []
          },
          "execution_count": 26
        }
      ]
    },
    {
      "cell_type": "markdown",
      "metadata": {
        "id": "pxawL2RFhftV"
      },
      "source": [
        "#### When recommended is YES\n",
        "\n",
        "The numerical features are having NaN values\n",
        "\n",
        "Replacing those NaN values to a valid value on the bases of recommended column"
      ]
    },
    {
      "cell_type": "code",
      "metadata": {
        "id": "x7cuwfbThnjm"
      },
      "source": [
        "Nan_yes=(main_df['overall'].isna()) & (main_df['recommended']=='yes') & (main_df['seat_comfort'].isna()) & (main_df['food_bev'].isna()) & (main_df['entertainment'].isna()) & (main_df['ground_service'].isna() & main_df['value_for_money'].isna())"
      ],
      "execution_count": 27,
      "outputs": []
    },
    {
      "cell_type": "code",
      "metadata": {
        "id": "OPzrG3lvivLY"
      },
      "source": [
        "# fillinng Nan vaues by 10\n",
        "main_df.loc[Nan_yes,['overall','seat_comfort','food_bev','entertainment','ground_service','value_for_money','cabin_service']] =main_df.loc[Nan_yes,['overall','seat_comfort','food_bev','entertainment','ground_service','value_for_money','cabin_service']].fillna(10)"
      ],
      "execution_count": 28,
      "outputs": []
    },
    {
      "cell_type": "markdown",
      "metadata": {
        "id": "4Pa2GzUVz0dT"
      },
      "source": [
        "### Replacing NaN values\n",
        "In numerical features apart from overall feature to median values of respected features"
      ]
    },
    {
      "cell_type": "code",
      "metadata": {
        "id": "UO99ij4TrS3N"
      },
      "source": [
        "main_df[['seat_comfort','food_bev','entertainment','ground_service','value_for_money','cabin_service']] = main_df[['seat_comfort','food_bev','entertainment','ground_service','value_for_money','cabin_service']].fillna(main_df[['seat_comfort','food_bev','entertainment','ground_service','value_for_money','cabin_service']].median())"
      ],
      "execution_count": 29,
      "outputs": []
    },
    {
      "cell_type": "code",
      "metadata": {
        "colab": {
          "base_uri": "https://localhost:8080/"
        },
        "id": "fFekAt6v29ra",
        "outputId": "b7ed5a46-917f-4166-fe3d-cb99eb825d0f"
      },
      "source": [
        "main_df.isna().sum()"
      ],
      "execution_count": 40,
      "outputs": [
        {
          "output_type": "execute_result",
          "data": {
            "text/plain": [
              "airline                0\n",
              "overall                0\n",
              "author                 0\n",
              "review_date            0\n",
              "customer_review        0\n",
              "traveller_type     23643\n",
              "cabin               2478\n",
              "route              23670\n",
              "date_flown         23749\n",
              "seat_comfort           0\n",
              "cabin_service          0\n",
              "food_bev               0\n",
              "entertainment          0\n",
              "ground_service         0\n",
              "value_for_money        0\n",
              "recommended         1422\n",
              "Avg_num                0\n",
              "dtype: int64"
            ]
          },
          "metadata": {
            "tags": []
          },
          "execution_count": 40
        }
      ]
    },
    {
      "cell_type": "markdown",
      "metadata": {
        "id": "vEkwwBOm4VJb"
      },
      "source": [
        "###Creating a Average column\n",
        "which have avrg score of (all numerical features except overall)"
      ]
    },
    {
      "cell_type": "code",
      "metadata": {
        "id": "DWOW5jSsrgxo"
      },
      "source": [
        "main_df['Avg_num']= (main_df['seat_comfort']+ main_df['cabin_service']+ main_df['food_bev']+main_df['entertainment']+main_df['ground_service']+main_df['value_for_money'])//6"
      ],
      "execution_count": 31,
      "outputs": []
    },
    {
      "cell_type": "markdown",
      "metadata": {
        "id": "oBlFOCRRg9Iz"
      },
      "source": [
        "### Finding NaN in overall feature\n",
        "We will be replacing all Nan values in overall feature by avg colummn"
      ]
    },
    {
      "cell_type": "code",
      "metadata": {
        "id": "Rxj79ghOhmSa"
      },
      "source": [
        "m=(main_df['overall'].isna())"
      ],
      "execution_count": 38,
      "outputs": []
    },
    {
      "cell_type": "code",
      "metadata": {
        "id": "lbAXVU5zhmFr"
      },
      "source": [
        "main_df.loc[m,'overall']= main_df.loc[m,'Avg_num']*2"
      ],
      "execution_count": 39,
      "outputs": []
    },
    {
      "cell_type": "markdown",
      "metadata": {
        "id": "Q0GPiA40rTYR"
      },
      "source": [
        "### finding anomaly in overall feature with respect to recommended"
      ]
    },
    {
      "cell_type": "markdown",
      "metadata": {
        "id": "fnzs5f9jhr5K"
      },
      "source": [
        "Finding overall values which are wrongly classified as (1,2) where there average is higher than 2.\n",
        "\n",
        "Replacing these values as 2* avg_value\n",
        "\n"
      ]
    },
    {
      "cell_type": "code",
      "metadata": {
        "id": "zEI3_KYkUr9f"
      },
      "source": [
        "wrong_overall = (main_df['Avg_num']>2) & (main_df['recommended']=='yes') & (main_df['overall']<=2)"
      ],
      "execution_count": 32,
      "outputs": []
    },
    {
      "cell_type": "code",
      "metadata": {
        "id": "yUti2OdUppQi"
      },
      "source": [
        "# replacing overall value to 2* avg value\n",
        "main_df.loc[wrong_overall,'overall'] = main_df.loc[wrong_overall,'Avg_num']*2 "
      ],
      "execution_count": 33,
      "outputs": []
    },
    {
      "cell_type": "code",
      "metadata": {
        "colab": {
          "base_uri": "https://localhost:8080/",
          "height": 1000
        },
        "id": "zMF720zDpozr",
        "outputId": "0c3fc284-5698-412f-8626-d4eaa64c139e"
      },
      "source": [
        "main_df[(main_df['overall']< 2) & (main_df['recommended']=='yes')]"
      ],
      "execution_count": 34,
      "outputs": [
        {
          "output_type": "execute_result",
          "data": {
            "text/html": [
              "<div>\n",
              "<style scoped>\n",
              "    .dataframe tbody tr th:only-of-type {\n",
              "        vertical-align: middle;\n",
              "    }\n",
              "\n",
              "    .dataframe tbody tr th {\n",
              "        vertical-align: top;\n",
              "    }\n",
              "\n",
              "    .dataframe thead th {\n",
              "        text-align: right;\n",
              "    }\n",
              "</style>\n",
              "<table border=\"1\" class=\"dataframe\">\n",
              "  <thead>\n",
              "    <tr style=\"text-align: right;\">\n",
              "      <th></th>\n",
              "      <th>airline</th>\n",
              "      <th>overall</th>\n",
              "      <th>author</th>\n",
              "      <th>review_date</th>\n",
              "      <th>customer_review</th>\n",
              "      <th>traveller_type</th>\n",
              "      <th>cabin</th>\n",
              "      <th>route</th>\n",
              "      <th>date_flown</th>\n",
              "      <th>seat_comfort</th>\n",
              "      <th>cabin_service</th>\n",
              "      <th>food_bev</th>\n",
              "      <th>entertainment</th>\n",
              "      <th>ground_service</th>\n",
              "      <th>value_for_money</th>\n",
              "      <th>recommended</th>\n",
              "      <th>Avg_num</th>\n",
              "    </tr>\n",
              "  </thead>\n",
              "  <tbody>\n",
              "    <tr>\n",
              "      <th>1453</th>\n",
              "      <td>Turkish Airlines</td>\n",
              "      <td>1.0</td>\n",
              "      <td>Nagasaki Erico</td>\n",
              "      <td>28th February 2016</td>\n",
              "      <td>25 hours before the departure, Turkish Airline...</td>\n",
              "      <td>Solo Leisure</td>\n",
              "      <td>Business Class</td>\n",
              "      <td>NRT to ARN via IST</td>\n",
              "      <td>February 2016</td>\n",
              "      <td>3.0</td>\n",
              "      <td>3.0</td>\n",
              "      <td>3.0</td>\n",
              "      <td>3.0</td>\n",
              "      <td>1.0</td>\n",
              "      <td>1.0</td>\n",
              "      <td>yes</td>\n",
              "      <td>2.0</td>\n",
              "    </tr>\n",
              "    <tr>\n",
              "      <th>1657</th>\n",
              "      <td>Turkish Airlines</td>\n",
              "      <td>1.0</td>\n",
              "      <td>T Tichelmann</td>\n",
              "      <td>4th January 2016</td>\n",
              "      <td>Dublin to Jakarta via Istanbul. A total shambl...</td>\n",
              "      <td>Solo Leisure</td>\n",
              "      <td>Business Class</td>\n",
              "      <td>DUB to CGK via IST</td>\n",
              "      <td>December 2015</td>\n",
              "      <td>1.0</td>\n",
              "      <td>2.0</td>\n",
              "      <td>2.0</td>\n",
              "      <td>1.0</td>\n",
              "      <td>1.0</td>\n",
              "      <td>2.0</td>\n",
              "      <td>yes</td>\n",
              "      <td>1.0</td>\n",
              "    </tr>\n",
              "    <tr>\n",
              "      <th>7231</th>\n",
              "      <td>Emirates</td>\n",
              "      <td>1.0</td>\n",
              "      <td>A Danal</td>\n",
              "      <td>22nd October 2016</td>\n",
              "      <td>âœ… Verified Review | I have been flying with ...</td>\n",
              "      <td>Business</td>\n",
              "      <td>Business Class</td>\n",
              "      <td>DXB to MAN</td>\n",
              "      <td>September 2016</td>\n",
              "      <td>4.0</td>\n",
              "      <td>1.0</td>\n",
              "      <td>3.0</td>\n",
              "      <td>1.0</td>\n",
              "      <td>5.0</td>\n",
              "      <td>1.0</td>\n",
              "      <td>yes</td>\n",
              "      <td>2.0</td>\n",
              "    </tr>\n",
              "    <tr>\n",
              "      <th>7235</th>\n",
              "      <td>Emirates</td>\n",
              "      <td>1.0</td>\n",
              "      <td>Richard Woodhead</td>\n",
              "      <td>21st October 2016</td>\n",
              "      <td>âœ… Verified Review | Bangkok to Hong Kong and...</td>\n",
              "      <td>Family Leisure</td>\n",
              "      <td>Economy Class</td>\n",
              "      <td>BKK to HKG</td>\n",
              "      <td>October 2016</td>\n",
              "      <td>3.0</td>\n",
              "      <td>2.0</td>\n",
              "      <td>1.0</td>\n",
              "      <td>4.0</td>\n",
              "      <td>2.0</td>\n",
              "      <td>4.0</td>\n",
              "      <td>yes</td>\n",
              "      <td>2.0</td>\n",
              "    </tr>\n",
              "    <tr>\n",
              "      <th>7359</th>\n",
              "      <td>Emirates</td>\n",
              "      <td>1.0</td>\n",
              "      <td>A Anderson</td>\n",
              "      <td>9th August 2016</td>\n",
              "      <td>âœ… Verified Review | The car arrived at our S...</td>\n",
              "      <td>Couple Leisure</td>\n",
              "      <td>Business Class</td>\n",
              "      <td>SIN to GLA via DXB</td>\n",
              "      <td>August 2016</td>\n",
              "      <td>1.0</td>\n",
              "      <td>1.0</td>\n",
              "      <td>2.0</td>\n",
              "      <td>2.0</td>\n",
              "      <td>1.0</td>\n",
              "      <td>1.0</td>\n",
              "      <td>yes</td>\n",
              "      <td>1.0</td>\n",
              "    </tr>\n",
              "    <tr>\n",
              "      <th>10449</th>\n",
              "      <td>Lufthansa</td>\n",
              "      <td>1.0</td>\n",
              "      <td>T Eldem</td>\n",
              "      <td>10th January 2017</td>\n",
              "      <td>âœ… Verified Review | Ankara to Munich on Luft...</td>\n",
              "      <td>Family Leisure</td>\n",
              "      <td>Business Class</td>\n",
              "      <td>ESB to MUC</td>\n",
              "      <td>January 2017</td>\n",
              "      <td>2.0</td>\n",
              "      <td>4.0</td>\n",
              "      <td>1.0</td>\n",
              "      <td>3.0</td>\n",
              "      <td>2.0</td>\n",
              "      <td>1.0</td>\n",
              "      <td>yes</td>\n",
              "      <td>2.0</td>\n",
              "    </tr>\n",
              "    <tr>\n",
              "      <th>12583</th>\n",
              "      <td>KLM Royal Dutch Airlines</td>\n",
              "      <td>1.0</td>\n",
              "      <td>R Jackson</td>\n",
              "      <td>7th June 2018</td>\n",
              "      <td>âœ… Trip Verified | Flew KLM from Amsterdam to...</td>\n",
              "      <td>Business</td>\n",
              "      <td>Economy Class</td>\n",
              "      <td>Amsterdam to Nice</td>\n",
              "      <td>June 2018</td>\n",
              "      <td>3.0</td>\n",
              "      <td>1.0</td>\n",
              "      <td>1.0</td>\n",
              "      <td>1.0</td>\n",
              "      <td>1.0</td>\n",
              "      <td>1.0</td>\n",
              "      <td>yes</td>\n",
              "      <td>1.0</td>\n",
              "    </tr>\n",
              "    <tr>\n",
              "      <th>16125</th>\n",
              "      <td>American Airlines</td>\n",
              "      <td>1.0</td>\n",
              "      <td>Jim N Nieman</td>\n",
              "      <td>29th July 2018</td>\n",
              "      <td>Not Verified | Worst customer service ever. Th...</td>\n",
              "      <td>Couple Leisure</td>\n",
              "      <td>Economy Class</td>\n",
              "      <td>Newark to Charlotte</td>\n",
              "      <td>July 2018</td>\n",
              "      <td>1.0</td>\n",
              "      <td>1.0</td>\n",
              "      <td>3.0</td>\n",
              "      <td>3.0</td>\n",
              "      <td>1.0</td>\n",
              "      <td>1.0</td>\n",
              "      <td>yes</td>\n",
              "      <td>1.0</td>\n",
              "    </tr>\n",
              "    <tr>\n",
              "      <th>16437</th>\n",
              "      <td>American Airlines</td>\n",
              "      <td>1.0</td>\n",
              "      <td>J Pace</td>\n",
              "      <td>2nd June 2018</td>\n",
              "      <td>âœ… Trip Verified | Cincinnati to Fort Walton ...</td>\n",
              "      <td>Business</td>\n",
              "      <td>Economy Class</td>\n",
              "      <td>Cincinnati to Fort Walton Beach</td>\n",
              "      <td>June 2018</td>\n",
              "      <td>3.0</td>\n",
              "      <td>3.0</td>\n",
              "      <td>3.0</td>\n",
              "      <td>3.0</td>\n",
              "      <td>1.0</td>\n",
              "      <td>3.0</td>\n",
              "      <td>yes</td>\n",
              "      <td>2.0</td>\n",
              "    </tr>\n",
              "    <tr>\n",
              "      <th>16579</th>\n",
              "      <td>American Airlines</td>\n",
              "      <td>1.0</td>\n",
              "      <td>Simon Ouellette</td>\n",
              "      <td>2nd May 2018</td>\n",
              "      <td>âœ… Trip Verified | Maui to Regina via Phoenix...</td>\n",
              "      <td>Couple Leisure</td>\n",
              "      <td>Economy Class</td>\n",
              "      <td>Maui to Regina via Phoenix/Calgary</td>\n",
              "      <td>February 2018</td>\n",
              "      <td>1.0</td>\n",
              "      <td>2.0</td>\n",
              "      <td>1.0</td>\n",
              "      <td>2.0</td>\n",
              "      <td>1.0</td>\n",
              "      <td>1.0</td>\n",
              "      <td>yes</td>\n",
              "      <td>1.0</td>\n",
              "    </tr>\n",
              "    <tr>\n",
              "      <th>16937</th>\n",
              "      <td>American Airlines</td>\n",
              "      <td>1.0</td>\n",
              "      <td>Paula Souza</td>\n",
              "      <td>3rd January 2018</td>\n",
              "      <td>â Not Verified | My husband and I came from ...</td>\n",
              "      <td>Couple Leisure</td>\n",
              "      <td>Economy Class</td>\n",
              "      <td>New York to Detroit</td>\n",
              "      <td>January 2018</td>\n",
              "      <td>3.0</td>\n",
              "      <td>3.0</td>\n",
              "      <td>3.0</td>\n",
              "      <td>3.0</td>\n",
              "      <td>1.0</td>\n",
              "      <td>3.0</td>\n",
              "      <td>yes</td>\n",
              "      <td>2.0</td>\n",
              "    </tr>\n",
              "    <tr>\n",
              "      <th>19213</th>\n",
              "      <td>American Airlines</td>\n",
              "      <td>1.0</td>\n",
              "      <td>Paul Turner</td>\n",
              "      <td>17th September 2015</td>\n",
              "      <td>I have only flown American Airlines twice, onc...</td>\n",
              "      <td>Solo Leisure</td>\n",
              "      <td>Economy Class</td>\n",
              "      <td>PBI to DFW</td>\n",
              "      <td>August 2015</td>\n",
              "      <td>2.0</td>\n",
              "      <td>1.0</td>\n",
              "      <td>3.0</td>\n",
              "      <td>3.0</td>\n",
              "      <td>1.0</td>\n",
              "      <td>1.0</td>\n",
              "      <td>yes</td>\n",
              "      <td>1.0</td>\n",
              "    </tr>\n",
              "    <tr>\n",
              "      <th>21243</th>\n",
              "      <td>Delta Air Lines</td>\n",
              "      <td>1.0</td>\n",
              "      <td>Kevin Boyd</td>\n",
              "      <td>7th June 2018</td>\n",
              "      <td>Not Verified | Kahului to Los Angeles. 7 month...</td>\n",
              "      <td>Couple Leisure</td>\n",
              "      <td>First Class</td>\n",
              "      <td>Kahului to Los Angeles</td>\n",
              "      <td>June 2018</td>\n",
              "      <td>3.0</td>\n",
              "      <td>3.0</td>\n",
              "      <td>3.0</td>\n",
              "      <td>3.0</td>\n",
              "      <td>2.0</td>\n",
              "      <td>1.0</td>\n",
              "      <td>yes</td>\n",
              "      <td>2.0</td>\n",
              "    </tr>\n",
              "    <tr>\n",
              "      <th>21657</th>\n",
              "      <td>Delta Air Lines</td>\n",
              "      <td>1.0</td>\n",
              "      <td>Judith Thoby</td>\n",
              "      <td>19th September 2017</td>\n",
              "      <td>âœ… Verified Review | New York JFK to Ft Laude...</td>\n",
              "      <td>Solo Leisure</td>\n",
              "      <td>Economy Class</td>\n",
              "      <td>New York JFK to Ft Lauderdale</td>\n",
              "      <td>June 2017</td>\n",
              "      <td>1.0</td>\n",
              "      <td>1.0</td>\n",
              "      <td>3.0</td>\n",
              "      <td>5.0</td>\n",
              "      <td>1.0</td>\n",
              "      <td>1.0</td>\n",
              "      <td>yes</td>\n",
              "      <td>2.0</td>\n",
              "    </tr>\n",
              "    <tr>\n",
              "      <th>24237</th>\n",
              "      <td>Southwest Airlines</td>\n",
              "      <td>1.0</td>\n",
              "      <td>D Barceso</td>\n",
              "      <td>20th January 2018</td>\n",
              "      <td>âœ… Trip Verified | Phoenix to Atlanta. This w...</td>\n",
              "      <td>Solo Leisure</td>\n",
              "      <td>Economy Class</td>\n",
              "      <td>Phoenix to Atlanta</td>\n",
              "      <td>January 2018</td>\n",
              "      <td>1.0</td>\n",
              "      <td>5.0</td>\n",
              "      <td>3.0</td>\n",
              "      <td>3.0</td>\n",
              "      <td>3.0</td>\n",
              "      <td>1.0</td>\n",
              "      <td>yes</td>\n",
              "      <td>2.0</td>\n",
              "    </tr>\n",
              "    <tr>\n",
              "      <th>25633</th>\n",
              "      <td>United Airlines</td>\n",
              "      <td>1.0</td>\n",
              "      <td>Guido Kraus</td>\n",
              "      <td>14th April 2019</td>\n",
              "      <td>Not Verified | Norfolk to Vienna via Washingto...</td>\n",
              "      <td>Family Leisure</td>\n",
              "      <td>Economy Class</td>\n",
              "      <td>Norfolk to Vienna via Washington</td>\n",
              "      <td>January 2019</td>\n",
              "      <td>1.0</td>\n",
              "      <td>1.0</td>\n",
              "      <td>1.0</td>\n",
              "      <td>1.0</td>\n",
              "      <td>1.0</td>\n",
              "      <td>1.0</td>\n",
              "      <td>yes</td>\n",
              "      <td>1.0</td>\n",
              "    </tr>\n",
              "    <tr>\n",
              "      <th>26211</th>\n",
              "      <td>United Airlines</td>\n",
              "      <td>1.0</td>\n",
              "      <td>Joe Seeber</td>\n",
              "      <td>14th November 2018</td>\n",
              "      <td>Not Verified | Charlotte to College Station vi...</td>\n",
              "      <td>Couple Leisure</td>\n",
              "      <td>Economy Class</td>\n",
              "      <td>Charlotte to College Station via Houston</td>\n",
              "      <td>November 2018</td>\n",
              "      <td>1.0</td>\n",
              "      <td>1.0</td>\n",
              "      <td>1.0</td>\n",
              "      <td>3.0</td>\n",
              "      <td>1.0</td>\n",
              "      <td>1.0</td>\n",
              "      <td>yes</td>\n",
              "      <td>1.0</td>\n",
              "    </tr>\n",
              "    <tr>\n",
              "      <th>34277</th>\n",
              "      <td>Aeroflot Russian Airlines</td>\n",
              "      <td>1.0</td>\n",
              "      <td>Jose Bolanos</td>\n",
              "      <td>27th March 2013</td>\n",
              "      <td>Delay of more than 12 hours. Rude and unhelpfu...</td>\n",
              "      <td>NaN</td>\n",
              "      <td>Economy Class</td>\n",
              "      <td>NaN</td>\n",
              "      <td>NaN</td>\n",
              "      <td>3.0</td>\n",
              "      <td>1.0</td>\n",
              "      <td>4.0</td>\n",
              "      <td>3.0</td>\n",
              "      <td>3.0</td>\n",
              "      <td>3.0</td>\n",
              "      <td>yes</td>\n",
              "      <td>2.0</td>\n",
              "    </tr>\n",
              "    <tr>\n",
              "      <th>34777</th>\n",
              "      <td>Aeromexico</td>\n",
              "      <td>1.0</td>\n",
              "      <td>T Pinter</td>\n",
              "      <td>25th December 2016</td>\n",
              "      <td>âœ… Verified Review | Zihuatanejo to Vancouver...</td>\n",
              "      <td>Couple Leisure</td>\n",
              "      <td>First Class</td>\n",
              "      <td>MEX to YVR</td>\n",
              "      <td>December 2016</td>\n",
              "      <td>1.0</td>\n",
              "      <td>3.0</td>\n",
              "      <td>1.0</td>\n",
              "      <td>3.0</td>\n",
              "      <td>3.0</td>\n",
              "      <td>1.0</td>\n",
              "      <td>yes</td>\n",
              "      <td>2.0</td>\n",
              "    </tr>\n",
              "    <tr>\n",
              "      <th>37035</th>\n",
              "      <td>Air Canada</td>\n",
              "      <td>1.0</td>\n",
              "      <td>Brian Jones</td>\n",
              "      <td>11th July 2015</td>\n",
              "      <td>As a UK expat, I've done this route (YVR -LHR)...</td>\n",
              "      <td>Solo Leisure</td>\n",
              "      <td>Economy Class</td>\n",
              "      <td>Vancouver to London via Calgary</td>\n",
              "      <td>June 2015</td>\n",
              "      <td>1.0</td>\n",
              "      <td>3.0</td>\n",
              "      <td>3.0</td>\n",
              "      <td>3.0</td>\n",
              "      <td>3.0</td>\n",
              "      <td>1.0</td>\n",
              "      <td>yes</td>\n",
              "      <td>2.0</td>\n",
              "    </tr>\n",
              "    <tr>\n",
              "      <th>45635</th>\n",
              "      <td>British Airways</td>\n",
              "      <td>1.0</td>\n",
              "      <td>M Williams</td>\n",
              "      <td>15th June 2017</td>\n",
              "      <td>âœ… Verified Review | Awful, cost cutting beyo...</td>\n",
              "      <td>Couple Leisure</td>\n",
              "      <td>Premium Economy</td>\n",
              "      <td>Antigua to Gatwick</td>\n",
              "      <td>June 2017</td>\n",
              "      <td>1.0</td>\n",
              "      <td>1.0</td>\n",
              "      <td>1.0</td>\n",
              "      <td>1.0</td>\n",
              "      <td>1.0</td>\n",
              "      <td>1.0</td>\n",
              "      <td>yes</td>\n",
              "      <td>1.0</td>\n",
              "    </tr>\n",
              "    <tr>\n",
              "      <th>45647</th>\n",
              "      <td>British Airways</td>\n",
              "      <td>1.0</td>\n",
              "      <td>M Williams</td>\n",
              "      <td>12th June 2017</td>\n",
              "      <td>âœ… Verified Review | Gatwick to Bordeaux. Awf...</td>\n",
              "      <td>Couple Leisure</td>\n",
              "      <td>Economy Class</td>\n",
              "      <td>Gatwick to Bordeaux</td>\n",
              "      <td>January 2017</td>\n",
              "      <td>1.0</td>\n",
              "      <td>2.0</td>\n",
              "      <td>1.0</td>\n",
              "      <td>3.0</td>\n",
              "      <td>1.0</td>\n",
              "      <td>1.0</td>\n",
              "      <td>yes</td>\n",
              "      <td>1.0</td>\n",
              "    </tr>\n",
              "    <tr>\n",
              "      <th>47877</th>\n",
              "      <td>British Airways</td>\n",
              "      <td>1.0</td>\n",
              "      <td>Philip Sharp</td>\n",
              "      <td>15th September 2015</td>\n",
              "      <td>British Airways lost case by labeling my case ...</td>\n",
              "      <td>Couple Leisure</td>\n",
              "      <td>Economy Class</td>\n",
              "      <td>Heathrow to Amsterdam</td>\n",
              "      <td>August 2015</td>\n",
              "      <td>2.0</td>\n",
              "      <td>2.0</td>\n",
              "      <td>3.0</td>\n",
              "      <td>3.0</td>\n",
              "      <td>1.0</td>\n",
              "      <td>1.0</td>\n",
              "      <td>yes</td>\n",
              "      <td>2.0</td>\n",
              "    </tr>\n",
              "    <tr>\n",
              "      <th>66073</th>\n",
              "      <td>Qantas Airways</td>\n",
              "      <td>1.0</td>\n",
              "      <td>Simon Amer</td>\n",
              "      <td>16th April 2017</td>\n",
              "      <td>âœ… Verified Review | Hong Kong to Sydney. I b...</td>\n",
              "      <td>Couple Leisure</td>\n",
              "      <td>Business Class</td>\n",
              "      <td>Hong Kong to Sydney</td>\n",
              "      <td>April 2017</td>\n",
              "      <td>1.0</td>\n",
              "      <td>4.0</td>\n",
              "      <td>2.0</td>\n",
              "      <td>3.0</td>\n",
              "      <td>2.0</td>\n",
              "      <td>1.0</td>\n",
              "      <td>yes</td>\n",
              "      <td>2.0</td>\n",
              "    </tr>\n",
              "    <tr>\n",
              "      <th>67743</th>\n",
              "      <td>Qantas Airways</td>\n",
              "      <td>1.0</td>\n",
              "      <td>R Young</td>\n",
              "      <td>2nd January 2014</td>\n",
              "      <td>JNB-SYD in Business Class in 747 400. The flig...</td>\n",
              "      <td>NaN</td>\n",
              "      <td>Business Class</td>\n",
              "      <td>NaN</td>\n",
              "      <td>NaN</td>\n",
              "      <td>4.0</td>\n",
              "      <td>1.0</td>\n",
              "      <td>2.0</td>\n",
              "      <td>4.0</td>\n",
              "      <td>3.0</td>\n",
              "      <td>1.0</td>\n",
              "      <td>yes</td>\n",
              "      <td>2.0</td>\n",
              "    </tr>\n",
              "    <tr>\n",
              "      <th>73769</th>\n",
              "      <td>Ryanair</td>\n",
              "      <td>1.0</td>\n",
              "      <td>L Marsh</td>\n",
              "      <td>8th December 2018</td>\n",
              "      <td>Not Verified | Stansted to Belfast. We had to ...</td>\n",
              "      <td>Couple Leisure</td>\n",
              "      <td>Economy Class</td>\n",
              "      <td>Stansted to Belfast</td>\n",
              "      <td>December 2018</td>\n",
              "      <td>3.0</td>\n",
              "      <td>3.0</td>\n",
              "      <td>3.0</td>\n",
              "      <td>3.0</td>\n",
              "      <td>3.0</td>\n",
              "      <td>1.0</td>\n",
              "      <td>yes</td>\n",
              "      <td>2.0</td>\n",
              "    </tr>\n",
              "    <tr>\n",
              "      <th>83943</th>\n",
              "      <td>SAS Scandinavian</td>\n",
              "      <td>1.0</td>\n",
              "      <td>M Barlem</td>\n",
              "      <td>21st November 2018</td>\n",
              "      <td>âœ… Trip Verified | Stockholm to Berlin. I am ...</td>\n",
              "      <td>Business</td>\n",
              "      <td>Economy Class</td>\n",
              "      <td>Stockholm to Berlin</td>\n",
              "      <td>November 2018</td>\n",
              "      <td>4.0</td>\n",
              "      <td>1.0</td>\n",
              "      <td>3.0</td>\n",
              "      <td>3.0</td>\n",
              "      <td>3.0</td>\n",
              "      <td>1.0</td>\n",
              "      <td>yes</td>\n",
              "      <td>2.0</td>\n",
              "    </tr>\n",
              "    <tr>\n",
              "      <th>106738</th>\n",
              "      <td>Spirit Airlines</td>\n",
              "      <td>1.0</td>\n",
              "      <td>C Meares</td>\n",
              "      <td>20th March 2019</td>\n",
              "      <td>âœ… Trip Verified | Chicago to Orlando. Horrib...</td>\n",
              "      <td>Solo Leisure</td>\n",
              "      <td>Economy Class</td>\n",
              "      <td>Chicago to Orlando</td>\n",
              "      <td>March 2019</td>\n",
              "      <td>1.0</td>\n",
              "      <td>1.0</td>\n",
              "      <td>1.0</td>\n",
              "      <td>1.0</td>\n",
              "      <td>1.0</td>\n",
              "      <td>1.0</td>\n",
              "      <td>yes</td>\n",
              "      <td>1.0</td>\n",
              "    </tr>\n",
              "    <tr>\n",
              "      <th>107044</th>\n",
              "      <td>Spirit Airlines</td>\n",
              "      <td>1.0</td>\n",
              "      <td>Dorry Shanyisa</td>\n",
              "      <td>20th December 2018</td>\n",
              "      <td>Not Verified | Pittsburgh to Dallas. Worst air...</td>\n",
              "      <td>Couple Leisure</td>\n",
              "      <td>Economy Class</td>\n",
              "      <td>Pittsburgh to Dallas</td>\n",
              "      <td>December 2018</td>\n",
              "      <td>1.0</td>\n",
              "      <td>1.0</td>\n",
              "      <td>3.0</td>\n",
              "      <td>3.0</td>\n",
              "      <td>1.0</td>\n",
              "      <td>1.0</td>\n",
              "      <td>yes</td>\n",
              "      <td>1.0</td>\n",
              "    </tr>\n",
              "    <tr>\n",
              "      <th>107450</th>\n",
              "      <td>Spirit Airlines</td>\n",
              "      <td>1.0</td>\n",
              "      <td>M Hamadyavi</td>\n",
              "      <td>16th August 2018</td>\n",
              "      <td>âœ… Trip Verified | We had a flight from MCO -...</td>\n",
              "      <td>Couple Leisure</td>\n",
              "      <td>Economy Class</td>\n",
              "      <td>San Juan to Orlando</td>\n",
              "      <td>August 2018</td>\n",
              "      <td>1.0</td>\n",
              "      <td>1.0</td>\n",
              "      <td>1.0</td>\n",
              "      <td>1.0</td>\n",
              "      <td>1.0</td>\n",
              "      <td>1.0</td>\n",
              "      <td>yes</td>\n",
              "      <td>1.0</td>\n",
              "    </tr>\n",
              "    <tr>\n",
              "      <th>108606</th>\n",
              "      <td>Spirit Airlines</td>\n",
              "      <td>1.0</td>\n",
              "      <td>L Pearce</td>\n",
              "      <td>16th June 2017</td>\n",
              "      <td>âœ… Verified Review | Spirit Airlines is the w...</td>\n",
              "      <td>Solo Leisure</td>\n",
              "      <td>Economy Class</td>\n",
              "      <td>LaGuardia to Tampa</td>\n",
              "      <td>June 2017</td>\n",
              "      <td>1.0</td>\n",
              "      <td>1.0</td>\n",
              "      <td>3.0</td>\n",
              "      <td>3.0</td>\n",
              "      <td>1.0</td>\n",
              "      <td>1.0</td>\n",
              "      <td>yes</td>\n",
              "      <td>1.0</td>\n",
              "    </tr>\n",
              "    <tr>\n",
              "      <th>114142</th>\n",
              "      <td>Vueling Airlines</td>\n",
              "      <td>1.0</td>\n",
              "      <td>Robin Palmes</td>\n",
              "      <td>10th October 2013</td>\n",
              "      <td>We had a very good flight with Vueling from Me...</td>\n",
              "      <td>NaN</td>\n",
              "      <td>Economy Class</td>\n",
              "      <td>NaN</td>\n",
              "      <td>NaN</td>\n",
              "      <td>2.0</td>\n",
              "      <td>1.0</td>\n",
              "      <td>1.0</td>\n",
              "      <td>1.0</td>\n",
              "      <td>3.0</td>\n",
              "      <td>3.0</td>\n",
              "      <td>yes</td>\n",
              "      <td>1.0</td>\n",
              "    </tr>\n",
              "    <tr>\n",
              "      <th>119624</th>\n",
              "      <td>Frontier Airlines</td>\n",
              "      <td>1.0</td>\n",
              "      <td>Karina E Hernandez</td>\n",
              "      <td>13th July 2018</td>\n",
              "      <td>âœ… Trip Verified | Austin to Orlando. I want ...</td>\n",
              "      <td>Family Leisure</td>\n",
              "      <td>Economy Class</td>\n",
              "      <td>Austin to Orlando</td>\n",
              "      <td>July 2018</td>\n",
              "      <td>1.0</td>\n",
              "      <td>1.0</td>\n",
              "      <td>3.0</td>\n",
              "      <td>3.0</td>\n",
              "      <td>1.0</td>\n",
              "      <td>1.0</td>\n",
              "      <td>yes</td>\n",
              "      <td>1.0</td>\n",
              "    </tr>\n",
              "    <tr>\n",
              "      <th>119772</th>\n",
              "      <td>Frontier Airlines</td>\n",
              "      <td>1.0</td>\n",
              "      <td>Richard Hayden</td>\n",
              "      <td>26th June 2018</td>\n",
              "      <td>Not Verified | Actually, I never flew at all, ...</td>\n",
              "      <td>Solo Leisure</td>\n",
              "      <td>Economy Class</td>\n",
              "      <td>Ft Myers to Denver via Los Angeles</td>\n",
              "      <td>June 2018</td>\n",
              "      <td>3.0</td>\n",
              "      <td>3.0</td>\n",
              "      <td>3.0</td>\n",
              "      <td>3.0</td>\n",
              "      <td>1.0</td>\n",
              "      <td>1.0</td>\n",
              "      <td>yes</td>\n",
              "      <td>2.0</td>\n",
              "    </tr>\n",
              "    <tr>\n",
              "      <th>121070</th>\n",
              "      <td>Frontier Airlines</td>\n",
              "      <td>1.0</td>\n",
              "      <td>A Garrison</td>\n",
              "      <td>5th November 2015</td>\n",
              "      <td>This review is to prepare other Frontier \"poss...</td>\n",
              "      <td>Solo Leisure</td>\n",
              "      <td>Business Class</td>\n",
              "      <td>CLT to PHL</td>\n",
              "      <td>November 2015</td>\n",
              "      <td>3.0</td>\n",
              "      <td>3.0</td>\n",
              "      <td>3.0</td>\n",
              "      <td>3.0</td>\n",
              "      <td>1.0</td>\n",
              "      <td>1.0</td>\n",
              "      <td>yes</td>\n",
              "      <td>2.0</td>\n",
              "    </tr>\n",
              "    <tr>\n",
              "      <th>122400</th>\n",
              "      <td>Icelandair</td>\n",
              "      <td>1.0</td>\n",
              "      <td>Mike Davidson</td>\n",
              "      <td>15th February 2016</td>\n",
              "      <td>Seattle to Frankfurt via Seattle.My experience...</td>\n",
              "      <td>Business</td>\n",
              "      <td>Economy Class</td>\n",
              "      <td>SEA to FRA via KEF</td>\n",
              "      <td>February 2016</td>\n",
              "      <td>1.0</td>\n",
              "      <td>1.0</td>\n",
              "      <td>3.0</td>\n",
              "      <td>1.0</td>\n",
              "      <td>3.0</td>\n",
              "      <td>1.0</td>\n",
              "      <td>yes</td>\n",
              "      <td>1.0</td>\n",
              "    </tr>\n",
              "    <tr>\n",
              "      <th>123622</th>\n",
              "      <td>Aer Lingus</td>\n",
              "      <td>1.0</td>\n",
              "      <td>W Elbers</td>\n",
              "      <td>25th December 2018</td>\n",
              "      <td>Not Verified | Amsterdam to Hartford via Dubli...</td>\n",
              "      <td>Couple Leisure</td>\n",
              "      <td>Business Class</td>\n",
              "      <td>Amsterdam to Hartford via Dublin</td>\n",
              "      <td>December 2018</td>\n",
              "      <td>4.0</td>\n",
              "      <td>4.0</td>\n",
              "      <td>3.0</td>\n",
              "      <td>3.0</td>\n",
              "      <td>1.0</td>\n",
              "      <td>1.0</td>\n",
              "      <td>yes</td>\n",
              "      <td>2.0</td>\n",
              "    </tr>\n",
              "  </tbody>\n",
              "</table>\n",
              "</div>"
            ],
            "text/plain": [
              "                          airline  overall  ... recommended Avg_num\n",
              "1453             Turkish Airlines      1.0  ...         yes     2.0\n",
              "1657             Turkish Airlines      1.0  ...         yes     1.0\n",
              "7231                     Emirates      1.0  ...         yes     2.0\n",
              "7235                     Emirates      1.0  ...         yes     2.0\n",
              "7359                     Emirates      1.0  ...         yes     1.0\n",
              "10449                   Lufthansa      1.0  ...         yes     2.0\n",
              "12583    KLM Royal Dutch Airlines      1.0  ...         yes     1.0\n",
              "16125           American Airlines      1.0  ...         yes     1.0\n",
              "16437           American Airlines      1.0  ...         yes     2.0\n",
              "16579           American Airlines      1.0  ...         yes     1.0\n",
              "16937           American Airlines      1.0  ...         yes     2.0\n",
              "19213           American Airlines      1.0  ...         yes     1.0\n",
              "21243             Delta Air Lines      1.0  ...         yes     2.0\n",
              "21657             Delta Air Lines      1.0  ...         yes     2.0\n",
              "24237          Southwest Airlines      1.0  ...         yes     2.0\n",
              "25633             United Airlines      1.0  ...         yes     1.0\n",
              "26211             United Airlines      1.0  ...         yes     1.0\n",
              "34277   Aeroflot Russian Airlines      1.0  ...         yes     2.0\n",
              "34777                  Aeromexico      1.0  ...         yes     2.0\n",
              "37035                  Air Canada      1.0  ...         yes     2.0\n",
              "45635             British Airways      1.0  ...         yes     1.0\n",
              "45647             British Airways      1.0  ...         yes     1.0\n",
              "47877             British Airways      1.0  ...         yes     2.0\n",
              "66073              Qantas Airways      1.0  ...         yes     2.0\n",
              "67743              Qantas Airways      1.0  ...         yes     2.0\n",
              "73769                     Ryanair      1.0  ...         yes     2.0\n",
              "83943            SAS Scandinavian      1.0  ...         yes     2.0\n",
              "106738            Spirit Airlines      1.0  ...         yes     1.0\n",
              "107044            Spirit Airlines      1.0  ...         yes     1.0\n",
              "107450            Spirit Airlines      1.0  ...         yes     1.0\n",
              "108606            Spirit Airlines      1.0  ...         yes     1.0\n",
              "114142           Vueling Airlines      1.0  ...         yes     1.0\n",
              "119624          Frontier Airlines      1.0  ...         yes     1.0\n",
              "119772          Frontier Airlines      1.0  ...         yes     2.0\n",
              "121070          Frontier Airlines      1.0  ...         yes     2.0\n",
              "122400                 Icelandair      1.0  ...         yes     1.0\n",
              "123622                 Aer Lingus      1.0  ...         yes     2.0\n",
              "\n",
              "[37 rows x 17 columns]"
            ]
          },
          "metadata": {
            "tags": []
          },
          "execution_count": 34
        }
      ]
    },
    {
      "cell_type": "code",
      "metadata": {
        "id": "AnAdRPfWez41"
      },
      "source": [
        ""
      ],
      "execution_count": null,
      "outputs": []
    },
    {
      "cell_type": "markdown",
      "metadata": {
        "id": "uPavtczFrzlD"
      },
      "source": [
        "Droping all Non important columns/features"
      ]
    },
    {
      "cell_type": "code",
      "metadata": {
        "id": "xmx6wkJAEJkQ"
      },
      "source": [
        " # droping Non important features\n",
        "main_df.drop(['author','review_date','date_flown','route'],axis=1,inplace=True)"
      ],
      "execution_count": 41,
      "outputs": []
    },
    {
      "cell_type": "markdown",
      "metadata": {
        "id": "fONurRXUFD9s"
      },
      "source": [
        "## working on Text and Categorical features"
      ]
    },
    {
      "cell_type": "markdown",
      "metadata": {
        "id": "qZG7RLFmSKO2"
      },
      "source": [
        "**Airline**"
      ]
    },
    {
      "cell_type": "code",
      "metadata": {
        "colab": {
          "base_uri": "https://localhost:8080/",
          "height": 508
        },
        "id": "5gwFlALWOyY2",
        "outputId": "e808c57c-eb1c-4e94-be88-4ac0a1a14705"
      },
      "source": [
        "main_df['airline'].value_counts().plot(kind='bar',figsize=(15,6))"
      ],
      "execution_count": 42,
      "outputs": [
        {
          "output_type": "execute_result",
          "data": {
            "text/plain": [
              "<matplotlib.axes._subplots.AxesSubplot at 0x7fbf8043fa90>"
            ]
          },
          "metadata": {
            "tags": []
          },
          "execution_count": 42
        },
        {
          "output_type": "display_data",
          "data": {
            "image/png": "[encoded data removed]",
            "text/plain": [
              "<Figure size 1080x432 with 1 Axes>"
            ]
          },
          "metadata": {
            "tags": [],
            "needs_background": "light"
          }
        }
      ]
    },
    {
      "cell_type": "markdown",
      "metadata": {
        "id": "-kY1dq0-Op1P"
      },
      "source": [
        "We can do one hot incoding to these categorical values"
      ]
    },
    {
      "cell_type": "markdown",
      "metadata": {
        "id": "JGj4MxYKSPRt"
      },
      "source": [
        "**Cabin**"
      ]
    },
    {
      "cell_type": "code",
      "metadata": {
        "colab": {
          "base_uri": "https://localhost:8080/"
        },
        "id": "jIaelG1mSQgW",
        "outputId": "a33754dc-dc94-42e1-82be-b7b7413e669b"
      },
      "source": [
        "main_df['cabin'].value_counts()"
      ],
      "execution_count": 36,
      "outputs": [
        {
          "output_type": "execute_result",
          "data": {
            "text/plain": [
              "Economy Class      45171\n",
              "Business Class      9590\n",
              "Premium Economy     2412\n",
              "First Class         1532\n",
              "Name: cabin, dtype: int64"
            ]
          },
          "metadata": {
            "tags": []
          },
          "execution_count": 36
        }
      ]
    },
    {
      "cell_type": "markdown",
      "metadata": {
        "id": "0Z29OsUgSu8Z"
      },
      "source": [
        "**Travel Type**"
      ]
    },
    {
      "cell_type": "code",
      "metadata": {
        "colab": {
          "base_uri": "https://localhost:8080/"
        },
        "id": "jUUIS1IXSvyT",
        "outputId": "efde4f71-48c6-4f35-8577-97d9fbc66708"
      },
      "source": [
        "main_df['traveller_type'].value_counts()"
      ],
      "execution_count": 37,
      "outputs": [
        {
          "output_type": "execute_result",
          "data": {
            "text/plain": [
              "Solo Leisure      13935\n",
              "Couple Leisure     9699\n",
              "Family Leisure     7142\n",
              "Business           6764\n",
              "Name: traveller_type, dtype: int64"
            ]
          },
          "metadata": {
            "tags": []
          },
          "execution_count": 37
        }
      ]
    },
    {
      "cell_type": "markdown",
      "metadata": {
        "id": "KPVUILOlTNdp"
      },
      "source": [
        "customer review"
      ]
    },
    {
      "cell_type": "code",
      "metadata": {
        "colab": {
          "base_uri": "https://localhost:8080/",
          "height": 137
        },
        "id": "WPDimoh-TOMf",
        "outputId": "b804e37c-dca8-467b-b181-a71d4465c5a3"
      },
      "source": [
        "main_df['customer_review'][5]"
      ],
      "execution_count": 43,
      "outputs": [
        {
          "output_type": "execute_result",
          "data": {
            "application/vnd.google.colaboratory.intrinsic+json": {
              "type": "string"
            },
            "text/plain": [
              "'âœ… Trip Verified | Rome to Prishtina via Istanbul. I flew with this company several times in the past years, and I can honestly say that it is getting worse and worse. I flew from Rome to Prishtina via Istanbul, all 4 flights had a delay (which apparently is pretty normal with Turkish). The ground staff is for the most part useless. In Istambul i have tried to ask a few information about a flight delay (i had just 30 minutes before the connecting flight) and the whole answer was: \"Relax Sir, No problem Sir, It\\'s okay\". The new airport is a gigantic mess, very big and disorganized. When you land in Istanbul it takes about 20 to 25 minutes taxiing and other 10 minutes before they actually start disembarking, it\\'s an exhausting experience especially if you are in a hurry. Forget about asking for some indication at the new airport, they all chat between each other, some with a coffee in their hands. I flew with four different aircraft on this trip, two were fairly new, the other two were old, seats worn. Food on board was of very poor quality.., let me repeat this, very...poor quality. In general i can say that crew is decently trained and deliver a good experience or at least they try, of course it is far from the experience you get flying Qatar or Emirates but still pretty good, while ground personnel, especially in Istanbul is the personification of the word Lazy. A complete disaster. I will try and avoid Turkish Airlines in the future, it is not a cheap company and definitely not worth for the money you pay. If you are in a hurry or you know you will be avoid this company and avoid the new istanbul airport at all costs.'"
            ]
          },
          "metadata": {
            "tags": []
          },
          "execution_count": 43
        }
      ]
    },
    {
      "cell_type": "code",
      "metadata": {
        "id": "9hW4LnlTW5oH"
      },
      "source": [
        ""
      ],
      "execution_count": null,
      "outputs": []
    },
    {
      "cell_type": "markdown",
      "metadata": {
        "id": "eDC7P1YEjtzE"
      },
      "source": [
        "### Doing One-Hot encoding to categorical features"
      ]
    },
    {
      "cell_type": "code",
      "metadata": {
        "id": "FxC8nw6vXFvo"
      },
      "source": [
        ""
      ],
      "execution_count": null,
      "outputs": []
    },
    {
      "cell_type": "markdown",
      "metadata": {
        "id": "tnBP0LUpWdwb"
      },
      "source": [
        "##Model for predicting Nan value in recommened\n",
        "peforming naive base classifer for fining NaN values in the recommender column"
      ]
    },
    {
      "cell_type": "code",
      "metadata": {
        "id": "7YKaGd-529JR",
        "colab": {
          "base_uri": "https://localhost:8080/",
          "height": 419
        },
        "outputId": "9f960231-1b17-43ee-dfc2-2f4055c72e97"
      },
      "source": [
        "text_df=main_df[['customer_review','recommended']]\n",
        "text_df"
      ],
      "execution_count": 44,
      "outputs": [
        {
          "output_type": "execute_result",
          "data": {
            "text/html": [
              "<div>\n",
              "<style scoped>\n",
              "    .dataframe tbody tr th:only-of-type {\n",
              "        vertical-align: middle;\n",
              "    }\n",
              "\n",
              "    .dataframe tbody tr th {\n",
              "        vertical-align: top;\n",
              "    }\n",
              "\n",
              "    .dataframe thead th {\n",
              "        text-align: right;\n",
              "    }\n",
              "</style>\n",
              "<table border=\"1\" class=\"dataframe\">\n",
              "  <thead>\n",
              "    <tr style=\"text-align: right;\">\n",
              "      <th></th>\n",
              "      <th>customer_review</th>\n",
              "      <th>recommended</th>\n",
              "    </tr>\n",
              "  </thead>\n",
              "  <tbody>\n",
              "    <tr>\n",
              "      <th>1</th>\n",
              "      <td>âœ… Trip Verified | London to Izmir via Istanb...</td>\n",
              "      <td>yes</td>\n",
              "    </tr>\n",
              "    <tr>\n",
              "      <th>3</th>\n",
              "      <td>âœ… Trip Verified | Istanbul to Bucharest. We ...</td>\n",
              "      <td>no</td>\n",
              "    </tr>\n",
              "    <tr>\n",
              "      <th>5</th>\n",
              "      <td>âœ… Trip Verified | Rome to Prishtina via Ista...</td>\n",
              "      <td>no</td>\n",
              "    </tr>\n",
              "    <tr>\n",
              "      <th>7</th>\n",
              "      <td>âœ… Trip Verified | Flew on Turkish Airlines I...</td>\n",
              "      <td>yes</td>\n",
              "    </tr>\n",
              "    <tr>\n",
              "      <th>9</th>\n",
              "      <td>âœ… Trip Verified | Mumbai to Dublin via Istan...</td>\n",
              "      <td>no</td>\n",
              "    </tr>\n",
              "    <tr>\n",
              "      <th>...</th>\n",
              "      <td>...</td>\n",
              "      <td>...</td>\n",
              "    </tr>\n",
              "    <tr>\n",
              "      <th>131886</th>\n",
              "      <td>Two domestic flights between Kiev and Lviv las...</td>\n",
              "      <td>no</td>\n",
              "    </tr>\n",
              "    <tr>\n",
              "      <th>131888</th>\n",
              "      <td>I had a good flight from London to Kiev with U...</td>\n",
              "      <td>no</td>\n",
              "    </tr>\n",
              "    <tr>\n",
              "      <th>131890</th>\n",
              "      <td>Kiev - London (Gatwick) in business class (in ...</td>\n",
              "      <td>no</td>\n",
              "    </tr>\n",
              "    <tr>\n",
              "      <th>131892</th>\n",
              "      <td>Several flights - KBP to AMS (3 times one way)...</td>\n",
              "      <td>no</td>\n",
              "    </tr>\n",
              "    <tr>\n",
              "      <th>131894</th>\n",
              "      <td>KBP-AMS with UIA. Although it was a relatively...</td>\n",
              "      <td>no</td>\n",
              "    </tr>\n",
              "  </tbody>\n",
              "</table>\n",
              "<p>61183 rows × 2 columns</p>\n",
              "</div>"
            ],
            "text/plain": [
              "                                          customer_review recommended\n",
              "1       âœ… Trip Verified | London to Izmir via Istanb...         yes\n",
              "3       âœ… Trip Verified | Istanbul to Bucharest. We ...          no\n",
              "5       âœ… Trip Verified | Rome to Prishtina via Ista...          no\n",
              "7       âœ… Trip Verified | Flew on Turkish Airlines I...         yes\n",
              "9       âœ… Trip Verified | Mumbai to Dublin via Istan...          no\n",
              "...                                                   ...         ...\n",
              "131886  Two domestic flights between Kiev and Lviv las...          no\n",
              "131888  I had a good flight from London to Kiev with U...          no\n",
              "131890  Kiev - London (Gatwick) in business class (in ...          no\n",
              "131892  Several flights - KBP to AMS (3 times one way)...          no\n",
              "131894  KBP-AMS with UIA. Although it was a relatively...          no\n",
              "\n",
              "[61183 rows x 2 columns]"
            ]
          },
          "metadata": {
            "tags": []
          },
          "execution_count": 44
        }
      ]
    },
    {
      "cell_type": "code",
      "metadata": {
        "colab": {
          "base_uri": "https://localhost:8080/"
        },
        "id": "s1gXuKulXnzy",
        "outputId": "fa25e4f6-e1db-49ac-b135-621afc3e7401"
      },
      "source": [
        "text_df.info()"
      ],
      "execution_count": 45,
      "outputs": [
        {
          "output_type": "stream",
          "text": [
            "<class 'pandas.core.frame.DataFrame'>\n",
            "Int64Index: 61183 entries, 1 to 131894\n",
            "Data columns (total 2 columns):\n",
            " #   Column           Non-Null Count  Dtype \n",
            "---  ------           --------------  ----- \n",
            " 0   customer_review  61183 non-null  object\n",
            " 1   recommended      59761 non-null  object\n",
            "dtypes: object(2)\n",
            "memory usage: 3.9+ MB\n"
          ],
          "name": "stdout"
        }
      ]
    },
    {
      "cell_type": "code",
      "metadata": {
        "id": "636iNFZvXz3E"
      },
      "source": [
        ""
      ],
      "execution_count": null,
      "outputs": []
    },
    {
      "cell_type": "code",
      "metadata": {
        "colab": {
          "base_uri": "https://localhost:8080/"
        },
        "id": "4oSUJIgkLvm8",
        "outputId": "24f122fd-1caf-40db-950d-1b5acb1cf799"
      },
      "source": [
        "text_df['review_len']= text_df['customer_review'].str.len()"
      ],
      "execution_count": 58,
      "outputs": [
        {
          "output_type": "stream",
          "text": [
            "/usr/local/lib/python3.7/dist-packages/ipykernel_launcher.py:1: SettingWithCopyWarning: \n",
            "A value is trying to be set on a copy of a slice from a DataFrame.\n",
            "Try using .loc[row_indexer,col_indexer] = value instead\n",
            "\n",
            "See the caveats in the documentation: https://pandas.pydata.org/pandas-docs/stable/user_guide/indexing.html#returning-a-view-versus-a-copy\n",
            "  \"\"\"Entry point for launching an IPython kernel.\n"
          ],
          "name": "stderr"
        }
      ]
    },
    {
      "cell_type": "code",
      "metadata": {
        "colab": {
          "base_uri": "https://localhost:8080/",
          "height": 419
        },
        "id": "gMqCf6-iMD5S",
        "outputId": "df0110f7-2e3c-4329-ac35-c613faecc699"
      },
      "source": [
        "text_df"
      ],
      "execution_count": 59,
      "outputs": [
        {
          "output_type": "execute_result",
          "data": {
            "text/html": [
              "<div>\n",
              "<style scoped>\n",
              "    .dataframe tbody tr th:only-of-type {\n",
              "        vertical-align: middle;\n",
              "    }\n",
              "\n",
              "    .dataframe tbody tr th {\n",
              "        vertical-align: top;\n",
              "    }\n",
              "\n",
              "    .dataframe thead th {\n",
              "        text-align: right;\n",
              "    }\n",
              "</style>\n",
              "<table border=\"1\" class=\"dataframe\">\n",
              "  <thead>\n",
              "    <tr style=\"text-align: right;\">\n",
              "      <th></th>\n",
              "      <th>customer_review</th>\n",
              "      <th>recommended</th>\n",
              "      <th>review_len</th>\n",
              "    </tr>\n",
              "  </thead>\n",
              "  <tbody>\n",
              "    <tr>\n",
              "      <th>1</th>\n",
              "      <td>âœ… Trip Verified | London to Izmir via Istanb...</td>\n",
              "      <td>yes</td>\n",
              "      <td>1143</td>\n",
              "    </tr>\n",
              "    <tr>\n",
              "      <th>3</th>\n",
              "      <td>âœ… Trip Verified | Istanbul to Bucharest. We ...</td>\n",
              "      <td>no</td>\n",
              "      <td>467</td>\n",
              "    </tr>\n",
              "    <tr>\n",
              "      <th>5</th>\n",
              "      <td>âœ… Trip Verified | Rome to Prishtina via Ista...</td>\n",
              "      <td>no</td>\n",
              "      <td>1648</td>\n",
              "    </tr>\n",
              "    <tr>\n",
              "      <th>7</th>\n",
              "      <td>âœ… Trip Verified | Flew on Turkish Airlines I...</td>\n",
              "      <td>yes</td>\n",
              "      <td>955</td>\n",
              "    </tr>\n",
              "    <tr>\n",
              "      <th>9</th>\n",
              "      <td>âœ… Trip Verified | Mumbai to Dublin via Istan...</td>\n",
              "      <td>no</td>\n",
              "      <td>416</td>\n",
              "    </tr>\n",
              "    <tr>\n",
              "      <th>...</th>\n",
              "      <td>...</td>\n",
              "      <td>...</td>\n",
              "      <td>...</td>\n",
              "    </tr>\n",
              "    <tr>\n",
              "      <th>131886</th>\n",
              "      <td>Two domestic flights between Kiev and Lviv las...</td>\n",
              "      <td>no</td>\n",
              "      <td>546</td>\n",
              "    </tr>\n",
              "    <tr>\n",
              "      <th>131888</th>\n",
              "      <td>I had a good flight from London to Kiev with U...</td>\n",
              "      <td>no</td>\n",
              "      <td>450</td>\n",
              "    </tr>\n",
              "    <tr>\n",
              "      <th>131890</th>\n",
              "      <td>Kiev - London (Gatwick) in business class (in ...</td>\n",
              "      <td>no</td>\n",
              "      <td>1531</td>\n",
              "    </tr>\n",
              "    <tr>\n",
              "      <th>131892</th>\n",
              "      <td>Several flights - KBP to AMS (3 times one way)...</td>\n",
              "      <td>no</td>\n",
              "      <td>772</td>\n",
              "    </tr>\n",
              "    <tr>\n",
              "      <th>131894</th>\n",
              "      <td>KBP-AMS with UIA. Although it was a relatively...</td>\n",
              "      <td>no</td>\n",
              "      <td>209</td>\n",
              "    </tr>\n",
              "  </tbody>\n",
              "</table>\n",
              "<p>61183 rows × 3 columns</p>\n",
              "</div>"
            ],
            "text/plain": [
              "                                          customer_review  ... review_len\n",
              "1       âœ… Trip Verified | London to Izmir via Istanb...  ...       1143\n",
              "3       âœ… Trip Verified | Istanbul to Bucharest. We ...  ...        467\n",
              "5       âœ… Trip Verified | Rome to Prishtina via Ista...  ...       1648\n",
              "7       âœ… Trip Verified | Flew on Turkish Airlines I...  ...        955\n",
              "9       âœ… Trip Verified | Mumbai to Dublin via Istan...  ...        416\n",
              "...                                                   ...  ...        ...\n",
              "131886  Two domestic flights between Kiev and Lviv las...  ...        546\n",
              "131888  I had a good flight from London to Kiev with U...  ...        450\n",
              "131890  Kiev - London (Gatwick) in business class (in ...  ...       1531\n",
              "131892  Several flights - KBP to AMS (3 times one way)...  ...        772\n",
              "131894  KBP-AMS with UIA. Although it was a relatively...  ...        209\n",
              "\n",
              "[61183 rows x 3 columns]"
            ]
          },
          "metadata": {
            "tags": []
          },
          "execution_count": 59
        }
      ]
    },
    {
      "cell_type": "markdown",
      "metadata": {
        "id": "8Slus8b1kfp7"
      },
      "source": [
        "##Box plot"
      ]
    },
    {
      "cell_type": "code",
      "metadata": {
        "id": "LrDGfyHNnDAk"
      },
      "source": [
        "GN= text_df.groupby('recommended')"
      ],
      "execution_count": 60,
      "outputs": []
    },
    {
      "cell_type": "code",
      "metadata": {
        "colab": {
          "base_uri": "https://localhost:8080/",
          "height": 577
        },
        "id": "zNt_QlVqnMWc",
        "outputId": "535712dc-cd4a-4720-e7c1-f93d71e56aa2"
      },
      "source": [
        "for name , name_df in GN:\n",
        "  print(name)\n",
        "  sns.boxplot(x='review_len',data= name_df)\n",
        "  plt.show()"
      ],
      "execution_count": 63,
      "outputs": [
        {
          "output_type": "stream",
          "text": [
            "no\n"
          ],
          "name": "stdout"
        },
        {
          "output_type": "display_data",
          "data": {
            "image/png": "[encoded data removed]",
            "text/plain": [
              "<Figure size 432x288 with 1 Axes>"
            ]
          },
          "metadata": {
            "tags": [],
            "needs_background": "light"
          }
        },
        {
          "output_type": "stream",
          "text": [
            "yes\n"
          ],
          "name": "stdout"
        },
        {
          "output_type": "display_data",
          "data": {
            "image/png": "[encoded data removed]",
            "text/plain": [
              "<Figure size 432x288 with 1 Axes>"
            ]
          },
          "metadata": {
            "tags": [],
            "needs_background": "light"
          }
        }
      ]
    },
    {
      "cell_type": "markdown",
      "metadata": {
        "id": "GPrRfFUioFX7"
      },
      "source": [
        "From above boxplot we can conclude that as the length of text increases the recommended value will be no"
      ]
    },
    {
      "cell_type": "code",
      "metadata": {
        "id": "G3SpNtHZnMSR"
      },
      "source": [
        ""
      ],
      "execution_count": null,
      "outputs": []
    },
    {
      "cell_type": "markdown",
      "metadata": {
        "id": "MFQSSCZjSrGN"
      },
      "source": [
        "###Text Processesing  "
      ]
    },
    {
      "cell_type": "code",
      "metadata": {
        "id": "svtgKp5HY9Vq"
      },
      "source": [
        "import re\n",
        "import nltk\n"
      ],
      "execution_count": 64,
      "outputs": []
    },
    {
      "cell_type": "code",
      "metadata": {
        "id": "AQ-wQCP7c1aG"
      },
      "source": [
        "from nltk.corpus import stopwords"
      ],
      "execution_count": 65,
      "outputs": []
    },
    {
      "cell_type": "code",
      "metadata": {
        "colab": {
          "base_uri": "https://localhost:8080/"
        },
        "id": "0nVUZpMaee2y",
        "outputId": "3c93cea1-4190-4395-854a-1f666ece5448"
      },
      "source": [
        "\n",
        "nltk.download('stopwords')"
      ],
      "execution_count": 66,
      "outputs": [
        {
          "output_type": "stream",
          "text": [
            "[nltk_data] Downloading package stopwords to /root/nltk_data...\n",
            "[nltk_data]   Unzipping corpora/stopwords.zip.\n"
          ],
          "name": "stdout"
        },
        {
          "output_type": "execute_result",
          "data": {
            "text/plain": [
              "True"
            ]
          },
          "metadata": {
            "tags": []
          },
          "execution_count": 66
        }
      ]
    },
    {
      "cell_type": "code",
      "metadata": {
        "colab": {
          "base_uri": "https://localhost:8080/"
        },
        "id": "KXWGeqliruVR",
        "outputId": "148c3f63-dd32-4678-c9b8-3640ebd08862"
      },
      "source": [
        "nltk.download('wordnet')\n",
        "  "
      ],
      "execution_count": 67,
      "outputs": [
        {
          "output_type": "stream",
          "text": [
            "[nltk_data] Downloading package wordnet to /root/nltk_data...\n",
            "[nltk_data]   Unzipping corpora/wordnet.zip.\n"
          ],
          "name": "stdout"
        },
        {
          "output_type": "execute_result",
          "data": {
            "text/plain": [
              "True"
            ]
          },
          "metadata": {
            "tags": []
          },
          "execution_count": 67
        }
      ]
    },
    {
      "cell_type": "code",
      "metadata": {
        "id": "GhSgIlujeQwa"
      },
      "source": [
        "stop_words=stopwords.words('english')"
      ],
      "execution_count": 68,
      "outputs": []
    },
    {
      "cell_type": "code",
      "metadata": {
        "id": "6ZQJ3MUmru7g"
      },
      "source": [
        "from nltk.stem import WordNetLemmatizer\n",
        "lemmatizer = WordNetLemmatizer()"
      ],
      "execution_count": 69,
      "outputs": []
    },
    {
      "cell_type": "code",
      "metadata": {
        "id": "n7nQ7S4SVwlP"
      },
      "source": [
        "def text_cleaning(data):\n",
        "\n",
        "  #remove all special character\n",
        "  processed_feature = re.sub(r'\\W', ' ', str(data))\n",
        "\n",
        "  # remove all single characters\n",
        "  processed_feature= re.sub(r'\\s+[a-zA-Z]\\s+', ' ', processed_feature)\n",
        "\n",
        "  # Remove single characters from the start\n",
        "  processed_feature = re.sub(r'\\^[a-zA-Z]\\s+', ' ', processed_feature) \n",
        "\n",
        "  # Substituting multiple spaces with single space\n",
        "  processed_feature = re.sub(r'\\s+', ' ', processed_feature, flags=re.I)\n",
        "\n",
        "  # Removing prefixed 'b'\n",
        "  processed_feature = re.sub(r'^b\\s+', '', processed_feature)\n",
        "\n",
        "  # Converting to Lowercase\n",
        "  processed_feature = processed_feature.lower()\n",
        "\n",
        "  # removing stopword\n",
        "  processed_feature = processed_feature.split(' ')\n",
        "  processed_feature = [lemmatizer.lemmatize(i) for i in processed_feature]\n",
        "  processed_feature = ' '.join([i for i in processed_feature if i not in stop_words])\n",
        "\n",
        "  return processed_feature\n",
        "\n",
        "    \n",
        "  "
      ],
      "execution_count": 70,
      "outputs": []
    },
    {
      "cell_type": "code",
      "metadata": {
        "colab": {
          "base_uri": "https://localhost:8080/"
        },
        "id": "Tpy-CVL-khF4",
        "outputId": "749213af-6058-4f12-9fae-0bf3553306dd"
      },
      "source": [
        "text_df['tokenized_mess'] = text_df['customer_review'].apply(text_cleaning)"
      ],
      "execution_count": 71,
      "outputs": [
        {
          "output_type": "stream",
          "text": [
            "/usr/local/lib/python3.7/dist-packages/ipykernel_launcher.py:1: SettingWithCopyWarning: \n",
            "A value is trying to be set on a copy of a slice from a DataFrame.\n",
            "Try using .loc[row_indexer,col_indexer] = value instead\n",
            "\n",
            "See the caveats in the documentation: https://pandas.pydata.org/pandas-docs/stable/user_guide/indexing.html#returning-a-view-versus-a-copy\n",
            "  \"\"\"Entry point for launching an IPython kernel.\n"
          ],
          "name": "stderr"
        }
      ]
    },
    {
      "cell_type": "code",
      "metadata": {
        "colab": {
          "base_uri": "https://localhost:8080/",
          "height": 419
        },
        "id": "MFBgbEOsZfQo",
        "outputId": "bd0fc744-0143-41a0-ac28-21c77502af2e"
      },
      "source": [
        "text_df"
      ],
      "execution_count": 72,
      "outputs": [
        {
          "output_type": "execute_result",
          "data": {
            "text/html": [
              "<div>\n",
              "<style scoped>\n",
              "    .dataframe tbody tr th:only-of-type {\n",
              "        vertical-align: middle;\n",
              "    }\n",
              "\n",
              "    .dataframe tbody tr th {\n",
              "        vertical-align: top;\n",
              "    }\n",
              "\n",
              "    .dataframe thead th {\n",
              "        text-align: right;\n",
              "    }\n",
              "</style>\n",
              "<table border=\"1\" class=\"dataframe\">\n",
              "  <thead>\n",
              "    <tr style=\"text-align: right;\">\n",
              "      <th></th>\n",
              "      <th>customer_review</th>\n",
              "      <th>recommended</th>\n",
              "      <th>review_len</th>\n",
              "      <th>tokenized_mess</th>\n",
              "    </tr>\n",
              "  </thead>\n",
              "  <tbody>\n",
              "    <tr>\n",
              "      <th>1</th>\n",
              "      <td>âœ… Trip Verified | London to Izmir via Istanb...</td>\n",
              "      <td>yes</td>\n",
              "      <td>1143</td>\n",
              "      <td>âœ trip verified london izmir via istanbul fir...</td>\n",
              "    </tr>\n",
              "    <tr>\n",
              "      <th>3</th>\n",
              "      <td>âœ… Trip Verified | Istanbul to Bucharest. We ...</td>\n",
              "      <td>no</td>\n",
              "      <td>467</td>\n",
              "      <td>âœ trip verified istanbul bucharest make check...</td>\n",
              "    </tr>\n",
              "    <tr>\n",
              "      <th>5</th>\n",
              "      <td>âœ… Trip Verified | Rome to Prishtina via Ista...</td>\n",
              "      <td>no</td>\n",
              "      <td>1648</td>\n",
              "      <td>âœ trip verified rome prishtina via istanbul f...</td>\n",
              "    </tr>\n",
              "    <tr>\n",
              "      <th>7</th>\n",
              "      <td>âœ… Trip Verified | Flew on Turkish Airlines I...</td>\n",
              "      <td>yes</td>\n",
              "      <td>955</td>\n",
              "      <td>âœ trip verified flew turkish airline iad ist ...</td>\n",
              "    </tr>\n",
              "    <tr>\n",
              "      <th>9</th>\n",
              "      <td>âœ… Trip Verified | Mumbai to Dublin via Istan...</td>\n",
              "      <td>no</td>\n",
              "      <td>416</td>\n",
              "      <td>âœ trip verified mumbai dublin via istanbul ne...</td>\n",
              "    </tr>\n",
              "    <tr>\n",
              "      <th>...</th>\n",
              "      <td>...</td>\n",
              "      <td>...</td>\n",
              "      <td>...</td>\n",
              "      <td>...</td>\n",
              "    </tr>\n",
              "    <tr>\n",
              "      <th>131886</th>\n",
              "      <td>Two domestic flights between Kiev and Lviv las...</td>\n",
              "      <td>no</td>\n",
              "      <td>546</td>\n",
              "      <td>two domestic flight kiev lviv last week troubl...</td>\n",
              "    </tr>\n",
              "    <tr>\n",
              "      <th>131888</th>\n",
              "      <td>I had a good flight from London to Kiev with U...</td>\n",
              "      <td>no</td>\n",
              "      <td>450</td>\n",
              "      <td>good flight london kiev ukraine international ...</td>\n",
              "    </tr>\n",
              "    <tr>\n",
              "      <th>131890</th>\n",
              "      <td>Kiev - London (Gatwick) in business class (in ...</td>\n",
              "      <td>no</td>\n",
              "      <td>1531</td>\n",
              "      <td>kiev london gatwick business class april flown...</td>\n",
              "    </tr>\n",
              "    <tr>\n",
              "      <th>131892</th>\n",
              "      <td>Several flights - KBP to AMS (3 times one way)...</td>\n",
              "      <td>no</td>\n",
              "      <td>772</td>\n",
              "      <td>several flight kbp 3 time one way lgw zrh twic...</td>\n",
              "    </tr>\n",
              "    <tr>\n",
              "      <th>131894</th>\n",
              "      <td>KBP-AMS with UIA. Although it was a relatively...</td>\n",
              "      <td>no</td>\n",
              "      <td>209</td>\n",
              "      <td>kbp uia although wa relatively short flight go...</td>\n",
              "    </tr>\n",
              "  </tbody>\n",
              "</table>\n",
              "<p>61183 rows × 4 columns</p>\n",
              "</div>"
            ],
            "text/plain": [
              "                                          customer_review  ...                                     tokenized_mess\n",
              "1       âœ… Trip Verified | London to Izmir via Istanb...  ...  âœ trip verified london izmir via istanbul fir...\n",
              "3       âœ… Trip Verified | Istanbul to Bucharest. We ...  ...  âœ trip verified istanbul bucharest make check...\n",
              "5       âœ… Trip Verified | Rome to Prishtina via Ista...  ...  âœ trip verified rome prishtina via istanbul f...\n",
              "7       âœ… Trip Verified | Flew on Turkish Airlines I...  ...  âœ trip verified flew turkish airline iad ist ...\n",
              "9       âœ… Trip Verified | Mumbai to Dublin via Istan...  ...  âœ trip verified mumbai dublin via istanbul ne...\n",
              "...                                                   ...  ...                                                ...\n",
              "131886  Two domestic flights between Kiev and Lviv las...  ...  two domestic flight kiev lviv last week troubl...\n",
              "131888  I had a good flight from London to Kiev with U...  ...  good flight london kiev ukraine international ...\n",
              "131890  Kiev - London (Gatwick) in business class (in ...  ...  kiev london gatwick business class april flown...\n",
              "131892  Several flights - KBP to AMS (3 times one way)...  ...  several flight kbp 3 time one way lgw zrh twic...\n",
              "131894  KBP-AMS with UIA. Although it was a relatively...  ...  kbp uia although wa relatively short flight go...\n",
              "\n",
              "[61183 rows x 4 columns]"
            ]
          },
          "metadata": {
            "tags": []
          },
          "execution_count": 72
        }
      ]
    },
    {
      "cell_type": "markdown",
      "metadata": {
        "id": "A9eO-MIG4Rom"
      },
      "source": [
        "Seprating NaN and Non Nan values in recommender columns"
      ]
    },
    {
      "cell_type": "code",
      "metadata": {
        "id": "XYV4zAPd4ZQQ"
      },
      "source": [
        "text_df_1 = text_df.dropna() "
      ],
      "execution_count": 73,
      "outputs": []
    },
    {
      "cell_type": "code",
      "metadata": {
        "id": "IoxYbaHt4n06"
      },
      "source": [
        "text_df_2 = text_df[text_df['recommended'].isna()]\n"
      ],
      "execution_count": 74,
      "outputs": []
    },
    {
      "cell_type": "markdown",
      "metadata": {
        "id": "ze8sVee0pqoa"
      },
      "source": [
        "Creating Testing and training dataset"
      ]
    },
    {
      "cell_type": "code",
      "metadata": {
        "id": "7w1rmoalo7oF"
      },
      "source": [
        "from sklearn.feature_extraction.text import TfidfVectorizer"
      ],
      "execution_count": 75,
      "outputs": []
    },
    {
      "cell_type": "code",
      "metadata": {
        "id": "zTKPNRhLfM-H"
      },
      "source": [
        "from sklearn.model_selection import train_test_split\n",
        "X_train,X_test,y_train,y_test = train_test_split(text_df_1['tokenized_mess'],text_df_1['recommended'],test_size=0.25)"
      ],
      "execution_count": 76,
      "outputs": []
    },
    {
      "cell_type": "markdown",
      "metadata": {
        "id": "DCE0Ti8-py1Y"
      },
      "source": [
        "### TF-idf vectorization"
      ]
    },
    {
      "cell_type": "code",
      "metadata": {
        "id": "4ElPUcirp3AQ"
      },
      "source": [
        "# there are more than 10K features \n",
        "# setting max_features to 7500 for system performance \n",
        "vectorization = TfidfVectorizer(max_features=7500,min_df=7,max_df=0.8)"
      ],
      "execution_count": 77,
      "outputs": []
    },
    {
      "cell_type": "code",
      "metadata": {
        "id": "xetCkmdqs-JP"
      },
      "source": [
        "X_train = vectorization.fit_transform(X_train).toarray()\n",
        "X_test = vectorization.transform(X_test).toarray()"
      ],
      "execution_count": 78,
      "outputs": []
    },
    {
      "cell_type": "code",
      "metadata": {
        "id": "UlepZFlaxQaW"
      },
      "source": [
        "len(vectorization.get_feature_names())"
      ],
      "execution_count": null,
      "outputs": []
    },
    {
      "cell_type": "code",
      "metadata": {
        "id": "q5dCjsyRtU0W"
      },
      "source": [
        "from sklearn.naive_bayes import GaussianNB\n",
        "from sklearn.naive_bayes import MultinomialNB\n",
        "from sklearn.naive_bayes import BernoulliNB\n"
      ],
      "execution_count": 79,
      "outputs": []
    },
    {
      "cell_type": "markdown",
      "metadata": {
        "id": "QIO2jfWTuvez"
      },
      "source": [
        "Applying Gaussian naive bayes"
      ]
    },
    {
      "cell_type": "code",
      "metadata": {
        "id": "paKGZbf4uYDt"
      },
      "source": [
        "GNB  = GaussianNB().fit(X_train,y_train)"
      ],
      "execution_count": 80,
      "outputs": []
    },
    {
      "cell_type": "code",
      "metadata": {
        "id": "9894wtjDu6Im"
      },
      "source": [
        "y_train_pred_gnb = GNB.predict(X_train)\n",
        "y_test_pred_gnb = GNB.predict(X_test)"
      ],
      "execution_count": 81,
      "outputs": []
    },
    {
      "cell_type": "code",
      "metadata": {
        "id": "4XeXRVpz3np2"
      },
      "source": [
        ""
      ],
      "execution_count": null,
      "outputs": []
    },
    {
      "cell_type": "markdown",
      "metadata": {
        "id": "QOorMcH111PX"
      },
      "source": [
        "Applying Multinomial Naive bayes"
      ]
    },
    {
      "cell_type": "code",
      "metadata": {
        "id": "QLnjFDNG10aW"
      },
      "source": [
        "MNB = MultinomialNB().fit(X_train,y_train)"
      ],
      "execution_count": 82,
      "outputs": []
    },
    {
      "cell_type": "code",
      "metadata": {
        "id": "ShyJQmAN2Ja9"
      },
      "source": [
        "y_train_pred_mnb = MNB.predict(X_train)\n",
        "y_test_pred_mnb = MNB.predict(X_test)"
      ],
      "execution_count": 83,
      "outputs": []
    },
    {
      "cell_type": "markdown",
      "metadata": {
        "id": "8nByz5W12Tmm"
      },
      "source": [
        "Applying Bernoulli Naive bayes"
      ]
    },
    {
      "cell_type": "code",
      "metadata": {
        "id": "WRroLhsX2TN2"
      },
      "source": [
        "BNB = BernoulliNB().fit(X_train,y_train)"
      ],
      "execution_count": 84,
      "outputs": []
    },
    {
      "cell_type": "code",
      "metadata": {
        "id": "Y7zZZNNt2h9d"
      },
      "source": [
        "y_train_pred_bnb = BNB.predict(X_train)\n",
        "y_test_pred_bnb = BNB.predict(X_test)"
      ],
      "execution_count": 85,
      "outputs": []
    },
    {
      "cell_type": "code",
      "metadata": {
        "id": "NwYWgg9qvaX1"
      },
      "source": [
        "from sklearn.metrics import classification_report,confusion_matrix"
      ],
      "execution_count": 86,
      "outputs": []
    },
    {
      "cell_type": "code",
      "metadata": {
        "colab": {
          "base_uri": "https://localhost:8080/"
        },
        "id": "bcQhfkhd0cTf",
        "outputId": "9773dc21-69bb-4ea3-d3dd-9a01163b08d8"
      },
      "source": [
        "print(confusion_matrix(y_train,y_train_pred_gnb))\n",
        "print(confusion_matrix(y_test,y_test_pred_gnb))"
      ],
      "execution_count": 87,
      "outputs": [
        {
          "output_type": "stream",
          "text": [
            "[[18460  5158]\n",
            " [ 2420 18782]]\n",
            "[[5770 1880]\n",
            " [1102 6189]]\n"
          ],
          "name": "stdout"
        }
      ]
    },
    {
      "cell_type": "code",
      "metadata": {
        "colab": {
          "base_uri": "https://localhost:8080/"
        },
        "id": "Dujge8h303lF",
        "outputId": "747c1f4d-886a-419b-c6ad-704d9d83a947"
      },
      "source": [
        "print(classification_report(y_train,y_train_pred_gnb))\n",
        "print(\"\\n\")\n",
        "print(classification_report(y_test,y_test_pred_gnb))"
      ],
      "execution_count": 88,
      "outputs": [
        {
          "output_type": "stream",
          "text": [
            "              precision    recall  f1-score   support\n",
            "\n",
            "          no       0.88      0.78      0.83     23618\n",
            "         yes       0.78      0.89      0.83     21202\n",
            "\n",
            "    accuracy                           0.83     44820\n",
            "   macro avg       0.83      0.83      0.83     44820\n",
            "weighted avg       0.84      0.83      0.83     44820\n",
            "\n",
            "\n",
            "\n",
            "              precision    recall  f1-score   support\n",
            "\n",
            "          no       0.84      0.75      0.79      7650\n",
            "         yes       0.77      0.85      0.81      7291\n",
            "\n",
            "    accuracy                           0.80     14941\n",
            "   macro avg       0.80      0.80      0.80     14941\n",
            "weighted avg       0.80      0.80      0.80     14941\n",
            "\n"
          ],
          "name": "stdout"
        }
      ]
    },
    {
      "cell_type": "code",
      "metadata": {
        "colab": {
          "base_uri": "https://localhost:8080/"
        },
        "id": "Q8jS92y52tLF",
        "outputId": "0ae7a7f4-67d1-491c-f733-3d6dc01920e0"
      },
      "source": [
        "print(classification_report(y_train,y_train_pred_mnb))\n",
        "print(\"\\n\")\n",
        "print(classification_report(y_test,y_test_pred_mnb))"
      ],
      "execution_count": 89,
      "outputs": [
        {
          "output_type": "stream",
          "text": [
            "              precision    recall  f1-score   support\n",
            "\n",
            "          no       0.88      0.85      0.86     23618\n",
            "         yes       0.84      0.88      0.86     21202\n",
            "\n",
            "    accuracy                           0.86     44820\n",
            "   macro avg       0.86      0.86      0.86     44820\n",
            "weighted avg       0.86      0.86      0.86     44820\n",
            "\n",
            "\n",
            "\n",
            "              precision    recall  f1-score   support\n",
            "\n",
            "          no       0.88      0.84      0.86      7650\n",
            "         yes       0.84      0.88      0.86      7291\n",
            "\n",
            "    accuracy                           0.86     14941\n",
            "   macro avg       0.86      0.86      0.86     14941\n",
            "weighted avg       0.86      0.86      0.86     14941\n",
            "\n"
          ],
          "name": "stdout"
        }
      ]
    },
    {
      "cell_type": "code",
      "metadata": {
        "colab": {
          "base_uri": "https://localhost:8080/"
        },
        "id": "3pUxqMFK22zd",
        "outputId": "5c5d041d-b025-4de6-a621-bd91def68ed0"
      },
      "source": [
        "print(classification_report(y_train,y_train_pred_bnb))\n",
        "print(\"\\n\")\n",
        "print(classification_report(y_test,y_test_pred_bnb))"
      ],
      "execution_count": 90,
      "outputs": [
        {
          "output_type": "stream",
          "text": [
            "              precision    recall  f1-score   support\n",
            "\n",
            "          no       0.90      0.79      0.84     23618\n",
            "         yes       0.80      0.90      0.84     21202\n",
            "\n",
            "    accuracy                           0.84     44820\n",
            "   macro avg       0.85      0.85      0.84     44820\n",
            "weighted avg       0.85      0.84      0.84     44820\n",
            "\n",
            "\n",
            "\n",
            "              precision    recall  f1-score   support\n",
            "\n",
            "          no       0.89      0.79      0.84      7650\n",
            "         yes       0.81      0.90      0.85      7291\n",
            "\n",
            "    accuracy                           0.85     14941\n",
            "   macro avg       0.85      0.85      0.85     14941\n",
            "weighted avg       0.85      0.85      0.84     14941\n",
            "\n"
          ],
          "name": "stdout"
        }
      ]
    },
    {
      "cell_type": "markdown",
      "metadata": {
        "id": "pDQof24h6KRF"
      },
      "source": [
        "In above code we see that multinomial is performing best in all naive bayes classifier"
      ]
    },
    {
      "cell_type": "markdown",
      "metadata": {
        "id": "JfA7AVV-6eUk"
      },
      "source": [
        "With the help of this classifier lets try to find the NaN values of recommender columns."
      ]
    },
    {
      "cell_type": "code",
      "metadata": {
        "id": "-exDhuj57cFq"
      },
      "source": [
        "X_new= vectorization.transform(text_df_2['tokenized_mess']).toarray()"
      ],
      "execution_count": 91,
      "outputs": []
    },
    {
      "cell_type": "code",
      "metadata": {
        "colab": {
          "base_uri": "https://localhost:8080/"
        },
        "id": "Yx-FRv216Trb",
        "outputId": "2c3dd72a-b12f-43ad-fa10-92789615e039"
      },
      "source": [
        "text_df_2['recommended']=  MNB.predict(X_new)"
      ],
      "execution_count": 92,
      "outputs": [
        {
          "output_type": "stream",
          "text": [
            "/usr/local/lib/python3.7/dist-packages/ipykernel_launcher.py:1: SettingWithCopyWarning: \n",
            "A value is trying to be set on a copy of a slice from a DataFrame.\n",
            "Try using .loc[row_indexer,col_indexer] = value instead\n",
            "\n",
            "See the caveats in the documentation: https://pandas.pydata.org/pandas-docs/stable/user_guide/indexing.html#returning-a-view-versus-a-copy\n",
            "  \"\"\"Entry point for launching an IPython kernel.\n"
          ],
          "name": "stderr"
        }
      ]
    },
    {
      "cell_type": "code",
      "metadata": {
        "colab": {
          "base_uri": "https://localhost:8080/",
          "height": 419
        },
        "id": "Pe3AH2RG7MqI",
        "outputId": "483f477f-81fd-4c10-a232-1bd39ef43e30"
      },
      "source": [
        "text_df_2"
      ],
      "execution_count": 93,
      "outputs": [
        {
          "output_type": "execute_result",
          "data": {
            "text/html": [
              "<div>\n",
              "<style scoped>\n",
              "    .dataframe tbody tr th:only-of-type {\n",
              "        vertical-align: middle;\n",
              "    }\n",
              "\n",
              "    .dataframe tbody tr th {\n",
              "        vertical-align: top;\n",
              "    }\n",
              "\n",
              "    .dataframe thead th {\n",
              "        text-align: right;\n",
              "    }\n",
              "</style>\n",
              "<table border=\"1\" class=\"dataframe\">\n",
              "  <thead>\n",
              "    <tr style=\"text-align: right;\">\n",
              "      <th></th>\n",
              "      <th>customer_review</th>\n",
              "      <th>recommended</th>\n",
              "      <th>review_len</th>\n",
              "      <th>tokenized_mess</th>\n",
              "    </tr>\n",
              "  </thead>\n",
              "  <tbody>\n",
              "    <tr>\n",
              "      <th>65</th>\n",
              "      <td>âœ… Trip Verified | Lagos to Istanbul via Kath...</td>\n",
              "      <td>no</td>\n",
              "      <td>629</td>\n",
              "      <td>âœ trip verified lagos istanbul via kathmandu ...</td>\n",
              "    </tr>\n",
              "    <tr>\n",
              "      <th>153</th>\n",
              "      <td>âœ… Trip Verified | Seychelles to Birmingham v...</td>\n",
              "      <td>no</td>\n",
              "      <td>469</td>\n",
              "      <td>âœ trip verified seychelles birmingham via ist...</td>\n",
              "    </tr>\n",
              "    <tr>\n",
              "      <th>209</th>\n",
              "      <td>âœ… Trip Verified | London to Bangkok via Ista...</td>\n",
              "      <td>yes</td>\n",
              "      <td>213</td>\n",
              "      <td>âœ trip verified london bangkok via istanbul l...</td>\n",
              "    </tr>\n",
              "    <tr>\n",
              "      <th>211</th>\n",
              "      <td>âœ… Trip Verified | At check-in in Johannesbur...</td>\n",
              "      <td>no</td>\n",
              "      <td>803</td>\n",
              "      <td>âœ trip verified check johannesburg wa told co...</td>\n",
              "    </tr>\n",
              "    <tr>\n",
              "      <th>261</th>\n",
              "      <td>âœ… Trip Verified | San Francisco to Mashhad v...</td>\n",
              "      <td>no</td>\n",
              "      <td>527</td>\n",
              "      <td>âœ trip verified san francisco mashhad via ist...</td>\n",
              "    </tr>\n",
              "    <tr>\n",
              "      <th>...</th>\n",
              "      <td>...</td>\n",
              "      <td>...</td>\n",
              "      <td>...</td>\n",
              "      <td>...</td>\n",
              "    </tr>\n",
              "    <tr>\n",
              "      <th>131460</th>\n",
              "      <td>âœ… Trip Verified | Kiev to Riga. 24 hrs befor...</td>\n",
              "      <td>no</td>\n",
              "      <td>1437</td>\n",
              "      <td>âœ trip verified kiev riga 24 hr flight got no...</td>\n",
              "    </tr>\n",
              "    <tr>\n",
              "      <th>131554</th>\n",
              "      <td>âœ… Verified Review | Flew Ukraine Internation...</td>\n",
              "      <td>no</td>\n",
              "      <td>1375</td>\n",
              "      <td>âœ verified review flew ukraine international ...</td>\n",
              "    </tr>\n",
              "    <tr>\n",
              "      <th>131648</th>\n",
              "      <td>We travelled Ukraine International from London...</td>\n",
              "      <td>no</td>\n",
              "      <td>1431</td>\n",
              "      <td>travelled ukraine international london gatwick...</td>\n",
              "    </tr>\n",
              "    <tr>\n",
              "      <th>131726</th>\n",
              "      <td>DXB-KBP-LGW. Both planes were 737-800s but the...</td>\n",
              "      <td>yes</td>\n",
              "      <td>411</td>\n",
              "      <td>dxb kbp lgw plane 737 800s seating wa identica...</td>\n",
              "    </tr>\n",
              "    <tr>\n",
              "      <th>131792</th>\n",
              "      <td>Flew four flights in July 2013 Tel Aviv (TLV) ...</td>\n",
              "      <td>yes</td>\n",
              "      <td>76</td>\n",
              "      <td>flew four flight july 2013 tel aviv tlv london...</td>\n",
              "    </tr>\n",
              "  </tbody>\n",
              "</table>\n",
              "<p>1422 rows × 4 columns</p>\n",
              "</div>"
            ],
            "text/plain": [
              "                                          customer_review  ...                                     tokenized_mess\n",
              "65      âœ… Trip Verified | Lagos to Istanbul via Kath...  ...  âœ trip verified lagos istanbul via kathmandu ...\n",
              "153     âœ… Trip Verified | Seychelles to Birmingham v...  ...  âœ trip verified seychelles birmingham via ist...\n",
              "209     âœ… Trip Verified | London to Bangkok via Ista...  ...  âœ trip verified london bangkok via istanbul l...\n",
              "211     âœ… Trip Verified | At check-in in Johannesbur...  ...  âœ trip verified check johannesburg wa told co...\n",
              "261     âœ… Trip Verified | San Francisco to Mashhad v...  ...  âœ trip verified san francisco mashhad via ist...\n",
              "...                                                   ...  ...                                                ...\n",
              "131460  âœ… Trip Verified | Kiev to Riga. 24 hrs befor...  ...  âœ trip verified kiev riga 24 hr flight got no...\n",
              "131554  âœ… Verified Review | Flew Ukraine Internation...  ...  âœ verified review flew ukraine international ...\n",
              "131648  We travelled Ukraine International from London...  ...  travelled ukraine international london gatwick...\n",
              "131726  DXB-KBP-LGW. Both planes were 737-800s but the...  ...  dxb kbp lgw plane 737 800s seating wa identica...\n",
              "131792  Flew four flights in July 2013 Tel Aviv (TLV) ...  ...  flew four flight july 2013 tel aviv tlv london...\n",
              "\n",
              "[1422 rows x 4 columns]"
            ]
          },
          "metadata": {
            "tags": []
          },
          "execution_count": 93
        }
      ]
    },
    {
      "cell_type": "code",
      "metadata": {
        "id": "YjSdHSWo8N-W"
      },
      "source": [
        ""
      ],
      "execution_count": null,
      "outputs": []
    }
  ]
}